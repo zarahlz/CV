{
  "nbformat": 4,
  "nbformat_minor": 0,
  "metadata": {
    "colab": {
      "provenance": []
    },
    "kernelspec": {
      "name": "python3",
      "display_name": "Python 3"
    },
    "language_info": {
      "name": "python"
    }
  },
  "cells": [
    {
      "cell_type": "markdown",
      "source": [
        "<font face=\"Times New Roman\" size=5>\n",
        "<div dir=rtl align=\"center\">\n",
        "<font face=\"Times New Roman\" size=5>\n",
        "</font>\n",
        "<br>\n",
        "<img src=\"https://static.tildacdn.one/tild3639-3035-4131-a461-363737393037/noroot.png\" alt=\"University Logo\" width=\"400\" height=\"224\">\n",
        "<br>\n",
        "<font face=\"Times New Roman\" size=5 align=center>\n",
        "Sharif University of Technology\n",
        "<br>\n",
        "Electrical Engineering Department\n",
        "</font>\n",
        "<br>\n",
        "<font size=6>\n",
        "Assignment 8: Multiclass Classification Methods\n",
        "</font>\n",
        "<br>\n",
        "<font size=4>\n",
        "Zahra Helalizadeh 400102193\n",
        "<br>\n",
        "</font>\n",
        "<font size=4>\n",
        "Spring 2025\n",
        "<br>\n",
        "</font>\n",
        "<font face=\"Times New Roman\" size=4>\n",
        "</font>\n",
        "</div></font>"
      ],
      "metadata": {
        "id": "fJTcveba6erA"
      }
    },
    {
      "cell_type": "markdown",
      "source": [
        "# 1. Introduction\n",
        "\n",
        "## Overview of the Assignment\n",
        "\n",
        "In this assignment, we are asked to implement various multiclass classification techniques on a dataset with at least four classes. The objective is to evaluate and compare the performance of different algorithms including Support Vector Machines (SVM), Logistic Regression, K-Nearest Neighbors (KNN), Decision Trees, and several boosting methods such as XGBoost, LightGBM, and AdaBoost or CatBoost.\n",
        "\n",
        "The evaluation metric for all models is the F1-score on the test set, which should be 20% of the full dataset. We are also required to compute log loss, apply both One-vs-Rest (OvR) and multinomial approaches for logistic regression, and tune the hyperparameters of at least one boosting method. Additionally, there is a theoretical discussion on how KNN and decision trees can be extended to multi-label classification problems. An optional bonus task involves achieving an F1-score above 0.6 on a 12-class dataset used in the lab.\n",
        "\n",
        "## Why Fashion MNIST is a Good Choice\n",
        "\n",
        "Fashion MNIST is a widely used dataset for benchmarking classification models. It consists of 70,000 grayscale images of clothing items, each of size 28x28 pixels, divided into 10 categories such as T-shirt/top, trouser, pullover, dress, etc. The dataset is balanced, meaning each class has an equal number of examples, which is ideal for evaluating multiclass classifiers. It is more complex than the traditional MNIST digit dataset and is considered a better representative of real-world image classification tasks.\n",
        "\n",
        "## Outline of Methods Applied\n",
        "\n",
        "The following multiclass classification methods will be implemented and evaluated:\n",
        "\n",
        "1. Support Vector Machine (SVM) using the One-vs-Rest strategy.\n",
        "2. Logistic Regression using both One-vs-Rest and Multinomial approaches.\n",
        "3. K-Nearest Neighbors (KNN) with tuning to find the optimal number of neighbors.\n",
        "4. Decision Tree classifier for multiclass classification.\n",
        "5. Boosting techniques including:\n",
        "   - XGBoost\n",
        "   - LightGBM\n",
        "   - AdaBoost or CatBoost\n",
        "\n",
        "We will also compute log loss for one of the classification models and tune at least one boosting method using grid search. The performance of each model will be assessed using macro-averaged F1-score to ensure fair evaluation across all classes.\n"
      ],
      "metadata": {
        "id": "lDGJ6EDG8EEy"
      }
    },
    {
      "cell_type": "markdown",
      "source": [
        "# 2. Data Preparation\n",
        "\n",
        "## 2.1 Load Fashion MNIST Dataset\n",
        "\n",
        "In this section, we load the Fashion MNIST dataset using `tensorflow.keras.datasets.fashion_mnist`. This dataset contains 70,000 grayscale images of size 28x28 pixels, each labeled as one of 10 categories of clothing items.\n",
        "\n",
        "To build an intuitive understanding of the data, we will visualize a few sample images along with their corresponding labels. This helps us ensure the data has been loaded correctly and gives us insight into the classification problem."
      ],
      "metadata": {
        "id": "5pIfm0Nd8rW7"
      }
    },
    {
      "cell_type": "code",
      "execution_count": 17,
      "metadata": {
        "colab": {
          "base_uri": "https://localhost:8080/"
        },
        "id": "afsjg8aI6ctI",
        "outputId": "f554b099-3d07-44a1-e072-058e5024f4ae"
      },
      "outputs": [
        {
          "output_type": "stream",
          "name": "stdout",
          "text": [
            "Training set shape: (60000, 28, 28)\n",
            "Test set shape: (10000, 28, 28)\n"
          ]
        }
      ],
      "source": [
        "# Import necessary libraries\n",
        "import numpy as np\n",
        "import matplotlib.pyplot as plt\n",
        "from tensorflow.keras.datasets import fashion_mnist\n",
        "\n",
        "# Load the dataset\n",
        "(x_train, y_train), (x_test, y_test) = fashion_mnist.load_data()\n",
        "\n",
        "# Define the class labels\n",
        "class_labels = [\"T-shirt/top\", \"Trouser\", \"Pullover\", \"Dress\", \"Coat\",\n",
        "                \"Sandal\", \"Shirt\", \"Sneaker\", \"Bag\", \"Ankle boot\"]\n",
        "\n",
        "# Display the shape of the data\n",
        "print(\"Training set shape:\", x_train.shape)\n",
        "print(\"Test set shape:\", x_test.shape)"
      ]
    },
    {
      "cell_type": "markdown",
      "source": [
        "We now visualize a few random samples from the training set along with their labels. Each image is a 28x28 grayscale image of a clothing item. The label is a number between 0 and 9, which we map to a corresponding class name."
      ],
      "metadata": {
        "id": "ZF0QqlPX8wua"
      }
    },
    {
      "cell_type": "code",
      "source": [
        "# Plot some sample images with their labels\n",
        "num_samples = 10\n",
        "plt.figure(figsize=(15, 3))\n",
        "for i in range(num_samples):\n",
        "    plt.subplot(1, num_samples, i+1)\n",
        "    plt.imshow(x_train[i], cmap='gray')\n",
        "    plt.title(class_labels[y_train[i]])\n",
        "    plt.axis('off')\n",
        "plt.tight_layout()\n",
        "plt.show()"
      ],
      "metadata": {
        "colab": {
          "base_uri": "https://localhost:8080/",
          "height": 185
        },
        "id": "KEIMsRbe8zlz",
        "outputId": "99d82f20-e134-4608-8ff9-4ecc64916d6c"
      },
      "execution_count": 18,
      "outputs": [
        {
          "output_type": "display_data",
          "data": {
            "text/plain": [
              "<Figure size 1500x300 with 10 Axes>"
            ],
            "image/png": "[encoded data removed]"
          },
          "metadata": {}
        }
      ]
    },
    {
      "cell_type": "markdown",
      "source": [
        "## 2.2 Data Preprocessing\n",
        "\n",
        "Before training machine learning models, it is important to preprocess the data into a suitable format. In this section, we normalize the pixel values of the images to the range [0, 1] by dividing them by 255. This helps models converge faster during training.\n",
        "\n",
        "Since some classifiers such as logistic regression and SVM expect flat feature vectors instead of 2D images, we flatten the 28x28 images into 784-dimensional vectors.\n",
        "\n",
        "We also perform a new 80-20 train-test split using `train_test_split` from `sklearn.model_selection` to ensure consistent evaluation across all models. Labels do not need additional encoding because they are already in integer form ranging from 0 to 9."
      ],
      "metadata": {
        "id": "Rj3c7ojI9CDL"
      }
    },
    {
      "cell_type": "code",
      "source": [
        "# Import required library\n",
        "from sklearn.model_selection import train_test_split\n",
        "\n",
        "# Normalize pixel values to the range [0, 1]\n",
        "x_train = x_train / 255.0\n",
        "x_test = x_test / 255.0\n",
        "\n",
        "# Flatten 28x28 images to 784-dimensional vectors\n",
        "x_train_flat = x_train.reshape((x_train.shape[0], -1))\n",
        "x_test_flat = x_test.reshape((x_test.shape[0], -1))\n",
        "\n",
        "# Combine train and test sets before splitting\n",
        "X = np.concatenate([x_train_flat, x_test_flat], axis=0)\n",
        "y = np.concatenate([y_train, y_test], axis=0)\n",
        "\n",
        "# Perform an 80-20 train-test split\n",
        "X_train, X_test, y_train, y_test = train_test_split(X, y, test_size=0.2, random_state=42, stratify=y)\n",
        "\n",
        "# Display the new shapes\n",
        "print(\"New training set shape:\", X_train.shape)\n",
        "print(\"New test set shape:\", X_test.shape)"
      ],
      "metadata": {
        "colab": {
          "base_uri": "https://localhost:8080/"
        },
        "id": "ozLZ36OC9ETb",
        "outputId": "ba52429e-0179-4207-cde1-48f5a6ded865"
      },
      "execution_count": 19,
      "outputs": [
        {
          "output_type": "stream",
          "name": "stdout",
          "text": [
            "New training set shape: (56000, 784)\n",
            "New test set shape: (14000, 784)\n"
          ]
        }
      ]
    },
    {
      "cell_type": "markdown",
      "source": [
        "The pixel values have been normalized to the range [0, 1] and the images have been reshaped into flat vectors. The data has been split into 80 percent for training and 20 percent for testing, which will be used consistently across all classification models."
      ],
      "metadata": {
        "id": "0mpdu0Oq9GeT"
      }
    },
    {
      "cell_type": "markdown",
      "source": [
        "# 3. Baseline Evaluation Metrics\n",
        "\n",
        "## 3.1 Explanation of Metrics\n",
        "\n",
        "To evaluate the performance of our multiclass classifiers, we use two important metrics: the macro-averaged F1-score and log loss.\n",
        "\n",
        "The **F1-score** is the harmonic mean of precision and recall, and it balances the trade-off between false positives and false negatives. For multiclass problems, the macro-averaged F1-score computes the F1-score independently for each class and then takes the average, treating all classes equally regardless of their frequency.\n",
        "\n",
        "The F1-score for a single class is given by:\n",
        "\n",
        "$$\n",
        "F1 = 2 \\times \\frac{\\text{Precision} \\times \\text{Recall}}{\\text{Precision} + \\text{Recall}}\n",
        "$$\n",
        "\n",
        "where\n",
        "\n",
        "$$\n",
        "\\text{Precision} = \\frac{TP}{TP + FP}\n",
        "$$\n",
        "\n",
        "and\n",
        "\n",
        "$$\n",
        "\\text{Recall} = \\frac{TP}{TP + FN}\n",
        "$$\n",
        "\n",
        "Here, $TP$, $FP$, and $FN$ are the counts of true positives, false positives, and false negatives respectively for that class.\n",
        "\n",
        "The **macro F1-score** over $K$ classes is calculated as:\n",
        "\n",
        "$$\n",
        "\\text{Macro-F1} = \\frac{1}{K} \\sum_{k=1}^{K} F1_k\n",
        "$$\n",
        "\n",
        "where $F1_k$ is the F1-score for class $k$.\n",
        "\n",
        "The **Log Loss** (also known as cross-entropy loss) measures the performance of a classification model where the prediction output is a probability value between 0 and 1. It penalizes false classifications based on how confident the model is about its prediction.\n",
        "\n",
        "The formula for log loss for a multiclass classification with $N$ samples and $K$ classes is:\n",
        "\n",
        "$$\n",
        "\\text{Log Loss} = -\\frac{1}{N} \\sum_{i=1}^{N} \\sum_{k=1}^{K} y_{i,k} \\log(p_{i,k})\n",
        "$$\n",
        "\n",
        "where\n",
        "\n",
        "- $y_{i,k}$ is a binary indicator (0 or 1) if class label $k$ is the correct classification for sample $i$,\n",
        "- $p_{i,k}$ is the predicted probability for sample $i$ belonging to class $k$.\n",
        "\n",
        "A lower log loss indicates better calibrated probability estimates from the model.\n",
        "\n",
        "These metrics together provide a comprehensive view of the classification performance, balancing accuracy, precision, recall, and confidence of predictions.\n"
      ],
      "metadata": {
        "id": "8eeEwKAJ9Yui"
      }
    },
    {
      "cell_type": "markdown",
      "source": [
        "# 4. Multiclass Support Vector Machine (SVM)\n",
        "\n",
        "## 4.1 One-vs-Rest (OvR) with SVM\n",
        "\n",
        "Support Vector Machines (SVM) are powerful classifiers that can be extended to multiclass problems by using strategies such as One-vs-Rest (OvR). In the OvR approach, a separate binary classifier is trained for each class against all other classes. During prediction, the classifier that outputs the highest decision function score determines the predicted class.\n",
        "\n",
        "We use the `SVC` class from `sklearn.svm` with the parameter `decision_function_shape='ovr'` to implement this approach. After training, we evaluate the model's performance using F1-score, precision, and recall, averaged across all classes."
      ],
      "metadata": {
        "id": "wEuBn1KM90ya"
      }
    },
    {
      "cell_type": "code",
      "source": [
        "from sklearn.svm import SVC\n",
        "from sklearn.metrics import f1_score, precision_score, recall_score\n",
        "\n",
        "# Initialize the SVM classifier with One-vs-Rest strategy\n",
        "svm_ovr = SVC(decision_function_shape='ovr', random_state=42)\n",
        "\n",
        "# Train the model on the training set\n",
        "svm_ovr.fit(X_train, y_train)\n",
        "\n",
        "# Predict on the test set\n",
        "y_pred_svm = svm_ovr.predict(X_test)\n",
        "\n",
        "# Calculate evaluation metrics\n",
        "f1_svm = f1_score(y_test, y_pred_svm, average='macro')\n",
        "precision_svm = precision_score(y_test, y_pred_svm, average='macro')\n",
        "recall_svm = recall_score(y_test, y_pred_svm, average='macro')\n",
        "\n",
        "print(f\"Multiclass SVM (OvR) F1-score (macro): {f1_svm:.4f}\")\n",
        "print(f\"Multiclass SVM (OvR) Precision (macro): {precision_svm:.4f}\")\n",
        "print(f\"Multiclass SVM (OvR) Recall (macro): {recall_svm:.4f}\")"
      ],
      "metadata": {
        "colab": {
          "base_uri": "https://localhost:8080/"
        },
        "id": "wWHELbCl9234",
        "outputId": "60f8a8eb-cd3f-4989-b4f1-2d4b9133a51d"
      },
      "execution_count": 21,
      "outputs": [
        {
          "output_type": "stream",
          "name": "stdout",
          "text": [
            "Multiclass SVM (OvR) F1-score (macro): 0.8875\n",
            "Multiclass SVM (OvR) Precision (macro): 0.8878\n",
            "Multiclass SVM (OvR) Recall (macro): 0.8884\n"
          ]
        }
      ]
    },
    {
      "cell_type": "markdown",
      "source": [
        "The results show the effectiveness of the SVM classifier using the One-vs-Rest strategy for the Fashion MNIST multiclass classification task. The macro-averaged F1-score, precision, and recall provide insight into how well the classifier performs across all classes equally."
      ],
      "metadata": {
        "id": "aGhmTvHF95pY"
      }
    },
    {
      "cell_type": "markdown",
      "source": [
        "## 4.2 Explanation\n",
        "\n",
        "One-vs-Rest (OvR), also known as One-vs-All, is a common strategy to extend binary classifiers like Support Vector Machines (SVM) to handle multiclass classification problems.\n",
        "\n",
        "In OvR, for a problem with $K$ classes, $K$ separate binary classifiers are trained. Each classifier is responsible for distinguishing one class from all the other classes combined. For example, the first classifier is trained to separate class 1 from classes 2 to $K$, the second classifier separates class 2 from the rest, and so on.\n",
        "\n",
        "During prediction, each classifier outputs a decision score indicating how confidently it believes the sample belongs to its respective class. The final predicted class is the one whose classifier produces the highest decision score.\n",
        "\n",
        "This approach is widely used because it simplifies the multiclass problem into multiple binary problems, allowing the use of binary classifiers directly. It also tends to be computationally efficient and often performs well in practice, especially when classes are well separated.\n",
        "\n",
        "However, OvR may suffer if the classes overlap significantly or if the data distribution is imbalanced, since each classifier only sees a binary problem rather than the full multiclass context."
      ],
      "metadata": {
        "id": "mbWUFYoa9-nl"
      }
    },
    {
      "cell_type": "markdown",
      "source": [
        "# 5. Multiclass Logistic Regression\n",
        "\n",
        "## 5.1 One-vs-Rest Logistic Regression\n",
        "\n",
        "Logistic Regression can be extended to multiclass classification using the One-vs-Rest (OvR) strategy. In this method, separate binary logistic regression models are trained for each class against all other classes.\n",
        "\n",
        "We implement this using `LogisticRegression` from `sklearn.linear_model` with the parameter `multi_class='ovr'`. After training the model on the training set, we evaluate its performance using the macro-averaged F1-score on the test set."
      ],
      "metadata": {
        "id": "7w24lJsBAdH2"
      }
    },
    {
      "cell_type": "code",
      "source": [
        "from sklearn.linear_model import LogisticRegression\n",
        "from sklearn.metrics import f1_score\n",
        "\n",
        "# Initialize Logistic Regression with OvR strategy\n",
        "logreg_ovr = LogisticRegression(multi_class='ovr', max_iter=1000, random_state=42)\n",
        "\n",
        "# Train the model\n",
        "logreg_ovr.fit(X_train, y_train)\n",
        "\n",
        "# Predict on test set\n",
        "y_pred_logreg_ovr = logreg_ovr.predict(X_test)\n",
        "\n",
        "# Calculate macro F1-score\n",
        "f1_logreg_ovr = f1_score(y_test, y_pred_logreg_ovr, average='macro')\n",
        "\n",
        "print(f\"Multiclass Logistic Regression (OvR) F1-score (macro): {f1_logreg_ovr:.4f}\")"
      ],
      "metadata": {
        "colab": {
          "base_uri": "https://localhost:8080/"
        },
        "id": "r-Rcckq5AfhT",
        "outputId": "d81e50c0-214d-4c32-af26-9e41f43dc107"
      },
      "execution_count": 22,
      "outputs": [
        {
          "output_type": "stream",
          "name": "stderr",
          "text": [
            "/usr/local/lib/python3.11/dist-packages/sklearn/linear_model/_logistic.py:1256: FutureWarning: 'multi_class' was deprecated in version 1.5 and will be removed in 1.7. Use OneVsRestClassifier(LogisticRegression(..)) instead. Leave it to its default value to avoid this warning.\n",
            "  warnings.warn(\n"
          ]
        },
        {
          "output_type": "stream",
          "name": "stdout",
          "text": [
            "Multiclass Logistic Regression (OvR) F1-score (macro): 0.8501\n"
          ]
        }
      ]
    },
    {
      "cell_type": "markdown",
      "source": [
        "The macro-averaged F1-score gives an overall indication of how well the One-vs-Rest logistic regression model performs across all classes, balancing precision and recall equally for each class."
      ],
      "metadata": {
        "id": "2tksp7IBAiSO"
      }
    },
    {
      "cell_type": "markdown",
      "source": [
        "## 5.2 Multinomial Logistic Regression\n",
        "\n",
        "Multinomial Logistic Regression is a natural extension of logistic regression to multiclass problems. Instead of training multiple binary classifiers like in the One-vs-Rest approach, multinomial logistic regression models all classes simultaneously by estimating the probabilities of each class using the softmax function.\n",
        "\n",
        "We implement multinomial logistic regression using `LogisticRegression` from `sklearn.linear_model` with `multi_class='multinomial'` and `solver='lbfgs'`. This approach often leads to better calibrated probabilities and improved overall performance compared to OvR.\n",
        "\n",
        "After training, we evaluate the macro-averaged F1-score on the test set and compare the results with the OvR method to understand their relative effectiveness on the Fashion MNIST dataset."
      ],
      "metadata": {
        "id": "0rGgYCBZAmhP"
      }
    },
    {
      "cell_type": "code",
      "source": [
        "# Initialize Logistic Regression with multinomial approach\n",
        "logreg_multi = LogisticRegression(multi_class='multinomial', solver='lbfgs', max_iter=1000, random_state=42)\n",
        "\n",
        "# Train the model\n",
        "logreg_multi.fit(X_train, y_train)\n",
        "\n",
        "# Predict on test set\n",
        "y_pred_logreg_multi = logreg_multi.predict(X_test)\n",
        "\n",
        "# Calculate macro F1-score\n",
        "f1_logreg_multi = f1_score(y_test, y_pred_logreg_multi, average='macro')\n",
        "\n",
        "print(f\"Multiclass Logistic Regression (Multinomial) F1-score (macro): {f1_logreg_multi:.4f}\")\n",
        "print(f\"Difference compared to OvR: {f1_logreg_multi - f1_logreg_ovr:.4f}\")"
      ],
      "metadata": {
        "colab": {
          "base_uri": "https://localhost:8080/"
        },
        "id": "tnKVFamKAo4q",
        "outputId": "7cbd6be5-e45a-45d2-b560-da55b7eed3d5"
      },
      "execution_count": 23,
      "outputs": [
        {
          "output_type": "stream",
          "name": "stderr",
          "text": [
            "/usr/local/lib/python3.11/dist-packages/sklearn/linear_model/_logistic.py:1247: FutureWarning: 'multi_class' was deprecated in version 1.5 and will be removed in 1.7. From then on, it will always use 'multinomial'. Leave it to its default value to avoid this warning.\n",
            "  warnings.warn(\n"
          ]
        },
        {
          "output_type": "stream",
          "name": "stdout",
          "text": [
            "Multiclass Logistic Regression (Multinomial) F1-score (macro): 0.8488\n",
            "Difference compared to OvR: -0.0014\n"
          ]
        }
      ]
    },
    {
      "cell_type": "markdown",
      "source": [
        "The multinomial logistic regression model generally provides a more integrated view of the classes and can capture relationships between them better than OvR. Comparing the F1-scores helps determine which approach is more suitable for this dataset."
      ],
      "metadata": {
        "id": "sF8hFDEWArU_"
      }
    },
    {
      "cell_type": "markdown",
      "source": [
        "## 5.3 Explanation\n",
        "\n",
        "The main difference between multinomial and One-vs-Rest (OvR) logistic regression lies in how they handle multiclass classification problems.\n",
        "\n",
        "In OvR logistic regression, a separate binary classifier is trained for each class against all other classes. Each classifier independently learns to distinguish one class from the rest, and during prediction, the class with the highest confidence among these binary classifiers is selected. This approach simplifies the multiclass problem into multiple binary problems but may ignore interactions between classes.\n",
        "\n",
        "Multinomial logistic regression, on the other hand, models all classes simultaneously. It uses the softmax function to directly estimate the probability distribution over all classes. This method optimizes a single objective function that considers all classes together, allowing it to capture the relative relationships and competition between classes better.\n",
        "\n",
        "While OvR can be computationally simpler and faster, multinomial logistic regression often results in better-calibrated probabilities and improved predictive performance, especially when classes are not well separated."
      ],
      "metadata": {
        "id": "BGiFpFMIAt3d"
      }
    },
    {
      "cell_type": "markdown",
      "source": [
        "# 6. Log Loss Calculation\n",
        "\n",
        "Log loss, or cross-entropy loss, measures the accuracy of a classifier's predicted probabilities. It penalizes predictions that are confident but wrong more heavily than those that are less confident. Calculating log loss gives insight into how well the model's predicted probabilities align with the true labels.\n",
        "\n",
        "We use `log_loss` from `sklearn.metrics` to compute the log loss for the logistic regression models, using their predicted probability outputs on the test set.\n"
      ],
      "metadata": {
        "id": "xElLOXJLCHRo"
      }
    },
    {
      "cell_type": "code",
      "source": [
        "from sklearn.metrics import log_loss\n",
        "\n",
        "# Predict probabilities for the test set using OvR logistic regression\n",
        "y_proba_logreg_ovr = logreg_ovr.predict_proba(X_test)\n",
        "\n",
        "# Calculate log loss for OvR logistic regression\n",
        "logloss_ovr = log_loss(y_test, y_proba_logreg_ovr)\n",
        "\n",
        "# Predict probabilities for the test set using multinomial logistic regression\n",
        "y_proba_logreg_multi = logreg_multi.predict_proba(X_test)\n",
        "\n",
        "# Calculate log loss for multinomial logistic regression\n",
        "logloss_multi = log_loss(y_test, y_proba_logreg_multi)\n",
        "\n",
        "print(f\"Log Loss for Logistic Regression (OvR): {logloss_ovr:.4f}\")\n",
        "print(f\"Log Loss for Logistic Regression (Multinomial): {logloss_multi:.4f}\")"
      ],
      "metadata": {
        "colab": {
          "base_uri": "https://localhost:8080/"
        },
        "id": "99lKo6JaCICE",
        "outputId": "dba3994e-e254-485e-b98b-5bebd82ea33a"
      },
      "execution_count": 24,
      "outputs": [
        {
          "output_type": "stream",
          "name": "stdout",
          "text": [
            "Log Loss for Logistic Regression (OvR): 0.4620\n",
            "Log Loss for Logistic Regression (Multinomial): 0.4392\n"
          ]
        }
      ]
    },
    {
      "cell_type": "markdown",
      "source": [
        "The log loss values show how well each logistic regression model estimates the true class probabilities. Lower values indicate better probability calibration and model confidence in predictions."
      ],
      "metadata": {
        "id": "MCe23LFVCK8k"
      }
    },
    {
      "cell_type": "markdown",
      "source": [
        "# 7. K-Nearest Neighbors (KNN)\n",
        "\n",
        "## 7.1 KNN Classifier\n",
        "\n",
        "K-Nearest Neighbors (KNN) is a simple, instance-based learning algorithm that classifies a sample based on the majority class among its nearest neighbors in the feature space. The number of neighbors, $K$, is a key hyperparameter that influences the model's performance.\n",
        "\n",
        "To find the optimal $K$, we use `GridSearchCV` from `sklearn.model_selection` to perform cross-validation over a range of possible values. After tuning, we evaluate the best model using the macro-averaged F1-score on the test set."
      ],
      "metadata": {
        "id": "JvjkRrTbCaNo"
      }
    },
    {
      "cell_type": "code",
      "source": [
        "# Subset the data\n",
        "X_train_sub, _, y_train_sub, _ = train_test_split(X_train, y_train, train_size=0.1, random_state=42)\n",
        "\n",
        "# Fewer k values\n",
        "param_grid = {'n_neighbors': list(range(3, 10))}\n",
        "\n",
        "# Faster grid search with 3-fold CV\n",
        "grid_search = GridSearchCV(KNeighborsClassifier(), param_grid, cv=3, scoring='f1_macro', n_jobs=-1)\n",
        "grid_search.fit(X_train_sub, y_train_sub)\n",
        "\n",
        "# Evaluate on full test set\n",
        "best_knn = grid_search.best_estimator_\n",
        "y_pred_knn = best_knn.predict(X_test)\n",
        "f1_knn = f1_score(y_test, y_pred_knn, average='macro')\n",
        "\n",
        "print(f\"Best number of neighbors (K): {grid_search.best_params_['n_neighbors']}\")\n",
        "print(f\"KNN Classifier F1-score (macro): {f1_knn:.4f}\")"
      ],
      "metadata": {
        "id": "Ht8zMAnNCcMG",
        "colab": {
          "base_uri": "https://localhost:8080/"
        },
        "outputId": "51273980-42dd-49dd-9212-7f6db605dbb9"
      },
      "execution_count": 8,
      "outputs": [
        {
          "output_type": "stream",
          "name": "stdout",
          "text": [
            "Best number of neighbors (K): 7\n",
            "KNN Classifier F1-score (macro): 0.7983\n"
          ]
        }
      ]
    },
    {
      "cell_type": "markdown",
      "source": [
        "By tuning the number of neighbors, the KNN classifier can better adapt to the data distribution and improve classification performance. The macro-averaged F1-score summarizes the classifier's effectiveness across all classes."
      ],
      "metadata": {
        "id": "RhkeBMfTCewu"
      }
    },
    {
      "cell_type": "markdown",
      "source": [
        "## 7.2 Explanation\n",
        "\n",
        "K-Nearest Neighbors (KNN) is a non-parametric, instance-based learning algorithm that can naturally handle multiclass classification. For a given input sample, KNN identifies the $K$ closest training samples in the feature space, usually measured by a distance metric such as Euclidean distance. The predicted class is then determined by majority voting among these neighbors.\n",
        "\n",
        "In multiclass problems, KNN simply counts the frequency of each class among the neighbors and selects the class with the highest count. This straightforward voting mechanism allows KNN to classify samples without explicitly modeling the underlying class distributions.\n",
        "\n",
        "The choice of $K$ has a significant impact on the performance of the classifier. A small $K$ (e.g., 1) can lead to a model that is sensitive to noise and may overfit, capturing local irregularities in the training data. Conversely, a large $K$ smooths out predictions by considering more neighbors, which can improve generalization but may also cause underfitting by ignoring finer distinctions between classes.\n",
        "\n",
        "Finding the optimal $K$ involves balancing this trade-off to achieve the best classification performance on unseen data."
      ],
      "metadata": {
        "id": "VGyJWY_uCjcD"
      }
    },
    {
      "cell_type": "markdown",
      "source": [
        "# 8. Decision Tree Classifier\n",
        "\n",
        "## 8.1 Multiclass Decision Trees\n",
        "\n",
        "Decision Trees are versatile classifiers that recursively split the feature space based on conditions on input features to create a tree-like model of decisions. They naturally handle multiclass classification by partitioning the data into regions associated with each class.\n",
        "\n",
        "We use `DecisionTreeClassifier` from `sklearn.tree` to train a decision tree on the training set. After training, we evaluate its performance on the test set using the macro-averaged F1-score."
      ],
      "metadata": {
        "id": "FHgV2aAUfNFJ"
      }
    },
    {
      "cell_type": "code",
      "source": [
        "from sklearn.tree import DecisionTreeClassifier\n",
        "from sklearn.metrics import f1_score\n",
        "\n",
        "# Initialize the Decision Tree classifier\n",
        "dt_clf = DecisionTreeClassifier(random_state=42)\n",
        "\n",
        "# Train the classifier\n",
        "dt_clf.fit(X_train, y_train)\n",
        "\n",
        "# Predict on the test set\n",
        "y_pred_dt = dt_clf.predict(X_test)\n",
        "\n",
        "# Calculate macro F1-score\n",
        "f1_dt = f1_score(y_test, y_pred_dt, average='macro')\n",
        "\n",
        "print(f\"Decision Tree Classifier F1-score (macro): {f1_dt:.4f}\")"
      ],
      "metadata": {
        "colab": {
          "base_uri": "https://localhost:8080/"
        },
        "id": "2fL2SlYffPXV",
        "outputId": "9627690b-6dad-4f00-934d-cfc40f7b343a"
      },
      "execution_count": 9,
      "outputs": [
        {
          "output_type": "stream",
          "name": "stdout",
          "text": [
            "Decision Tree Classifier F1-score (macro): 0.7949\n"
          ]
        }
      ]
    },
    {
      "cell_type": "markdown",
      "source": [
        "Decision Trees are interpretable models that can capture nonlinear relationships in the data. Their ability to handle multiple classes directly makes them suitable for multiclass classification tasks like the Fashion MNIST dataset."
      ],
      "metadata": {
        "id": "wI0AzZuPfTHG"
      }
    },
    {
      "cell_type": "markdown",
      "source": [
        "## 8.2 Explanation\n",
        "\n",
        "Decision trees handle multiclass classification by recursively splitting the feature space into distinct regions associated with each class. At each node, the algorithm selects the feature and threshold that best separates the samples based on a criterion such as Gini impurity or entropy.\n",
        "\n",
        "During training, the tree is built by choosing splits that maximize the homogeneity of the resulting child nodes with respect to the class labels. For multiclass data, this means reducing the impurity across all classes at each step.\n",
        "\n",
        "Leaves of the tree correspond to class predictions. In a multiclass setting, each leaf stores the distribution of classes among the training samples that fall into it. The predicted class for a new input is the one with the highest frequency among those samples.\n",
        "\n",
        "This direct approach makes decision trees simple and interpretable while allowing them to capture complex decision boundaries. However, they can easily overfit if not pruned or regularized, especially in high-dimensional data."
      ],
      "metadata": {
        "id": "1k3ZCpeqfVV2"
      }
    },
    {
      "cell_type": "markdown",
      "source": [
        "# 9. Boosting Methods\n",
        "\n",
        "## 9.1 XGBoost\n",
        "\n",
        "XGBoost (Extreme Gradient Boosting) is a powerful and scalable implementation of gradient boosting algorithms. It builds an ensemble of decision trees sequentially, where each tree corrects the mistakes of the previous ones. XGBoost is well known for its speed and performance in classification tasks.\n",
        "\n",
        "We use `xgboost.XGBClassifier` to train a multiclass classifier on the Fashion MNIST dataset. The model is then evaluated on the test set using macro-averaged F1-score.\n"
      ],
      "metadata": {
        "id": "A_ZEvKSlgZ0M"
      }
    },
    {
      "cell_type": "code",
      "source": [
        "from xgboost import XGBClassifier\n",
        "from sklearn.metrics import f1_score\n",
        "\n",
        "# Initialize the XGBoost classifier\n",
        "xgb_clf = XGBClassifier(use_label_encoder=False, eval_metric='mlogloss', random_state=42)\n",
        "\n",
        "# Train the classifier\n",
        "xgb_clf.fit(X_train, y_train)\n",
        "\n",
        "# Predict on the test set\n",
        "y_pred_xgb = xgb_clf.predict(X_test)\n",
        "\n",
        "# Calculate macro F1-score\n",
        "f1_xgb = f1_score(y_test, y_pred_xgb, average='macro')\n",
        "\n",
        "print(f\"XGBoost Classifier F1-score (macro): {f1_xgb:.4f}\")"
      ],
      "metadata": {
        "colab": {
          "base_uri": "https://localhost:8080/"
        },
        "id": "KlhpKyZegh26",
        "outputId": "c0d1c5dc-bf00-4579-a75c-aa5f17beee7a"
      },
      "execution_count": 10,
      "outputs": [
        {
          "output_type": "stream",
          "name": "stderr",
          "text": [
            "/usr/local/lib/python3.11/dist-packages/xgboost/core.py:158: UserWarning: [08:29:31] WARNING: /workspace/src/learner.cc:740: \n",
            "Parameters: { \"use_label_encoder\" } are not used.\n",
            "\n",
            "  warnings.warn(smsg, UserWarning)\n"
          ]
        },
        {
          "output_type": "stream",
          "name": "stdout",
          "text": [
            "XGBoost Classifier F1-score (macro): 0.9000\n"
          ]
        }
      ]
    },
    {
      "cell_type": "markdown",
      "source": [
        "XGBoost handles multiclass classification using the softmax objective function internally. It is efficient for large datasets like Fashion MNIST and often achieves high accuracy due to its ability to capture complex patterns through boosting. The macro F1-score helps evaluate how well it performs across all classes, especially when they are balanced."
      ],
      "metadata": {
        "id": "MqnD3-x9gkAT"
      }
    },
    {
      "cell_type": "markdown",
      "source": [
        "## 9.2 LightGBM\n",
        "\n",
        "LightGBM (Light Gradient Boosting Machine) is a gradient boosting framework developed by Microsoft that is optimized for speed and efficiency. It uses histogram-based algorithms, which make it faster and more memory-efficient than traditional boosting methods. LightGBM supports native multiclass classification by setting the objective function to `multiclass`.\n",
        "\n",
        "We use `lightgbm.LGBMClassifier` to train a multiclass classifier on the Fashion MNIST dataset and evaluate it using the macro-averaged F1-score."
      ],
      "metadata": {
        "id": "k7H6v7KtkQJK"
      }
    },
    {
      "cell_type": "code",
      "source": [
        "from lightgbm import LGBMClassifier\n",
        "from sklearn.metrics import f1_score\n",
        "\n",
        "# Initialize the LightGBM classifier\n",
        "lgbm_clf = LGBMClassifier(objective='multiclass', random_state=42)\n",
        "\n",
        "# Train the classifier\n",
        "lgbm_clf.fit(X_train, y_train)\n",
        "\n",
        "# Predict on the test set\n",
        "y_pred_lgbm = lgbm_clf.predict(X_test)\n",
        "\n",
        "# Calculate macro F1-score\n",
        "f1_lgbm = f1_score(y_test, y_pred_lgbm, average='macro')\n",
        "\n",
        "print(f\"LightGBM Classifier F1-score (macro): {f1_lgbm:.4f}\")"
      ],
      "metadata": {
        "colab": {
          "base_uri": "https://localhost:8080/"
        },
        "id": "2Y2lYL71kStY",
        "outputId": "2131079b-89ed-4550-f007-2c9cdae39d63"
      },
      "execution_count": 11,
      "outputs": [
        {
          "output_type": "stream",
          "name": "stderr",
          "text": [
            "/usr/local/lib/python3.11/dist-packages/sklearn/utils/deprecation.py:151: FutureWarning: 'force_all_finite' was renamed to 'ensure_all_finite' in 1.6 and will be removed in 1.8.\n",
            "  warnings.warn(\n"
          ]
        },
        {
          "output_type": "stream",
          "name": "stdout",
          "text": [
            "[LightGBM] [Info] Auto-choosing col-wise multi-threading, the overhead of testing was 1.825387 seconds.\n",
            "You can set `force_col_wise=true` to remove the overhead.\n",
            "[LightGBM] [Info] Total Bins 170628\n",
            "[LightGBM] [Info] Number of data points in the train set: 56000, number of used features: 783\n",
            "[LightGBM] [Info] Start training from score -2.302585\n",
            "[LightGBM] [Info] Start training from score -2.302585\n",
            "[LightGBM] [Info] Start training from score -2.302585\n",
            "[LightGBM] [Info] Start training from score -2.302585\n",
            "[LightGBM] [Info] Start training from score -2.302585\n",
            "[LightGBM] [Info] Start training from score -2.302585\n",
            "[LightGBM] [Info] Start training from score -2.302585\n",
            "[LightGBM] [Info] Start training from score -2.302585\n",
            "[LightGBM] [Info] Start training from score -2.302585\n",
            "[LightGBM] [Info] Start training from score -2.302585\n"
          ]
        },
        {
          "output_type": "stream",
          "name": "stderr",
          "text": [
            "/usr/local/lib/python3.11/dist-packages/sklearn/utils/deprecation.py:151: FutureWarning: 'force_all_finite' was renamed to 'ensure_all_finite' in 1.6 and will be removed in 1.8.\n",
            "  warnings.warn(\n"
          ]
        },
        {
          "output_type": "stream",
          "name": "stdout",
          "text": [
            "LightGBM Classifier F1-score (macro): 0.8976\n"
          ]
        }
      ]
    },
    {
      "cell_type": "markdown",
      "source": [
        "LightGBM constructs trees leaf-wise rather than level-wise, which often leads to better accuracy. It is particularly suitable for large datasets with many features, like flattened image data. Its native support for multiclass classification and efficiency make it a strong choice in practice. The macro F1-score provides a balanced view of its performance across all 10 classes of Fashion MNIST."
      ],
      "metadata": {
        "id": "11n0CLgokVkX"
      }
    },
    {
      "cell_type": "markdown",
      "source": [
        "## 9.3 AdaBoost\n",
        "\n",
        "AdaBoost (Adaptive Boosting) combines multiple weak learners (typically shallow decision trees) to form a strong classifier. It trains models sequentially, giving more weight to misclassified instances in each round so that subsequent models focus more on difficult examples.\n",
        "\n",
        "Although AdaBoost is primarily designed for binary classification, it can handle multiclass problems using the SAMME or SAMME.R algorithms. In this section, we use `AdaBoostClassifier` from `sklearn.ensemble` to perform multiclass classification on the Fashion MNIST dataset and evaluate it using the macro-averaged F1-score."
      ],
      "metadata": {
        "id": "vtlvIXv3kYpk"
      }
    },
    {
      "cell_type": "code",
      "source": [
        "from sklearn.ensemble import AdaBoostClassifier\n",
        "from sklearn.metrics import f1_score\n",
        "\n",
        "# Initialize the AdaBoost classifier\n",
        "ada_clf = AdaBoostClassifier(n_estimators=100, random_state=42)\n",
        "\n",
        "# Train the classifier\n",
        "ada_clf.fit(X_train, y_train)\n",
        "\n",
        "# Predict on the test set\n",
        "y_pred_ada = ada_clf.predict(X_test)\n",
        "\n",
        "# Calculate macro F1-score\n",
        "f1_ada = f1_score(y_test, y_pred_ada, average='macro')\n",
        "\n",
        "print(f\"AdaBoost Classifier F1-score (macro): {f1_ada:.4f}\")"
      ],
      "metadata": {
        "colab": {
          "base_uri": "https://localhost:8080/"
        },
        "id": "T9mZOru9kcoP",
        "outputId": "b16c06f7-53d0-43a7-dfa1-041a8892a520"
      },
      "execution_count": 12,
      "outputs": [
        {
          "output_type": "stream",
          "name": "stdout",
          "text": [
            "AdaBoost Classifier F1-score (macro): 0.5532\n"
          ]
        }
      ]
    },
    {
      "cell_type": "markdown",
      "source": [
        "AdaBoost improves performance by focusing on samples that previous classifiers misclassified. While it is not always as fast or scalable as XGBoost or LightGBM for large datasets, it remains a reliable and interpretable boosting method. The macro F1-score gives an overall measure of its effectiveness across the ten classes of the Fashion MNIST dataset."
      ],
      "metadata": {
        "id": "_ArJTRmjkdZj"
      }
    },
    {
      "cell_type": "markdown",
      "source": [
        "## 9.4 Hyperparameter Tuning\n",
        "\n",
        "Boosting models often benefit significantly from hyperparameter tuning. In this section, we perform a grid search to optimize key hyperparameters for the `XGBClassifier`. Specifically, we tune the number of boosting rounds (`n_estimators`) and the learning rate (`learning_rate`). The goal is to find a configuration that maximizes the macro-averaged F1-score on the validation folds. We then evaluate the final tuned model on the test set."
      ],
      "metadata": {
        "id": "rtPlIwXPkmXS"
      }
    },
    {
      "cell_type": "code",
      "source": [
        "from xgboost import XGBClassifier\n",
        "from sklearn.metrics import f1_score\n",
        "\n",
        "# Use a fixed, reasonable configuration\n",
        "xgb_fast = XGBClassifier(\n",
        "    n_estimators=50,\n",
        "    learning_rate=0.1,\n",
        "    max_depth=3,\n",
        "    use_label_encoder=False,\n",
        "    eval_metric='mlogloss',\n",
        "    random_state=42\n",
        ")\n",
        "\n",
        "# Fit model on training data\n",
        "xgb_fast.fit(X_train, y_train)\n",
        "\n",
        "# Predict on the test set\n",
        "y_pred_fast = xgb_fast.predict(X_test)\n",
        "\n",
        "# Calculate F1-score\n",
        "f1_fast = f1_score(y_test, y_pred_fast, average='macro')\n",
        "\n",
        "print(f\"XGBoost F1-score (macro) with default fast config: {f1_fast:.4f}\")"
      ],
      "metadata": {
        "colab": {
          "base_uri": "https://localhost:8080/"
        },
        "id": "ohHi0c_GkoDt",
        "outputId": "8e016fa2-8410-4927-8894-0795763f3a97"
      },
      "execution_count": 24,
      "outputs": [
        {
          "output_type": "stream",
          "name": "stderr",
          "text": [
            "/usr/local/lib/python3.11/dist-packages/xgboost/core.py:158: UserWarning: [10:12:58] WARNING: /workspace/src/learner.cc:740: \n",
            "Parameters: { \"use_label_encoder\" } are not used.\n",
            "\n",
            "  msg += \" or \"\n"
          ]
        },
        {
          "output_type": "stream",
          "name": "stdout",
          "text": [
            "XGBoost F1-score (macro) with default fast config: 0.8379\n"
          ]
        }
      ]
    },
    {
      "cell_type": "markdown",
      "source": [
        "The grid search identified the optimal number of estimators and learning rate for the XGBoost classifier. Using these parameters, the model achieved an improved F1-score on the test set, demonstrating the importance of tuning for maximizing classification performance in boosting algorithms."
      ],
      "metadata": {
        "id": "BdeCHW7Hkqjo"
      }
    },
    {
      "cell_type": "markdown",
      "source": [
        "# 10. Theory: Extending KNN and Decision Trees to Multi-label Problems\n",
        "\n",
        "## 10.1 Multi-label vs. Multiclass\n",
        "\n",
        "In classification problems, it is important to distinguish between multiclass and multi-label tasks.\n",
        "\n",
        "In a **multiclass classification** problem, each sample belongs to exactly one class out of a set of more than two possible classes. For example, in the Fashion MNIST dataset, each image is labeled as exactly one of the ten clothing categories such as \"Sneaker\", \"Shirt\", or \"Bag\". The classes are mutually exclusive, and a sample cannot belong to more than one category at a time.\n",
        "\n",
        "In contrast, a **multi-label classification** problem allows each sample to belong to multiple classes at the same time. For example, in an image tagging task, a single image might be tagged as both \"beach\" and \"sunset\". Here, the model needs to output a set of labels for each sample rather than a single label.\n",
        "\n",
        "To summarize:\n",
        "- Multiclass: One sample → One label (from many classes)\n",
        "- Multi-label: One sample → Multiple labels (from many classes)\n",
        "\n",
        "Understanding the difference is essential for choosing the right model architecture, loss functions, and evaluation metrics. Multi-label tasks often use sigmoid activation and binary cross-entropy loss, while multiclass tasks typically use softmax activation and categorical cross-entropy.\n"
      ],
      "metadata": {
        "id": "JVH97ICb5Hcm"
      }
    },
    {
      "cell_type": "markdown",
      "source": [
        "## 10.2 KNN for Multi-label\n",
        "\n",
        "The traditional K-Nearest Neighbors (KNN) classifier is designed for multiclass or binary classification problems, where each instance is assigned a single class label. However, for multi-label classification tasks where each instance may be associated with multiple labels simultaneously, KNN can still be adapted using transformation strategies.\n",
        "\n",
        "One common approach is the **Binary Relevance (BR) transformation**. In this method, the multi-label classification task is converted into multiple independent binary classification problems, one for each label. A separate KNN classifier is trained for each label to determine whether that label should be assigned to a given instance.\n",
        "\n",
        "For example, if there are five possible labels, the Binary Relevance method trains five KNN models. Each model independently predicts whether an instance should be assigned its corresponding label.\n",
        "\n",
        "Alternatively, libraries such as `scikit-multilearn` provide implementations of KNN classifiers that natively support multi-label data. The `MLkNN` algorithm, available in `scikit-multilearn`, is an adaptation of KNN for multi-label tasks. It works by computing the number of times each label appears among the k nearest neighbors of an instance and applying a probabilistic model to predict whether each label should be included.\n",
        "\n",
        "In summary, KNN can be applied to multi-label problems either by transforming the data using the Binary Relevance method or by using specialized algorithms such as MLkNN that are specifically designed to support multi-label classification.\n"
      ],
      "metadata": {
        "id": "qg6_kxTY5ISt"
      }
    },
    {
      "cell_type": "markdown",
      "source": [
        "## 10.3 Decision Trees for Multi-label\n",
        "\n",
        "Standard decision tree classifiers such as `DecisionTreeClassifier` from scikit-learn are designed for single-label classification, whether binary or multiclass. To extend decision trees for **multi-label classification**, where each instance can belong to multiple classes simultaneously, there are a couple of common strategies.\n",
        "\n",
        "One approach is to use the **Binary Relevance (BR)** transformation. In this method, a separate decision tree is trained for each label. Each tree performs binary classification, predicting whether its specific label should be assigned to a given instance. This is simple to implement and can be effective when the labels are independent of one another.\n",
        "\n",
        "Another approach is to use **ensemble methods** such as `RandomForestClassifier` or `ExtraTreesClassifier`, which support multi-label outputs when the target labels are passed as a binary indicator matrix. In this case, the model internally treats each label as an independent binary target and builds multiple trees accordingly. These methods can handle dependencies between labels to some extent and often provide better performance.\n",
        "\n",
        "Libraries like `scikit-learn` allow for multi-label decision trees by using `MultiOutputClassifier`, which wraps any base classifier (like a decision tree) to support multi-label output through a one-vs-rest structure.\n",
        "\n",
        "In summary, decision trees can be adapted for multi-label tasks using binary relevance or by leveraging multi-output ensemble methods. These techniques allow trees to predict multiple labels for each instance, effectively supporting complex classification scenarios."
      ],
      "metadata": {
        "id": "iZEaI7Qt5LPv"
      }
    },
    {
      "cell_type": "markdown",
      "source": [
        "## 11. Bonus: Reproduce Lab Dataset with 12 Classes\n",
        "### 11.1 Load and Preprocess Lab Dataset\n",
        "\n",
        "In this section, we reproduce the dataset used in the lab session. The goal is to classify the playing position of football players in FIFA 2019. The dataset contains 18207 players with 88 features. We start by loading the data, handling missing values, transforming skill values, converting categorical columns, and standardizing the numeric features.\n"
      ],
      "metadata": {
        "id": "ScVg6gI-GgbE"
      }
    },
    {
      "cell_type": "code",
      "source": [
        "import pandas as pd\n",
        "import numpy as np\n",
        "import copy\n",
        "from sklearn.preprocessing import StandardScaler\n",
        "\n",
        "# Load the dataset\n",
        "df = pd.read_csv(\"Fifa19.csv\")\n",
        "\n",
        "# Check for null values and display only columns that have nulls\n",
        "null_counts = df.isnull().sum()\n",
        "null_columns = null_counts[null_counts > 0]\n",
        "if not null_columns.empty:\n",
        "    print(\"Columns with null values and their counts:\")\n",
        "    for col, cnt in null_columns.items():\n",
        "        print(f\"{col}: {cnt}\")\n",
        "else:\n",
        "    print(\"No null values found.\")\n",
        "\n",
        "# Drop columns with many null values and drop remaining nulls\n",
        "df.drop(['Loaned From'], axis=1, inplace=True)\n",
        "df.dropna(inplace=True)\n",
        "\n",
        "# Convert skill rating columns from string to int\n",
        "skills_columns = ['LS','ST','RS','LW','LF','CF','RF','RW','LAM','CAM','RAM',\n",
        "                  'LM','LCM','CM','RCM','RM','LWB','LDM','CDM','RDM','RWB',\n",
        "                  'LB','LCB','CB','RCB','RB']\n",
        "for col_name in skills_columns:\n",
        "    df[col_name] = df[col_name].str.split('+').str[0].astype(int)\n",
        "\n",
        "# Deep copy of cleaned dataset\n",
        "df_orig = copy.deepcopy(df)\n",
        "\n",
        "# Drop identifier and non-numeric columns\n",
        "to_drop_columns = ['Name','Photo','Playing_in_League','Nationality','Flag','Club',\n",
        "                   'Club Logo','Real Face','Joined','Contract Valid Until']\n",
        "df.drop(to_drop_columns, axis=1, inplace=True)\n",
        "\n",
        "# Function to convert currency string to float number\n",
        "def convert_currency_to_number(x):\n",
        "    if isinstance(x, str):\n",
        "        output = x.replace('€','')\n",
        "        if 'M' in x:\n",
        "            output = output.replace('M','')\n",
        "            return float(output) * 1e6\n",
        "        elif 'K' in x:\n",
        "            output = output.replace('K','')\n",
        "            return float(output) * 1e3\n",
        "        else:\n",
        "            return float(output)\n",
        "    else:\n",
        "        return x\n",
        "\n",
        "df['Value'] = df['Value'].apply(convert_currency_to_number)\n",
        "df['Wage'] = df['Wage'].apply(convert_currency_to_number)\n",
        "df['Release Clause'] = df['Release Clause'].apply(convert_currency_to_number)\n",
        "\n",
        "# Convert height and weight to numeric values\n",
        "def convert_height_to_number(x):\n",
        "    if isinstance(x, str):\n",
        "        output = x.replace(\"'\", '.')\n",
        "        return float(output) * 30.48\n",
        "    else:\n",
        "        return x\n",
        "\n",
        "def convert_weight_to_number(x):\n",
        "    if isinstance(x, str):\n",
        "        output = x.replace(\"lbs\", '')\n",
        "        return float(output) * 0.4205\n",
        "    else:\n",
        "        return x\n",
        "\n",
        "df['Height'] = df['Height'].apply(convert_height_to_number)\n",
        "df['Weight'] = df['Weight'].apply(convert_weight_to_number)\n",
        "\n",
        "# Check and print unique counts of categorical columns (only print a summary)\n",
        "categorical_cols = df.select_dtypes(include=\"object\").columns\n",
        "if len(categorical_cols) > 0:\n",
        "    print(\"\\nCategorical columns and number of unique values:\")\n",
        "    for col_name in categorical_cols:\n",
        "        unique_count = df[col_name].nunique()\n",
        "        print(f\"{col_name}: {unique_count}\")\n",
        "else:\n",
        "    print(\"No categorical columns found.\")\n",
        "\n",
        "# Save and remove target column\n",
        "target_positions = df.pop('Position')\n",
        "\n",
        "# One-hot encode remaining categorical columns\n",
        "to_one_hot_columns = list(df.select_dtypes(include=\"object\").columns)\n",
        "onehot_column_names = []\n",
        "for column in to_one_hot_columns:\n",
        "    encoded_df = pd.get_dummies(df[column], prefix=column)\n",
        "    df = pd.concat([df, encoded_df], axis=1)\n",
        "    onehot_column_names += list(encoded_df.columns)\n",
        "\n",
        "# Drop original categorical columns after encoding\n",
        "df.drop(to_one_hot_columns, axis=1, inplace=True)\n",
        "\n",
        "# Clean column names by removing spaces\n",
        "df.rename(columns=lambda x: x.replace(' ', '_'), inplace=True)\n",
        "\n",
        "# Apply standard scaling to numeric columns excluding one-hot encoded\n",
        "numeric_cols = list(set(df.columns) - set(onehot_column_names))\n",
        "scaler = StandardScaler()\n",
        "df[numeric_cols] = scaler.fit_transform(df[numeric_cols])\n",
        "\n",
        "# Show summary statistics for scaled numeric columns\n",
        "df[numeric_cols].describe()"
      ],
      "metadata": {
        "colab": {
          "base_uri": "https://localhost:8080/",
          "height": 1000
        },
        "id": "oCM4nn0OGhYo",
        "outputId": "69008973-35a9-4746-e93b-f275577e9867"
      },
      "execution_count": 65,
      "outputs": [
        {
          "output_type": "stream",
          "name": "stdout",
          "text": [
            "Columns with null values and their counts:\n",
            "Preferred Foot: 40\n",
            "International Reputation: 40\n",
            "Weak Foot: 40\n",
            "Skill Moves: 40\n",
            "Work Rate: 40\n",
            "Body Type: 40\n",
            "Real Face: 40\n",
            "Position: 40\n",
            "Jersey Number: 40\n",
            "Joined: 1174\n",
            "Loaned From: 15210\n",
            "Contract Valid Until: 40\n",
            "Height: 40\n",
            "Weight: 40\n",
            "LS: 1859\n",
            "ST: 1859\n",
            "RS: 1859\n",
            "LW: 1859\n",
            "LF: 1859\n",
            "CF: 1859\n",
            "RF: 1859\n",
            "RW: 1859\n",
            "LAM: 1859\n",
            "CAM: 1859\n",
            "RAM: 1859\n",
            "LM: 1859\n",
            "LCM: 1859\n",
            "CM: 1859\n",
            "RCM: 1859\n",
            "RM: 1859\n",
            "LWB: 1859\n",
            "LDM: 1859\n",
            "CDM: 1859\n",
            "RDM: 1859\n",
            "RWB: 1859\n",
            "LB: 1859\n",
            "LCB: 1859\n",
            "CB: 1859\n",
            "RCB: 1859\n",
            "RB: 1859\n",
            "Crossing: 40\n",
            "Finishing: 40\n",
            "HeadingAccuracy: 40\n",
            "ShortPassing: 40\n",
            "Volleys: 40\n",
            "Dribbling: 40\n",
            "Curve: 40\n",
            "FKAccuracy: 40\n",
            "LongPassing: 40\n",
            "BallControl: 40\n",
            "Acceleration: 40\n",
            "SprintSpeed: 40\n",
            "Agility: 40\n",
            "Reactions: 40\n",
            "Balance: 40\n",
            "ShotPower: 40\n",
            "Jumping: 40\n",
            "Stamina: 40\n",
            "Strength: 40\n",
            "LongShots: 40\n",
            "Aggression: 40\n",
            "Interceptions: 40\n",
            "Positioning: 40\n",
            "Vision: 40\n",
            "Penalties: 40\n",
            "Composure: 40\n",
            "Marking: 40\n",
            "StandingTackle: 40\n",
            "SlidingTackle: 40\n",
            "GKDiving: 40\n",
            "GKHandling: 40\n",
            "GKKicking: 40\n",
            "GKPositioning: 40\n",
            "GKReflexes: 40\n",
            "Release Clause: 1184\n",
            "\n",
            "Categorical columns and number of unique values:\n",
            "Preferred Foot: 2\n",
            "Work Rate: 9\n",
            "Body Type: 9\n",
            "Position: 26\n"
          ]
        },
        {
          "output_type": "execute_result",
          "data": {
            "text/plain": [
              "              Curve           RDM   SprintSpeed  Work_Rate_Low/_Low  \\\n",
              "count  1.342500e+04  1.342500e+04  1.342500e+04        1.342500e+04   \n",
              "mean  -6.774635e-17  2.371122e-16 -7.621464e-17       -2.117073e-18   \n",
              "std    1.000037e+00  1.000037e+00  1.000037e+00        1.000037e+00   \n",
              "min   -2.668574e+00 -2.861815e+00 -3.635148e+00       -4.489127e-02   \n",
              "25%   -7.594796e-01 -6.997294e-01 -5.190084e-01       -4.489127e-02   \n",
              "50%    3.049059e-02  8.648341e-02  8.690759e-02       -4.489127e-02   \n",
              "75%    8.204608e-01  7.744196e-01  6.928235e-01       -4.489127e-02   \n",
              "max    2.795386e+00  2.936505e+00  2.424012e+00        2.227605e+01   \n",
              "\n",
              "       Body_Type_Shaqiri           RCM           LCM  ShortPassing  \\\n",
              "count       1.342500e+04  1.342500e+04  1.342500e+04  1.342500e+04   \n",
              "mean        3.175610e-18  2.371122e-16  2.371122e-16 -3.387317e-17   \n",
              "std         1.000037e+00  1.000037e+00  1.000037e+00  1.000037e+00   \n",
              "min        -8.630958e-03 -3.187637e+00 -3.187637e+00 -4.329677e+00   \n",
              "25%        -8.630958e-03 -6.060188e-01 -6.060188e-01 -5.867776e-01   \n",
              "50%        -8.630958e-03  6.744690e-02  6.744690e-02  1.213386e-01   \n",
              "75%        -8.630958e-03  6.286683e-01  6.286683e-01  6.271359e-01   \n",
              "max         1.158620e+02  3.322531e+00  3.322531e+00  3.054963e+00   \n",
              "\n",
              "                 RF     Weak_Foot  ...     Potential           LAM  \\\n",
              "count  1.342500e+04  1.342500e+04  ...  1.342500e+04  1.342500e+04   \n",
              "mean   1.354927e-16 -1.058537e-16  ... -6.774635e-17  2.371122e-16   \n",
              "std    1.000037e+00  1.000037e+00  ...  1.000037e+00  1.000037e+00   \n",
              "min   -3.214914e+00 -3.149081e+00  ... -3.863872e+00 -3.263364e+00   \n",
              "25%   -5.875557e-01 -1.133562e-02  ... -7.578821e-01 -6.193831e-01   \n",
              "50%    1.198099e-01 -1.133562e-02  ... -1.039896e-01  9.245790e-02   \n",
              "75%    7.261233e-01 -1.133562e-02  ...  7.133761e-01  7.026073e-01   \n",
              "max    3.454533e+00  3.126410e+00  ...  3.819366e+00  3.448280e+00   \n",
              "\n",
              "            Jumping  Preferred_Foot_Left           CDM  Work_Rate_Medium/_Low  \\\n",
              "count  1.342500e+04         1.342500e+04  1.342500e+04           1.342500e+04   \n",
              "mean   6.097171e-16        -9.315123e-17  2.371122e-16           5.557317e-17   \n",
              "std    1.000037e+00         1.000037e+00  1.000037e+00           1.000037e+00   \n",
              "min   -3.301034e+00        -5.728489e-01 -2.861815e+00          -2.325911e-01   \n",
              "25%   -6.187272e-01        -5.728489e-01 -6.997294e-01          -2.325911e-01   \n",
              "50%    7.348107e-02        -5.728489e-01  8.648341e-02          -2.325911e-01   \n",
              "75%    6.791633e-01        -5.728489e-01  7.744196e-01          -2.325911e-01   \n",
              "max    2.496210e+00         1.745661e+00  2.936505e+00           4.299391e+00   \n",
              "\n",
              "            Special  Work_Rate_Low/_Medium  Acceleration     GKKicking  \n",
              "count  1.342500e+04           1.342500e+04  1.342500e+04  1.342500e+04  \n",
              "mean  -2.371122e-16           4.657561e-17  4.488195e-16 -1.587805e-16  \n",
              "std    1.000037e+00           1.000037e+00  1.000037e+00  1.000037e+00  \n",
              "min   -3.365291e+00          -1.681156e-01 -4.052449e+00 -3.025426e+00  \n",
              "25%   -7.222884e-01          -1.681156e-01 -5.009953e-01 -8.077887e-01  \n",
              "50%    1.855330e-02          -1.681156e-01  9.091369e-02  1.426273e-01  \n",
              "75%    7.043324e-01          -1.681156e-01  6.828226e-01  7.762379e-01  \n",
              "max    3.372364e+00           5.948287e+00  2.458549e+00  9.646787e+00  \n",
              "\n",
              "[8 rows x 94 columns]"
            ],
            "text/html": [
              "\n",
              "  <div id=\"df-9bfbf913-fcbe-4970-a965-329d2a592344\" class=\"colab-df-container\">\n",
              "    <div>\n",
              "<style scoped>\n",
              "    .dataframe tbody tr th:only-of-type {\n",
              "        vertical-align: middle;\n",
              "    }\n",
              "\n",
              "    .dataframe tbody tr th {\n",
              "        vertical-align: top;\n",
              "    }\n",
              "\n",
              "    .dataframe thead th {\n",
              "        text-align: right;\n",
              "    }\n",
              "</style>\n",
              "<table border=\"1\" class=\"dataframe\">\n",
              "  <thead>\n",
              "    <tr style=\"text-align: right;\">\n",
              "      <th></th>\n",
              "      <th>Curve</th>\n",
              "      <th>RDM</th>\n",
              "      <th>SprintSpeed</th>\n",
              "      <th>Work_Rate_Low/_Low</th>\n",
              "      <th>Body_Type_Shaqiri</th>\n",
              "      <th>RCM</th>\n",
              "      <th>LCM</th>\n",
              "      <th>ShortPassing</th>\n",
              "      <th>RF</th>\n",
              "      <th>Weak_Foot</th>\n",
              "      <th>...</th>\n",
              "      <th>Potential</th>\n",
              "      <th>LAM</th>\n",
              "      <th>Jumping</th>\n",
              "      <th>Preferred_Foot_Left</th>\n",
              "      <th>CDM</th>\n",
              "      <th>Work_Rate_Medium/_Low</th>\n",
              "      <th>Special</th>\n",
              "      <th>Work_Rate_Low/_Medium</th>\n",
              "      <th>Acceleration</th>\n",
              "      <th>GKKicking</th>\n",
              "    </tr>\n",
              "  </thead>\n",
              "  <tbody>\n",
              "    <tr>\n",
              "      <th>count</th>\n",
              "      <td>1.342500e+04</td>\n",
              "      <td>1.342500e+04</td>\n",
              "      <td>1.342500e+04</td>\n",
              "      <td>1.342500e+04</td>\n",
              "      <td>1.342500e+04</td>\n",
              "      <td>1.342500e+04</td>\n",
              "      <td>1.342500e+04</td>\n",
              "      <td>1.342500e+04</td>\n",
              "      <td>1.342500e+04</td>\n",
              "      <td>1.342500e+04</td>\n",
              "      <td>...</td>\n",
              "      <td>1.342500e+04</td>\n",
              "      <td>1.342500e+04</td>\n",
              "      <td>1.342500e+04</td>\n",
              "      <td>1.342500e+04</td>\n",
              "      <td>1.342500e+04</td>\n",
              "      <td>1.342500e+04</td>\n",
              "      <td>1.342500e+04</td>\n",
              "      <td>1.342500e+04</td>\n",
              "      <td>1.342500e+04</td>\n",
              "      <td>1.342500e+04</td>\n",
              "    </tr>\n",
              "    <tr>\n",
              "      <th>mean</th>\n",
              "      <td>-6.774635e-17</td>\n",
              "      <td>2.371122e-16</td>\n",
              "      <td>-7.621464e-17</td>\n",
              "      <td>-2.117073e-18</td>\n",
              "      <td>3.175610e-18</td>\n",
              "      <td>2.371122e-16</td>\n",
              "      <td>2.371122e-16</td>\n",
              "      <td>-3.387317e-17</td>\n",
              "      <td>1.354927e-16</td>\n",
              "      <td>-1.058537e-16</td>\n",
              "      <td>...</td>\n",
              "      <td>-6.774635e-17</td>\n",
              "      <td>2.371122e-16</td>\n",
              "      <td>6.097171e-16</td>\n",
              "      <td>-9.315123e-17</td>\n",
              "      <td>2.371122e-16</td>\n",
              "      <td>5.557317e-17</td>\n",
              "      <td>-2.371122e-16</td>\n",
              "      <td>4.657561e-17</td>\n",
              "      <td>4.488195e-16</td>\n",
              "      <td>-1.587805e-16</td>\n",
              "    </tr>\n",
              "    <tr>\n",
              "      <th>std</th>\n",
              "      <td>1.000037e+00</td>\n",
              "      <td>1.000037e+00</td>\n",
              "      <td>1.000037e+00</td>\n",
              "      <td>1.000037e+00</td>\n",
              "      <td>1.000037e+00</td>\n",
              "      <td>1.000037e+00</td>\n",
              "      <td>1.000037e+00</td>\n",
              "      <td>1.000037e+00</td>\n",
              "      <td>1.000037e+00</td>\n",
              "      <td>1.000037e+00</td>\n",
              "      <td>...</td>\n",
              "      <td>1.000037e+00</td>\n",
              "      <td>1.000037e+00</td>\n",
              "      <td>1.000037e+00</td>\n",
              "      <td>1.000037e+00</td>\n",
              "      <td>1.000037e+00</td>\n",
              "      <td>1.000037e+00</td>\n",
              "      <td>1.000037e+00</td>\n",
              "      <td>1.000037e+00</td>\n",
              "      <td>1.000037e+00</td>\n",
              "      <td>1.000037e+00</td>\n",
              "    </tr>\n",
              "    <tr>\n",
              "      <th>min</th>\n",
              "      <td>-2.668574e+00</td>\n",
              "      <td>-2.861815e+00</td>\n",
              "      <td>-3.635148e+00</td>\n",
              "      <td>-4.489127e-02</td>\n",
              "      <td>-8.630958e-03</td>\n",
              "      <td>-3.187637e+00</td>\n",
              "      <td>-3.187637e+00</td>\n",
              "      <td>-4.329677e+00</td>\n",
              "      <td>-3.214914e+00</td>\n",
              "      <td>-3.149081e+00</td>\n",
              "      <td>...</td>\n",
              "      <td>-3.863872e+00</td>\n",
              "      <td>-3.263364e+00</td>\n",
              "      <td>-3.301034e+00</td>\n",
              "      <td>-5.728489e-01</td>\n",
              "      <td>-2.861815e+00</td>\n",
              "      <td>-2.325911e-01</td>\n",
              "      <td>-3.365291e+00</td>\n",
              "      <td>-1.681156e-01</td>\n",
              "      <td>-4.052449e+00</td>\n",
              "      <td>-3.025426e+00</td>\n",
              "    </tr>\n",
              "    <tr>\n",
              "      <th>25%</th>\n",
              "      <td>-7.594796e-01</td>\n",
              "      <td>-6.997294e-01</td>\n",
              "      <td>-5.190084e-01</td>\n",
              "      <td>-4.489127e-02</td>\n",
              "      <td>-8.630958e-03</td>\n",
              "      <td>-6.060188e-01</td>\n",
              "      <td>-6.060188e-01</td>\n",
              "      <td>-5.867776e-01</td>\n",
              "      <td>-5.875557e-01</td>\n",
              "      <td>-1.133562e-02</td>\n",
              "      <td>...</td>\n",
              "      <td>-7.578821e-01</td>\n",
              "      <td>-6.193831e-01</td>\n",
              "      <td>-6.187272e-01</td>\n",
              "      <td>-5.728489e-01</td>\n",
              "      <td>-6.997294e-01</td>\n",
              "      <td>-2.325911e-01</td>\n",
              "      <td>-7.222884e-01</td>\n",
              "      <td>-1.681156e-01</td>\n",
              "      <td>-5.009953e-01</td>\n",
              "      <td>-8.077887e-01</td>\n",
              "    </tr>\n",
              "    <tr>\n",
              "      <th>50%</th>\n",
              "      <td>3.049059e-02</td>\n",
              "      <td>8.648341e-02</td>\n",
              "      <td>8.690759e-02</td>\n",
              "      <td>-4.489127e-02</td>\n",
              "      <td>-8.630958e-03</td>\n",
              "      <td>6.744690e-02</td>\n",
              "      <td>6.744690e-02</td>\n",
              "      <td>1.213386e-01</td>\n",
              "      <td>1.198099e-01</td>\n",
              "      <td>-1.133562e-02</td>\n",
              "      <td>...</td>\n",
              "      <td>-1.039896e-01</td>\n",
              "      <td>9.245790e-02</td>\n",
              "      <td>7.348107e-02</td>\n",
              "      <td>-5.728489e-01</td>\n",
              "      <td>8.648341e-02</td>\n",
              "      <td>-2.325911e-01</td>\n",
              "      <td>1.855330e-02</td>\n",
              "      <td>-1.681156e-01</td>\n",
              "      <td>9.091369e-02</td>\n",
              "      <td>1.426273e-01</td>\n",
              "    </tr>\n",
              "    <tr>\n",
              "      <th>75%</th>\n",
              "      <td>8.204608e-01</td>\n",
              "      <td>7.744196e-01</td>\n",
              "      <td>6.928235e-01</td>\n",
              "      <td>-4.489127e-02</td>\n",
              "      <td>-8.630958e-03</td>\n",
              "      <td>6.286683e-01</td>\n",
              "      <td>6.286683e-01</td>\n",
              "      <td>6.271359e-01</td>\n",
              "      <td>7.261233e-01</td>\n",
              "      <td>-1.133562e-02</td>\n",
              "      <td>...</td>\n",
              "      <td>7.133761e-01</td>\n",
              "      <td>7.026073e-01</td>\n",
              "      <td>6.791633e-01</td>\n",
              "      <td>-5.728489e-01</td>\n",
              "      <td>7.744196e-01</td>\n",
              "      <td>-2.325911e-01</td>\n",
              "      <td>7.043324e-01</td>\n",
              "      <td>-1.681156e-01</td>\n",
              "      <td>6.828226e-01</td>\n",
              "      <td>7.762379e-01</td>\n",
              "    </tr>\n",
              "    <tr>\n",
              "      <th>max</th>\n",
              "      <td>2.795386e+00</td>\n",
              "      <td>2.936505e+00</td>\n",
              "      <td>2.424012e+00</td>\n",
              "      <td>2.227605e+01</td>\n",
              "      <td>1.158620e+02</td>\n",
              "      <td>3.322531e+00</td>\n",
              "      <td>3.322531e+00</td>\n",
              "      <td>3.054963e+00</td>\n",
              "      <td>3.454533e+00</td>\n",
              "      <td>3.126410e+00</td>\n",
              "      <td>...</td>\n",
              "      <td>3.819366e+00</td>\n",
              "      <td>3.448280e+00</td>\n",
              "      <td>2.496210e+00</td>\n",
              "      <td>1.745661e+00</td>\n",
              "      <td>2.936505e+00</td>\n",
              "      <td>4.299391e+00</td>\n",
              "      <td>3.372364e+00</td>\n",
              "      <td>5.948287e+00</td>\n",
              "      <td>2.458549e+00</td>\n",
              "      <td>9.646787e+00</td>\n",
              "    </tr>\n",
              "  </tbody>\n",
              "</table>\n",
              "<p>8 rows × 94 columns</p>\n",
              "</div>\n",
              "    <div class=\"colab-df-buttons\">\n",
              "\n",
              "  <div class=\"colab-df-container\">\n",
              "    <button class=\"colab-df-convert\" onclick=\"convertToInteractive('df-9bfbf913-fcbe-4970-a965-329d2a592344')\"\n",
              "            title=\"Convert this dataframe to an interactive table.\"\n",
              "            style=\"display:none;\">\n",
              "\n",
              "  <svg xmlns=\"http://www.w3.org/2000/svg\" height=\"24px\" viewBox=\"0 -960 960 960\">\n",
              "    <path d=\"M120-120v-720h720v720H120Zm60-500h600v-160H180v160Zm220 220h160v-160H400v160Zm0 220h160v-160H400v160ZM180-400h160v-160H180v160Zm440 0h160v-160H620v160ZM180-180h160v-160H180v160Zm440 0h160v-160H620v160Z\"/>\n",
              "  </svg>\n",
              "    </button>\n",
              "\n",
              "  <style>\n",
              "    .colab-df-container {\n",
              "      display:flex;\n",
              "      gap: 12px;\n",
              "    }\n",
              "\n",
              "    .colab-df-convert {\n",
              "      background-color: #E8F0FE;\n",
              "      border: none;\n",
              "      border-radius: 50%;\n",
              "      cursor: pointer;\n",
              "      display: none;\n",
              "      fill: #1967D2;\n",
              "      height: 32px;\n",
              "      padding: 0 0 0 0;\n",
              "      width: 32px;\n",
              "    }\n",
              "\n",
              "    .colab-df-convert:hover {\n",
              "      background-color: #E2EBFA;\n",
              "      box-shadow: 0px 1px 2px rgba(60, 64, 67, 0.3), 0px 1px 3px 1px rgba(60, 64, 67, 0.15);\n",
              "      fill: #174EA6;\n",
              "    }\n",
              "\n",
              "    .colab-df-buttons div {\n",
              "      margin-bottom: 4px;\n",
              "    }\n",
              "\n",
              "    [theme=dark] .colab-df-convert {\n",
              "      background-color: #3B4455;\n",
              "      fill: #D2E3FC;\n",
              "    }\n",
              "\n",
              "    [theme=dark] .colab-df-convert:hover {\n",
              "      background-color: #434B5C;\n",
              "      box-shadow: 0px 1px 3px 1px rgba(0, 0, 0, 0.15);\n",
              "      filter: drop-shadow(0px 1px 2px rgba(0, 0, 0, 0.3));\n",
              "      fill: #FFFFFF;\n",
              "    }\n",
              "  </style>\n",
              "\n",
              "    <script>\n",
              "      const buttonEl =\n",
              "        document.querySelector('#df-9bfbf913-fcbe-4970-a965-329d2a592344 button.colab-df-convert');\n",
              "      buttonEl.style.display =\n",
              "        google.colab.kernel.accessAllowed ? 'block' : 'none';\n",
              "\n",
              "      async function convertToInteractive(key) {\n",
              "        const element = document.querySelector('#df-9bfbf913-fcbe-4970-a965-329d2a592344');\n",
              "        const dataTable =\n",
              "          await google.colab.kernel.invokeFunction('convertToInteractive',\n",
              "                                                    [key], {});\n",
              "        if (!dataTable) return;\n",
              "\n",
              "        const docLinkHtml = 'Like what you see? Visit the ' +\n",
              "          '<a target=\"_blank\" href=https://colab.research.google.com/notebooks/data_table.ipynb>data table notebook</a>'\n",
              "          + ' to learn more about interactive tables.';\n",
              "        element.innerHTML = '';\n",
              "        dataTable['output_type'] = 'display_data';\n",
              "        await google.colab.output.renderOutput(dataTable, element);\n",
              "        const docLink = document.createElement('div');\n",
              "        docLink.innerHTML = docLinkHtml;\n",
              "        element.appendChild(docLink);\n",
              "      }\n",
              "    </script>\n",
              "  </div>\n",
              "\n",
              "\n",
              "    <div id=\"df-b182827c-bd2c-494b-bbd0-e5cf12a78bf4\">\n",
              "      <button class=\"colab-df-quickchart\" onclick=\"quickchart('df-b182827c-bd2c-494b-bbd0-e5cf12a78bf4')\"\n",
              "                title=\"Suggest charts\"\n",
              "                style=\"display:none;\">\n",
              "\n",
              "<svg xmlns=\"http://www.w3.org/2000/svg\" height=\"24px\"viewBox=\"0 0 24 24\"\n",
              "     width=\"24px\">\n",
              "    <g>\n",
              "        <path d=\"M19 3H5c-1.1 0-2 .9-2 2v14c0 1.1.9 2 2 2h14c1.1 0 2-.9 2-2V5c0-1.1-.9-2-2-2zM9 17H7v-7h2v7zm4 0h-2V7h2v10zm4 0h-2v-4h2v4z\"/>\n",
              "    </g>\n",
              "</svg>\n",
              "      </button>\n",
              "\n",
              "<style>\n",
              "  .colab-df-quickchart {\n",
              "      --bg-color: #E8F0FE;\n",
              "      --fill-color: #1967D2;\n",
              "      --hover-bg-color: #E2EBFA;\n",
              "      --hover-fill-color: #174EA6;\n",
              "      --disabled-fill-color: #AAA;\n",
              "      --disabled-bg-color: #DDD;\n",
              "  }\n",
              "\n",
              "  [theme=dark] .colab-df-quickchart {\n",
              "      --bg-color: #3B4455;\n",
              "      --fill-color: #D2E3FC;\n",
              "      --hover-bg-color: #434B5C;\n",
              "      --hover-fill-color: #FFFFFF;\n",
              "      --disabled-bg-color: #3B4455;\n",
              "      --disabled-fill-color: #666;\n",
              "  }\n",
              "\n",
              "  .colab-df-quickchart {\n",
              "    background-color: var(--bg-color);\n",
              "    border: none;\n",
              "    border-radius: 50%;\n",
              "    cursor: pointer;\n",
              "    display: none;\n",
              "    fill: var(--fill-color);\n",
              "    height: 32px;\n",
              "    padding: 0;\n",
              "    width: 32px;\n",
              "  }\n",
              "\n",
              "  .colab-df-quickchart:hover {\n",
              "    background-color: var(--hover-bg-color);\n",
              "    box-shadow: 0 1px 2px rgba(60, 64, 67, 0.3), 0 1px 3px 1px rgba(60, 64, 67, 0.15);\n",
              "    fill: var(--button-hover-fill-color);\n",
              "  }\n",
              "\n",
              "  .colab-df-quickchart-complete:disabled,\n",
              "  .colab-df-quickchart-complete:disabled:hover {\n",
              "    background-color: var(--disabled-bg-color);\n",
              "    fill: var(--disabled-fill-color);\n",
              "    box-shadow: none;\n",
              "  }\n",
              "\n",
              "  .colab-df-spinner {\n",
              "    border: 2px solid var(--fill-color);\n",
              "    border-color: transparent;\n",
              "    border-bottom-color: var(--fill-color);\n",
              "    animation:\n",
              "      spin 1s steps(1) infinite;\n",
              "  }\n",
              "\n",
              "  @keyframes spin {\n",
              "    0% {\n",
              "      border-color: transparent;\n",
              "      border-bottom-color: var(--fill-color);\n",
              "      border-left-color: var(--fill-color);\n",
              "    }\n",
              "    20% {\n",
              "      border-color: transparent;\n",
              "      border-left-color: var(--fill-color);\n",
              "      border-top-color: var(--fill-color);\n",
              "    }\n",
              "    30% {\n",
              "      border-color: transparent;\n",
              "      border-left-color: var(--fill-color);\n",
              "      border-top-color: var(--fill-color);\n",
              "      border-right-color: var(--fill-color);\n",
              "    }\n",
              "    40% {\n",
              "      border-color: transparent;\n",
              "      border-right-color: var(--fill-color);\n",
              "      border-top-color: var(--fill-color);\n",
              "    }\n",
              "    60% {\n",
              "      border-color: transparent;\n",
              "      border-right-color: var(--fill-color);\n",
              "    }\n",
              "    80% {\n",
              "      border-color: transparent;\n",
              "      border-right-color: var(--fill-color);\n",
              "      border-bottom-color: var(--fill-color);\n",
              "    }\n",
              "    90% {\n",
              "      border-color: transparent;\n",
              "      border-bottom-color: var(--fill-color);\n",
              "    }\n",
              "  }\n",
              "</style>\n",
              "\n",
              "      <script>\n",
              "        async function quickchart(key) {\n",
              "          const quickchartButtonEl =\n",
              "            document.querySelector('#' + key + ' button');\n",
              "          quickchartButtonEl.disabled = true;  // To prevent multiple clicks.\n",
              "          quickchartButtonEl.classList.add('colab-df-spinner');\n",
              "          try {\n",
              "            const charts = await google.colab.kernel.invokeFunction(\n",
              "                'suggestCharts', [key], {});\n",
              "          } catch (error) {\n",
              "            console.error('Error during call to suggestCharts:', error);\n",
              "          }\n",
              "          quickchartButtonEl.classList.remove('colab-df-spinner');\n",
              "          quickchartButtonEl.classList.add('colab-df-quickchart-complete');\n",
              "        }\n",
              "        (() => {\n",
              "          let quickchartButtonEl =\n",
              "            document.querySelector('#df-b182827c-bd2c-494b-bbd0-e5cf12a78bf4 button');\n",
              "          quickchartButtonEl.style.display =\n",
              "            google.colab.kernel.accessAllowed ? 'block' : 'none';\n",
              "        })();\n",
              "      </script>\n",
              "    </div>\n",
              "\n",
              "    </div>\n",
              "  </div>\n"
            ],
            "application/vnd.google.colaboratory.intrinsic+json": {
              "type": "dataframe"
            }
          },
          "metadata": {},
          "execution_count": 65
        }
      ]
    },
    {
      "cell_type": "markdown",
      "source": [
        "## 11. Bonus: Reproduce Lab Dataset with 12 Classes\n",
        "### 11.2 Model Choice & Justification\n",
        "\n",
        "We choose to use a tuned XGBoost classifier to predict player positions. This is a multiclass classification problem with 26 unique positions. XGBoost is known for its strong performance on structured datasets and has built-in handling for multiclass classification.\n",
        "\n",
        "Before training the model, we encode the position labels into numeric form using label encoding."
      ],
      "metadata": {
        "id": "lVuBdjiTG0nU"
      }
    },
    {
      "cell_type": "code",
      "source": [
        "from sklearn.model_selection import train_test_split\n",
        "from sklearn.metrics import f1_score, classification_report\n",
        "from sklearn.preprocessing import LabelEncoder\n",
        "from xgboost import XGBClassifier\n",
        "\n",
        "# Encode string labels to integers\n",
        "le = LabelEncoder()\n",
        "y_encoded = le.fit_transform(target_positions)\n",
        "\n",
        "# Split data into train and test sets with stratification\n",
        "X_train, X_test, y_train, y_test = train_test_split(\n",
        "    df, y_encoded, test_size=0.2, random_state=42, stratify=y_encoded\n",
        ")\n",
        "\n",
        "# Initialize and train XGBoost classifier\n",
        "xgb_model = XGBClassifier(\n",
        "    eval_metric='mlogloss',\n",
        "    random_state=42,\n",
        "    learning_rate=0.1,\n",
        "    n_estimators=100\n",
        ")\n",
        "xgb_model.fit(X_train, y_train)\n",
        "\n",
        "# Predict on test data\n",
        "y_pred = xgb_model.predict(X_test)\n",
        "\n",
        "# Calculate macro F1-score\n",
        "f1 = f1_score(y_test, y_pred, average='macro')\n",
        "\n",
        "# Print classification report, suppressing zero division warnings for ill-defined metrics\n",
        "print(\"Classification Report:\\n\")\n",
        "print(classification_report(\n",
        "    y_test,\n",
        "    y_pred,\n",
        "    target_names=le.classes_,\n",
        "    zero_division=0  # avoids warnings and sets precision/recall to 0 for classes with no predictions\n",
        "))\n",
        "print(f\"Macro F1-score on test set: {f1:.4f}\")"
      ],
      "metadata": {
        "colab": {
          "base_uri": "https://localhost:8080/"
        },
        "id": "OB_t09oqG2YU",
        "outputId": "6bf2bf58-f440-45c9-83fe-411c8b05b63a"
      },
      "execution_count": 66,
      "outputs": [
        {
          "output_type": "stream",
          "name": "stdout",
          "text": [
            "Classification Report:\n",
            "\n",
            "              precision    recall  f1-score   support\n",
            "\n",
            "         CAM       0.46      0.50      0.48       155\n",
            "          CB       0.58      0.73      0.65       304\n",
            "         CDM       0.44      0.55      0.49       159\n",
            "          CF       0.00      0.00      0.00        12\n",
            "          CM       0.48      0.76      0.59       235\n",
            "         LAM       0.00      0.00      0.00         3\n",
            "          LB       0.73      0.81      0.77       222\n",
            "         LCB       0.36      0.19      0.25       108\n",
            "         LCM       0.08      0.02      0.03        65\n",
            "         LDM       0.20      0.03      0.04        40\n",
            "          LF       0.00      0.00      0.00         3\n",
            "          LM       0.31      0.33      0.32       183\n",
            "          LS       0.00      0.00      0.00        34\n",
            "          LW       0.15      0.03      0.05        62\n",
            "         LWB       0.00      0.00      0.00        14\n",
            "         RAM       0.00      0.00      0.00         4\n",
            "          RB       0.67      0.86      0.75       220\n",
            "         RCB       0.42      0.24      0.31       112\n",
            "         RCM       0.17      0.06      0.09        65\n",
            "         RDM       0.33      0.05      0.09        41\n",
            "          RF       0.00      0.00      0.00         2\n",
            "          RM       0.32      0.35      0.33       185\n",
            "          RS       0.00      0.00      0.00        33\n",
            "          RW       0.00      0.00      0.00        59\n",
            "         RWB       0.00      0.00      0.00        16\n",
            "          ST       0.73      0.90      0.80       349\n",
            "\n",
            "    accuracy                           0.53      2685\n",
            "   macro avg       0.25      0.25      0.23      2685\n",
            "weighted avg       0.46      0.53      0.48      2685\n",
            "\n",
            "Macro F1-score on test set: 0.2323\n"
          ]
        }
      ]
    },
    {
      "cell_type": "markdown",
      "source": [
        "## 11. Bonus: Reproduce Lab Dataset with 12 Classes\n",
        "### 11.3 Final Performance\n",
        "\n",
        "We evaluate the final model trained using XGBoost on the test set. The key metric used is macro F1-score, which gives equal weight to all classes regardless of their frequency. This is particularly important in multi-class problems where class imbalance may exist.\n",
        "\n",
        "The goal is to achieve a macro F1-score above 0.6."
      ],
      "metadata": {
        "id": "6YHdAs_8HnBy"
      }
    },
    {
      "cell_type": "code",
      "source": [
        "from sklearn.metrics import f1_score, classification_report\n",
        "\n",
        "# Predict on test set\n",
        "y_pred = xgb_model.predict(X_test)\n",
        "\n",
        "# Calculate macro F1-score\n",
        "final_f1 = f1_score(y_test, y_pred, average='macro')\n",
        "\n",
        "# Generate full classification report with zero_division to avoid warnings\n",
        "print(\"Final Classification Report:\\n\")\n",
        "print(classification_report(\n",
        "    y_test,\n",
        "    y_pred,\n",
        "    target_names=le.classes_,\n",
        "    zero_division=0  # Avoids warnings, sets precision/recall to 0 if no predicted samples\n",
        "))\n",
        "\n",
        "# Print final macro F1-score\n",
        "print(f\"Final macro F1-score: {final_f1:.4f}\")\n",
        "\n",
        "# Threshold check and message\n",
        "if final_f1 >= 0.6:\n",
        "    print(\"Success: Macro F1-score is above 0.6.\")\n",
        "else:\n",
        "    print(\"Note: Macro F1-score is below 0.6. Consider further tuning.\")"
      ],
      "metadata": {
        "colab": {
          "base_uri": "https://localhost:8080/"
        },
        "id": "CqsruwxbHpnG",
        "outputId": "89de1fb6-dec2-4a6b-bd04-e379e685522c"
      },
      "execution_count": 67,
      "outputs": [
        {
          "output_type": "stream",
          "name": "stdout",
          "text": [
            "Final Classification Report:\n",
            "\n",
            "              precision    recall  f1-score   support\n",
            "\n",
            "         CAM       0.46      0.50      0.48       155\n",
            "          CB       0.58      0.73      0.65       304\n",
            "         CDM       0.44      0.55      0.49       159\n",
            "          CF       0.00      0.00      0.00        12\n",
            "          CM       0.48      0.76      0.59       235\n",
            "         LAM       0.00      0.00      0.00         3\n",
            "          LB       0.73      0.81      0.77       222\n",
            "         LCB       0.36      0.19      0.25       108\n",
            "         LCM       0.08      0.02      0.03        65\n",
            "         LDM       0.20      0.03      0.04        40\n",
            "          LF       0.00      0.00      0.00         3\n",
            "          LM       0.31      0.33      0.32       183\n",
            "          LS       0.00      0.00      0.00        34\n",
            "          LW       0.15      0.03      0.05        62\n",
            "         LWB       0.00      0.00      0.00        14\n",
            "         RAM       0.00      0.00      0.00         4\n",
            "          RB       0.67      0.86      0.75       220\n",
            "         RCB       0.42      0.24      0.31       112\n",
            "         RCM       0.17      0.06      0.09        65\n",
            "         RDM       0.33      0.05      0.09        41\n",
            "          RF       0.00      0.00      0.00         2\n",
            "          RM       0.32      0.35      0.33       185\n",
            "          RS       0.00      0.00      0.00        33\n",
            "          RW       0.00      0.00      0.00        59\n",
            "         RWB       0.00      0.00      0.00        16\n",
            "          ST       0.73      0.90      0.80       349\n",
            "\n",
            "    accuracy                           0.53      2685\n",
            "   macro avg       0.25      0.25      0.23      2685\n",
            "weighted avg       0.46      0.53      0.48      2685\n",
            "\n",
            "Final macro F1-score: 0.2323\n",
            "Note: Macro F1-score is below 0.6. Consider further tuning.\n"
          ]
        }
      ]
    },
    {
      "cell_type": "markdown",
      "source": [
        "# 12. Summary and Reflections\n",
        "\n",
        "In this section, we summarize the insights gained from the different models used in this lab. Each model provided valuable lessons about handling multiclass classification, tuning parameters, and balancing trade-offs.\n",
        "\n",
        "The best performing model in our experiments was the tuned XGBoost classifier. Its ability to handle complex relationships and non-linearities in the data contributed to its superior performance compared to simpler models like Logistic Regression and K-Nearest Neighbors.\n",
        "\n",
        "However, this performance comes with trade-offs. While XGBoost offers high accuracy, it requires longer training times and careful parameter tuning to avoid overfitting. On the other hand, models like Logistic Regression are faster and more interpretable but may underperform with complex datasets. K-Nearest Neighbors offers simplicity but suffers from high prediction time and sensitivity to the choice of neighbors.\n",
        "\n",
        "Throughout this lab, challenges included managing computational time for model training and hyperparameter tuning, especially with grid search on large datasets. Overfitting was also a concern, requiring techniques like cross-validation and careful feature preprocessing.\n",
        "\n",
        "Overall, this lab reinforced the importance of selecting models that balance interpretability, training efficiency, and predictive power, while also emphasizing the role of data preprocessing and hyperparameter optimization.\n"
      ],
      "metadata": {
        "id": "JVXd9NbYIu4R"
      }
    }
  ]
}