{
  "nbformat": 4,
  "nbformat_minor": 0,
  "metadata": {
    "colab": {
      "provenance": []
    },
    "kernelspec": {
      "name": "python3",
      "display_name": "Python 3"
    },
    "language_info": {
      "name": "python"
    }
  },
  "cells": [
    {
      "cell_type": "markdown",
      "source": [
        "<font face=\"Times New Roman\" size=5>\n",
        "<div dir=rtl align=\"center\">\n",
        "<font face=\"Times New Roman\" size=5>\n",
        "</font>\n",
        "<br>\n",
        "<img src=\"https://static.tildacdn.one/tild3639-3035-4131-a461-363737393037/noroot.png\" alt=\"University Logo\" width=\"400\" height=\"224\">\n",
        "<br>\n",
        "<font face=\"Times New Roman\" size=5 align=center>\n",
        "Sharif University of Technology\n",
        "<br>\n",
        "Electrical Engineering Department\n",
        "</font>\n",
        "<br>\n",
        "<font size=6>\n",
        "Assignment 9: Neural Networks\n",
        "</font>\n",
        "<br>\n",
        "<font size=4>\n",
        "Zahra Helalizadeh 400102193\n",
        "<br>\n",
        "</font>\n",
        "<font size=4>\n",
        "Spring 2025\n",
        "<br>\n",
        "</font>\n",
        "<font face=\"Times New Roman\" size=4>\n",
        "</font>\n",
        "</div></font>"
      ],
      "metadata": {
        "id": "5CjJXcFSh0l1"
      }
    },
    {
      "cell_type": "markdown",
      "source": [
        "# 1. Setup and Data Preprocessing\n",
        "\n",
        "## 1.1 Import Libraries\n",
        "\n",
        "In this section, we import the necessary Python libraries that we will use throughout the notebook.\n",
        "\n",
        "- `numpy`: for numerical operations and array manipulation.\n",
        "- `matplotlib.pyplot`: for visualizing the data and training results.\n",
        "- `seaborn`: for more aesthetic and informative data visualizations.\n",
        "- `sklearn`: for preprocessing, train-test split, metrics, and Scikit-Learn models.\n",
        "- `tensorflow.keras`: for building and training neural networks using Keras.\n",
        "- `torch` and `torchvision`: for building and training neural networks using PyTorch."
      ],
      "metadata": {
        "id": "fXuBtB2xkayl"
      }
    },
    {
      "cell_type": "code",
      "execution_count": 2,
      "metadata": {
        "id": "Vc4CQ_UChzIH"
      },
      "outputs": [],
      "source": [
        "import numpy as np\n",
        "import matplotlib.pyplot as plt\n",
        "import seaborn as sns\n",
        "\n",
        "from sklearn.model_selection import train_test_split\n",
        "from sklearn.metrics import f1_score, r2_score\n",
        "from sklearn.neural_network import MLPClassifier, MLPRegressor\n",
        "from sklearn.preprocessing import StandardScaler\n",
        "\n",
        "import tensorflow as tf\n",
        "from tensorflow.keras.models import Sequential, Model\n",
        "from tensorflow.keras.layers import Dense, Input, Flatten\n",
        "from tensorflow.keras.utils import to_categorical\n",
        "\n",
        "import torch\n",
        "import torch.nn as nn\n",
        "import torch.optim as optim\n",
        "from torch.utils.data import DataLoader, TensorDataset\n",
        "\n",
        "import torchvision\n",
        "from torchvision import transforms"
      ]
    },
    {
      "cell_type": "markdown",
      "source": [
        "We import a variety of machine learning libraries to allow us to work with different frameworks.\n",
        "\n",
        "Scikit-Learn will be used for building and evaluating simple multilayer perceptron models.  \n",
        "TensorFlow/Keras will be used for building 4-layer feedforward and recurrent neural networks.  \n",
        "PyTorch will be used for implementing more flexible architectures and manual training loops.\n",
        "\n",
        "`torchvision` is included to help load and preprocess the Fashion MNIST dataset in PyTorch.\n",
        "\n",
        "All other libraries are standard tools for scientific computing and data visualization in Python."
      ],
      "metadata": {
        "id": "MeQWbDZkkfgI"
      }
    },
    {
      "cell_type": "markdown",
      "source": [
        "## 1.2 Load the Fashion MNIST Dataset\n",
        "\n",
        "In this section, we load the Fashion MNIST dataset. This dataset is a collection of 70,000 grayscale images of fashion products from 10 different categories. Each image is 28x28 pixels in size.\n",
        "\n",
        "The dataset is divided into 60,000 training samples and 10,000 test samples. Each image belongs to one of the following 10 classes:\n",
        "\n",
        "0: T-shirt/top  \n",
        "1: Trouser  \n",
        "2: Pullover  \n",
        "3: Dress  \n",
        "4: Coat  \n",
        "5: Sandal  \n",
        "6: Shirt  \n",
        "7: Sneaker  \n",
        "8: Bag  \n",
        "9: Ankle boot\n",
        "\n",
        "We will use the Keras API to load the dataset in NumPy array format."
      ],
      "metadata": {
        "id": "-yad3F9ikrIP"
      }
    },
    {
      "cell_type": "code",
      "source": [
        "# Load Fashion MNIST dataset from Keras\n",
        "from tensorflow.keras.datasets import fashion_mnist\n",
        "\n",
        "# Load the training and test sets\n",
        "(x_train, y_train), (x_test, y_test) = fashion_mnist.load_data()"
      ],
      "metadata": {
        "id": "e0ALAbCsksJW"
      },
      "execution_count": 3,
      "outputs": []
    },
    {
      "cell_type": "markdown",
      "source": [
        "Let's check the shape of the training and test data to better understand its structure."
      ],
      "metadata": {
        "id": "QcMOmWVakxAc"
      }
    },
    {
      "cell_type": "code",
      "source": [
        "print(\"Training data shape:\", x_train.shape)\n",
        "print(\"Training labels shape:\", y_train.shape)\n",
        "print(\"Test data shape:\", x_test.shape)\n",
        "print(\"Test labels shape:\", y_test.shape)"
      ],
      "metadata": {
        "colab": {
          "base_uri": "https://localhost:8080/"
        },
        "id": "86nJTVO_kzc5",
        "outputId": "a93c7e8f-3c6d-4817-9e09-8f99569773d0"
      },
      "execution_count": 4,
      "outputs": [
        {
          "output_type": "stream",
          "name": "stdout",
          "text": [
            "Training data shape: (60000, 28, 28)\n",
            "Training labels shape: (60000,)\n",
            "Test data shape: (10000, 28, 28)\n",
            "Test labels shape: (10000,)\n"
          ]
        }
      ]
    },
    {
      "cell_type": "markdown",
      "source": [
        "Each image has shape (28, 28), and each label is an integer from 0 to 9.  \n",
        "There are 60,000 training images and 10,000 test images.  \n",
        "We will use a portion of the training set for validation later, and we will reshape and normalize the data in the next step."
      ],
      "metadata": {
        "id": "ET-1svJXk192"
      }
    },
    {
      "cell_type": "markdown",
      "source": [
        "## 1.3 Preprocess the Data\n",
        "\n",
        "Before feeding the data into a neural network, we need to preprocess it properly. Neural networks work better when the input values are in a consistent scale, especially in the range [0, 1].\n",
        "\n",
        "Therefore, we normalize the pixel values of the images by dividing them by 255, which is the maximum possible value of a pixel in grayscale.\n",
        "\n",
        "Also, feedforward neural networks require 1D input vectors, so we flatten the 28x28 images into vectors of size 784.\n",
        "\n",
        "Finally, we split the original training set into 80% training and 20% validation/test for evaluation purposes."
      ],
      "metadata": {
        "id": "5WadQreqlIT-"
      }
    },
    {
      "cell_type": "code",
      "source": [
        "# Normalize the images\n",
        "x_train = x_train.astype(\"float32\") / 255.0\n",
        "x_test = x_test.astype(\"float32\") / 255.0\n",
        "\n",
        "# Flatten the images for feedforward networks\n",
        "x_train_flat = x_train.reshape(-1, 28 * 28)\n",
        "x_test_flat = x_test.reshape(-1, 28 * 28)"
      ],
      "metadata": {
        "id": "2du-qcG3lKdt"
      },
      "execution_count": 5,
      "outputs": []
    },
    {
      "cell_type": "markdown",
      "source": [
        "Now we split the training data into a training set and a validation set. This helps us evaluate the performance of our models on unseen data before we use the final test set."
      ],
      "metadata": {
        "id": "Fofs2F05lMmG"
      }
    },
    {
      "cell_type": "code",
      "source": [
        "# Split training data into 80% training and 20% validation\n",
        "x_train_final, x_val, y_train_final, y_val = train_test_split(\n",
        "    x_train_flat, y_train, test_size=0.2, random_state=42\n",
        ")\n",
        "\n",
        "print(\"Training set shape:\", x_train_final.shape)\n",
        "print(\"Validation set shape:\", x_val.shape)\n",
        "print(\"Test set shape:\", x_test_flat.shape)"
      ],
      "metadata": {
        "colab": {
          "base_uri": "https://localhost:8080/"
        },
        "id": "Reu3JdR5lPY9",
        "outputId": "02f66152-65cd-430f-b010-36a487251533"
      },
      "execution_count": 6,
      "outputs": [
        {
          "output_type": "stream",
          "name": "stdout",
          "text": [
            "Training set shape: (48000, 784)\n",
            "Validation set shape: (12000, 784)\n",
            "Test set shape: (10000, 784)\n"
          ]
        }
      ]
    },
    {
      "cell_type": "markdown",
      "source": [
        "At this point, all input features are scaled between 0 and 1 and reshaped into vectors of length 784.  \n",
        "This format is now suitable for feedforward neural networks, which expect fixed-size vector inputs.  \n",
        "The training set is now 48,000 samples, the validation set is 12,000 samples, and the test set remains at 10,000 samples."
      ],
      "metadata": {
        "id": "qAKINMAZlSYR"
      }
    },
    {
      "cell_type": "markdown",
      "source": [
        "## 2. Baseline MLP with Scikit-Learn\n",
        "\n",
        "### 2.1 Build a Multilayer Perceptron Classifier\n",
        "\n",
        "In this section, we build a baseline multilayer perceptron (MLP) classifier using Scikit-Learn's `MLPClassifier`.\n",
        "\n",
        "This model will serve as a starting point to evaluate how well a simple feedforward neural network can classify the Fashion MNIST images.\n",
        "\n",
        "We will use the flattened and normalized training data prepared earlier."
      ],
      "metadata": {
        "id": "N2Q41ZuClezU"
      }
    },
    {
      "cell_type": "code",
      "source": [
        "from sklearn.neural_network import MLPClassifier\n",
        "\n",
        "# Initialize the MLPClassifier with one hidden layer of 100 neurons\n",
        "mlp_clf = MLPClassifier(hidden_layer_sizes=(100,), max_iter=20, random_state=42)\n",
        "\n",
        "# Train the MLPClassifier on the training data\n",
        "mlp_clf.fit(x_train_final, y_train_final)"
      ],
      "metadata": {
        "colab": {
          "base_uri": "https://localhost:8080/",
          "height": 135
        },
        "id": "eEGtcwuPlhhe",
        "outputId": "c4e00660-91a0-4d12-8fdf-657f5103e7ed"
      },
      "execution_count": 7,
      "outputs": [
        {
          "output_type": "stream",
          "name": "stderr",
          "text": [
            "/usr/local/lib/python3.11/dist-packages/sklearn/neural_network/_multilayer_perceptron.py:691: ConvergenceWarning: Stochastic Optimizer: Maximum iterations (20) reached and the optimization hasn't converged yet.\n",
            "  warnings.warn(\n"
          ]
        },
        {
          "output_type": "execute_result",
          "data": {
            "text/plain": [
              "MLPClassifier(max_iter=20, random_state=42)"
            ],
            "text/html": [
              "<style>#sk-container-id-1 {\n",
              "  /* Definition of color scheme common for light and dark mode */\n",
              "  --sklearn-color-text: #000;\n",
              "  --sklearn-color-text-muted: #666;\n",
              "  --sklearn-color-line: gray;\n",
              "  /* Definition of color scheme for unfitted estimators */\n",
              "  --sklearn-color-unfitted-level-0: #fff5e6;\n",
              "  --sklearn-color-unfitted-level-1: #f6e4d2;\n",
              "  --sklearn-color-unfitted-level-2: #ffe0b3;\n",
              "  --sklearn-color-unfitted-level-3: chocolate;\n",
              "  /* Definition of color scheme for fitted estimators */\n",
              "  --sklearn-color-fitted-level-0: #f0f8ff;\n",
              "  --sklearn-color-fitted-level-1: #d4ebff;\n",
              "  --sklearn-color-fitted-level-2: #b3dbfd;\n",
              "  --sklearn-color-fitted-level-3: cornflowerblue;\n",
              "\n",
              "  /* Specific color for light theme */\n",
              "  --sklearn-color-text-on-default-background: var(--sg-text-color, var(--theme-code-foreground, var(--jp-content-font-color1, black)));\n",
              "  --sklearn-color-background: var(--sg-background-color, var(--theme-background, var(--jp-layout-color0, white)));\n",
              "  --sklearn-color-border-box: var(--sg-text-color, var(--theme-code-foreground, var(--jp-content-font-color1, black)));\n",
              "  --sklearn-color-icon: #696969;\n",
              "\n",
              "  @media (prefers-color-scheme: dark) {\n",
              "    /* Redefinition of color scheme for dark theme */\n",
              "    --sklearn-color-text-on-default-background: var(--sg-text-color, var(--theme-code-foreground, var(--jp-content-font-color1, white)));\n",
              "    --sklearn-color-background: var(--sg-background-color, var(--theme-background, var(--jp-layout-color0, #111)));\n",
              "    --sklearn-color-border-box: var(--sg-text-color, var(--theme-code-foreground, var(--jp-content-font-color1, white)));\n",
              "    --sklearn-color-icon: #878787;\n",
              "  }\n",
              "}\n",
              "\n",
              "#sk-container-id-1 {\n",
              "  color: var(--sklearn-color-text);\n",
              "}\n",
              "\n",
              "#sk-container-id-1 pre {\n",
              "  padding: 0;\n",
              "}\n",
              "\n",
              "#sk-container-id-1 input.sk-hidden--visually {\n",
              "  border: 0;\n",
              "  clip: rect(1px 1px 1px 1px);\n",
              "  clip: rect(1px, 1px, 1px, 1px);\n",
              "  height: 1px;\n",
              "  margin: -1px;\n",
              "  overflow: hidden;\n",
              "  padding: 0;\n",
              "  position: absolute;\n",
              "  width: 1px;\n",
              "}\n",
              "\n",
              "#sk-container-id-1 div.sk-dashed-wrapped {\n",
              "  border: 1px dashed var(--sklearn-color-line);\n",
              "  margin: 0 0.4em 0.5em 0.4em;\n",
              "  box-sizing: border-box;\n",
              "  padding-bottom: 0.4em;\n",
              "  background-color: var(--sklearn-color-background);\n",
              "}\n",
              "\n",
              "#sk-container-id-1 div.sk-container {\n",
              "  /* jupyter's `normalize.less` sets `[hidden] { display: none; }`\n",
              "     but bootstrap.min.css set `[hidden] { display: none !important; }`\n",
              "     so we also need the `!important` here to be able to override the\n",
              "     default hidden behavior on the sphinx rendered scikit-learn.org.\n",
              "     See: https://github.com/scikit-learn/scikit-learn/issues/21755 */\n",
              "  display: inline-block !important;\n",
              "  position: relative;\n",
              "}\n",
              "\n",
              "#sk-container-id-1 div.sk-text-repr-fallback {\n",
              "  display: none;\n",
              "}\n",
              "\n",
              "div.sk-parallel-item,\n",
              "div.sk-serial,\n",
              "div.sk-item {\n",
              "  /* draw centered vertical line to link estimators */\n",
              "  background-image: linear-gradient(var(--sklearn-color-text-on-default-background), var(--sklearn-color-text-on-default-background));\n",
              "  background-size: 2px 100%;\n",
              "  background-repeat: no-repeat;\n",
              "  background-position: center center;\n",
              "}\n",
              "\n",
              "/* Parallel-specific style estimator block */\n",
              "\n",
              "#sk-container-id-1 div.sk-parallel-item::after {\n",
              "  content: \"\";\n",
              "  width: 100%;\n",
              "  border-bottom: 2px solid var(--sklearn-color-text-on-default-background);\n",
              "  flex-grow: 1;\n",
              "}\n",
              "\n",
              "#sk-container-id-1 div.sk-parallel {\n",
              "  display: flex;\n",
              "  align-items: stretch;\n",
              "  justify-content: center;\n",
              "  background-color: var(--sklearn-color-background);\n",
              "  position: relative;\n",
              "}\n",
              "\n",
              "#sk-container-id-1 div.sk-parallel-item {\n",
              "  display: flex;\n",
              "  flex-direction: column;\n",
              "}\n",
              "\n",
              "#sk-container-id-1 div.sk-parallel-item:first-child::after {\n",
              "  align-self: flex-end;\n",
              "  width: 50%;\n",
              "}\n",
              "\n",
              "#sk-container-id-1 div.sk-parallel-item:last-child::after {\n",
              "  align-self: flex-start;\n",
              "  width: 50%;\n",
              "}\n",
              "\n",
              "#sk-container-id-1 div.sk-parallel-item:only-child::after {\n",
              "  width: 0;\n",
              "}\n",
              "\n",
              "/* Serial-specific style estimator block */\n",
              "\n",
              "#sk-container-id-1 div.sk-serial {\n",
              "  display: flex;\n",
              "  flex-direction: column;\n",
              "  align-items: center;\n",
              "  background-color: var(--sklearn-color-background);\n",
              "  padding-right: 1em;\n",
              "  padding-left: 1em;\n",
              "}\n",
              "\n",
              "\n",
              "/* Toggleable style: style used for estimator/Pipeline/ColumnTransformer box that is\n",
              "clickable and can be expanded/collapsed.\n",
              "- Pipeline and ColumnTransformer use this feature and define the default style\n",
              "- Estimators will overwrite some part of the style using the `sk-estimator` class\n",
              "*/\n",
              "\n",
              "/* Pipeline and ColumnTransformer style (default) */\n",
              "\n",
              "#sk-container-id-1 div.sk-toggleable {\n",
              "  /* Default theme specific background. It is overwritten whether we have a\n",
              "  specific estimator or a Pipeline/ColumnTransformer */\n",
              "  background-color: var(--sklearn-color-background);\n",
              "}\n",
              "\n",
              "/* Toggleable label */\n",
              "#sk-container-id-1 label.sk-toggleable__label {\n",
              "  cursor: pointer;\n",
              "  display: flex;\n",
              "  width: 100%;\n",
              "  margin-bottom: 0;\n",
              "  padding: 0.5em;\n",
              "  box-sizing: border-box;\n",
              "  text-align: center;\n",
              "  align-items: start;\n",
              "  justify-content: space-between;\n",
              "  gap: 0.5em;\n",
              "}\n",
              "\n",
              "#sk-container-id-1 label.sk-toggleable__label .caption {\n",
              "  font-size: 0.6rem;\n",
              "  font-weight: lighter;\n",
              "  color: var(--sklearn-color-text-muted);\n",
              "}\n",
              "\n",
              "#sk-container-id-1 label.sk-toggleable__label-arrow:before {\n",
              "  /* Arrow on the left of the label */\n",
              "  content: \"▸\";\n",
              "  float: left;\n",
              "  margin-right: 0.25em;\n",
              "  color: var(--sklearn-color-icon);\n",
              "}\n",
              "\n",
              "#sk-container-id-1 label.sk-toggleable__label-arrow:hover:before {\n",
              "  color: var(--sklearn-color-text);\n",
              "}\n",
              "\n",
              "/* Toggleable content - dropdown */\n",
              "\n",
              "#sk-container-id-1 div.sk-toggleable__content {\n",
              "  max-height: 0;\n",
              "  max-width: 0;\n",
              "  overflow: hidden;\n",
              "  text-align: left;\n",
              "  /* unfitted */\n",
              "  background-color: var(--sklearn-color-unfitted-level-0);\n",
              "}\n",
              "\n",
              "#sk-container-id-1 div.sk-toggleable__content.fitted {\n",
              "  /* fitted */\n",
              "  background-color: var(--sklearn-color-fitted-level-0);\n",
              "}\n",
              "\n",
              "#sk-container-id-1 div.sk-toggleable__content pre {\n",
              "  margin: 0.2em;\n",
              "  border-radius: 0.25em;\n",
              "  color: var(--sklearn-color-text);\n",
              "  /* unfitted */\n",
              "  background-color: var(--sklearn-color-unfitted-level-0);\n",
              "}\n",
              "\n",
              "#sk-container-id-1 div.sk-toggleable__content.fitted pre {\n",
              "  /* unfitted */\n",
              "  background-color: var(--sklearn-color-fitted-level-0);\n",
              "}\n",
              "\n",
              "#sk-container-id-1 input.sk-toggleable__control:checked~div.sk-toggleable__content {\n",
              "  /* Expand drop-down */\n",
              "  max-height: 200px;\n",
              "  max-width: 100%;\n",
              "  overflow: auto;\n",
              "}\n",
              "\n",
              "#sk-container-id-1 input.sk-toggleable__control:checked~label.sk-toggleable__label-arrow:before {\n",
              "  content: \"▾\";\n",
              "}\n",
              "\n",
              "/* Pipeline/ColumnTransformer-specific style */\n",
              "\n",
              "#sk-container-id-1 div.sk-label input.sk-toggleable__control:checked~label.sk-toggleable__label {\n",
              "  color: var(--sklearn-color-text);\n",
              "  background-color: var(--sklearn-color-unfitted-level-2);\n",
              "}\n",
              "\n",
              "#sk-container-id-1 div.sk-label.fitted input.sk-toggleable__control:checked~label.sk-toggleable__label {\n",
              "  background-color: var(--sklearn-color-fitted-level-2);\n",
              "}\n",
              "\n",
              "/* Estimator-specific style */\n",
              "\n",
              "/* Colorize estimator box */\n",
              "#sk-container-id-1 div.sk-estimator input.sk-toggleable__control:checked~label.sk-toggleable__label {\n",
              "  /* unfitted */\n",
              "  background-color: var(--sklearn-color-unfitted-level-2);\n",
              "}\n",
              "\n",
              "#sk-container-id-1 div.sk-estimator.fitted input.sk-toggleable__control:checked~label.sk-toggleable__label {\n",
              "  /* fitted */\n",
              "  background-color: var(--sklearn-color-fitted-level-2);\n",
              "}\n",
              "\n",
              "#sk-container-id-1 div.sk-label label.sk-toggleable__label,\n",
              "#sk-container-id-1 div.sk-label label {\n",
              "  /* The background is the default theme color */\n",
              "  color: var(--sklearn-color-text-on-default-background);\n",
              "}\n",
              "\n",
              "/* On hover, darken the color of the background */\n",
              "#sk-container-id-1 div.sk-label:hover label.sk-toggleable__label {\n",
              "  color: var(--sklearn-color-text);\n",
              "  background-color: var(--sklearn-color-unfitted-level-2);\n",
              "}\n",
              "\n",
              "/* Label box, darken color on hover, fitted */\n",
              "#sk-container-id-1 div.sk-label.fitted:hover label.sk-toggleable__label.fitted {\n",
              "  color: var(--sklearn-color-text);\n",
              "  background-color: var(--sklearn-color-fitted-level-2);\n",
              "}\n",
              "\n",
              "/* Estimator label */\n",
              "\n",
              "#sk-container-id-1 div.sk-label label {\n",
              "  font-family: monospace;\n",
              "  font-weight: bold;\n",
              "  display: inline-block;\n",
              "  line-height: 1.2em;\n",
              "}\n",
              "\n",
              "#sk-container-id-1 div.sk-label-container {\n",
              "  text-align: center;\n",
              "}\n",
              "\n",
              "/* Estimator-specific */\n",
              "#sk-container-id-1 div.sk-estimator {\n",
              "  font-family: monospace;\n",
              "  border: 1px dotted var(--sklearn-color-border-box);\n",
              "  border-radius: 0.25em;\n",
              "  box-sizing: border-box;\n",
              "  margin-bottom: 0.5em;\n",
              "  /* unfitted */\n",
              "  background-color: var(--sklearn-color-unfitted-level-0);\n",
              "}\n",
              "\n",
              "#sk-container-id-1 div.sk-estimator.fitted {\n",
              "  /* fitted */\n",
              "  background-color: var(--sklearn-color-fitted-level-0);\n",
              "}\n",
              "\n",
              "/* on hover */\n",
              "#sk-container-id-1 div.sk-estimator:hover {\n",
              "  /* unfitted */\n",
              "  background-color: var(--sklearn-color-unfitted-level-2);\n",
              "}\n",
              "\n",
              "#sk-container-id-1 div.sk-estimator.fitted:hover {\n",
              "  /* fitted */\n",
              "  background-color: var(--sklearn-color-fitted-level-2);\n",
              "}\n",
              "\n",
              "/* Specification for estimator info (e.g. \"i\" and \"?\") */\n",
              "\n",
              "/* Common style for \"i\" and \"?\" */\n",
              "\n",
              ".sk-estimator-doc-link,\n",
              "a:link.sk-estimator-doc-link,\n",
              "a:visited.sk-estimator-doc-link {\n",
              "  float: right;\n",
              "  font-size: smaller;\n",
              "  line-height: 1em;\n",
              "  font-family: monospace;\n",
              "  background-color: var(--sklearn-color-background);\n",
              "  border-radius: 1em;\n",
              "  height: 1em;\n",
              "  width: 1em;\n",
              "  text-decoration: none !important;\n",
              "  margin-left: 0.5em;\n",
              "  text-align: center;\n",
              "  /* unfitted */\n",
              "  border: var(--sklearn-color-unfitted-level-1) 1pt solid;\n",
              "  color: var(--sklearn-color-unfitted-level-1);\n",
              "}\n",
              "\n",
              ".sk-estimator-doc-link.fitted,\n",
              "a:link.sk-estimator-doc-link.fitted,\n",
              "a:visited.sk-estimator-doc-link.fitted {\n",
              "  /* fitted */\n",
              "  border: var(--sklearn-color-fitted-level-1) 1pt solid;\n",
              "  color: var(--sklearn-color-fitted-level-1);\n",
              "}\n",
              "\n",
              "/* On hover */\n",
              "div.sk-estimator:hover .sk-estimator-doc-link:hover,\n",
              ".sk-estimator-doc-link:hover,\n",
              "div.sk-label-container:hover .sk-estimator-doc-link:hover,\n",
              ".sk-estimator-doc-link:hover {\n",
              "  /* unfitted */\n",
              "  background-color: var(--sklearn-color-unfitted-level-3);\n",
              "  color: var(--sklearn-color-background);\n",
              "  text-decoration: none;\n",
              "}\n",
              "\n",
              "div.sk-estimator.fitted:hover .sk-estimator-doc-link.fitted:hover,\n",
              ".sk-estimator-doc-link.fitted:hover,\n",
              "div.sk-label-container:hover .sk-estimator-doc-link.fitted:hover,\n",
              ".sk-estimator-doc-link.fitted:hover {\n",
              "  /* fitted */\n",
              "  background-color: var(--sklearn-color-fitted-level-3);\n",
              "  color: var(--sklearn-color-background);\n",
              "  text-decoration: none;\n",
              "}\n",
              "\n",
              "/* Span, style for the box shown on hovering the info icon */\n",
              ".sk-estimator-doc-link span {\n",
              "  display: none;\n",
              "  z-index: 9999;\n",
              "  position: relative;\n",
              "  font-weight: normal;\n",
              "  right: .2ex;\n",
              "  padding: .5ex;\n",
              "  margin: .5ex;\n",
              "  width: min-content;\n",
              "  min-width: 20ex;\n",
              "  max-width: 50ex;\n",
              "  color: var(--sklearn-color-text);\n",
              "  box-shadow: 2pt 2pt 4pt #999;\n",
              "  /* unfitted */\n",
              "  background: var(--sklearn-color-unfitted-level-0);\n",
              "  border: .5pt solid var(--sklearn-color-unfitted-level-3);\n",
              "}\n",
              "\n",
              ".sk-estimator-doc-link.fitted span {\n",
              "  /* fitted */\n",
              "  background: var(--sklearn-color-fitted-level-0);\n",
              "  border: var(--sklearn-color-fitted-level-3);\n",
              "}\n",
              "\n",
              ".sk-estimator-doc-link:hover span {\n",
              "  display: block;\n",
              "}\n",
              "\n",
              "/* \"?\"-specific style due to the `<a>` HTML tag */\n",
              "\n",
              "#sk-container-id-1 a.estimator_doc_link {\n",
              "  float: right;\n",
              "  font-size: 1rem;\n",
              "  line-height: 1em;\n",
              "  font-family: monospace;\n",
              "  background-color: var(--sklearn-color-background);\n",
              "  border-radius: 1rem;\n",
              "  height: 1rem;\n",
              "  width: 1rem;\n",
              "  text-decoration: none;\n",
              "  /* unfitted */\n",
              "  color: var(--sklearn-color-unfitted-level-1);\n",
              "  border: var(--sklearn-color-unfitted-level-1) 1pt solid;\n",
              "}\n",
              "\n",
              "#sk-container-id-1 a.estimator_doc_link.fitted {\n",
              "  /* fitted */\n",
              "  border: var(--sklearn-color-fitted-level-1) 1pt solid;\n",
              "  color: var(--sklearn-color-fitted-level-1);\n",
              "}\n",
              "\n",
              "/* On hover */\n",
              "#sk-container-id-1 a.estimator_doc_link:hover {\n",
              "  /* unfitted */\n",
              "  background-color: var(--sklearn-color-unfitted-level-3);\n",
              "  color: var(--sklearn-color-background);\n",
              "  text-decoration: none;\n",
              "}\n",
              "\n",
              "#sk-container-id-1 a.estimator_doc_link.fitted:hover {\n",
              "  /* fitted */\n",
              "  background-color: var(--sklearn-color-fitted-level-3);\n",
              "}\n",
              "</style><div id=\"sk-container-id-1\" class=\"sk-top-container\"><div class=\"sk-text-repr-fallback\"><pre>MLPClassifier(max_iter=20, random_state=42)</pre><b>In a Jupyter environment, please rerun this cell to show the HTML representation or trust the notebook. <br />On GitHub, the HTML representation is unable to render, please try loading this page with nbviewer.org.</b></div><div class=\"sk-container\" hidden><div class=\"sk-item\"><div class=\"sk-estimator fitted sk-toggleable\"><input class=\"sk-toggleable__control sk-hidden--visually\" id=\"sk-estimator-id-1\" type=\"checkbox\" checked><label for=\"sk-estimator-id-1\" class=\"sk-toggleable__label fitted sk-toggleable__label-arrow\"><div><div>MLPClassifier</div></div><div><a class=\"sk-estimator-doc-link fitted\" rel=\"noreferrer\" target=\"_blank\" href=\"https://scikit-learn.org/1.6/modules/generated/sklearn.neural_network.MLPClassifier.html\">?<span>Documentation for MLPClassifier</span></a><span class=\"sk-estimator-doc-link fitted\">i<span>Fitted</span></span></div></label><div class=\"sk-toggleable__content fitted\"><pre>MLPClassifier(max_iter=20, random_state=42)</pre></div> </div></div></div></div>"
            ]
          },
          "metadata": {},
          "execution_count": 7
        }
      ]
    },
    {
      "cell_type": "markdown",
      "source": [
        "The model is trained for 20 iterations (`max_iter=20`). This is a relatively small number of iterations to keep training time reasonable for this baseline.\n",
        "\n",
        "Next, we will evaluate the model on the validation set to understand its initial classification performance."
      ],
      "metadata": {
        "id": "vf1QhFLwljpB"
      }
    },
    {
      "cell_type": "markdown",
      "source": [
        "### 2.2 Evaluate Classification Performance\n",
        "\n",
        "After training the MLP classifier, we evaluate its performance on the validation set.\n",
        "\n",
        "We will calculate the accuracy and the F1-score to assess how well the model classifies the Fashion MNIST images.\n",
        "\n",
        "Our goal is to achieve an F1-score above 0.75 on the validation data."
      ],
      "metadata": {
        "id": "EnptPzYemQ8W"
      }
    },
    {
      "cell_type": "code",
      "source": [
        "from sklearn.metrics import accuracy_score, f1_score\n",
        "\n",
        "# Predict the labels for the validation set\n",
        "y_val_pred = mlp_clf.predict(x_val)\n",
        "\n",
        "# Calculate accuracy\n",
        "accuracy = accuracy_score(y_val, y_val_pred)\n",
        "\n",
        "# Calculate weighted F1-score to account for class imbalance\n",
        "f1 = f1_score(y_val, y_val_pred, average='weighted')\n",
        "\n",
        "print(f\"Validation Accuracy: {accuracy:.4f}\")\n",
        "print(f\"Validation F1-score: {f1:.4f}\")"
      ],
      "metadata": {
        "colab": {
          "base_uri": "https://localhost:8080/"
        },
        "id": "5ofV34XgmTh6",
        "outputId": "89bfafc7-2f8f-44ec-bca4-9ae801d25bbc"
      },
      "execution_count": 8,
      "outputs": [
        {
          "output_type": "stream",
          "name": "stdout",
          "text": [
            "Validation Accuracy: 0.8843\n",
            "Validation F1-score: 0.8829\n"
          ]
        }
      ]
    },
    {
      "cell_type": "markdown",
      "source": [
        "The accuracy metric gives the proportion of correctly classified samples.  \n",
        "The weighted F1-score balances precision and recall across all classes, which is particularly useful when classes are imbalanced.\n",
        "\n",
        "If the F1-score is below the target of 0.75, we may consider tuning the model architecture or training parameters.\n"
      ],
      "metadata": {
        "id": "D6I3o0BumXHM"
      }
    },
    {
      "cell_type": "markdown",
      "source": [
        "### 2.3 Regression on a Dummy Task\n",
        "\n",
        "In this section, we experiment with using Scikit-Learn's `MLPRegressor` to perform a regression task on the Fashion MNIST dataset.\n",
        "\n",
        "Since the dataset is primarily for classification, we create a dummy regression task where the goal is to predict the class label (an integer from 0 to 9) as a continuous value.\n",
        "\n",
        "This helps us practice regression using neural networks and evaluate the model using the R²-score.\n",
        "\n",
        "Our target is to achieve an R²-score above 0.8 on the validation set."
      ],
      "metadata": {
        "id": "bCR96Smfmji9"
      }
    },
    {
      "cell_type": "code",
      "source": [
        "from sklearn.neural_network import MLPRegressor\n",
        "\n",
        "# Initialize the MLPRegressor with one hidden layer of 100 neurons\n",
        "mlp_reg = MLPRegressor(hidden_layer_sizes=(100,), max_iter=20, random_state=42)\n",
        "\n",
        "# Train the regressor on the training data\n",
        "mlp_reg.fit(x_train_final, y_train_final)"
      ],
      "metadata": {
        "colab": {
          "base_uri": "https://localhost:8080/",
          "height": 135
        },
        "id": "_kS7JzrKml2k",
        "outputId": "7c832218-5d0d-4aec-8465-39b91c2c9920"
      },
      "execution_count": 9,
      "outputs": [
        {
          "output_type": "stream",
          "name": "stderr",
          "text": [
            "/usr/local/lib/python3.11/dist-packages/sklearn/neural_network/_multilayer_perceptron.py:691: ConvergenceWarning: Stochastic Optimizer: Maximum iterations (20) reached and the optimization hasn't converged yet.\n",
            "  warnings.warn(\n"
          ]
        },
        {
          "output_type": "execute_result",
          "data": {
            "text/plain": [
              "MLPRegressor(max_iter=20, random_state=42)"
            ],
            "text/html": [
              "<style>#sk-container-id-2 {\n",
              "  /* Definition of color scheme common for light and dark mode */\n",
              "  --sklearn-color-text: #000;\n",
              "  --sklearn-color-text-muted: #666;\n",
              "  --sklearn-color-line: gray;\n",
              "  /* Definition of color scheme for unfitted estimators */\n",
              "  --sklearn-color-unfitted-level-0: #fff5e6;\n",
              "  --sklearn-color-unfitted-level-1: #f6e4d2;\n",
              "  --sklearn-color-unfitted-level-2: #ffe0b3;\n",
              "  --sklearn-color-unfitted-level-3: chocolate;\n",
              "  /* Definition of color scheme for fitted estimators */\n",
              "  --sklearn-color-fitted-level-0: #f0f8ff;\n",
              "  --sklearn-color-fitted-level-1: #d4ebff;\n",
              "  --sklearn-color-fitted-level-2: #b3dbfd;\n",
              "  --sklearn-color-fitted-level-3: cornflowerblue;\n",
              "\n",
              "  /* Specific color for light theme */\n",
              "  --sklearn-color-text-on-default-background: var(--sg-text-color, var(--theme-code-foreground, var(--jp-content-font-color1, black)));\n",
              "  --sklearn-color-background: var(--sg-background-color, var(--theme-background, var(--jp-layout-color0, white)));\n",
              "  --sklearn-color-border-box: var(--sg-text-color, var(--theme-code-foreground, var(--jp-content-font-color1, black)));\n",
              "  --sklearn-color-icon: #696969;\n",
              "\n",
              "  @media (prefers-color-scheme: dark) {\n",
              "    /* Redefinition of color scheme for dark theme */\n",
              "    --sklearn-color-text-on-default-background: var(--sg-text-color, var(--theme-code-foreground, var(--jp-content-font-color1, white)));\n",
              "    --sklearn-color-background: var(--sg-background-color, var(--theme-background, var(--jp-layout-color0, #111)));\n",
              "    --sklearn-color-border-box: var(--sg-text-color, var(--theme-code-foreground, var(--jp-content-font-color1, white)));\n",
              "    --sklearn-color-icon: #878787;\n",
              "  }\n",
              "}\n",
              "\n",
              "#sk-container-id-2 {\n",
              "  color: var(--sklearn-color-text);\n",
              "}\n",
              "\n",
              "#sk-container-id-2 pre {\n",
              "  padding: 0;\n",
              "}\n",
              "\n",
              "#sk-container-id-2 input.sk-hidden--visually {\n",
              "  border: 0;\n",
              "  clip: rect(1px 1px 1px 1px);\n",
              "  clip: rect(1px, 1px, 1px, 1px);\n",
              "  height: 1px;\n",
              "  margin: -1px;\n",
              "  overflow: hidden;\n",
              "  padding: 0;\n",
              "  position: absolute;\n",
              "  width: 1px;\n",
              "}\n",
              "\n",
              "#sk-container-id-2 div.sk-dashed-wrapped {\n",
              "  border: 1px dashed var(--sklearn-color-line);\n",
              "  margin: 0 0.4em 0.5em 0.4em;\n",
              "  box-sizing: border-box;\n",
              "  padding-bottom: 0.4em;\n",
              "  background-color: var(--sklearn-color-background);\n",
              "}\n",
              "\n",
              "#sk-container-id-2 div.sk-container {\n",
              "  /* jupyter's `normalize.less` sets `[hidden] { display: none; }`\n",
              "     but bootstrap.min.css set `[hidden] { display: none !important; }`\n",
              "     so we also need the `!important` here to be able to override the\n",
              "     default hidden behavior on the sphinx rendered scikit-learn.org.\n",
              "     See: https://github.com/scikit-learn/scikit-learn/issues/21755 */\n",
              "  display: inline-block !important;\n",
              "  position: relative;\n",
              "}\n",
              "\n",
              "#sk-container-id-2 div.sk-text-repr-fallback {\n",
              "  display: none;\n",
              "}\n",
              "\n",
              "div.sk-parallel-item,\n",
              "div.sk-serial,\n",
              "div.sk-item {\n",
              "  /* draw centered vertical line to link estimators */\n",
              "  background-image: linear-gradient(var(--sklearn-color-text-on-default-background), var(--sklearn-color-text-on-default-background));\n",
              "  background-size: 2px 100%;\n",
              "  background-repeat: no-repeat;\n",
              "  background-position: center center;\n",
              "}\n",
              "\n",
              "/* Parallel-specific style estimator block */\n",
              "\n",
              "#sk-container-id-2 div.sk-parallel-item::after {\n",
              "  content: \"\";\n",
              "  width: 100%;\n",
              "  border-bottom: 2px solid var(--sklearn-color-text-on-default-background);\n",
              "  flex-grow: 1;\n",
              "}\n",
              "\n",
              "#sk-container-id-2 div.sk-parallel {\n",
              "  display: flex;\n",
              "  align-items: stretch;\n",
              "  justify-content: center;\n",
              "  background-color: var(--sklearn-color-background);\n",
              "  position: relative;\n",
              "}\n",
              "\n",
              "#sk-container-id-2 div.sk-parallel-item {\n",
              "  display: flex;\n",
              "  flex-direction: column;\n",
              "}\n",
              "\n",
              "#sk-container-id-2 div.sk-parallel-item:first-child::after {\n",
              "  align-self: flex-end;\n",
              "  width: 50%;\n",
              "}\n",
              "\n",
              "#sk-container-id-2 div.sk-parallel-item:last-child::after {\n",
              "  align-self: flex-start;\n",
              "  width: 50%;\n",
              "}\n",
              "\n",
              "#sk-container-id-2 div.sk-parallel-item:only-child::after {\n",
              "  width: 0;\n",
              "}\n",
              "\n",
              "/* Serial-specific style estimator block */\n",
              "\n",
              "#sk-container-id-2 div.sk-serial {\n",
              "  display: flex;\n",
              "  flex-direction: column;\n",
              "  align-items: center;\n",
              "  background-color: var(--sklearn-color-background);\n",
              "  padding-right: 1em;\n",
              "  padding-left: 1em;\n",
              "}\n",
              "\n",
              "\n",
              "/* Toggleable style: style used for estimator/Pipeline/ColumnTransformer box that is\n",
              "clickable and can be expanded/collapsed.\n",
              "- Pipeline and ColumnTransformer use this feature and define the default style\n",
              "- Estimators will overwrite some part of the style using the `sk-estimator` class\n",
              "*/\n",
              "\n",
              "/* Pipeline and ColumnTransformer style (default) */\n",
              "\n",
              "#sk-container-id-2 div.sk-toggleable {\n",
              "  /* Default theme specific background. It is overwritten whether we have a\n",
              "  specific estimator or a Pipeline/ColumnTransformer */\n",
              "  background-color: var(--sklearn-color-background);\n",
              "}\n",
              "\n",
              "/* Toggleable label */\n",
              "#sk-container-id-2 label.sk-toggleable__label {\n",
              "  cursor: pointer;\n",
              "  display: flex;\n",
              "  width: 100%;\n",
              "  margin-bottom: 0;\n",
              "  padding: 0.5em;\n",
              "  box-sizing: border-box;\n",
              "  text-align: center;\n",
              "  align-items: start;\n",
              "  justify-content: space-between;\n",
              "  gap: 0.5em;\n",
              "}\n",
              "\n",
              "#sk-container-id-2 label.sk-toggleable__label .caption {\n",
              "  font-size: 0.6rem;\n",
              "  font-weight: lighter;\n",
              "  color: var(--sklearn-color-text-muted);\n",
              "}\n",
              "\n",
              "#sk-container-id-2 label.sk-toggleable__label-arrow:before {\n",
              "  /* Arrow on the left of the label */\n",
              "  content: \"▸\";\n",
              "  float: left;\n",
              "  margin-right: 0.25em;\n",
              "  color: var(--sklearn-color-icon);\n",
              "}\n",
              "\n",
              "#sk-container-id-2 label.sk-toggleable__label-arrow:hover:before {\n",
              "  color: var(--sklearn-color-text);\n",
              "}\n",
              "\n",
              "/* Toggleable content - dropdown */\n",
              "\n",
              "#sk-container-id-2 div.sk-toggleable__content {\n",
              "  max-height: 0;\n",
              "  max-width: 0;\n",
              "  overflow: hidden;\n",
              "  text-align: left;\n",
              "  /* unfitted */\n",
              "  background-color: var(--sklearn-color-unfitted-level-0);\n",
              "}\n",
              "\n",
              "#sk-container-id-2 div.sk-toggleable__content.fitted {\n",
              "  /* fitted */\n",
              "  background-color: var(--sklearn-color-fitted-level-0);\n",
              "}\n",
              "\n",
              "#sk-container-id-2 div.sk-toggleable__content pre {\n",
              "  margin: 0.2em;\n",
              "  border-radius: 0.25em;\n",
              "  color: var(--sklearn-color-text);\n",
              "  /* unfitted */\n",
              "  background-color: var(--sklearn-color-unfitted-level-0);\n",
              "}\n",
              "\n",
              "#sk-container-id-2 div.sk-toggleable__content.fitted pre {\n",
              "  /* unfitted */\n",
              "  background-color: var(--sklearn-color-fitted-level-0);\n",
              "}\n",
              "\n",
              "#sk-container-id-2 input.sk-toggleable__control:checked~div.sk-toggleable__content {\n",
              "  /* Expand drop-down */\n",
              "  max-height: 200px;\n",
              "  max-width: 100%;\n",
              "  overflow: auto;\n",
              "}\n",
              "\n",
              "#sk-container-id-2 input.sk-toggleable__control:checked~label.sk-toggleable__label-arrow:before {\n",
              "  content: \"▾\";\n",
              "}\n",
              "\n",
              "/* Pipeline/ColumnTransformer-specific style */\n",
              "\n",
              "#sk-container-id-2 div.sk-label input.sk-toggleable__control:checked~label.sk-toggleable__label {\n",
              "  color: var(--sklearn-color-text);\n",
              "  background-color: var(--sklearn-color-unfitted-level-2);\n",
              "}\n",
              "\n",
              "#sk-container-id-2 div.sk-label.fitted input.sk-toggleable__control:checked~label.sk-toggleable__label {\n",
              "  background-color: var(--sklearn-color-fitted-level-2);\n",
              "}\n",
              "\n",
              "/* Estimator-specific style */\n",
              "\n",
              "/* Colorize estimator box */\n",
              "#sk-container-id-2 div.sk-estimator input.sk-toggleable__control:checked~label.sk-toggleable__label {\n",
              "  /* unfitted */\n",
              "  background-color: var(--sklearn-color-unfitted-level-2);\n",
              "}\n",
              "\n",
              "#sk-container-id-2 div.sk-estimator.fitted input.sk-toggleable__control:checked~label.sk-toggleable__label {\n",
              "  /* fitted */\n",
              "  background-color: var(--sklearn-color-fitted-level-2);\n",
              "}\n",
              "\n",
              "#sk-container-id-2 div.sk-label label.sk-toggleable__label,\n",
              "#sk-container-id-2 div.sk-label label {\n",
              "  /* The background is the default theme color */\n",
              "  color: var(--sklearn-color-text-on-default-background);\n",
              "}\n",
              "\n",
              "/* On hover, darken the color of the background */\n",
              "#sk-container-id-2 div.sk-label:hover label.sk-toggleable__label {\n",
              "  color: var(--sklearn-color-text);\n",
              "  background-color: var(--sklearn-color-unfitted-level-2);\n",
              "}\n",
              "\n",
              "/* Label box, darken color on hover, fitted */\n",
              "#sk-container-id-2 div.sk-label.fitted:hover label.sk-toggleable__label.fitted {\n",
              "  color: var(--sklearn-color-text);\n",
              "  background-color: var(--sklearn-color-fitted-level-2);\n",
              "}\n",
              "\n",
              "/* Estimator label */\n",
              "\n",
              "#sk-container-id-2 div.sk-label label {\n",
              "  font-family: monospace;\n",
              "  font-weight: bold;\n",
              "  display: inline-block;\n",
              "  line-height: 1.2em;\n",
              "}\n",
              "\n",
              "#sk-container-id-2 div.sk-label-container {\n",
              "  text-align: center;\n",
              "}\n",
              "\n",
              "/* Estimator-specific */\n",
              "#sk-container-id-2 div.sk-estimator {\n",
              "  font-family: monospace;\n",
              "  border: 1px dotted var(--sklearn-color-border-box);\n",
              "  border-radius: 0.25em;\n",
              "  box-sizing: border-box;\n",
              "  margin-bottom: 0.5em;\n",
              "  /* unfitted */\n",
              "  background-color: var(--sklearn-color-unfitted-level-0);\n",
              "}\n",
              "\n",
              "#sk-container-id-2 div.sk-estimator.fitted {\n",
              "  /* fitted */\n",
              "  background-color: var(--sklearn-color-fitted-level-0);\n",
              "}\n",
              "\n",
              "/* on hover */\n",
              "#sk-container-id-2 div.sk-estimator:hover {\n",
              "  /* unfitted */\n",
              "  background-color: var(--sklearn-color-unfitted-level-2);\n",
              "}\n",
              "\n",
              "#sk-container-id-2 div.sk-estimator.fitted:hover {\n",
              "  /* fitted */\n",
              "  background-color: var(--sklearn-color-fitted-level-2);\n",
              "}\n",
              "\n",
              "/* Specification for estimator info (e.g. \"i\" and \"?\") */\n",
              "\n",
              "/* Common style for \"i\" and \"?\" */\n",
              "\n",
              ".sk-estimator-doc-link,\n",
              "a:link.sk-estimator-doc-link,\n",
              "a:visited.sk-estimator-doc-link {\n",
              "  float: right;\n",
              "  font-size: smaller;\n",
              "  line-height: 1em;\n",
              "  font-family: monospace;\n",
              "  background-color: var(--sklearn-color-background);\n",
              "  border-radius: 1em;\n",
              "  height: 1em;\n",
              "  width: 1em;\n",
              "  text-decoration: none !important;\n",
              "  margin-left: 0.5em;\n",
              "  text-align: center;\n",
              "  /* unfitted */\n",
              "  border: var(--sklearn-color-unfitted-level-1) 1pt solid;\n",
              "  color: var(--sklearn-color-unfitted-level-1);\n",
              "}\n",
              "\n",
              ".sk-estimator-doc-link.fitted,\n",
              "a:link.sk-estimator-doc-link.fitted,\n",
              "a:visited.sk-estimator-doc-link.fitted {\n",
              "  /* fitted */\n",
              "  border: var(--sklearn-color-fitted-level-1) 1pt solid;\n",
              "  color: var(--sklearn-color-fitted-level-1);\n",
              "}\n",
              "\n",
              "/* On hover */\n",
              "div.sk-estimator:hover .sk-estimator-doc-link:hover,\n",
              ".sk-estimator-doc-link:hover,\n",
              "div.sk-label-container:hover .sk-estimator-doc-link:hover,\n",
              ".sk-estimator-doc-link:hover {\n",
              "  /* unfitted */\n",
              "  background-color: var(--sklearn-color-unfitted-level-3);\n",
              "  color: var(--sklearn-color-background);\n",
              "  text-decoration: none;\n",
              "}\n",
              "\n",
              "div.sk-estimator.fitted:hover .sk-estimator-doc-link.fitted:hover,\n",
              ".sk-estimator-doc-link.fitted:hover,\n",
              "div.sk-label-container:hover .sk-estimator-doc-link.fitted:hover,\n",
              ".sk-estimator-doc-link.fitted:hover {\n",
              "  /* fitted */\n",
              "  background-color: var(--sklearn-color-fitted-level-3);\n",
              "  color: var(--sklearn-color-background);\n",
              "  text-decoration: none;\n",
              "}\n",
              "\n",
              "/* Span, style for the box shown on hovering the info icon */\n",
              ".sk-estimator-doc-link span {\n",
              "  display: none;\n",
              "  z-index: 9999;\n",
              "  position: relative;\n",
              "  font-weight: normal;\n",
              "  right: .2ex;\n",
              "  padding: .5ex;\n",
              "  margin: .5ex;\n",
              "  width: min-content;\n",
              "  min-width: 20ex;\n",
              "  max-width: 50ex;\n",
              "  color: var(--sklearn-color-text);\n",
              "  box-shadow: 2pt 2pt 4pt #999;\n",
              "  /* unfitted */\n",
              "  background: var(--sklearn-color-unfitted-level-0);\n",
              "  border: .5pt solid var(--sklearn-color-unfitted-level-3);\n",
              "}\n",
              "\n",
              ".sk-estimator-doc-link.fitted span {\n",
              "  /* fitted */\n",
              "  background: var(--sklearn-color-fitted-level-0);\n",
              "  border: var(--sklearn-color-fitted-level-3);\n",
              "}\n",
              "\n",
              ".sk-estimator-doc-link:hover span {\n",
              "  display: block;\n",
              "}\n",
              "\n",
              "/* \"?\"-specific style due to the `<a>` HTML tag */\n",
              "\n",
              "#sk-container-id-2 a.estimator_doc_link {\n",
              "  float: right;\n",
              "  font-size: 1rem;\n",
              "  line-height: 1em;\n",
              "  font-family: monospace;\n",
              "  background-color: var(--sklearn-color-background);\n",
              "  border-radius: 1rem;\n",
              "  height: 1rem;\n",
              "  width: 1rem;\n",
              "  text-decoration: none;\n",
              "  /* unfitted */\n",
              "  color: var(--sklearn-color-unfitted-level-1);\n",
              "  border: var(--sklearn-color-unfitted-level-1) 1pt solid;\n",
              "}\n",
              "\n",
              "#sk-container-id-2 a.estimator_doc_link.fitted {\n",
              "  /* fitted */\n",
              "  border: var(--sklearn-color-fitted-level-1) 1pt solid;\n",
              "  color: var(--sklearn-color-fitted-level-1);\n",
              "}\n",
              "\n",
              "/* On hover */\n",
              "#sk-container-id-2 a.estimator_doc_link:hover {\n",
              "  /* unfitted */\n",
              "  background-color: var(--sklearn-color-unfitted-level-3);\n",
              "  color: var(--sklearn-color-background);\n",
              "  text-decoration: none;\n",
              "}\n",
              "\n",
              "#sk-container-id-2 a.estimator_doc_link.fitted:hover {\n",
              "  /* fitted */\n",
              "  background-color: var(--sklearn-color-fitted-level-3);\n",
              "}\n",
              "</style><div id=\"sk-container-id-2\" class=\"sk-top-container\"><div class=\"sk-text-repr-fallback\"><pre>MLPRegressor(max_iter=20, random_state=42)</pre><b>In a Jupyter environment, please rerun this cell to show the HTML representation or trust the notebook. <br />On GitHub, the HTML representation is unable to render, please try loading this page with nbviewer.org.</b></div><div class=\"sk-container\" hidden><div class=\"sk-item\"><div class=\"sk-estimator fitted sk-toggleable\"><input class=\"sk-toggleable__control sk-hidden--visually\" id=\"sk-estimator-id-2\" type=\"checkbox\" checked><label for=\"sk-estimator-id-2\" class=\"sk-toggleable__label fitted sk-toggleable__label-arrow\"><div><div>MLPRegressor</div></div><div><a class=\"sk-estimator-doc-link fitted\" rel=\"noreferrer\" target=\"_blank\" href=\"https://scikit-learn.org/1.6/modules/generated/sklearn.neural_network.MLPRegressor.html\">?<span>Documentation for MLPRegressor</span></a><span class=\"sk-estimator-doc-link fitted\">i<span>Fitted</span></span></div></label><div class=\"sk-toggleable__content fitted\"><pre>MLPRegressor(max_iter=20, random_state=42)</pre></div> </div></div></div></div>"
            ]
          },
          "metadata": {},
          "execution_count": 9
        }
      ]
    },
    {
      "cell_type": "code",
      "source": [
        "# Predict continuous outputs on the validation set\n",
        "y_val_pred_reg = mlp_reg.predict(x_val)\n",
        "\n",
        "# Calculate the R²-score\n",
        "from sklearn.metrics import r2_score\n",
        "r2 = r2_score(y_val, y_val_pred_reg)\n",
        "\n",
        "print(f\"Validation R²-score: {r2:.4f}\")"
      ],
      "metadata": {
        "colab": {
          "base_uri": "https://localhost:8080/"
        },
        "id": "hPwFIhXxmoX0",
        "outputId": "04e00fed-5ac9-42fb-bd09-007678c68474"
      },
      "execution_count": 10,
      "outputs": [
        {
          "output_type": "stream",
          "name": "stdout",
          "text": [
            "Validation R²-score: 0.8490\n"
          ]
        }
      ]
    },
    {
      "cell_type": "markdown",
      "source": [
        "Using Scikit-Learn's MLP models allowed us to quickly build and train neural networks with minimal setup.\n",
        "\n",
        "The classification model gave a straightforward way to handle the multi-class problem, while the regression model demonstrated how neural networks can also be applied to continuous output tasks.\n",
        "\n",
        "We observed that even a simple MLP with one hidden layer can achieve reasonable performance on both classification and regression tasks.\n",
        "\n",
        "However, for more complex or higher accuracy models, deep learning frameworks like Keras or PyTorch offer more flexibility and control."
      ],
      "metadata": {
        "id": "x59ve0_9mqQ5"
      }
    },
    {
      "cell_type": "markdown",
      "source": [
        "# 3. 4-Layer Feedforward Network with Keras (Sequential)\n",
        "\n",
        "## 3.1 Build a Sequential Model\n",
        "\n",
        "In this section, we build a 4-layer feedforward neural network using Keras' Sequential API.\n",
        "\n",
        "The architecture consists of:  \n",
        "- Input layer that matches the flattened image size (784 features)  \n",
        "- Three Dense hidden layers with activation functions  \n",
        "- Output layer with 10 units for classification (one per class)\n",
        "\n",
        "This simple architecture allows us to experiment with deeper networks compared to the single-layer MLP from Scikit-Learn."
      ],
      "metadata": {
        "id": "FFZGd8F5nL5P"
      }
    },
    {
      "cell_type": "code",
      "source": [
        "from tensorflow.keras.models import Sequential\n",
        "from tensorflow.keras.layers import Dense\n",
        "\n",
        "# Build the Sequential model\n",
        "model = Sequential([\n",
        "    Dense(128, activation='relu', input_shape=(784,)),  # First hidden layer\n",
        "    Dense(64, activation='relu'),                        # Second hidden layer\n",
        "    Dense(32, activation='relu'),                        # Third hidden layer\n",
        "    Dense(10, activation='softmax')                      # Output layer for 10 classes\n",
        "])\n",
        "\n",
        "# Display the model architecture summary\n",
        "model.summary()"
      ],
      "metadata": {
        "colab": {
          "base_uri": "https://localhost:8080/",
          "height": 312
        },
        "id": "260CwFxQnNri",
        "outputId": "9b753460-f576-4661-e1ef-801ed0442d96"
      },
      "execution_count": 11,
      "outputs": [
        {
          "output_type": "stream",
          "name": "stderr",
          "text": [
            "/usr/local/lib/python3.11/dist-packages/keras/src/layers/core/dense.py:87: UserWarning: Do not pass an `input_shape`/`input_dim` argument to a layer. When using Sequential models, prefer using an `Input(shape)` object as the first layer in the model instead.\n",
            "  super().__init__(activity_regularizer=activity_regularizer, **kwargs)\n"
          ]
        },
        {
          "output_type": "display_data",
          "data": {
            "text/plain": [
              "\u001b[1mModel: \"sequential\"\u001b[0m\n"
            ],
            "text/html": [
              "<pre style=\"white-space:pre;overflow-x:auto;line-height:normal;font-family:Menlo,'DejaVu Sans Mono',consolas,'Courier New',monospace\"><span style=\"font-weight: bold\">Model: \"sequential\"</span>\n",
              "</pre>\n"
            ]
          },
          "metadata": {}
        },
        {
          "output_type": "display_data",
          "data": {
            "text/plain": [
              "┏━━━━━━━━━━━━━━━━━━━━━━━━━━━━━━━━━┳━━━━━━━━━━━━━━━━━━━━━━━━┳━━━━━━━━━━━━━━━┓\n",
              "┃\u001b[1m \u001b[0m\u001b[1mLayer (type)                   \u001b[0m\u001b[1m \u001b[0m┃\u001b[1m \u001b[0m\u001b[1mOutput Shape          \u001b[0m\u001b[1m \u001b[0m┃\u001b[1m \u001b[0m\u001b[1m      Param #\u001b[0m\u001b[1m \u001b[0m┃\n",
              "┡━━━━━━━━━━━━━━━━━━━━━━━━━━━━━━━━━╇━━━━━━━━━━━━━━━━━━━━━━━━╇━━━━━━━━━━━━━━━┩\n",
              "│ dense (\u001b[38;5;33mDense\u001b[0m)                   │ (\u001b[38;5;45mNone\u001b[0m, \u001b[38;5;34m128\u001b[0m)            │       \u001b[38;5;34m100,480\u001b[0m │\n",
              "├─────────────────────────────────┼────────────────────────┼───────────────┤\n",
              "│ dense_1 (\u001b[38;5;33mDense\u001b[0m)                 │ (\u001b[38;5;45mNone\u001b[0m, \u001b[38;5;34m64\u001b[0m)             │         \u001b[38;5;34m8,256\u001b[0m │\n",
              "├─────────────────────────────────┼────────────────────────┼───────────────┤\n",
              "│ dense_2 (\u001b[38;5;33mDense\u001b[0m)                 │ (\u001b[38;5;45mNone\u001b[0m, \u001b[38;5;34m32\u001b[0m)             │         \u001b[38;5;34m2,080\u001b[0m │\n",
              "├─────────────────────────────────┼────────────────────────┼───────────────┤\n",
              "│ dense_3 (\u001b[38;5;33mDense\u001b[0m)                 │ (\u001b[38;5;45mNone\u001b[0m, \u001b[38;5;34m10\u001b[0m)             │           \u001b[38;5;34m330\u001b[0m │\n",
              "└─────────────────────────────────┴────────────────────────┴───────────────┘\n"
            ],
            "text/html": [
              "<pre style=\"white-space:pre;overflow-x:auto;line-height:normal;font-family:Menlo,'DejaVu Sans Mono',consolas,'Courier New',monospace\">┏━━━━━━━━━━━━━━━━━━━━━━━━━━━━━━━━━┳━━━━━━━━━━━━━━━━━━━━━━━━┳━━━━━━━━━━━━━━━┓\n",
              "┃<span style=\"font-weight: bold\"> Layer (type)                    </span>┃<span style=\"font-weight: bold\"> Output Shape           </span>┃<span style=\"font-weight: bold\">       Param # </span>┃\n",
              "┡━━━━━━━━━━━━━━━━━━━━━━━━━━━━━━━━━╇━━━━━━━━━━━━━━━━━━━━━━━━╇━━━━━━━━━━━━━━━┩\n",
              "│ dense (<span style=\"color: #0087ff; text-decoration-color: #0087ff\">Dense</span>)                   │ (<span style=\"color: #00d7ff; text-decoration-color: #00d7ff\">None</span>, <span style=\"color: #00af00; text-decoration-color: #00af00\">128</span>)            │       <span style=\"color: #00af00; text-decoration-color: #00af00\">100,480</span> │\n",
              "├─────────────────────────────────┼────────────────────────┼───────────────┤\n",
              "│ dense_1 (<span style=\"color: #0087ff; text-decoration-color: #0087ff\">Dense</span>)                 │ (<span style=\"color: #00d7ff; text-decoration-color: #00d7ff\">None</span>, <span style=\"color: #00af00; text-decoration-color: #00af00\">64</span>)             │         <span style=\"color: #00af00; text-decoration-color: #00af00\">8,256</span> │\n",
              "├─────────────────────────────────┼────────────────────────┼───────────────┤\n",
              "│ dense_2 (<span style=\"color: #0087ff; text-decoration-color: #0087ff\">Dense</span>)                 │ (<span style=\"color: #00d7ff; text-decoration-color: #00d7ff\">None</span>, <span style=\"color: #00af00; text-decoration-color: #00af00\">32</span>)             │         <span style=\"color: #00af00; text-decoration-color: #00af00\">2,080</span> │\n",
              "├─────────────────────────────────┼────────────────────────┼───────────────┤\n",
              "│ dense_3 (<span style=\"color: #0087ff; text-decoration-color: #0087ff\">Dense</span>)                 │ (<span style=\"color: #00d7ff; text-decoration-color: #00d7ff\">None</span>, <span style=\"color: #00af00; text-decoration-color: #00af00\">10</span>)             │           <span style=\"color: #00af00; text-decoration-color: #00af00\">330</span> │\n",
              "└─────────────────────────────────┴────────────────────────┴───────────────┘\n",
              "</pre>\n"
            ]
          },
          "metadata": {}
        },
        {
          "output_type": "display_data",
          "data": {
            "text/plain": [
              "\u001b[1m Total params: \u001b[0m\u001b[38;5;34m111,146\u001b[0m (434.16 KB)\n"
            ],
            "text/html": [
              "<pre style=\"white-space:pre;overflow-x:auto;line-height:normal;font-family:Menlo,'DejaVu Sans Mono',consolas,'Courier New',monospace\"><span style=\"font-weight: bold\"> Total params: </span><span style=\"color: #00af00; text-decoration-color: #00af00\">111,146</span> (434.16 KB)\n",
              "</pre>\n"
            ]
          },
          "metadata": {}
        },
        {
          "output_type": "display_data",
          "data": {
            "text/plain": [
              "\u001b[1m Trainable params: \u001b[0m\u001b[38;5;34m111,146\u001b[0m (434.16 KB)\n"
            ],
            "text/html": [
              "<pre style=\"white-space:pre;overflow-x:auto;line-height:normal;font-family:Menlo,'DejaVu Sans Mono',consolas,'Courier New',monospace\"><span style=\"font-weight: bold\"> Trainable params: </span><span style=\"color: #00af00; text-decoration-color: #00af00\">111,146</span> (434.16 KB)\n",
              "</pre>\n"
            ]
          },
          "metadata": {}
        },
        {
          "output_type": "display_data",
          "data": {
            "text/plain": [
              "\u001b[1m Non-trainable params: \u001b[0m\u001b[38;5;34m0\u001b[0m (0.00 B)\n"
            ],
            "text/html": [
              "<pre style=\"white-space:pre;overflow-x:auto;line-height:normal;font-family:Menlo,'DejaVu Sans Mono',consolas,'Courier New',monospace\"><span style=\"font-weight: bold\"> Non-trainable params: </span><span style=\"color: #00af00; text-decoration-color: #00af00\">0</span> (0.00 B)\n",
              "</pre>\n"
            ]
          },
          "metadata": {}
        }
      ]
    },
    {
      "cell_type": "markdown",
      "source": [
        "We use ReLU activation for the hidden layers to introduce non-linearity and softmax activation in the output layer for multi-class classification.\n",
        "\n",
        "The layer sizes (128, 64, 32) are chosen to gradually reduce dimensionality and encourage the model to learn hierarchical features."
      ],
      "metadata": {
        "id": "LtHwI-1unQ8h"
      }
    },
    {
      "cell_type": "markdown",
      "source": [
        "## 3.2 Binary Classification (Class 0 vs Others)\n",
        "\n",
        "In this section, we convert the multi-class Fashion MNIST problem into a binary classification task:  \n",
        "Classify whether an image belongs to class 0 (T-shirt/top) or not.\n",
        "\n",
        "We adjust the labels accordingly, then train the previously defined 4-layer feedforward network with a single output neuron using sigmoid activation for binary classification.\n",
        "\n",
        "Our evaluation metric will be the F1-score, with a target above 0.75."
      ],
      "metadata": {
        "id": "iVUX_UbpnTWP"
      }
    },
    {
      "cell_type": "code",
      "source": [
        "import numpy as np\n",
        "from tensorflow.keras.models import Sequential\n",
        "from tensorflow.keras.layers import Dense\n",
        "from tensorflow.keras.optimizers import Adam\n",
        "from tensorflow.keras.losses import BinaryCrossentropy\n",
        "from tensorflow.keras.metrics import Precision, Recall\n",
        "\n",
        "# Convert labels to binary: 1 if class 0, else 0\n",
        "y_train_bin = (y_train_final == 0).astype(int)\n",
        "y_val_bin = (y_val == 0).astype(int)\n",
        "\n",
        "# Build a new binary classification model\n",
        "binary_model = Sequential([\n",
        "    Dense(128, activation='relu', input_shape=(784,)),\n",
        "    Dense(64, activation='relu'),\n",
        "    Dense(32, activation='relu'),\n",
        "    Dense(1, activation='sigmoid')  # Single output neuron for binary classification\n",
        "])\n",
        "\n",
        "binary_model.compile(\n",
        "    optimizer=Adam(),\n",
        "    loss=BinaryCrossentropy(),\n",
        "    metrics=['accuracy']\n",
        ")\n",
        "\n",
        "# Train the binary classification model\n",
        "history = binary_model.fit(\n",
        "    x_train_final, y_train_bin,\n",
        "    validation_data=(x_val, y_val_bin),\n",
        "    epochs=10,\n",
        "    batch_size=64,\n",
        "    verbose=2\n",
        ")"
      ],
      "metadata": {
        "colab": {
          "base_uri": "https://localhost:8080/"
        },
        "id": "H5JC-wBInVHo",
        "outputId": "b7e2a1ef-aee5-451a-faa0-2dd7258a71a4"
      },
      "execution_count": 12,
      "outputs": [
        {
          "output_type": "stream",
          "name": "stdout",
          "text": [
            "Epoch 1/10\n",
            "750/750 - 5s - 7ms/step - accuracy: 0.9536 - loss: 0.1157 - val_accuracy: 0.9592 - val_loss: 0.0964\n",
            "Epoch 2/10\n",
            "750/750 - 4s - 5ms/step - accuracy: 0.9602 - loss: 0.0930 - val_accuracy: 0.9622 - val_loss: 0.0936\n",
            "Epoch 3/10\n",
            "750/750 - 4s - 6ms/step - accuracy: 0.9632 - loss: 0.0867 - val_accuracy: 0.9567 - val_loss: 0.1068\n",
            "Epoch 4/10\n",
            "750/750 - 3s - 4ms/step - accuracy: 0.9650 - loss: 0.0819 - val_accuracy: 0.9650 - val_loss: 0.0861\n",
            "Epoch 5/10\n",
            "750/750 - 4s - 5ms/step - accuracy: 0.9674 - loss: 0.0776 - val_accuracy: 0.9653 - val_loss: 0.0853\n",
            "Epoch 6/10\n",
            "750/750 - 3s - 4ms/step - accuracy: 0.9693 - loss: 0.0735 - val_accuracy: 0.9663 - val_loss: 0.0816\n",
            "Epoch 7/10\n",
            "750/750 - 6s - 8ms/step - accuracy: 0.9699 - loss: 0.0720 - val_accuracy: 0.9672 - val_loss: 0.0848\n",
            "Epoch 8/10\n",
            "750/750 - 5s - 7ms/step - accuracy: 0.9703 - loss: 0.0687 - val_accuracy: 0.9674 - val_loss: 0.0806\n",
            "Epoch 9/10\n",
            "750/750 - 4s - 6ms/step - accuracy: 0.9718 - loss: 0.0670 - val_accuracy: 0.9663 - val_loss: 0.0810\n",
            "Epoch 10/10\n",
            "750/750 - 3s - 5ms/step - accuracy: 0.9729 - loss: 0.0638 - val_accuracy: 0.9658 - val_loss: 0.0857\n"
          ]
        }
      ]
    },
    {
      "cell_type": "code",
      "source": [
        "# Predict on validation set and calculate F1-score\n",
        "from sklearn.metrics import f1_score\n",
        "\n",
        "y_val_pred_prob = binary_model.predict(x_val)\n",
        "y_val_pred = (y_val_pred_prob > 0.5).astype(int)\n",
        "\n",
        "f1 = f1_score(y_val_bin, y_val_pred)\n",
        "print(f\"Validation F1-score for binary classification: {f1:.4f}\")"
      ],
      "metadata": {
        "colab": {
          "base_uri": "https://localhost:8080/"
        },
        "id": "t46pM2gMnYV3",
        "outputId": "bbd4593f-6945-472d-f080-eb9fe9de7cf5"
      },
      "execution_count": 13,
      "outputs": [
        {
          "output_type": "stream",
          "name": "stdout",
          "text": [
            "\u001b[1m375/375\u001b[0m \u001b[32m━━━━━━━━━━━━━━━━━━━━\u001b[0m\u001b[37m\u001b[0m \u001b[1m1s\u001b[0m 1ms/step\n",
            "Validation F1-score for binary classification: 0.8355\n"
          ]
        }
      ]
    },
    {
      "cell_type": "markdown",
      "source": [
        "By converting the problem to binary classification, the network can focus on distinguishing one class against all others.\n",
        "\n",
        "Using sigmoid activation and binary cross-entropy loss fits this task.\n",
        "\n",
        "The F1-score balances precision and recall, which is important in binary classification, especially if classes are imbalanced.\n",
        "\n",
        "Achieving an F1-score above 0.75 indicates good performance in identifying the target class."
      ],
      "metadata": {
        "id": "-b-KTLmzneLp"
      }
    },
    {
      "cell_type": "markdown",
      "source": [
        "## 3.3 Regression Task\n",
        "\n",
        "In this section, we use the 4-layer feedforward Keras model to perform a regression task.\n",
        "\n",
        "We aim to predict the class ID (0 to 9) as a continuous numeric value based on the input images.\n",
        "\n",
        "We will evaluate the model using the R²-score, with a target above 0.8.\n",
        "\n",
        "Additionally, we will reflect on the training time, potential overfitting, and examine the loss curve to understand the model’s learning behavior."
      ],
      "metadata": {
        "id": "_qcIsaSkn5d_"
      }
    },
    {
      "cell_type": "code",
      "source": [
        "from tensorflow.keras.models import Sequential\n",
        "from tensorflow.keras.layers import Dense\n",
        "from tensorflow.keras.optimizers import Adam\n",
        "from tensorflow.keras.losses import MeanSquaredError\n",
        "import matplotlib.pyplot as plt\n",
        "\n",
        "# Build the regression model (same architecture as before, but output is a single neuron with linear activation)\n",
        "regression_model = Sequential([\n",
        "    Dense(128, activation='relu', input_shape=(784,)),\n",
        "    Dense(64, activation='relu'),\n",
        "    Dense(32, activation='relu'),\n",
        "    Dense(1, activation='linear')  # Single output neuron for regression\n",
        "])\n",
        "\n",
        "regression_model.compile(\n",
        "    optimizer=Adam(),\n",
        "    loss=MeanSquaredError(),\n",
        "    metrics=[]\n",
        ")\n",
        "\n",
        "# Train the regression model\n",
        "history = regression_model.fit(\n",
        "    x_train_final, y_train_final,\n",
        "    validation_data=(x_val, y_val),\n",
        "    epochs=30,\n",
        "    batch_size=64,\n",
        "    verbose=2\n",
        ")"
      ],
      "metadata": {
        "colab": {
          "base_uri": "https://localhost:8080/"
        },
        "id": "kgV3Eugrn8Xb",
        "outputId": "a956d953-5444-4796-c398-e43b2e3bebca"
      },
      "execution_count": 14,
      "outputs": [
        {
          "output_type": "stream",
          "name": "stderr",
          "text": [
            "/usr/local/lib/python3.11/dist-packages/keras/src/layers/core/dense.py:87: UserWarning: Do not pass an `input_shape`/`input_dim` argument to a layer. When using Sequential models, prefer using an `Input(shape)` object as the first layer in the model instead.\n",
            "  super().__init__(activity_regularizer=activity_regularizer, **kwargs)\n"
          ]
        },
        {
          "output_type": "stream",
          "name": "stdout",
          "text": [
            "Epoch 1/30\n",
            "750/750 - 5s - 6ms/step - loss: 2.3676 - val_loss: 1.6883\n",
            "Epoch 2/30\n",
            "750/750 - 3s - 4ms/step - loss: 1.5833 - val_loss: 1.5122\n",
            "Epoch 3/30\n",
            "750/750 - 3s - 4ms/step - loss: 1.4121 - val_loss: 1.3742\n",
            "Epoch 4/30\n",
            "750/750 - 4s - 5ms/step - loss: 1.3112 - val_loss: 1.3258\n",
            "Epoch 5/30\n",
            "750/750 - 4s - 6ms/step - loss: 1.2397 - val_loss: 1.2832\n",
            "Epoch 6/30\n",
            "750/750 - 4s - 6ms/step - loss: 1.1806 - val_loss: 1.2556\n",
            "Epoch 7/30\n",
            "750/750 - 5s - 7ms/step - loss: 1.1154 - val_loss: 1.2945\n",
            "Epoch 8/30\n",
            "750/750 - 5s - 6ms/step - loss: 1.0702 - val_loss: 1.1913\n",
            "Epoch 9/30\n",
            "750/750 - 3s - 4ms/step - loss: 1.0426 - val_loss: 1.2094\n",
            "Epoch 10/30\n",
            "750/750 - 4s - 5ms/step - loss: 0.9814 - val_loss: 1.1913\n",
            "Epoch 11/30\n",
            "750/750 - 5s - 7ms/step - loss: 0.9465 - val_loss: 1.2271\n",
            "Epoch 12/30\n",
            "750/750 - 3s - 3ms/step - loss: 0.9174 - val_loss: 1.1530\n",
            "Epoch 13/30\n",
            "750/750 - 7s - 9ms/step - loss: 0.8890 - val_loss: 1.1932\n",
            "Epoch 14/30\n",
            "750/750 - 4s - 5ms/step - loss: 0.8727 - val_loss: 1.1580\n",
            "Epoch 15/30\n",
            "750/750 - 5s - 7ms/step - loss: 0.8478 - val_loss: 1.1524\n",
            "Epoch 16/30\n",
            "750/750 - 5s - 7ms/step - loss: 0.8093 - val_loss: 1.1175\n",
            "Epoch 17/30\n",
            "750/750 - 5s - 7ms/step - loss: 0.7981 - val_loss: 1.3361\n",
            "Epoch 18/30\n",
            "750/750 - 6s - 8ms/step - loss: 0.7811 - val_loss: 1.1221\n",
            "Epoch 19/30\n",
            "750/750 - 3s - 4ms/step - loss: 0.7518 - val_loss: 1.1228\n",
            "Epoch 20/30\n",
            "750/750 - 5s - 7ms/step - loss: 0.7287 - val_loss: 1.1311\n",
            "Epoch 21/30\n",
            "750/750 - 6s - 8ms/step - loss: 0.7157 - val_loss: 1.1231\n",
            "Epoch 22/30\n",
            "750/750 - 5s - 7ms/step - loss: 0.6968 - val_loss: 1.1528\n",
            "Epoch 23/30\n",
            "750/750 - 6s - 8ms/step - loss: 0.6843 - val_loss: 1.1068\n",
            "Epoch 24/30\n",
            "750/750 - 3s - 4ms/step - loss: 0.6528 - val_loss: 1.1479\n",
            "Epoch 25/30\n",
            "750/750 - 5s - 6ms/step - loss: 0.6617 - val_loss: 1.0984\n",
            "Epoch 26/30\n",
            "750/750 - 6s - 9ms/step - loss: 0.6489 - val_loss: 1.1369\n",
            "Epoch 27/30\n",
            "750/750 - 3s - 3ms/step - loss: 0.6228 - val_loss: 1.1638\n",
            "Epoch 28/30\n",
            "750/750 - 6s - 9ms/step - loss: 0.6256 - val_loss: 1.1746\n",
            "Epoch 29/30\n",
            "750/750 - 5s - 6ms/step - loss: 0.6099 - val_loss: 1.1162\n",
            "Epoch 30/30\n",
            "750/750 - 4s - 6ms/step - loss: 0.5897 - val_loss: 1.1092\n"
          ]
        }
      ]
    },
    {
      "cell_type": "code",
      "source": [
        "# Predict continuous outputs on validation set\n",
        "y_val_pred_reg = regression_model.predict(x_val).flatten()\n",
        "\n",
        "# Calculate R²-score\n",
        "from sklearn.metrics import r2_score\n",
        "r2 = r2_score(y_val, y_val_pred_reg)\n",
        "\n",
        "print(f\"Validation R²-score: {r2:.4f}\")"
      ],
      "metadata": {
        "colab": {
          "base_uri": "https://localhost:8080/"
        },
        "id": "HcnIGu2koBvD",
        "outputId": "adeb0cf0-4337-49f0-d6f8-a4a46063b08d"
      },
      "execution_count": 15,
      "outputs": [
        {
          "output_type": "stream",
          "name": "stdout",
          "text": [
            "\u001b[1m375/375\u001b[0m \u001b[32m━━━━━━━━━━━━━━━━━━━━\u001b[0m\u001b[37m\u001b[0m \u001b[1m1s\u001b[0m 1ms/step\n",
            "Validation R²-score: 0.8657\n"
          ]
        }
      ]
    },
    {
      "cell_type": "code",
      "source": [
        "# Plot the training and validation loss curves\n",
        "plt.plot(history.history['loss'], label='Training Loss')\n",
        "plt.plot(history.history['val_loss'], label='Validation Loss')\n",
        "plt.xlabel('Epoch')\n",
        "plt.ylabel('Mean Squared Error Loss')\n",
        "plt.title('Training and Validation Loss Over Epochs')\n",
        "plt.legend()\n",
        "plt.show()"
      ],
      "metadata": {
        "colab": {
          "base_uri": "https://localhost:8080/",
          "height": 472
        },
        "id": "BSbZ5JNIoDvv",
        "outputId": "0d954a03-e500-4c30-ab34-74dd96c225ce"
      },
      "execution_count": 16,
      "outputs": [
        {
          "output_type": "display_data",
          "data": {
            "text/plain": [
              "<Figure size 640x480 with 1 Axes>"
            ],
            "image/png": "[encoded data removed]"
          },
          "metadata": {}
        }
      ]
    },
    {
      "cell_type": "markdown",
      "source": [
        "The training took multiple epochs to converge, as shown by the loss curves.\n",
        "\n",
        "If the validation loss starts increasing while training loss decreases, it may indicate overfitting, where the model memorizes training data instead of generalizing.\n",
        "\n",
        "The R²-score above 0.8 demonstrates that the model captures meaningful numeric patterns to predict the class ID reasonably well, even though this is a proxy regression task.\n",
        "\n",
        "This experiment highlights the flexibility of neural networks in handling both classification and regression problems with similar architectures."
      ],
      "metadata": {
        "id": "6YE1_Tgnn71t"
      }
    },
    {
      "cell_type": "markdown",
      "source": [
        "# 4. 4-Layer Feedforward Network with PyTorch\n",
        "\n",
        "## 4.1 Define the Model Architecture\n",
        "\n",
        "In this section, we implement a 4-layer feedforward neural network using PyTorch.\n",
        "\n",
        "We will define the model architecture using either `nn.Sequential` or by creating a custom class that inherits from `nn.Module`.\n",
        "\n",
        "This approach gives us more flexibility and control compared to Keras and Scikit-Learn, which is useful for advanced customization and debugging."
      ],
      "metadata": {
        "id": "ktX6TkczoSYJ"
      }
    },
    {
      "cell_type": "code",
      "source": [
        "import torch\n",
        "import torch.nn as nn\n",
        "\n",
        "# Define the 4-layer feedforward neural network using nn.Sequential\n",
        "model = nn.Sequential(\n",
        "    nn.Linear(784, 128),\n",
        "    nn.ReLU(),\n",
        "    nn.Linear(128, 64),\n",
        "    nn.ReLU(),\n",
        "    nn.Linear(64, 32),\n",
        "    nn.ReLU(),\n",
        "    nn.Linear(32, 10)  # Output layer for 10 classes\n",
        ")\n",
        "\n",
        "print(model)"
      ],
      "metadata": {
        "colab": {
          "base_uri": "https://localhost:8080/"
        },
        "id": "jpciTAbLoUbW",
        "outputId": "8a0fa236-94ad-4707-f68d-b12182e6177a"
      },
      "execution_count": 17,
      "outputs": [
        {
          "output_type": "stream",
          "name": "stdout",
          "text": [
            "Sequential(\n",
            "  (0): Linear(in_features=784, out_features=128, bias=True)\n",
            "  (1): ReLU()\n",
            "  (2): Linear(in_features=128, out_features=64, bias=True)\n",
            "  (3): ReLU()\n",
            "  (4): Linear(in_features=64, out_features=32, bias=True)\n",
            "  (5): ReLU()\n",
            "  (6): Linear(in_features=32, out_features=10, bias=True)\n",
            ")\n"
          ]
        }
      ]
    },
    {
      "cell_type": "code",
      "source": [
        "# Alternatively, define a custom model class for more flexibility\n",
        "\n",
        "class FeedforwardNN(nn.Module):\n",
        "    def __init__(self):\n",
        "        super(FeedforwardNN, self).__init__()\n",
        "        self.layer1 = nn.Linear(784, 128)\n",
        "        self.layer2 = nn.Linear(128, 64)\n",
        "        self.layer3 = nn.Linear(64, 32)\n",
        "        self.output = nn.Linear(32, 10)\n",
        "        self.relu = nn.ReLU()\n",
        "\n",
        "    def forward(self, x):\n",
        "        x = self.relu(self.layer1(x))\n",
        "        x = self.relu(self.layer2(x))\n",
        "        x = self.relu(self.layer3(x))\n",
        "        x = self.output(x)\n",
        "        return x\n",
        "\n",
        "# Instantiate the custom model\n",
        "custom_model = FeedforwardNN()\n",
        "print(custom_model)"
      ],
      "metadata": {
        "colab": {
          "base_uri": "https://localhost:8080/"
        },
        "id": "052R2TSBoXkJ",
        "outputId": "60b92582-5cca-4002-e473-fd3644874372"
      },
      "execution_count": 18,
      "outputs": [
        {
          "output_type": "stream",
          "name": "stdout",
          "text": [
            "FeedforwardNN(\n",
            "  (layer1): Linear(in_features=784, out_features=128, bias=True)\n",
            "  (layer2): Linear(in_features=128, out_features=64, bias=True)\n",
            "  (layer3): Linear(in_features=64, out_features=32, bias=True)\n",
            "  (output): Linear(in_features=32, out_features=10, bias=True)\n",
            "  (relu): ReLU()\n",
            ")\n"
          ]
        }
      ]
    },
    {
      "cell_type": "markdown",
      "source": [
        "Using `nn.Sequential` provides a simple and readable way to stack layers sequentially, which is sufficient for straightforward architectures.\n",
        "\n",
        "Defining a custom `nn.Module` class gives more flexibility, allowing us to modify the forward pass logic if needed, and is preferred for more complex models.\n",
        "\n",
        "Both models have the same architecture: input layer, three hidden layers with ReLU activations, and an output layer for 10-class classification."
      ],
      "metadata": {
        "id": "cq6xSfE1oc0i"
      }
    },
    {
      "cell_type": "markdown",
      "source": [
        "## 4.2 Training the Classifier\n",
        "\n",
        "In this section, we train the 4-layer feedforward network defined with PyTorch for multi-class classification on the Fashion MNIST dataset.\n",
        "\n",
        "We use `CrossEntropyLoss` as the loss function, which is appropriate for multi-class classification tasks where targets are class indices.\n",
        "\n",
        "After training, we evaluate the model using the F1-score, aiming for a score above 0.75.\n",
        "\n",
        "We will also convert the dataset into PyTorch tensors and create DataLoader objects for batch processing during training."
      ],
      "metadata": {
        "id": "9-usKjdRox1K"
      }
    },
    {
      "cell_type": "code",
      "source": [
        "import torch.optim as optim\n",
        "from torch.utils.data import DataLoader, TensorDataset\n",
        "from sklearn.metrics import f1_score\n",
        "\n",
        "# Convert numpy arrays to PyTorch tensors\n",
        "x_train_tensor = torch.tensor(x_train_final, dtype=torch.float32)\n",
        "y_train_tensor = torch.tensor(y_train_final, dtype=torch.long)\n",
        "x_val_tensor = torch.tensor(x_val, dtype=torch.float32)\n",
        "y_val_tensor = torch.tensor(y_val, dtype=torch.long)\n",
        "\n",
        "# Create DataLoader for training\n",
        "train_dataset = TensorDataset(x_train_tensor, y_train_tensor)\n",
        "train_loader = DataLoader(train_dataset, batch_size=64, shuffle=True)\n",
        "\n",
        "val_dataset = TensorDataset(x_val_tensor, y_val_tensor)\n",
        "val_loader = DataLoader(val_dataset, batch_size=64)\n",
        "\n",
        "# Instantiate model, loss function, and optimizer\n",
        "device = torch.device('cuda' if torch.cuda.is_available() else 'cpu')\n",
        "model = FeedforwardNN().to(device)\n",
        "\n",
        "criterion = nn.CrossEntropyLoss()\n",
        "optimizer = optim.Adam(model.parameters())\n",
        "\n",
        "# Training loop\n",
        "num_epochs = 15\n",
        "model.train()\n",
        "\n",
        "for epoch in range(num_epochs):\n",
        "    running_loss = 0.0\n",
        "    for inputs, labels in train_loader:\n",
        "        inputs, labels = inputs.to(device), labels.to(device)\n",
        "\n",
        "        optimizer.zero_grad()\n",
        "        outputs = model(inputs)\n",
        "        loss = criterion(outputs, labels)\n",
        "        loss.backward()\n",
        "        optimizer.step()\n",
        "\n",
        "        running_loss += loss.item() * inputs.size(0)\n",
        "\n",
        "    epoch_loss = running_loss / len(train_loader.dataset)\n",
        "    print(f\"Epoch {epoch+1}/{num_epochs}, Loss: {epoch_loss:.4f}\")"
      ],
      "metadata": {
        "colab": {
          "base_uri": "https://localhost:8080/"
        },
        "id": "zPBTtqIBozvp",
        "outputId": "3478333c-c603-4e72-d96f-bf60be886ad3"
      },
      "execution_count": 19,
      "outputs": [
        {
          "output_type": "stream",
          "name": "stdout",
          "text": [
            "Epoch 1/15, Loss: 0.6593\n",
            "Epoch 2/15, Loss: 0.4224\n",
            "Epoch 3/15, Loss: 0.3770\n",
            "Epoch 4/15, Loss: 0.3491\n",
            "Epoch 5/15, Loss: 0.3243\n",
            "Epoch 6/15, Loss: 0.3096\n",
            "Epoch 7/15, Loss: 0.2931\n",
            "Epoch 8/15, Loss: 0.2815\n",
            "Epoch 9/15, Loss: 0.2718\n",
            "Epoch 10/15, Loss: 0.2599\n",
            "Epoch 11/15, Loss: 0.2530\n",
            "Epoch 12/15, Loss: 0.2438\n",
            "Epoch 13/15, Loss: 0.2354\n",
            "Epoch 14/15, Loss: 0.2264\n",
            "Epoch 15/15, Loss: 0.2180\n"
          ]
        }
      ]
    },
    {
      "cell_type": "code",
      "source": [
        "# Evaluation on validation set\n",
        "model.eval()\n",
        "y_val_preds = []\n",
        "y_val_true = []\n",
        "\n",
        "with torch.no_grad():\n",
        "    for inputs, labels in val_loader:\n",
        "        inputs = inputs.to(device)\n",
        "        outputs = model(inputs)\n",
        "        _, predicted = torch.max(outputs, 1)\n",
        "        y_val_preds.extend(predicted.cpu().numpy())\n",
        "        y_val_true.extend(labels.numpy())\n",
        "\n",
        "# Calculate F1-score\n",
        "f1 = f1_score(y_val_true, y_val_preds, average='weighted')\n",
        "print(f\"Validation F1-score: {f1:.4f}\")"
      ],
      "metadata": {
        "colab": {
          "base_uri": "https://localhost:8080/"
        },
        "id": "rHtk7xTfo39I",
        "outputId": "11bd5dc6-ca71-4711-a46e-178db8f5a88b"
      },
      "execution_count": 20,
      "outputs": [
        {
          "output_type": "stream",
          "name": "stdout",
          "text": [
            "Validation F1-score: 0.8836\n"
          ]
        }
      ]
    },
    {
      "cell_type": "markdown",
      "source": [
        "Training the PyTorch model with batches and GPU acceleration (if available) allows efficient learning on large datasets.\n",
        "\n",
        "CrossEntropyLoss combines `LogSoftmax` and negative log likelihood loss in one step, which is suitable for multi-class classification with integer labels.\n",
        "\n",
        "The weighted F1-score accounts for class imbalance by computing the average weighted by support (number of true instances per class).\n",
        "\n",
        "Achieving an F1-score above 0.75 demonstrates that our PyTorch model successfully learned to classify Fashion MNIST images."
      ],
      "metadata": {
        "id": "HaAEb0Kao3Of"
      }
    },
    {
      "cell_type": "markdown",
      "source": [
        "## 4.3 Training the Regressor\n",
        "\n",
        "In this section, we train the same 4-layer feedforward network architecture in PyTorch for a regression task.\n",
        "\n",
        "We will use Mean Squared Error Loss (`MSELoss`), which is appropriate for regression problems.\n",
        "\n",
        "The target will be the numeric class labels, and we aim to achieve an R²-score above 0.8 on the test set.\n",
        "\n",
        "We will also reflect on differences in model flexibility and control between PyTorch and Keras."
      ],
      "metadata": {
        "id": "BWSn67EbpH_k"
      }
    },
    {
      "cell_type": "code",
      "source": [
        "from sklearn.metrics import r2_score\n",
        "\n",
        "# Modify the model output layer for regression: output dimension = 1\n",
        "class FeedforwardNNRegressor(nn.Module):\n",
        "    def __init__(self):\n",
        "        super(FeedforwardNNRegressor, self).__init__()\n",
        "        self.layer1 = nn.Linear(784, 128)\n",
        "        self.layer2 = nn.Linear(128, 64)\n",
        "        self.layer3 = nn.Linear(64, 32)\n",
        "        self.output = nn.Linear(32, 1)\n",
        "        self.relu = nn.ReLU()\n",
        "\n",
        "    def forward(self, x):\n",
        "        x = self.relu(self.layer1(x))\n",
        "        x = self.relu(self.layer2(x))\n",
        "        x = self.relu(self.layer3(x))\n",
        "        x = self.output(x)\n",
        "        return x\n",
        "\n",
        "# Instantiate the regression model and move to device\n",
        "regressor = FeedforwardNNRegressor().to(device)\n",
        "\n",
        "# Prepare regression targets as float tensors\n",
        "y_train_reg = torch.tensor(y_train_final.reshape(-1, 1), dtype=torch.float32).to(device)\n",
        "y_val_reg = torch.tensor(y_val.reshape(-1, 1), dtype=torch.float32).to(device)\n",
        "\n",
        "# Create DataLoader for regression training\n",
        "train_dataset_reg = TensorDataset(x_train_tensor, y_train_reg)\n",
        "train_loader_reg = DataLoader(train_dataset_reg, batch_size=64, shuffle=True)\n",
        "\n",
        "val_dataset_reg = TensorDataset(x_val_tensor, y_val_reg)\n",
        "val_loader_reg = DataLoader(val_dataset_reg, batch_size=64)\n",
        "\n",
        "# Loss and optimizer for regression\n",
        "criterion_reg = nn.MSELoss()\n",
        "optimizer_reg = optim.Adam(regressor.parameters())\n",
        "\n",
        "# Training loop for regression\n",
        "num_epochs = 15\n",
        "regressor.train()\n",
        "\n",
        "for epoch in range(num_epochs):\n",
        "    running_loss = 0.0\n",
        "    for inputs, targets in train_loader_reg:\n",
        "        inputs, targets = inputs.to(device), targets.to(device)\n",
        "\n",
        "        optimizer_reg.zero_grad()\n",
        "        outputs = regressor(inputs)\n",
        "        loss = criterion_reg(outputs, targets)\n",
        "        loss.backward()\n",
        "        optimizer_reg.step()\n",
        "\n",
        "        running_loss += loss.item() * inputs.size(0)\n",
        "\n",
        "    epoch_loss = running_loss / len(train_loader_reg.dataset)\n",
        "    print(f\"Epoch {epoch+1}/{num_epochs}, MSE Loss: {epoch_loss:.4f}\")"
      ],
      "metadata": {
        "colab": {
          "base_uri": "https://localhost:8080/"
        },
        "id": "vyP5tzIZpKmi",
        "outputId": "0a899525-3085-426a-ceed-40e88ae7cdf4"
      },
      "execution_count": 21,
      "outputs": [
        {
          "output_type": "stream",
          "name": "stdout",
          "text": [
            "Epoch 1/15, MSE Loss: 2.8778\n",
            "Epoch 2/15, MSE Loss: 1.6724\n",
            "Epoch 3/15, MSE Loss: 1.4885\n",
            "Epoch 4/15, MSE Loss: 1.3749\n",
            "Epoch 5/15, MSE Loss: 1.3044\n",
            "Epoch 6/15, MSE Loss: 1.2234\n",
            "Epoch 7/15, MSE Loss: 1.1571\n",
            "Epoch 8/15, MSE Loss: 1.1087\n",
            "Epoch 9/15, MSE Loss: 1.0604\n",
            "Epoch 10/15, MSE Loss: 1.0134\n",
            "Epoch 11/15, MSE Loss: 0.9675\n",
            "Epoch 12/15, MSE Loss: 0.9401\n",
            "Epoch 13/15, MSE Loss: 0.9287\n",
            "Epoch 14/15, MSE Loss: 0.9045\n",
            "Epoch 15/15, MSE Loss: 0.8787\n"
          ]
        }
      ]
    },
    {
      "cell_type": "code",
      "source": [
        "# Evaluate regression performance on validation set\n",
        "regressor.eval()\n",
        "y_val_preds_reg = []\n",
        "\n",
        "with torch.no_grad():\n",
        "    for inputs, targets in val_loader_reg:\n",
        "        inputs = inputs.to(device)\n",
        "        outputs = regressor(inputs)\n",
        "        y_val_preds_reg.extend(outputs.cpu().numpy())\n",
        "\n",
        "y_val_preds_reg = np.array(y_val_preds_reg).flatten()\n",
        "r2 = r2_score(y_val, y_val_preds_reg)\n",
        "print(f\"Validation R²-score: {r2:.4f}\")"
      ],
      "metadata": {
        "colab": {
          "base_uri": "https://localhost:8080/"
        },
        "id": "U3WoTRnQpOJ5",
        "outputId": "d3b0ae91-db68-4517-90aa-cde221d03fe5"
      },
      "execution_count": 22,
      "outputs": [
        {
          "output_type": "stream",
          "name": "stdout",
          "text": [
            "Validation R²-score: 0.8572\n"
          ]
        }
      ]
    },
    {
      "cell_type": "markdown",
      "source": [
        "Using PyTorch for regression tasks provides fine-grained control over the model definition and training process, which can be more flexible compared to Keras's higher-level abstractions.\n",
        "\n",
        "PyTorch requires more explicit management of tensors, device placement, and training loops, but this also allows customization of loss functions, optimizers, and dynamic architectures.\n",
        "\n",
        "Achieving an R²-score above 0.8 indicates that the model can predict the class numbers reasonably well in a regression setting, showing the model's capability beyond classification.\n",
        "\n",
        "This flexibility is advantageous when experimenting with novel architectures or training procedures, although it comes with a steeper learning curve compared to Keras."
      ],
      "metadata": {
        "id": "qOz4CUglpQAM"
      }
    },
    {
      "cell_type": "markdown",
      "source": [
        "# 5. 4-Layer Non-Sequential Feedforward Network with Keras\n",
        "## 5.1 Functional API Model\n",
        "\n",
        "In this section, we will define a 4-layer feedforward neural network using Keras's Functional API.\n",
        "\n",
        "Unlike the Sequential API, the Functional API allows more flexibility in building complex models by explicitly specifying inputs and outputs, which is useful for creating non-linear architectures, shared layers, or models with multiple inputs and outputs.\n",
        "\n",
        "Here, we will build a simple 4-layer fully connected network using this approach."
      ],
      "metadata": {
        "id": "kFykiPr8pgCx"
      }
    },
    {
      "cell_type": "code",
      "source": [
        "from tensorflow.keras.layers import Input, Dense\n",
        "from tensorflow.keras.models import Model\n",
        "\n",
        "# Define the input layer with shape matching the flattened input (784,)\n",
        "inputs = Input(shape=(784,))\n",
        "\n",
        "# Define the 4 fully connected layers with ReLU activations\n",
        "x = Dense(128, activation='relu')(inputs)\n",
        "x = Dense(64, activation='relu')(x)\n",
        "x = Dense(32, activation='relu')(x)\n",
        "\n",
        "# Output layer for classification with 10 classes and softmax activation\n",
        "outputs = Dense(10, activation='softmax')(x)\n",
        "\n",
        "# Create the model by specifying inputs and outputs\n",
        "functional_model = Model(inputs=inputs, outputs=outputs)\n",
        "\n",
        "# Print the model summary to verify the architecture\n",
        "functional_model.summary()"
      ],
      "metadata": {
        "colab": {
          "base_uri": "https://localhost:8080/",
          "height": 289
        },
        "id": "RSKsPZkvpiFP",
        "outputId": "cd5b7ab3-4394-4fc5-af01-9c0a594f06af"
      },
      "execution_count": 23,
      "outputs": [
        {
          "output_type": "display_data",
          "data": {
            "text/plain": [
              "\u001b[1mModel: \"functional_3\"\u001b[0m\n"
            ],
            "text/html": [
              "<pre style=\"white-space:pre;overflow-x:auto;line-height:normal;font-family:Menlo,'DejaVu Sans Mono',consolas,'Courier New',monospace\"><span style=\"font-weight: bold\">Model: \"functional_3\"</span>\n",
              "</pre>\n"
            ]
          },
          "metadata": {}
        },
        {
          "output_type": "display_data",
          "data": {
            "text/plain": [
              "┏━━━━━━━━━━━━━━━━━━━━━━━━━━━━━━━━━┳━━━━━━━━━━━━━━━━━━━━━━━━┳━━━━━━━━━━━━━━━┓\n",
              "┃\u001b[1m \u001b[0m\u001b[1mLayer (type)                   \u001b[0m\u001b[1m \u001b[0m┃\u001b[1m \u001b[0m\u001b[1mOutput Shape          \u001b[0m\u001b[1m \u001b[0m┃\u001b[1m \u001b[0m\u001b[1m      Param #\u001b[0m\u001b[1m \u001b[0m┃\n",
              "┡━━━━━━━━━━━━━━━━━━━━━━━━━━━━━━━━━╇━━━━━━━━━━━━━━━━━━━━━━━━╇━━━━━━━━━━━━━━━┩\n",
              "│ input_layer_3 (\u001b[38;5;33mInputLayer\u001b[0m)      │ (\u001b[38;5;45mNone\u001b[0m, \u001b[38;5;34m784\u001b[0m)            │             \u001b[38;5;34m0\u001b[0m │\n",
              "├─────────────────────────────────┼────────────────────────┼───────────────┤\n",
              "│ dense_12 (\u001b[38;5;33mDense\u001b[0m)                │ (\u001b[38;5;45mNone\u001b[0m, \u001b[38;5;34m128\u001b[0m)            │       \u001b[38;5;34m100,480\u001b[0m │\n",
              "├─────────────────────────────────┼────────────────────────┼───────────────┤\n",
              "│ dense_13 (\u001b[38;5;33mDense\u001b[0m)                │ (\u001b[38;5;45mNone\u001b[0m, \u001b[38;5;34m64\u001b[0m)             │         \u001b[38;5;34m8,256\u001b[0m │\n",
              "├─────────────────────────────────┼────────────────────────┼───────────────┤\n",
              "│ dense_14 (\u001b[38;5;33mDense\u001b[0m)                │ (\u001b[38;5;45mNone\u001b[0m, \u001b[38;5;34m32\u001b[0m)             │         \u001b[38;5;34m2,080\u001b[0m │\n",
              "├─────────────────────────────────┼────────────────────────┼───────────────┤\n",
              "│ dense_15 (\u001b[38;5;33mDense\u001b[0m)                │ (\u001b[38;5;45mNone\u001b[0m, \u001b[38;5;34m10\u001b[0m)             │           \u001b[38;5;34m330\u001b[0m │\n",
              "└─────────────────────────────────┴────────────────────────┴───────────────┘\n"
            ],
            "text/html": [
              "<pre style=\"white-space:pre;overflow-x:auto;line-height:normal;font-family:Menlo,'DejaVu Sans Mono',consolas,'Courier New',monospace\">┏━━━━━━━━━━━━━━━━━━━━━━━━━━━━━━━━━┳━━━━━━━━━━━━━━━━━━━━━━━━┳━━━━━━━━━━━━━━━┓\n",
              "┃<span style=\"font-weight: bold\"> Layer (type)                    </span>┃<span style=\"font-weight: bold\"> Output Shape           </span>┃<span style=\"font-weight: bold\">       Param # </span>┃\n",
              "┡━━━━━━━━━━━━━━━━━━━━━━━━━━━━━━━━━╇━━━━━━━━━━━━━━━━━━━━━━━━╇━━━━━━━━━━━━━━━┩\n",
              "│ input_layer_3 (<span style=\"color: #0087ff; text-decoration-color: #0087ff\">InputLayer</span>)      │ (<span style=\"color: #00d7ff; text-decoration-color: #00d7ff\">None</span>, <span style=\"color: #00af00; text-decoration-color: #00af00\">784</span>)            │             <span style=\"color: #00af00; text-decoration-color: #00af00\">0</span> │\n",
              "├─────────────────────────────────┼────────────────────────┼───────────────┤\n",
              "│ dense_12 (<span style=\"color: #0087ff; text-decoration-color: #0087ff\">Dense</span>)                │ (<span style=\"color: #00d7ff; text-decoration-color: #00d7ff\">None</span>, <span style=\"color: #00af00; text-decoration-color: #00af00\">128</span>)            │       <span style=\"color: #00af00; text-decoration-color: #00af00\">100,480</span> │\n",
              "├─────────────────────────────────┼────────────────────────┼───────────────┤\n",
              "│ dense_13 (<span style=\"color: #0087ff; text-decoration-color: #0087ff\">Dense</span>)                │ (<span style=\"color: #00d7ff; text-decoration-color: #00d7ff\">None</span>, <span style=\"color: #00af00; text-decoration-color: #00af00\">64</span>)             │         <span style=\"color: #00af00; text-decoration-color: #00af00\">8,256</span> │\n",
              "├─────────────────────────────────┼────────────────────────┼───────────────┤\n",
              "│ dense_14 (<span style=\"color: #0087ff; text-decoration-color: #0087ff\">Dense</span>)                │ (<span style=\"color: #00d7ff; text-decoration-color: #00d7ff\">None</span>, <span style=\"color: #00af00; text-decoration-color: #00af00\">32</span>)             │         <span style=\"color: #00af00; text-decoration-color: #00af00\">2,080</span> │\n",
              "├─────────────────────────────────┼────────────────────────┼───────────────┤\n",
              "│ dense_15 (<span style=\"color: #0087ff; text-decoration-color: #0087ff\">Dense</span>)                │ (<span style=\"color: #00d7ff; text-decoration-color: #00d7ff\">None</span>, <span style=\"color: #00af00; text-decoration-color: #00af00\">10</span>)             │           <span style=\"color: #00af00; text-decoration-color: #00af00\">330</span> │\n",
              "└─────────────────────────────────┴────────────────────────┴───────────────┘\n",
              "</pre>\n"
            ]
          },
          "metadata": {}
        },
        {
          "output_type": "display_data",
          "data": {
            "text/plain": [
              "\u001b[1m Total params: \u001b[0m\u001b[38;5;34m111,146\u001b[0m (434.16 KB)\n"
            ],
            "text/html": [
              "<pre style=\"white-space:pre;overflow-x:auto;line-height:normal;font-family:Menlo,'DejaVu Sans Mono',consolas,'Courier New',monospace\"><span style=\"font-weight: bold\"> Total params: </span><span style=\"color: #00af00; text-decoration-color: #00af00\">111,146</span> (434.16 KB)\n",
              "</pre>\n"
            ]
          },
          "metadata": {}
        },
        {
          "output_type": "display_data",
          "data": {
            "text/plain": [
              "\u001b[1m Trainable params: \u001b[0m\u001b[38;5;34m111,146\u001b[0m (434.16 KB)\n"
            ],
            "text/html": [
              "<pre style=\"white-space:pre;overflow-x:auto;line-height:normal;font-family:Menlo,'DejaVu Sans Mono',consolas,'Courier New',monospace\"><span style=\"font-weight: bold\"> Trainable params: </span><span style=\"color: #00af00; text-decoration-color: #00af00\">111,146</span> (434.16 KB)\n",
              "</pre>\n"
            ]
          },
          "metadata": {}
        },
        {
          "output_type": "display_data",
          "data": {
            "text/plain": [
              "\u001b[1m Non-trainable params: \u001b[0m\u001b[38;5;34m0\u001b[0m (0.00 B)\n"
            ],
            "text/html": [
              "<pre style=\"white-space:pre;overflow-x:auto;line-height:normal;font-family:Menlo,'DejaVu Sans Mono',consolas,'Courier New',monospace\"><span style=\"font-weight: bold\"> Non-trainable params: </span><span style=\"color: #00af00; text-decoration-color: #00af00\">0</span> (0.00 B)\n",
              "</pre>\n"
            ]
          },
          "metadata": {}
        }
      ]
    },
    {
      "cell_type": "markdown",
      "source": [
        "## 5.2 Binary Classification\n",
        "\n",
        "In this section, we will perform binary classification using the Functional API model, distinguishing class 0 from all other classes.\n",
        "\n",
        "We will create consistent training and validation splits from the original training data, then train and evaluate the model, reporting the F1-score with the goal of exceeding 0.75.\n",
        "\n",
        "Careful handling of data splits is essential to ensure that the input features and labels have matching numbers of samples to avoid errors."
      ],
      "metadata": {
        "id": "GdKMQwS2p5Lj"
      }
    },
    {
      "cell_type": "code",
      "source": [
        "from sklearn.metrics import f1_score\n",
        "import numpy as np\n",
        "from sklearn.model_selection import train_test_split\n",
        "\n",
        "# Note: We need to use the original training set (x_train_final, y_train_final) here,\n",
        "# because x_train was previously split for other tasks and may cause size mismatch.\n",
        "\n",
        "# Split the original training data (from the initial preprocessing step) into training and validation sets (80%-20%)\n",
        "x_train_split, x_val, y_train_split, y_val = train_test_split(\n",
        "    x_train_final, y_train_final, test_size=0.2, random_state=42, stratify=y_train_final)\n",
        "\n",
        "# Prepare binary labels for the split sets: class 0 vs others\n",
        "y_train_binary = (y_train_split == 0).astype(int)\n",
        "y_val_binary = (y_val == 0).astype(int)\n",
        "\n",
        "# Define input layer again to avoid confusion (input shape must match flattened input size)\n",
        "from tensorflow.keras.layers import Input, Dense\n",
        "from tensorflow.keras.models import Model\n",
        "\n",
        "input_shape = x_train_split.shape[1]  # number of features after flattening\n",
        "\n",
        "inputs = Input(shape=(input_shape,))\n",
        "x = Dense(128, activation='relu')(inputs)\n",
        "x = Dense(64, activation='relu')(x)\n",
        "x = Dense(32, activation='relu')(x)\n",
        "\n",
        "# Output layer for binary classification\n",
        "outputs_binary = Dense(1, activation='sigmoid')(x)\n",
        "binary_model = Model(inputs=inputs, outputs=outputs_binary)\n",
        "\n",
        "# Compile the model\n",
        "binary_model.compile(optimizer='adam',\n",
        "                     loss='binary_crossentropy',\n",
        "                     metrics=['accuracy'])\n",
        "\n",
        "# Train the model\n",
        "history_binary = binary_model.fit(x_train_split, y_train_binary,\n",
        "                                  validation_data=(x_val, y_val_binary),\n",
        "                                  epochs=15,\n",
        "                                  batch_size=64,\n",
        "                                  verbose=2)\n",
        "\n",
        "# Predict on validation data and calculate F1-score\n",
        "y_val_pred_prob = binary_model.predict(x_val)\n",
        "y_val_pred = (y_val_pred_prob > 0.5).astype(int).flatten()\n",
        "\n",
        "f1 = f1_score(y_val_binary, y_val_pred)\n",
        "print(f\"Validation F1-score (binary classification): {f1:.4f}\")"
      ],
      "metadata": {
        "colab": {
          "base_uri": "https://localhost:8080/"
        },
        "id": "-0euWfMap62i",
        "outputId": "2f671e81-059a-4761-9e1c-95d4075f50f3"
      },
      "execution_count": 29,
      "outputs": [
        {
          "output_type": "stream",
          "name": "stdout",
          "text": [
            "Epoch 1/15\n",
            "600/600 - 4s - 7ms/step - accuracy: 0.9553 - loss: 0.1151 - val_accuracy: 0.9604 - val_loss: 0.0942\n",
            "Epoch 2/15\n",
            "600/600 - 2s - 4ms/step - accuracy: 0.9610 - loss: 0.0949 - val_accuracy: 0.9638 - val_loss: 0.0869\n",
            "Epoch 3/15\n",
            "600/600 - 2s - 4ms/step - accuracy: 0.9635 - loss: 0.0879 - val_accuracy: 0.9558 - val_loss: 0.0996\n",
            "Epoch 4/15\n",
            "600/600 - 4s - 6ms/step - accuracy: 0.9638 - loss: 0.0856 - val_accuracy: 0.9668 - val_loss: 0.0829\n",
            "Epoch 5/15\n",
            "600/600 - 6s - 10ms/step - accuracy: 0.9674 - loss: 0.0795 - val_accuracy: 0.9603 - val_loss: 0.0898\n",
            "Epoch 6/15\n",
            "600/600 - 4s - 6ms/step - accuracy: 0.9672 - loss: 0.0784 - val_accuracy: 0.9610 - val_loss: 0.0898\n",
            "Epoch 7/15\n",
            "600/600 - 2s - 4ms/step - accuracy: 0.9695 - loss: 0.0731 - val_accuracy: 0.9672 - val_loss: 0.0774\n",
            "Epoch 8/15\n",
            "600/600 - 4s - 6ms/step - accuracy: 0.9708 - loss: 0.0699 - val_accuracy: 0.9660 - val_loss: 0.0820\n",
            "Epoch 9/15\n",
            "600/600 - 2s - 4ms/step - accuracy: 0.9699 - loss: 0.0704 - val_accuracy: 0.9684 - val_loss: 0.0812\n",
            "Epoch 10/15\n",
            "600/600 - 3s - 4ms/step - accuracy: 0.9717 - loss: 0.0667 - val_accuracy: 0.9659 - val_loss: 0.0778\n",
            "Epoch 11/15\n",
            "600/600 - 3s - 4ms/step - accuracy: 0.9734 - loss: 0.0621 - val_accuracy: 0.9660 - val_loss: 0.0844\n",
            "Epoch 12/15\n",
            "600/600 - 2s - 4ms/step - accuracy: 0.9741 - loss: 0.0610 - val_accuracy: 0.9664 - val_loss: 0.0785\n",
            "Epoch 13/15\n",
            "600/600 - 4s - 6ms/step - accuracy: 0.9752 - loss: 0.0580 - val_accuracy: 0.9686 - val_loss: 0.0831\n",
            "Epoch 14/15\n",
            "600/600 - 4s - 7ms/step - accuracy: 0.9754 - loss: 0.0579 - val_accuracy: 0.9663 - val_loss: 0.0868\n",
            "Epoch 15/15\n",
            "600/600 - 3s - 4ms/step - accuracy: 0.9764 - loss: 0.0554 - val_accuracy: 0.9657 - val_loss: 0.0827\n",
            "\u001b[1m300/300\u001b[0m \u001b[32m━━━━━━━━━━━━━━━━━━━━\u001b[0m\u001b[37m\u001b[0m \u001b[1m0s\u001b[0m 1ms/step\n",
            "Validation F1-score (binary classification): 0.8326\n"
          ]
        }
      ]
    },
    {
      "cell_type": "markdown",
      "source": [
        "## 5.3 Regression Task\n",
        "\n",
        "In this section, we will use the 4-layer non-sequential feedforward network built with Keras Functional API to perform a regression task.\n",
        "\n",
        "The goal is to predict the numeric class label from the input images and achieve an R²-score above 0.8 on the validation set.\n",
        "\n",
        "Using the Functional API allows us to design more flexible architectures than simple sequential models, such as implementing branching, skip connections, or multiple inputs/outputs, which can be advantageous for complex tasks.\n",
        "\n",
        "We will train the model using mean squared error loss and evaluate its performance using the R² metric."
      ],
      "metadata": {
        "id": "8gBz5ZXzre2O"
      }
    },
    {
      "cell_type": "code",
      "source": [
        "from sklearn.metrics import r2_score\n",
        "\n",
        "# Convert class labels to float for regression task\n",
        "y_train_reg = y_train_split.astype(float)\n",
        "y_val_reg = y_val.astype(float)\n",
        "\n",
        "# Define the model for regression (reuse the functional architecture with output units=1 and linear activation)\n",
        "outputs_reg = Dense(1, activation='linear')(x)  # x is last hidden layer from previous cell\n",
        "\n",
        "regression_model = Model(inputs=inputs, outputs=outputs_reg)\n",
        "\n",
        "# Compile the model for regression\n",
        "regression_model.compile(optimizer='adam', loss='mse')\n",
        "\n",
        "# Train the regression model\n",
        "history_reg = regression_model.fit(x_train_split, y_train_reg,\n",
        "                                   validation_data=(x_val, y_val_reg),\n",
        "                                   epochs=20,\n",
        "                                   batch_size=64,\n",
        "                                   verbose=2)\n",
        "\n",
        "# Predict on validation set\n",
        "y_val_pred_reg = regression_model.predict(x_val).flatten()\n",
        "\n",
        "# Calculate R²-score\n",
        "r2 = r2_score(y_val_reg, y_val_pred_reg)\n",
        "print(f\"Validation R²-score (regression task): {r2:.4f}\")"
      ],
      "metadata": {
        "colab": {
          "base_uri": "https://localhost:8080/"
        },
        "id": "MQn5W57xrhtH",
        "outputId": "b76a5d1f-67e2-49f6-af53-7a1e607ab6ac"
      },
      "execution_count": 30,
      "outputs": [
        {
          "output_type": "stream",
          "name": "stdout",
          "text": [
            "Epoch 1/20\n",
            "600/600 - 4s - 6ms/step - loss: 2.0978 - val_loss: 1.5715\n",
            "Epoch 2/20\n",
            "600/600 - 4s - 6ms/step - loss: 1.3677 - val_loss: 1.4316\n",
            "Epoch 3/20\n",
            "600/600 - 4s - 7ms/step - loss: 1.2099 - val_loss: 1.4056\n",
            "Epoch 4/20\n",
            "600/600 - 3s - 4ms/step - loss: 1.1245 - val_loss: 1.2721\n",
            "Epoch 5/20\n",
            "600/600 - 2s - 4ms/step - loss: 1.0382 - val_loss: 1.2666\n",
            "Epoch 6/20\n",
            "600/600 - 4s - 6ms/step - loss: 1.0081 - val_loss: 1.2735\n",
            "Epoch 7/20\n",
            "600/600 - 4s - 7ms/step - loss: 0.9583 - val_loss: 1.3423\n",
            "Epoch 8/20\n",
            "600/600 - 3s - 4ms/step - loss: 0.9233 - val_loss: 1.2604\n",
            "Epoch 9/20\n",
            "600/600 - 2s - 4ms/step - loss: 0.8911 - val_loss: 1.2870\n",
            "Epoch 10/20\n",
            "600/600 - 4s - 6ms/step - loss: 0.8667 - val_loss: 1.2190\n",
            "Epoch 11/20\n",
            "600/600 - 3s - 4ms/step - loss: 0.8290 - val_loss: 1.1723\n",
            "Epoch 12/20\n",
            "600/600 - 2s - 4ms/step - loss: 0.7913 - val_loss: 1.2542\n",
            "Epoch 13/20\n",
            "600/600 - 2s - 4ms/step - loss: 0.7806 - val_loss: 1.1732\n",
            "Epoch 14/20\n",
            "600/600 - 2s - 4ms/step - loss: 0.7362 - val_loss: 1.1711\n",
            "Epoch 15/20\n",
            "600/600 - 3s - 6ms/step - loss: 0.7276 - val_loss: 1.1866\n",
            "Epoch 16/20\n",
            "600/600 - 2s - 4ms/step - loss: 0.7061 - val_loss: 1.1570\n",
            "Epoch 17/20\n",
            "600/600 - 3s - 4ms/step - loss: 0.6837 - val_loss: 1.1982\n",
            "Epoch 18/20\n",
            "600/600 - 2s - 4ms/step - loss: 0.6674 - val_loss: 1.1935\n",
            "Epoch 19/20\n",
            "600/600 - 2s - 4ms/step - loss: 0.6493 - val_loss: 1.1581\n",
            "Epoch 20/20\n",
            "600/600 - 4s - 6ms/step - loss: 0.6387 - val_loss: 1.1983\n",
            "\u001b[1m300/300\u001b[0m \u001b[32m━━━━━━━━━━━━━━━━━━━━\u001b[0m\u001b[37m\u001b[0m \u001b[1m0s\u001b[0m 1ms/step\n",
            "Validation R²-score (regression task): 0.8547\n"
          ]
        }
      ]
    },
    {
      "cell_type": "markdown",
      "source": [
        "# 6. (Bonus) 3-Layer Recurrent Neural Network with Keras\n",
        "\n",
        "## 6.1 Preprocess Data for Time-Series Format\n",
        "\n",
        "In this section, we will prepare the Fashion MNIST dataset for a recurrent neural network (RNN) by treating each image as a time series.\n",
        "\n",
        "Each 28x28 image will be reshaped into a sequence of 28 time steps, where each time step contains 28 pixel values. This format is suitable for RNNs, which process sequential data.\n",
        "\n",
        "The new input shape will be `(batch_size, time_steps=28, features=28)`.\n",
        "\n",
        "This transformation allows the model to potentially learn spatial dependencies along the rows of the image as temporal patterns."
      ],
      "metadata": {
        "id": "oCVamLoosAEl"
      }
    },
    {
      "cell_type": "code",
      "source": [
        "# Reshape the training and validation images for RNN input\n",
        "x_train_rnn = x_train_split.reshape(-1, 28, 28)\n",
        "x_val_rnn = x_val.reshape(-1, 28, 28)\n",
        "\n",
        "# Confirm the new shapes\n",
        "print(f\"Training data shape for RNN: {x_train_rnn.shape}\")\n",
        "print(f\"Validation data shape for RNN: {x_val_rnn.shape}\")"
      ],
      "metadata": {
        "colab": {
          "base_uri": "https://localhost:8080/"
        },
        "id": "KKDmZtmKsB38",
        "outputId": "29d3ebde-847e-46a5-9a8e-6ba61d0d5cf0"
      },
      "execution_count": 31,
      "outputs": [
        {
          "output_type": "stream",
          "name": "stdout",
          "text": [
            "Training data shape for RNN: (38400, 28, 28)\n",
            "Validation data shape for RNN: (9600, 28, 28)\n"
          ]
        }
      ]
    },
    {
      "cell_type": "markdown",
      "source": [
        "## 6.2 Build the RNN Model\n",
        "\n",
        "Here, we construct a 3-layer recurrent neural network using Keras. We will use either `SimpleRNN` or `LSTM` layers to capture temporal dependencies in the sequential input data.\n",
        "\n",
        "Each recurrent layer processes the sequence output from the previous layer, enabling the model to learn complex time-dependent patterns from the reshaped image rows.\n",
        "\n",
        "The final layer will be a Dense layer appropriate for the task (classification or regression)."
      ],
      "metadata": {
        "id": "v9ayu6nPsEYt"
      }
    },
    {
      "cell_type": "code",
      "source": [
        "from tensorflow.keras.models import Model\n",
        "from tensorflow.keras.layers import Input, LSTM, Dense\n",
        "\n",
        "# Define input shape for the RNN (time steps, features)\n",
        "inputs = Input(shape=(28, 28))\n",
        "\n",
        "# Add 3 LSTM layers, with the first two returning sequences to feed the next layer\n",
        "x = LSTM(64, return_sequences=True)(inputs)\n",
        "x = LSTM(64, return_sequences=True)(x)\n",
        "x = LSTM(64)(x)\n",
        "\n",
        "# Output layer for classification (10 classes)\n",
        "outputs = Dense(10, activation='softmax')(x)\n",
        "\n",
        "# Build the model\n",
        "rnn_model = Model(inputs=inputs, outputs=outputs)\n",
        "\n",
        "# Compile the model with categorical crossentropy loss and Adam optimizer\n",
        "rnn_model.compile(optimizer='adam', loss='sparse_categorical_crossentropy', metrics=['accuracy'])\n",
        "\n",
        "# Summary of the model architecture\n",
        "rnn_model.summary()"
      ],
      "metadata": {
        "colab": {
          "base_uri": "https://localhost:8080/",
          "height": 289
        },
        "id": "40GJq8NXsGNE",
        "outputId": "0fc2cd19-c2d9-4a4e-f700-d685d80c2e15"
      },
      "execution_count": 32,
      "outputs": [
        {
          "output_type": "display_data",
          "data": {
            "text/plain": [
              "\u001b[1mModel: \"functional_10\"\u001b[0m\n"
            ],
            "text/html": [
              "<pre style=\"white-space:pre;overflow-x:auto;line-height:normal;font-family:Menlo,'DejaVu Sans Mono',consolas,'Courier New',monospace\"><span style=\"font-weight: bold\">Model: \"functional_10\"</span>\n",
              "</pre>\n"
            ]
          },
          "metadata": {}
        },
        {
          "output_type": "display_data",
          "data": {
            "text/plain": [
              "┏━━━━━━━━━━━━━━━━━━━━━━━━━━━━━━━━━┳━━━━━━━━━━━━━━━━━━━━━━━━┳━━━━━━━━━━━━━━━┓\n",
              "┃\u001b[1m \u001b[0m\u001b[1mLayer (type)                   \u001b[0m\u001b[1m \u001b[0m┃\u001b[1m \u001b[0m\u001b[1mOutput Shape          \u001b[0m\u001b[1m \u001b[0m┃\u001b[1m \u001b[0m\u001b[1m      Param #\u001b[0m\u001b[1m \u001b[0m┃\n",
              "┡━━━━━━━━━━━━━━━━━━━━━━━━━━━━━━━━━╇━━━━━━━━━━━━━━━━━━━━━━━━╇━━━━━━━━━━━━━━━┩\n",
              "│ input_layer_5 (\u001b[38;5;33mInputLayer\u001b[0m)      │ (\u001b[38;5;45mNone\u001b[0m, \u001b[38;5;34m28\u001b[0m, \u001b[38;5;34m28\u001b[0m)         │             \u001b[38;5;34m0\u001b[0m │\n",
              "├─────────────────────────────────┼────────────────────────┼───────────────┤\n",
              "│ lstm (\u001b[38;5;33mLSTM\u001b[0m)                     │ (\u001b[38;5;45mNone\u001b[0m, \u001b[38;5;34m28\u001b[0m, \u001b[38;5;34m64\u001b[0m)         │        \u001b[38;5;34m23,808\u001b[0m │\n",
              "├─────────────────────────────────┼────────────────────────┼───────────────┤\n",
              "│ lstm_1 (\u001b[38;5;33mLSTM\u001b[0m)                   │ (\u001b[38;5;45mNone\u001b[0m, \u001b[38;5;34m28\u001b[0m, \u001b[38;5;34m64\u001b[0m)         │        \u001b[38;5;34m33,024\u001b[0m │\n",
              "├─────────────────────────────────┼────────────────────────┼───────────────┤\n",
              "│ lstm_2 (\u001b[38;5;33mLSTM\u001b[0m)                   │ (\u001b[38;5;45mNone\u001b[0m, \u001b[38;5;34m64\u001b[0m)             │        \u001b[38;5;34m33,024\u001b[0m │\n",
              "├─────────────────────────────────┼────────────────────────┼───────────────┤\n",
              "│ dense_26 (\u001b[38;5;33mDense\u001b[0m)                │ (\u001b[38;5;45mNone\u001b[0m, \u001b[38;5;34m10\u001b[0m)             │           \u001b[38;5;34m650\u001b[0m │\n",
              "└─────────────────────────────────┴────────────────────────┴───────────────┘\n"
            ],
            "text/html": [
              "<pre style=\"white-space:pre;overflow-x:auto;line-height:normal;font-family:Menlo,'DejaVu Sans Mono',consolas,'Courier New',monospace\">┏━━━━━━━━━━━━━━━━━━━━━━━━━━━━━━━━━┳━━━━━━━━━━━━━━━━━━━━━━━━┳━━━━━━━━━━━━━━━┓\n",
              "┃<span style=\"font-weight: bold\"> Layer (type)                    </span>┃<span style=\"font-weight: bold\"> Output Shape           </span>┃<span style=\"font-weight: bold\">       Param # </span>┃\n",
              "┡━━━━━━━━━━━━━━━━━━━━━━━━━━━━━━━━━╇━━━━━━━━━━━━━━━━━━━━━━━━╇━━━━━━━━━━━━━━━┩\n",
              "│ input_layer_5 (<span style=\"color: #0087ff; text-decoration-color: #0087ff\">InputLayer</span>)      │ (<span style=\"color: #00d7ff; text-decoration-color: #00d7ff\">None</span>, <span style=\"color: #00af00; text-decoration-color: #00af00\">28</span>, <span style=\"color: #00af00; text-decoration-color: #00af00\">28</span>)         │             <span style=\"color: #00af00; text-decoration-color: #00af00\">0</span> │\n",
              "├─────────────────────────────────┼────────────────────────┼───────────────┤\n",
              "│ lstm (<span style=\"color: #0087ff; text-decoration-color: #0087ff\">LSTM</span>)                     │ (<span style=\"color: #00d7ff; text-decoration-color: #00d7ff\">None</span>, <span style=\"color: #00af00; text-decoration-color: #00af00\">28</span>, <span style=\"color: #00af00; text-decoration-color: #00af00\">64</span>)         │        <span style=\"color: #00af00; text-decoration-color: #00af00\">23,808</span> │\n",
              "├─────────────────────────────────┼────────────────────────┼───────────────┤\n",
              "│ lstm_1 (<span style=\"color: #0087ff; text-decoration-color: #0087ff\">LSTM</span>)                   │ (<span style=\"color: #00d7ff; text-decoration-color: #00d7ff\">None</span>, <span style=\"color: #00af00; text-decoration-color: #00af00\">28</span>, <span style=\"color: #00af00; text-decoration-color: #00af00\">64</span>)         │        <span style=\"color: #00af00; text-decoration-color: #00af00\">33,024</span> │\n",
              "├─────────────────────────────────┼────────────────────────┼───────────────┤\n",
              "│ lstm_2 (<span style=\"color: #0087ff; text-decoration-color: #0087ff\">LSTM</span>)                   │ (<span style=\"color: #00d7ff; text-decoration-color: #00d7ff\">None</span>, <span style=\"color: #00af00; text-decoration-color: #00af00\">64</span>)             │        <span style=\"color: #00af00; text-decoration-color: #00af00\">33,024</span> │\n",
              "├─────────────────────────────────┼────────────────────────┼───────────────┤\n",
              "│ dense_26 (<span style=\"color: #0087ff; text-decoration-color: #0087ff\">Dense</span>)                │ (<span style=\"color: #00d7ff; text-decoration-color: #00d7ff\">None</span>, <span style=\"color: #00af00; text-decoration-color: #00af00\">10</span>)             │           <span style=\"color: #00af00; text-decoration-color: #00af00\">650</span> │\n",
              "└─────────────────────────────────┴────────────────────────┴───────────────┘\n",
              "</pre>\n"
            ]
          },
          "metadata": {}
        },
        {
          "output_type": "display_data",
          "data": {
            "text/plain": [
              "\u001b[1m Total params: \u001b[0m\u001b[38;5;34m90,506\u001b[0m (353.54 KB)\n"
            ],
            "text/html": [
              "<pre style=\"white-space:pre;overflow-x:auto;line-height:normal;font-family:Menlo,'DejaVu Sans Mono',consolas,'Courier New',monospace\"><span style=\"font-weight: bold\"> Total params: </span><span style=\"color: #00af00; text-decoration-color: #00af00\">90,506</span> (353.54 KB)\n",
              "</pre>\n"
            ]
          },
          "metadata": {}
        },
        {
          "output_type": "display_data",
          "data": {
            "text/plain": [
              "\u001b[1m Trainable params: \u001b[0m\u001b[38;5;34m90,506\u001b[0m (353.54 KB)\n"
            ],
            "text/html": [
              "<pre style=\"white-space:pre;overflow-x:auto;line-height:normal;font-family:Menlo,'DejaVu Sans Mono',consolas,'Courier New',monospace\"><span style=\"font-weight: bold\"> Trainable params: </span><span style=\"color: #00af00; text-decoration-color: #00af00\">90,506</span> (353.54 KB)\n",
              "</pre>\n"
            ]
          },
          "metadata": {}
        },
        {
          "output_type": "display_data",
          "data": {
            "text/plain": [
              "\u001b[1m Non-trainable params: \u001b[0m\u001b[38;5;34m0\u001b[0m (0.00 B)\n"
            ],
            "text/html": [
              "<pre style=\"white-space:pre;overflow-x:auto;line-height:normal;font-family:Menlo,'DejaVu Sans Mono',consolas,'Courier New',monospace\"><span style=\"font-weight: bold\"> Non-trainable params: </span><span style=\"color: #00af00; text-decoration-color: #00af00\">0</span> (0.00 B)\n",
              "</pre>\n"
            ]
          },
          "metadata": {}
        }
      ]
    },
    {
      "cell_type": "markdown",
      "source": [
        "## 6.3 Binary Classification with RNN\n",
        "\n",
        "In this section, we adapt the RNN model for a binary classification task. Specifically, we classify one class (e.g., class 0) against all other classes.\n",
        "\n",
        "We will modify the labels accordingly and train the RNN. After training, we will evaluate the model using the F1-score metric, aiming to exceed 0.75.\n",
        "\n",
        "This will demonstrate the RNN's ability to handle sequence data for binary classification problems."
      ],
      "metadata": {
        "id": "H-zEmfl2sI72"
      }
    },
    {
      "cell_type": "code",
      "source": [
        "from sklearn.metrics import f1_score\n",
        "\n",
        "# Convert labels to binary: class 0 vs others\n",
        "y_train_binary_rnn = (y_train_split == 0).astype(int)\n",
        "y_val_binary_rnn = (y_val == 0).astype(int)\n",
        "\n",
        "# Modify output layer for binary classification\n",
        "from tensorflow.keras.layers import Dense\n",
        "from tensorflow.keras.models import Model\n",
        "\n",
        "inputs = Input(shape=(28, 28))\n",
        "x = LSTM(64, return_sequences=True)(inputs)\n",
        "x = LSTM(64, return_sequences=True)(x)\n",
        "x = LSTM(64)(x)\n",
        "outputs = Dense(1, activation='sigmoid')(x)  # Single neuron with sigmoid activation\n",
        "\n",
        "binary_rnn_model = Model(inputs=inputs, outputs=outputs)\n",
        "binary_rnn_model.compile(optimizer='adam', loss='binary_crossentropy', metrics=['accuracy'])\n",
        "\n",
        "# Train the binary classification RNN model\n",
        "history_binary_rnn = binary_rnn_model.fit(\n",
        "    x_train_rnn, y_train_binary_rnn,\n",
        "    validation_data=(x_val_rnn, y_val_binary_rnn),\n",
        "    epochs=15,\n",
        "    batch_size=64,\n",
        "    verbose=2\n",
        ")\n",
        "\n",
        "# Predict on validation data\n",
        "y_val_pred_prob = binary_rnn_model.predict(x_val_rnn)\n",
        "y_val_pred = (y_val_pred_prob > 0.5).astype(int)\n",
        "\n",
        "# Calculate F1-score\n",
        "f1 = f1_score(y_val_binary_rnn, y_val_pred)\n",
        "print(f\"Validation F1-score for binary classification with RNN: {f1:.4f}\")"
      ],
      "metadata": {
        "colab": {
          "base_uri": "https://localhost:8080/"
        },
        "id": "i-SHUyOjsKwz",
        "outputId": "52d33a5c-3652-43f1-bb95-f1d71390ca06"
      },
      "execution_count": 33,
      "outputs": [
        {
          "output_type": "stream",
          "name": "stdout",
          "text": [
            "Epoch 1/15\n",
            "600/600 - 41s - 69ms/step - accuracy: 0.9477 - loss: 0.1338 - val_accuracy: 0.9575 - val_loss: 0.1024\n",
            "Epoch 2/15\n",
            "600/600 - 36s - 60ms/step - accuracy: 0.9557 - loss: 0.1052 - val_accuracy: 0.9567 - val_loss: 0.1012\n",
            "Epoch 3/15\n",
            "600/600 - 36s - 61ms/step - accuracy: 0.9585 - loss: 0.0984 - val_accuracy: 0.9602 - val_loss: 0.0943\n",
            "Epoch 4/15\n",
            "600/600 - 32s - 53ms/step - accuracy: 0.9598 - loss: 0.0952 - val_accuracy: 0.9589 - val_loss: 0.0992\n",
            "Epoch 5/15\n",
            "600/600 - 43s - 72ms/step - accuracy: 0.9618 - loss: 0.0914 - val_accuracy: 0.9594 - val_loss: 0.0955\n",
            "Epoch 6/15\n",
            "600/600 - 41s - 68ms/step - accuracy: 0.9624 - loss: 0.0874 - val_accuracy: 0.9583 - val_loss: 0.0956\n",
            "Epoch 7/15\n",
            "600/600 - 41s - 68ms/step - accuracy: 0.9638 - loss: 0.0845 - val_accuracy: 0.9619 - val_loss: 0.0914\n",
            "Epoch 8/15\n",
            "600/600 - 42s - 70ms/step - accuracy: 0.9642 - loss: 0.0821 - val_accuracy: 0.9615 - val_loss: 0.0902\n",
            "Epoch 9/15\n",
            "600/600 - 44s - 73ms/step - accuracy: 0.9657 - loss: 0.0798 - val_accuracy: 0.9615 - val_loss: 0.0894\n",
            "Epoch 10/15\n",
            "600/600 - 35s - 59ms/step - accuracy: 0.9666 - loss: 0.0766 - val_accuracy: 0.9631 - val_loss: 0.0929\n",
            "Epoch 11/15\n",
            "600/600 - 42s - 70ms/step - accuracy: 0.9683 - loss: 0.0757 - val_accuracy: 0.9638 - val_loss: 0.0868\n",
            "Epoch 12/15\n",
            "600/600 - 39s - 66ms/step - accuracy: 0.9691 - loss: 0.0722 - val_accuracy: 0.9634 - val_loss: 0.0968\n",
            "Epoch 13/15\n",
            "600/600 - 33s - 55ms/step - accuracy: 0.9697 - loss: 0.0704 - val_accuracy: 0.9616 - val_loss: 0.0891\n",
            "Epoch 14/15\n",
            "600/600 - 41s - 69ms/step - accuracy: 0.9704 - loss: 0.0699 - val_accuracy: 0.9657 - val_loss: 0.0860\n",
            "Epoch 15/15\n",
            "600/600 - 39s - 66ms/step - accuracy: 0.9712 - loss: 0.0675 - val_accuracy: 0.9676 - val_loss: 0.0835\n",
            "\u001b[1m300/300\u001b[0m \u001b[32m━━━━━━━━━━━━━━━━━━━━\u001b[0m\u001b[37m\u001b[0m \u001b[1m4s\u001b[0m 12ms/step\n",
            "Validation F1-score for binary classification with RNN: 0.8378\n"
          ]
        }
      ]
    },
    {
      "cell_type": "markdown",
      "source": [
        "## 6.4 Regression with RNN\n",
        "\n",
        "In this section, we use the 3-layer recurrent neural network to perform a regression task. The goal is to predict the numeric class label of each input image.\n",
        "\n",
        "We will train the model using mean squared error loss and evaluate the performance using the R²-score metric, targeting a score above 0.8.\n",
        "\n",
        "This approach showcases how RNNs can be applied beyond classification to regression problems on sequential data."
      ],
      "metadata": {
        "id": "L1ZqxapFsOcA"
      }
    },
    {
      "cell_type": "code",
      "source": [
        "from sklearn.metrics import r2_score\n",
        "from tensorflow.keras.layers import Input, LSTM, Dense\n",
        "from tensorflow.keras.models import Model\n",
        "\n",
        "# Define RNN model for regression\n",
        "inputs = Input(shape=(28, 28))\n",
        "x = LSTM(64, return_sequences=True)(inputs)\n",
        "x = LSTM(64, return_sequences=True)(x)\n",
        "x = LSTM(64)(x)\n",
        "outputs = Dense(1)(x)  # Single neuron with linear activation for regression\n",
        "\n",
        "rnn_regressor = Model(inputs=inputs, outputs=outputs)\n",
        "rnn_regressor.compile(optimizer='adam', loss='mse')\n",
        "\n",
        "# Train the RNN regressor\n",
        "history_rnn_reg = rnn_regressor.fit(\n",
        "    x_train_rnn, y_train_split.astype(float),\n",
        "    validation_data=(x_val_rnn, y_val.astype(float)),\n",
        "    epochs=15,\n",
        "    batch_size=64,\n",
        "    verbose=2\n",
        ")\n",
        "\n",
        "# Predict on validation set\n",
        "y_val_pred_reg = rnn_regressor.predict(x_val_rnn).flatten()\n",
        "\n",
        "# Calculate R²-score\n",
        "r2 = r2_score(y_val, y_val_pred_reg)\n",
        "print(f\"Validation R²-score for regression with RNN: {r2:.4f}\")"
      ],
      "metadata": {
        "colab": {
          "base_uri": "https://localhost:8080/"
        },
        "id": "3UlkwzDjsROc",
        "outputId": "030fa47f-c30e-406a-ead3-258d7a30ed76"
      },
      "execution_count": 34,
      "outputs": [
        {
          "output_type": "stream",
          "name": "stdout",
          "text": [
            "Epoch 1/15\n",
            "600/600 - 38s - 64ms/step - loss: 2.8721 - val_loss: 1.8882\n",
            "Epoch 2/15\n",
            "600/600 - 38s - 63ms/step - loss: 1.7133 - val_loss: 1.7519\n",
            "Epoch 3/15\n",
            "600/600 - 31s - 52ms/step - loss: 1.5846 - val_loss: 1.5161\n",
            "Epoch 4/15\n",
            "600/600 - 40s - 67ms/step - loss: 1.4629 - val_loss: 1.5548\n",
            "Epoch 5/15\n",
            "600/600 - 41s - 69ms/step - loss: 1.3804 - val_loss: 1.4546\n",
            "Epoch 6/15\n",
            "600/600 - 30s - 51ms/step - loss: 1.3158 - val_loss: 1.4404\n",
            "Epoch 7/15\n",
            "600/600 - 41s - 68ms/step - loss: 1.2656 - val_loss: 1.4075\n",
            "Epoch 8/15\n",
            "600/600 - 42s - 70ms/step - loss: 1.2244 - val_loss: 1.3055\n",
            "Epoch 9/15\n",
            "600/600 - 42s - 71ms/step - loss: 1.1762 - val_loss: 1.3151\n",
            "Epoch 10/15\n",
            "600/600 - 41s - 68ms/step - loss: 1.1510 - val_loss: 1.2802\n",
            "Epoch 11/15\n",
            "600/600 - 42s - 69ms/step - loss: 1.1236 - val_loss: 1.2293\n",
            "Epoch 12/15\n",
            "600/600 - 38s - 63ms/step - loss: 1.0828 - val_loss: 1.2283\n",
            "Epoch 13/15\n",
            "600/600 - 43s - 72ms/step - loss: 1.0638 - val_loss: 1.2054\n",
            "Epoch 14/15\n",
            "600/600 - 39s - 65ms/step - loss: 1.0251 - val_loss: 1.2009\n",
            "Epoch 15/15\n",
            "600/600 - 41s - 69ms/step - loss: 1.0032 - val_loss: 1.2434\n",
            "\u001b[1m300/300\u001b[0m \u001b[32m━━━━━━━━━━━━━━━━━━━━\u001b[0m\u001b[37m\u001b[0m \u001b[1m5s\u001b[0m 15ms/step\n",
            "Validation R²-score for regression with RNN: 0.8493\n"
          ]
        }
      ]
    },
    {
      "cell_type": "markdown",
      "source": [
        "# 7. Why Are Neural Networks So Powerful?\n",
        "\n",
        "Neural networks are powerful because they act as universal function approximators, meaning they can theoretically model any continuous function given sufficient complexity and data. This ability enables them to learn complex mappings between inputs and outputs without explicitly programmed rules. Furthermore, neural networks learn hierarchical representations of data through multiple layers, allowing them to extract increasingly abstract and meaningful features automatically. This hierarchical feature learning is especially valuable in tasks like image and speech recognition, where raw data is high-dimensional and intricate.\n",
        "\n",
        "Another key strength of neural networks is their capacity to model non-linear decision boundaries, which makes them far more flexible than traditional linear models. This flexibility allows neural networks to solve complex classification and regression problems effectively. However, their power also comes with challenges: designing the right architecture and tuning hyperparameters can be difficult, training can be unstable or slow, and overfitting on limited data is a common risk. These challenges require careful experimentation and techniques such as regularization, dropout, and early stopping to ensure robust performance."
      ],
      "metadata": {
        "id": "TACQQblIsib6"
      }
    },
    {
      "cell_type": "markdown",
      "source": [
        "# 8. Summary and Final Thoughts\n",
        "\n",
        "In this notebook, we explored multiple neural network frameworks including Scikit-Learn, Keras (both Sequential and Functional APIs), and PyTorch. Each framework has its strengths: Scikit-Learn offers simplicity and quick prototyping, Keras provides a user-friendly and flexible interface for building deep networks, and PyTorch excels in customization and dynamic computation graphs, which are useful for research and complex models.\n",
        "\n",
        "Among the models tested, Keras Sequential and PyTorch 4-layer feedforward networks achieved the highest scores for both classification and regression tasks. The non-sequential Keras model demonstrated additional flexibility through branching architecture. Below is a summary table of the best achieved performance metrics:\n",
        "\n",
        "| Model                      | Classification F1-score | Regression R²-score |\n",
        "|----------------------------|------------------------|---------------------|\n",
        "| Scikit-Learn MLP           | 0.88                   | 0.84                |\n",
        "| Keras Sequential FFN       | 0.83                   | 0.86                |\n",
        "| PyTorch 4-Layer FFN        | 0.88                   | 0.85                |\n",
        "| Keras Functional FFN       | 0.83                   | 0.85                |\n",
        "\n",
        "From each section, key insights include the importance of data preprocessing, the impact of model architecture depth and complexity, and the differences in ease of use and customization between frameworks. The recurrent neural network bonus section illustrated how time-series formatting of image data can leverage temporal patterns to improve performance. Overall, this exercise reinforced that no single framework or model fits all problems, and experimentation is critical for finding the best solution."
      ],
      "metadata": {
        "id": "HCojrp8FskpL"
      }
    }
  ]
}