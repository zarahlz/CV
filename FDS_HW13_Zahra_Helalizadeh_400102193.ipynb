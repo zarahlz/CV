{
  "nbformat": 4,
  "nbformat_minor": 0,
  "metadata": {
    "colab": {
      "provenance": [],
      "gpuType": "T4"
    },
    "kernelspec": {
      "name": "python3",
      "display_name": "Python 3"
    },
    "language_info": {
      "name": "python"
    },
    "accelerator": "GPU",
    "widgets": {
      "application/vnd.jupyter.widget-state+json": {
        "f74b60075b9d4c9ab302939ed4e8d7f0": {
          "model_module": "@jupyter-widgets/controls",
          "model_name": "HBoxModel",
          "model_module_version": "1.5.0",
          "state": {
            "_dom_classes": [],
            "_model_module": "@jupyter-widgets/controls",
            "_model_module_version": "1.5.0",
            "_model_name": "HBoxModel",
            "_view_count": null,
            "_view_module": "@jupyter-widgets/controls",
            "_view_module_version": "1.5.0",
            "_view_name": "HBoxView",
            "box_style": "",
            "children": [
              "IPY_MODEL_8bf43b841a8b4820b9d179d75982edae",
              "IPY_MODEL_65c7fe2bb5114bdfa8bb3fea490e9309",
              "IPY_MODEL_8ffedd857e914f2a84f5d53fda16c090"
            ],
            "layout": "IPY_MODEL_6658fe85bdbd46d1bf86bfdd1260f6b1"
          }
        },
        "8bf43b841a8b4820b9d179d75982edae": {
          "model_module": "@jupyter-widgets/controls",
          "model_name": "HTMLModel",
          "model_module_version": "1.5.0",
          "state": {
            "_dom_classes": [],
            "_model_module": "@jupyter-widgets/controls",
            "_model_module_version": "1.5.0",
            "_model_name": "HTMLModel",
            "_view_count": null,
            "_view_module": "@jupyter-widgets/controls",
            "_view_module_version": "1.5.0",
            "_view_name": "HTMLView",
            "description": "",
            "description_tooltip": null,
            "layout": "IPY_MODEL_7ea5a1821c2b436ca4fd36ad5828f558",
            "placeholder": "​",
            "style": "IPY_MODEL_047e5f452e974f6181314c7711f566f6",
            "value": "100%"
          }
        },
        "65c7fe2bb5114bdfa8bb3fea490e9309": {
          "model_module": "@jupyter-widgets/controls",
          "model_name": "FloatProgressModel",
          "model_module_version": "1.5.0",
          "state": {
            "_dom_classes": [],
            "_model_module": "@jupyter-widgets/controls",
            "_model_module_version": "1.5.0",
            "_model_name": "FloatProgressModel",
            "_view_count": null,
            "_view_module": "@jupyter-widgets/controls",
            "_view_module_version": "1.5.0",
            "_view_name": "ProgressView",
            "bar_style": "success",
            "description": "",
            "description_tooltip": null,
            "layout": "IPY_MODEL_cf30fae97906498a8592b1d7bcba3cb6",
            "max": 2000,
            "min": 0,
            "orientation": "horizontal",
            "style": "IPY_MODEL_b75541fe399d4ec6a36eca439c8f92c1",
            "value": 2000
          }
        },
        "8ffedd857e914f2a84f5d53fda16c090": {
          "model_module": "@jupyter-widgets/controls",
          "model_name": "HTMLModel",
          "model_module_version": "1.5.0",
          "state": {
            "_dom_classes": [],
            "_model_module": "@jupyter-widgets/controls",
            "_model_module_version": "1.5.0",
            "_model_name": "HTMLModel",
            "_view_count": null,
            "_view_module": "@jupyter-widgets/controls",
            "_view_module_version": "1.5.0",
            "_view_name": "HTMLView",
            "description": "",
            "description_tooltip": null,
            "layout": "IPY_MODEL_7e57edbf1653416f82df4586b271f1a1",
            "placeholder": "​",
            "style": "IPY_MODEL_f4c3213a9629484f9e62bed6430ae071",
            "value": " 2000/2000 [00:01&lt;00:00, 1642.91it/s]"
          }
        },
        "6658fe85bdbd46d1bf86bfdd1260f6b1": {
          "model_module": "@jupyter-widgets/base",
          "model_name": "LayoutModel",
          "model_module_version": "1.2.0",
          "state": {
            "_model_module": "@jupyter-widgets/base",
            "_model_module_version": "1.2.0",
            "_model_name": "LayoutModel",
            "_view_count": null,
            "_view_module": "@jupyter-widgets/base",
            "_view_module_version": "1.2.0",
            "_view_name": "LayoutView",
            "align_content": null,
            "align_items": null,
            "align_self": null,
            "border": null,
            "bottom": null,
            "display": null,
            "flex": null,
            "flex_flow": null,
            "grid_area": null,
            "grid_auto_columns": null,
            "grid_auto_flow": null,
            "grid_auto_rows": null,
            "grid_column": null,
            "grid_gap": null,
            "grid_row": null,
            "grid_template_areas": null,
            "grid_template_columns": null,
            "grid_template_rows": null,
            "height": null,
            "justify_content": null,
            "justify_items": null,
            "left": null,
            "margin": null,
            "max_height": null,
            "max_width": null,
            "min_height": null,
            "min_width": null,
            "object_fit": null,
            "object_position": null,
            "order": null,
            "overflow": null,
            "overflow_x": null,
            "overflow_y": null,
            "padding": null,
            "right": null,
            "top": null,
            "visibility": null,
            "width": null
          }
        },
        "7ea5a1821c2b436ca4fd36ad5828f558": {
          "model_module": "@jupyter-widgets/base",
          "model_name": "LayoutModel",
          "model_module_version": "1.2.0",
          "state": {
            "_model_module": "@jupyter-widgets/base",
            "_model_module_version": "1.2.0",
            "_model_name": "LayoutModel",
            "_view_count": null,
            "_view_module": "@jupyter-widgets/base",
            "_view_module_version": "1.2.0",
            "_view_name": "LayoutView",
            "align_content": null,
            "align_items": null,
            "align_self": null,
            "border": null,
            "bottom": null,
            "display": null,
            "flex": null,
            "flex_flow": null,
            "grid_area": null,
            "grid_auto_columns": null,
            "grid_auto_flow": null,
            "grid_auto_rows": null,
            "grid_column": null,
            "grid_gap": null,
            "grid_row": null,
            "grid_template_areas": null,
            "grid_template_columns": null,
            "grid_template_rows": null,
            "height": null,
            "justify_content": null,
            "justify_items": null,
            "left": null,
            "margin": null,
            "max_height": null,
            "max_width": null,
            "min_height": null,
            "min_width": null,
            "object_fit": null,
            "object_position": null,
            "order": null,
            "overflow": null,
            "overflow_x": null,
            "overflow_y": null,
            "padding": null,
            "right": null,
            "top": null,
            "visibility": null,
            "width": null
          }
        },
        "047e5f452e974f6181314c7711f566f6": {
          "model_module": "@jupyter-widgets/controls",
          "model_name": "DescriptionStyleModel",
          "model_module_version": "1.5.0",
          "state": {
            "_model_module": "@jupyter-widgets/controls",
            "_model_module_version": "1.5.0",
            "_model_name": "DescriptionStyleModel",
            "_view_count": null,
            "_view_module": "@jupyter-widgets/base",
            "_view_module_version": "1.2.0",
            "_view_name": "StyleView",
            "description_width": ""
          }
        },
        "cf30fae97906498a8592b1d7bcba3cb6": {
          "model_module": "@jupyter-widgets/base",
          "model_name": "LayoutModel",
          "model_module_version": "1.2.0",
          "state": {
            "_model_module": "@jupyter-widgets/base",
            "_model_module_version": "1.2.0",
            "_model_name": "LayoutModel",
            "_view_count": null,
            "_view_module": "@jupyter-widgets/base",
            "_view_module_version": "1.2.0",
            "_view_name": "LayoutView",
            "align_content": null,
            "align_items": null,
            "align_self": null,
            "border": null,
            "bottom": null,
            "display": null,
            "flex": null,
            "flex_flow": null,
            "grid_area": null,
            "grid_auto_columns": null,
            "grid_auto_flow": null,
            "grid_auto_rows": null,
            "grid_column": null,
            "grid_gap": null,
            "grid_row": null,
            "grid_template_areas": null,
            "grid_template_columns": null,
            "grid_template_rows": null,
            "height": null,
            "justify_content": null,
            "justify_items": null,
            "left": null,
            "margin": null,
            "max_height": null,
            "max_width": null,
            "min_height": null,
            "min_width": null,
            "object_fit": null,
            "object_position": null,
            "order": null,
            "overflow": null,
            "overflow_x": null,
            "overflow_y": null,
            "padding": null,
            "right": null,
            "top": null,
            "visibility": null,
            "width": null
          }
        },
        "b75541fe399d4ec6a36eca439c8f92c1": {
          "model_module": "@jupyter-widgets/controls",
          "model_name": "ProgressStyleModel",
          "model_module_version": "1.5.0",
          "state": {
            "_model_module": "@jupyter-widgets/controls",
            "_model_module_version": "1.5.0",
            "_model_name": "ProgressStyleModel",
            "_view_count": null,
            "_view_module": "@jupyter-widgets/base",
            "_view_module_version": "1.2.0",
            "_view_name": "StyleView",
            "bar_color": null,
            "description_width": ""
          }
        },
        "7e57edbf1653416f82df4586b271f1a1": {
          "model_module": "@jupyter-widgets/base",
          "model_name": "LayoutModel",
          "model_module_version": "1.2.0",
          "state": {
            "_model_module": "@jupyter-widgets/base",
            "_model_module_version": "1.2.0",
            "_model_name": "LayoutModel",
            "_view_count": null,
            "_view_module": "@jupyter-widgets/base",
            "_view_module_version": "1.2.0",
            "_view_name": "LayoutView",
            "align_content": null,
            "align_items": null,
            "align_self": null,
            "border": null,
            "bottom": null,
            "display": null,
            "flex": null,
            "flex_flow": null,
            "grid_area": null,
            "grid_auto_columns": null,
            "grid_auto_flow": null,
            "grid_auto_rows": null,
            "grid_column": null,
            "grid_gap": null,
            "grid_row": null,
            "grid_template_areas": null,
            "grid_template_columns": null,
            "grid_template_rows": null,
            "height": null,
            "justify_content": null,
            "justify_items": null,
            "left": null,
            "margin": null,
            "max_height": null,
            "max_width": null,
            "min_height": null,
            "min_width": null,
            "object_fit": null,
            "object_position": null,
            "order": null,
            "overflow": null,
            "overflow_x": null,
            "overflow_y": null,
            "padding": null,
            "right": null,
            "top": null,
            "visibility": null,
            "width": null
          }
        },
        "f4c3213a9629484f9e62bed6430ae071": {
          "model_module": "@jupyter-widgets/controls",
          "model_name": "DescriptionStyleModel",
          "model_module_version": "1.5.0",
          "state": {
            "_model_module": "@jupyter-widgets/controls",
            "_model_module_version": "1.5.0",
            "_model_name": "DescriptionStyleModel",
            "_view_count": null,
            "_view_module": "@jupyter-widgets/base",
            "_view_module_version": "1.2.0",
            "_view_name": "StyleView",
            "description_width": ""
          }
        }
      }
    }
  },
  "cells": [
    {
      "cell_type": "markdown",
      "source": [
        "<font face=\"Times New Roman\" size=5>\n",
        "<div dir=rtl align=\"center\">\n",
        "<font face=\"Times New Roman\" size=5>\n",
        "</font>\n",
        "<br>\n",
        "<img src=\"https://static.tildacdn.one/tild3639-3035-4131-a461-363737393037/noroot.png\" alt=\"University Logo\" width=\"400\" height=\"224\">\n",
        "<br>\n",
        "<font face=\"Times New Roman\" size=5 align=center>\n",
        "Sharif University of Technology\n",
        "<br>\n",
        "Electrical Engineering Department\n",
        "</font>\n",
        "<br>\n",
        "<font size=6>\n",
        "Assignment 13: Imbalanced Data and Explainable AI\n",
        "</font>\n",
        "<br>\n",
        "<font size=4>\n",
        "Zahra Helalizadeh 400102193\n",
        "<br>\n",
        "</font>\n",
        "<font size=4>\n",
        "Spring 2025\n",
        "<br>\n",
        "</font>\n",
        "<font face=\"Times New Roman\" size=4>\n",
        "</font>\n",
        "</div></font>"
      ],
      "metadata": {
        "id": "TEIt_qFED-_T"
      }
    },
    {
      "cell_type": "markdown",
      "source": [
        "# 1. Data Loading & Cleaning\n",
        "\n",
        "## 1.1 Loading the Fashion MNIST Dataset\n",
        "\n",
        "In this section, we will load the Fashion MNIST dataset using TensorFlow's Keras API. Fashion MNIST is a dataset of Zalando's article images—consisting of a training set of 60,000 examples and a test set of 10,000 examples. Each example is a 28x28 grayscale image, associated with a label from 10 classes.\n",
        "\n",
        "We will load the data, display the shape of the datasets, and look at some basic statistics to understand the distribution of the dataset before any modifications."
      ],
      "metadata": {
        "id": "BeIF-uiI-w12"
      }
    },
    {
      "cell_type": "code",
      "source": [
        "import numpy as np\n",
        "import pandas as pd\n",
        "import matplotlib.pyplot as plt\n",
        "import seaborn as sns\n",
        "\n",
        "from tensorflow.keras.datasets import fashion_mnist\n",
        "\n",
        "# Load Fashion MNIST dataset\n",
        "(x_train, y_train), (x_test, y_test) = fashion_mnist.load_data()\n",
        "\n",
        "# Display shapes\n",
        "print(\"Training data shape:\", x_train.shape)\n",
        "print(\"Training labels shape:\", y_train.shape)\n",
        "print(\"Test data shape:\", x_test.shape)\n",
        "print(\"Test labels shape:\", y_test.shape)"
      ],
      "metadata": {
        "colab": {
          "base_uri": "https://localhost:8080/"
        },
        "id": "tTPatGx1-ynU",
        "outputId": "8f835ac7-3dc7-4845-fe14-1acd36b7d0d6"
      },
      "execution_count": 5,
      "outputs": [
        {
          "output_type": "stream",
          "name": "stdout",
          "text": [
            "Training data shape: (60000, 28, 28)\n",
            "Training labels shape: (60000,)\n",
            "Test data shape: (10000, 28, 28)\n",
            "Test labels shape: (10000,)\n"
          ]
        }
      ]
    },
    {
      "cell_type": "markdown",
      "source": [
        "The training dataset consists of 60,000 images and the test dataset contains 10,000 images. Each image has a size of 28x28 pixels.\n",
        "\n",
        "Next, we convert the training labels into a Pandas DataFrame to see the distribution of the classes. This helps us identify whether the dataset is originally balanced or imbalanced."
      ],
      "metadata": {
        "id": "2ig9vWg7-11C"
      }
    },
    {
      "cell_type": "code",
      "source": [
        "# Convert labels to DataFrame to see class distribution\n",
        "label_df = pd.DataFrame(y_train, columns=['label'])\n",
        "\n",
        "# Plot class distribution\n",
        "plt.figure(figsize=(10, 4))\n",
        "sns.countplot(data=label_df, x='label')\n",
        "plt.title(\"Class Distribution in Training Set\")\n",
        "plt.xlabel(\"Class Label\")\n",
        "plt.ylabel(\"Count\")\n",
        "plt.show()"
      ],
      "metadata": {
        "colab": {
          "base_uri": "https://localhost:8080/",
          "height": 384
        },
        "id": "RM3AWg9h-9bJ",
        "outputId": "4bd5e71c-37af-4276-f164-d79a145d7b09"
      },
      "execution_count": 6,
      "outputs": [
        {
          "output_type": "display_data",
          "data": {
            "text/plain": [
              "<Figure size 1000x400 with 1 Axes>"
            ],
            "image/png": "[encoded data removed]"
          },
          "metadata": {}
        }
      ]
    },
    {
      "cell_type": "markdown",
      "source": [
        "From the above plot, we observe that the dataset is fairly balanced across the 10 classes. However, to practice handling imbalanced data, we will artificially create an imbalance in the later sections.\n"
      ],
      "metadata": {
        "id": "cb9iUeAh-6qf"
      }
    },
    {
      "cell_type": "markdown",
      "source": [
        "## 1.2 Creating a Pandas Pipe for Cleaning\n",
        "\n",
        "In this section, we will use a Pandas pipe function to perform basic cleaning and preprocessing operations on the Fashion MNIST data.\n",
        "\n",
        "Our goals are:\n",
        "1. Normalize pixel values from the range [0, 255] to [0, 1] for better model convergence.\n",
        "2. Convert the 3D image arrays into a tabular Pandas DataFrame format suitable for use in pipelines.\n",
        "3. (Optional) Introduce some missing values in the dataset to simulate null data points and later handle them during preprocessing.\n"
      ],
      "metadata": {
        "id": "bGEpaWxG_HEv"
      }
    },
    {
      "cell_type": "code",
      "source": [
        "# Function to normalize pixel values\n",
        "def normalize_images(df):\n",
        "    return df / 255.0\n",
        "\n",
        "# Convert the image array into a DataFrame (flattened images)\n",
        "x_train_flat = x_train.reshape(x_train.shape[0], -1)\n",
        "x_test_flat = x_test.reshape(x_test.shape[0], -1)\n",
        "\n",
        "x_train_df = pd.DataFrame(x_train_flat)\n",
        "x_test_df = pd.DataFrame(x_test_flat)\n",
        "\n",
        "# Apply normalization using pandas pipe\n",
        "x_train_df = x_train_df.pipe(normalize_images)\n",
        "x_test_df = x_test_df.pipe(normalize_images)\n",
        "\n",
        "# Show the first few rows\n",
        "x_train_df.head()\n"
      ],
      "metadata": {
        "colab": {
          "base_uri": "https://localhost:8080/",
          "height": 256
        },
        "id": "ZqUzCgET-4Rr",
        "outputId": "85721900-7c09-430d-ca77-10fe5e65d5b9"
      },
      "execution_count": 7,
      "outputs": [
        {
          "output_type": "execute_result",
          "data": {
            "text/plain": [
              "   0    1    2    3    4         5    6    7         8         9    ...  \\\n",
              "0  0.0  0.0  0.0  0.0  0.0  0.000000  0.0  0.0  0.000000  0.000000  ...   \n",
              "1  0.0  0.0  0.0  0.0  0.0  0.003922  0.0  0.0  0.000000  0.000000  ...   \n",
              "2  0.0  0.0  0.0  0.0  0.0  0.000000  0.0  0.0  0.000000  0.086275  ...   \n",
              "3  0.0  0.0  0.0  0.0  0.0  0.000000  0.0  0.0  0.129412  0.376471  ...   \n",
              "4  0.0  0.0  0.0  0.0  0.0  0.000000  0.0  0.0  0.000000  0.000000  ...   \n",
              "\n",
              "        774       775       776       777  778  779  780  781  782  783  \n",
              "0  0.000000  0.000000  0.000000  0.000000  0.0  0.0  0.0  0.0  0.0  0.0  \n",
              "1  0.466667  0.447059  0.509804  0.298039  0.0  0.0  0.0  0.0  0.0  0.0  \n",
              "2  0.000000  0.000000  0.003922  0.000000  0.0  0.0  0.0  0.0  0.0  0.0  \n",
              "3  0.000000  0.000000  0.000000  0.000000  0.0  0.0  0.0  0.0  0.0  0.0  \n",
              "4  0.000000  0.000000  0.000000  0.000000  0.0  0.0  0.0  0.0  0.0  0.0  \n",
              "\n",
              "[5 rows x 784 columns]"
            ],
            "text/html": [
              "\n",
              "  <div id=\"df-1bf94ced-269c-497b-bad8-691aac0be63d\" class=\"colab-df-container\">\n",
              "    <div>\n",
              "<style scoped>\n",
              "    .dataframe tbody tr th:only-of-type {\n",
              "        vertical-align: middle;\n",
              "    }\n",
              "\n",
              "    .dataframe tbody tr th {\n",
              "        vertical-align: top;\n",
              "    }\n",
              "\n",
              "    .dataframe thead th {\n",
              "        text-align: right;\n",
              "    }\n",
              "</style>\n",
              "<table border=\"1\" class=\"dataframe\">\n",
              "  <thead>\n",
              "    <tr style=\"text-align: right;\">\n",
              "      <th></th>\n",
              "      <th>0</th>\n",
              "      <th>1</th>\n",
              "      <th>2</th>\n",
              "      <th>3</th>\n",
              "      <th>4</th>\n",
              "      <th>5</th>\n",
              "      <th>6</th>\n",
              "      <th>7</th>\n",
              "      <th>8</th>\n",
              "      <th>9</th>\n",
              "      <th>...</th>\n",
              "      <th>774</th>\n",
              "      <th>775</th>\n",
              "      <th>776</th>\n",
              "      <th>777</th>\n",
              "      <th>778</th>\n",
              "      <th>779</th>\n",
              "      <th>780</th>\n",
              "      <th>781</th>\n",
              "      <th>782</th>\n",
              "      <th>783</th>\n",
              "    </tr>\n",
              "  </thead>\n",
              "  <tbody>\n",
              "    <tr>\n",
              "      <th>0</th>\n",
              "      <td>0.0</td>\n",
              "      <td>0.0</td>\n",
              "      <td>0.0</td>\n",
              "      <td>0.0</td>\n",
              "      <td>0.0</td>\n",
              "      <td>0.000000</td>\n",
              "      <td>0.0</td>\n",
              "      <td>0.0</td>\n",
              "      <td>0.000000</td>\n",
              "      <td>0.000000</td>\n",
              "      <td>...</td>\n",
              "      <td>0.000000</td>\n",
              "      <td>0.000000</td>\n",
              "      <td>0.000000</td>\n",
              "      <td>0.000000</td>\n",
              "      <td>0.0</td>\n",
              "      <td>0.0</td>\n",
              "      <td>0.0</td>\n",
              "      <td>0.0</td>\n",
              "      <td>0.0</td>\n",
              "      <td>0.0</td>\n",
              "    </tr>\n",
              "    <tr>\n",
              "      <th>1</th>\n",
              "      <td>0.0</td>\n",
              "      <td>0.0</td>\n",
              "      <td>0.0</td>\n",
              "      <td>0.0</td>\n",
              "      <td>0.0</td>\n",
              "      <td>0.003922</td>\n",
              "      <td>0.0</td>\n",
              "      <td>0.0</td>\n",
              "      <td>0.000000</td>\n",
              "      <td>0.000000</td>\n",
              "      <td>...</td>\n",
              "      <td>0.466667</td>\n",
              "      <td>0.447059</td>\n",
              "      <td>0.509804</td>\n",
              "      <td>0.298039</td>\n",
              "      <td>0.0</td>\n",
              "      <td>0.0</td>\n",
              "      <td>0.0</td>\n",
              "      <td>0.0</td>\n",
              "      <td>0.0</td>\n",
              "      <td>0.0</td>\n",
              "    </tr>\n",
              "    <tr>\n",
              "      <th>2</th>\n",
              "      <td>0.0</td>\n",
              "      <td>0.0</td>\n",
              "      <td>0.0</td>\n",
              "      <td>0.0</td>\n",
              "      <td>0.0</td>\n",
              "      <td>0.000000</td>\n",
              "      <td>0.0</td>\n",
              "      <td>0.0</td>\n",
              "      <td>0.000000</td>\n",
              "      <td>0.086275</td>\n",
              "      <td>...</td>\n",
              "      <td>0.000000</td>\n",
              "      <td>0.000000</td>\n",
              "      <td>0.003922</td>\n",
              "      <td>0.000000</td>\n",
              "      <td>0.0</td>\n",
              "      <td>0.0</td>\n",
              "      <td>0.0</td>\n",
              "      <td>0.0</td>\n",
              "      <td>0.0</td>\n",
              "      <td>0.0</td>\n",
              "    </tr>\n",
              "    <tr>\n",
              "      <th>3</th>\n",
              "      <td>0.0</td>\n",
              "      <td>0.0</td>\n",
              "      <td>0.0</td>\n",
              "      <td>0.0</td>\n",
              "      <td>0.0</td>\n",
              "      <td>0.000000</td>\n",
              "      <td>0.0</td>\n",
              "      <td>0.0</td>\n",
              "      <td>0.129412</td>\n",
              "      <td>0.376471</td>\n",
              "      <td>...</td>\n",
              "      <td>0.000000</td>\n",
              "      <td>0.000000</td>\n",
              "      <td>0.000000</td>\n",
              "      <td>0.000000</td>\n",
              "      <td>0.0</td>\n",
              "      <td>0.0</td>\n",
              "      <td>0.0</td>\n",
              "      <td>0.0</td>\n",
              "      <td>0.0</td>\n",
              "      <td>0.0</td>\n",
              "    </tr>\n",
              "    <tr>\n",
              "      <th>4</th>\n",
              "      <td>0.0</td>\n",
              "      <td>0.0</td>\n",
              "      <td>0.0</td>\n",
              "      <td>0.0</td>\n",
              "      <td>0.0</td>\n",
              "      <td>0.000000</td>\n",
              "      <td>0.0</td>\n",
              "      <td>0.0</td>\n",
              "      <td>0.000000</td>\n",
              "      <td>0.000000</td>\n",
              "      <td>...</td>\n",
              "      <td>0.000000</td>\n",
              "      <td>0.000000</td>\n",
              "      <td>0.000000</td>\n",
              "      <td>0.000000</td>\n",
              "      <td>0.0</td>\n",
              "      <td>0.0</td>\n",
              "      <td>0.0</td>\n",
              "      <td>0.0</td>\n",
              "      <td>0.0</td>\n",
              "      <td>0.0</td>\n",
              "    </tr>\n",
              "  </tbody>\n",
              "</table>\n",
              "<p>5 rows × 784 columns</p>\n",
              "</div>\n",
              "    <div class=\"colab-df-buttons\">\n",
              "\n",
              "  <div class=\"colab-df-container\">\n",
              "    <button class=\"colab-df-convert\" onclick=\"convertToInteractive('df-1bf94ced-269c-497b-bad8-691aac0be63d')\"\n",
              "            title=\"Convert this dataframe to an interactive table.\"\n",
              "            style=\"display:none;\">\n",
              "\n",
              "  <svg xmlns=\"http://www.w3.org/2000/svg\" height=\"24px\" viewBox=\"0 -960 960 960\">\n",
              "    <path d=\"M120-120v-720h720v720H120Zm60-500h600v-160H180v160Zm220 220h160v-160H400v160Zm0 220h160v-160H400v160ZM180-400h160v-160H180v160Zm440 0h160v-160H620v160ZM180-180h160v-160H180v160Zm440 0h160v-160H620v160Z\"/>\n",
              "  </svg>\n",
              "    </button>\n",
              "\n",
              "  <style>\n",
              "    .colab-df-container {\n",
              "      display:flex;\n",
              "      gap: 12px;\n",
              "    }\n",
              "\n",
              "    .colab-df-convert {\n",
              "      background-color: #E8F0FE;\n",
              "      border: none;\n",
              "      border-radius: 50%;\n",
              "      cursor: pointer;\n",
              "      display: none;\n",
              "      fill: #1967D2;\n",
              "      height: 32px;\n",
              "      padding: 0 0 0 0;\n",
              "      width: 32px;\n",
              "    }\n",
              "\n",
              "    .colab-df-convert:hover {\n",
              "      background-color: #E2EBFA;\n",
              "      box-shadow: 0px 1px 2px rgba(60, 64, 67, 0.3), 0px 1px 3px 1px rgba(60, 64, 67, 0.15);\n",
              "      fill: #174EA6;\n",
              "    }\n",
              "\n",
              "    .colab-df-buttons div {\n",
              "      margin-bottom: 4px;\n",
              "    }\n",
              "\n",
              "    [theme=dark] .colab-df-convert {\n",
              "      background-color: #3B4455;\n",
              "      fill: #D2E3FC;\n",
              "    }\n",
              "\n",
              "    [theme=dark] .colab-df-convert:hover {\n",
              "      background-color: #434B5C;\n",
              "      box-shadow: 0px 1px 3px 1px rgba(0, 0, 0, 0.15);\n",
              "      filter: drop-shadow(0px 1px 2px rgba(0, 0, 0, 0.3));\n",
              "      fill: #FFFFFF;\n",
              "    }\n",
              "  </style>\n",
              "\n",
              "    <script>\n",
              "      const buttonEl =\n",
              "        document.querySelector('#df-1bf94ced-269c-497b-bad8-691aac0be63d button.colab-df-convert');\n",
              "      buttonEl.style.display =\n",
              "        google.colab.kernel.accessAllowed ? 'block' : 'none';\n",
              "\n",
              "      async function convertToInteractive(key) {\n",
              "        const element = document.querySelector('#df-1bf94ced-269c-497b-bad8-691aac0be63d');\n",
              "        const dataTable =\n",
              "          await google.colab.kernel.invokeFunction('convertToInteractive',\n",
              "                                                    [key], {});\n",
              "        if (!dataTable) return;\n",
              "\n",
              "        const docLinkHtml = 'Like what you see? Visit the ' +\n",
              "          '<a target=\"_blank\" href=https://colab.research.google.com/notebooks/data_table.ipynb>data table notebook</a>'\n",
              "          + ' to learn more about interactive tables.';\n",
              "        element.innerHTML = '';\n",
              "        dataTable['output_type'] = 'display_data';\n",
              "        await google.colab.output.renderOutput(dataTable, element);\n",
              "        const docLink = document.createElement('div');\n",
              "        docLink.innerHTML = docLinkHtml;\n",
              "        element.appendChild(docLink);\n",
              "      }\n",
              "    </script>\n",
              "  </div>\n",
              "\n",
              "\n",
              "    <div id=\"df-84bcae15-92dc-4f21-a86f-88591a4cad33\">\n",
              "      <button class=\"colab-df-quickchart\" onclick=\"quickchart('df-84bcae15-92dc-4f21-a86f-88591a4cad33')\"\n",
              "                title=\"Suggest charts\"\n",
              "                style=\"display:none;\">\n",
              "\n",
              "<svg xmlns=\"http://www.w3.org/2000/svg\" height=\"24px\"viewBox=\"0 0 24 24\"\n",
              "     width=\"24px\">\n",
              "    <g>\n",
              "        <path d=\"M19 3H5c-1.1 0-2 .9-2 2v14c0 1.1.9 2 2 2h14c1.1 0 2-.9 2-2V5c0-1.1-.9-2-2-2zM9 17H7v-7h2v7zm4 0h-2V7h2v10zm4 0h-2v-4h2v4z\"/>\n",
              "    </g>\n",
              "</svg>\n",
              "      </button>\n",
              "\n",
              "<style>\n",
              "  .colab-df-quickchart {\n",
              "      --bg-color: #E8F0FE;\n",
              "      --fill-color: #1967D2;\n",
              "      --hover-bg-color: #E2EBFA;\n",
              "      --hover-fill-color: #174EA6;\n",
              "      --disabled-fill-color: #AAA;\n",
              "      --disabled-bg-color: #DDD;\n",
              "  }\n",
              "\n",
              "  [theme=dark] .colab-df-quickchart {\n",
              "      --bg-color: #3B4455;\n",
              "      --fill-color: #D2E3FC;\n",
              "      --hover-bg-color: #434B5C;\n",
              "      --hover-fill-color: #FFFFFF;\n",
              "      --disabled-bg-color: #3B4455;\n",
              "      --disabled-fill-color: #666;\n",
              "  }\n",
              "\n",
              "  .colab-df-quickchart {\n",
              "    background-color: var(--bg-color);\n",
              "    border: none;\n",
              "    border-radius: 50%;\n",
              "    cursor: pointer;\n",
              "    display: none;\n",
              "    fill: var(--fill-color);\n",
              "    height: 32px;\n",
              "    padding: 0;\n",
              "    width: 32px;\n",
              "  }\n",
              "\n",
              "  .colab-df-quickchart:hover {\n",
              "    background-color: var(--hover-bg-color);\n",
              "    box-shadow: 0 1px 2px rgba(60, 64, 67, 0.3), 0 1px 3px 1px rgba(60, 64, 67, 0.15);\n",
              "    fill: var(--button-hover-fill-color);\n",
              "  }\n",
              "\n",
              "  .colab-df-quickchart-complete:disabled,\n",
              "  .colab-df-quickchart-complete:disabled:hover {\n",
              "    background-color: var(--disabled-bg-color);\n",
              "    fill: var(--disabled-fill-color);\n",
              "    box-shadow: none;\n",
              "  }\n",
              "\n",
              "  .colab-df-spinner {\n",
              "    border: 2px solid var(--fill-color);\n",
              "    border-color: transparent;\n",
              "    border-bottom-color: var(--fill-color);\n",
              "    animation:\n",
              "      spin 1s steps(1) infinite;\n",
              "  }\n",
              "\n",
              "  @keyframes spin {\n",
              "    0% {\n",
              "      border-color: transparent;\n",
              "      border-bottom-color: var(--fill-color);\n",
              "      border-left-color: var(--fill-color);\n",
              "    }\n",
              "    20% {\n",
              "      border-color: transparent;\n",
              "      border-left-color: var(--fill-color);\n",
              "      border-top-color: var(--fill-color);\n",
              "    }\n",
              "    30% {\n",
              "      border-color: transparent;\n",
              "      border-left-color: var(--fill-color);\n",
              "      border-top-color: var(--fill-color);\n",
              "      border-right-color: var(--fill-color);\n",
              "    }\n",
              "    40% {\n",
              "      border-color: transparent;\n",
              "      border-right-color: var(--fill-color);\n",
              "      border-top-color: var(--fill-color);\n",
              "    }\n",
              "    60% {\n",
              "      border-color: transparent;\n",
              "      border-right-color: var(--fill-color);\n",
              "    }\n",
              "    80% {\n",
              "      border-color: transparent;\n",
              "      border-right-color: var(--fill-color);\n",
              "      border-bottom-color: var(--fill-color);\n",
              "    }\n",
              "    90% {\n",
              "      border-color: transparent;\n",
              "      border-bottom-color: var(--fill-color);\n",
              "    }\n",
              "  }\n",
              "</style>\n",
              "\n",
              "      <script>\n",
              "        async function quickchart(key) {\n",
              "          const quickchartButtonEl =\n",
              "            document.querySelector('#' + key + ' button');\n",
              "          quickchartButtonEl.disabled = true;  // To prevent multiple clicks.\n",
              "          quickchartButtonEl.classList.add('colab-df-spinner');\n",
              "          try {\n",
              "            const charts = await google.colab.kernel.invokeFunction(\n",
              "                'suggestCharts', [key], {});\n",
              "          } catch (error) {\n",
              "            console.error('Error during call to suggestCharts:', error);\n",
              "          }\n",
              "          quickchartButtonEl.classList.remove('colab-df-spinner');\n",
              "          quickchartButtonEl.classList.add('colab-df-quickchart-complete');\n",
              "        }\n",
              "        (() => {\n",
              "          let quickchartButtonEl =\n",
              "            document.querySelector('#df-84bcae15-92dc-4f21-a86f-88591a4cad33 button');\n",
              "          quickchartButtonEl.style.display =\n",
              "            google.colab.kernel.accessAllowed ? 'block' : 'none';\n",
              "        })();\n",
              "      </script>\n",
              "    </div>\n",
              "\n",
              "    </div>\n",
              "  </div>\n"
            ],
            "application/vnd.google.colaboratory.intrinsic+json": {
              "type": "dataframe",
              "variable_name": "x_train_df"
            }
          },
          "metadata": {},
          "execution_count": 7
        }
      ]
    },
    {
      "cell_type": "markdown",
      "source": [
        "The pixel values are now normalized between 0 and 1 using the Pandas `pipe` method. This makes the code cleaner and modular.\n",
        "\n",
        "Next, we will simulate missing values by randomly setting some entries to NaN in the training set. This will help us test how our preprocessing pipeline handles missing data.\n"
      ],
      "metadata": {
        "id": "P3n09TWg_K3S"
      }
    },
    {
      "cell_type": "code",
      "source": [
        "# Randomly insert NaN values to simulate missing data\n",
        "nan_ratio = 0.01  # 1% of the data will be set to NaN\n",
        "num_nan = int(nan_ratio * x_train_df.size)\n",
        "\n",
        "# Randomly choose locations to insert NaNs\n",
        "rows = np.random.randint(0, x_train_df.shape[0], num_nan)\n",
        "cols = np.random.randint(0, x_train_df.shape[1], num_nan)\n",
        "\n",
        "x_train_df.values[rows, cols] = np.nan\n",
        "\n",
        "# Check how many NaNs are present\n",
        "x_train_df.isnull().sum().sum()"
      ],
      "metadata": {
        "colab": {
          "base_uri": "https://localhost:8080/"
        },
        "id": "WW99odDh_NFi",
        "outputId": "6625b8e2-ac31-4842-c6cc-d1b344a75214"
      },
      "execution_count": 8,
      "outputs": [
        {
          "output_type": "execute_result",
          "data": {
            "text/plain": [
              "np.int64(468071)"
            ]
          },
          "metadata": {},
          "execution_count": 8
        }
      ]
    },
    {
      "cell_type": "markdown",
      "source": [
        "We have inserted 1% missing values into the training set. These NaN values will be handled in the next section using an imputation step in the preprocessing pipeline."
      ],
      "metadata": {
        "id": "FSe0Aasn_bdr"
      }
    },
    {
      "cell_type": "markdown",
      "source": [
        "# 2. Preprocessing Pipeline (Scikit-learn)\n",
        "\n",
        "## 2.1 Creating a Preprocessing Pipeline\n",
        "\n",
        "In this section, we build a preprocessing pipeline using Scikit-learn. The pipeline will include steps for handling missing values and scaling the data.\n",
        "\n",
        "Since our input images have already been flattened and stored in a Pandas DataFrame, we will use Scikit-learn’s `SimpleImputer` and `StandardScaler` within a pipeline. We use `ColumnTransformer` to apply transformations to all columns.\n",
        "\n",
        "This structured preprocessing allows us to easily integrate it with model training and evaluation steps later on."
      ],
      "metadata": {
        "id": "O35qsi61_syO"
      }
    },
    {
      "cell_type": "code",
      "source": [
        "from sklearn.pipeline import Pipeline\n",
        "from sklearn.compose import ColumnTransformer\n",
        "from sklearn.impute import SimpleImputer\n",
        "from sklearn.preprocessing import StandardScaler\n",
        "\n",
        "# Get list of column indices (all columns are numeric and need preprocessing)\n",
        "num_features = x_train_df.columns.tolist()\n",
        "\n",
        "# Create a preprocessing pipeline for numeric data\n",
        "numeric_transformer = Pipeline(steps=[\n",
        "    ('imputer', SimpleImputer(strategy='mean')),  # Handle missing values\n",
        "    ('scaler', StandardScaler())                  # Normalize features\n",
        "])\n",
        "\n",
        "# Use ColumnTransformer to apply the preprocessing to all columns\n",
        "preprocessor = ColumnTransformer(transformers=[\n",
        "    ('num', numeric_transformer, num_features)\n",
        "])"
      ],
      "metadata": {
        "id": "hfCSPNgy_ucJ"
      },
      "execution_count": 9,
      "outputs": []
    },
    {
      "cell_type": "markdown",
      "source": [
        "We have now defined a preprocessing pipeline that imputes missing values using the mean of each feature and standardizes the data to have zero mean and unit variance.\n",
        "\n",
        "The `ColumnTransformer` ensures that the preprocessing steps are applied to all numeric columns in our dataset. This setup prepares the data for integration with a classifier in the next section."
      ],
      "metadata": {
        "id": "6C0ODcYM_xJV"
      }
    },
    {
      "cell_type": "markdown",
      "source": [
        "## 2.2 Adding an Imputer\n",
        "\n",
        "In this section, we focus on handling missing values in the dataset. We previously introduced some NaN entries in the training data to simulate real-world scenarios where data can be incomplete.\n",
        "\n",
        "To handle this, we add a `SimpleImputer` as the first step of our preprocessing pipeline. This imputer fills in missing values with the mean of each column. This prevents errors during model training and ensures consistent data."
      ],
      "metadata": {
        "id": "zJ19wfbh_zV_"
      }
    },
    {
      "cell_type": "code",
      "source": [
        "# The imputer step was already added to the numeric_transformer in the previous section:\n",
        "# ('imputer', SimpleImputer(strategy='mean'))\n",
        "\n",
        "# Reprint the preprocessing pipeline to confirm\n",
        "from pprint import pprint\n",
        "pprint(preprocessor)"
      ],
      "metadata": {
        "colab": {
          "base_uri": "https://localhost:8080/"
        },
        "id": "cT55fqQD_0tL",
        "outputId": "cf808012-bd57-4b33-9a37-7f5eebd9f0c4"
      },
      "execution_count": 10,
      "outputs": [
        {
          "output_type": "stream",
          "name": "stdout",
          "text": [
            "ColumnTransformer(transformers=[('num',\n",
            "                                 Pipeline(steps=[('imputer', SimpleImputer()),\n",
            "                                                 ('scaler', StandardScaler())]),\n",
            "                                 [0, 1, 2, 3, 4, 5, 6, 7, 8, 9, 10, 11, 12, 13,\n",
            "                                  14, 15, 16, 17, 18, 19, 20, 21, 22, 23, 24,\n",
            "                                  25, 26, 27, 28, 29, ...])])\n"
          ]
        }
      ]
    },
    {
      "cell_type": "markdown",
      "source": [
        "The `SimpleImputer` has been successfully added to the preprocessing pipeline. It replaces missing pixel values with the average value of that pixel across the dataset.\n",
        "\n",
        "This approach preserves the structure of the data and is effective for numerical datasets like images where small imputed variations are unlikely to harm model performance."
      ],
      "metadata": {
        "id": "gdwc6x8b_3Go"
      }
    },
    {
      "cell_type": "markdown",
      "source": [
        "## 2.3 Attaching a Classifier\n",
        "\n",
        "In this section, we complete the full pipeline by attaching a classifier to our preprocessing steps. This will allow us to train and evaluate a model on the Fashion MNIST dataset using a clean and modular structure.\n",
        "\n",
        "We will use `LogisticRegression` as our base classifier. This model is suitable for multiclass classification tasks and works well as a baseline."
      ],
      "metadata": {
        "id": "zcvXl7v5_9WZ"
      }
    },
    {
      "cell_type": "code",
      "source": [
        "from sklearn.linear_model import LogisticRegression\n",
        "from sklearn.model_selection import train_test_split\n",
        "from sklearn.pipeline import Pipeline\n",
        "from sklearn.metrics import classification_report, accuracy_score\n",
        "\n",
        "# Split training data into train and validation sets\n",
        "x_train_split, x_val_split, y_train_split, y_val_split = train_test_split(\n",
        "    x_train_df, y_train, test_size=0.2, random_state=42\n",
        ")\n",
        "\n",
        "# Define the full pipeline with preprocessing and classifier\n",
        "clf_pipeline = Pipeline(steps=[\n",
        "    ('preprocessor', preprocessor),\n",
        "    ('classifier', LogisticRegression(max_iter=1000, solver='lbfgs', multi_class='multinomial'))\n",
        "])\n",
        "\n",
        "# Fit the pipeline\n",
        "clf_pipeline.fit(x_train_split, y_train_split)\n",
        "\n",
        "# Predict on validation data\n",
        "y_pred = clf_pipeline.predict(x_val_split)\n",
        "\n",
        "# Evaluate performance\n",
        "print(\"Validation Accuracy:\", accuracy_score(y_val_split, y_pred))\n",
        "print(\"\\nClassification Report:\\n\", classification_report(y_val_split, y_pred))"
      ],
      "metadata": {
        "colab": {
          "base_uri": "https://localhost:8080/"
        },
        "id": "Pm7mddTM__bi",
        "outputId": "5ca04275-cbd0-490a-d588-af661e562e69"
      },
      "execution_count": 11,
      "outputs": [
        {
          "output_type": "stream",
          "name": "stderr",
          "text": [
            "/usr/local/lib/python3.11/dist-packages/sklearn/linear_model/_logistic.py:1247: FutureWarning: 'multi_class' was deprecated in version 1.5 and will be removed in 1.7. From then on, it will always use 'multinomial'. Leave it to its default value to avoid this warning.\n",
            "  warnings.warn(\n",
            "/usr/local/lib/python3.11/dist-packages/sklearn/linear_model/_logistic.py:465: ConvergenceWarning: lbfgs failed to converge (status=1):\n",
            "STOP: TOTAL NO. OF ITERATIONS REACHED LIMIT.\n",
            "\n",
            "Increase the number of iterations (max_iter) or scale the data as shown in:\n",
            "    https://scikit-learn.org/stable/modules/preprocessing.html\n",
            "Please also refer to the documentation for alternative solver options:\n",
            "    https://scikit-learn.org/stable/modules/linear_model.html#logistic-regression\n",
            "  n_iter_i = _check_optimize_result(\n"
          ]
        },
        {
          "output_type": "stream",
          "name": "stdout",
          "text": [
            "Validation Accuracy: 0.8383333333333334\n",
            "\n",
            "Classification Report:\n",
            "               precision    recall  f1-score   support\n",
            "\n",
            "           0       0.78      0.80      0.79      1202\n",
            "           1       0.96      0.96      0.96      1219\n",
            "           2       0.75      0.75      0.75      1205\n",
            "           3       0.82      0.87      0.84      1184\n",
            "           4       0.75      0.76      0.76      1202\n",
            "           5       0.92      0.93      0.92      1211\n",
            "           6       0.63      0.58      0.60      1218\n",
            "           7       0.91      0.91      0.91      1159\n",
            "           8       0.93      0.90      0.91      1197\n",
            "           9       0.93      0.93      0.93      1203\n",
            "\n",
            "    accuracy                           0.84     12000\n",
            "   macro avg       0.84      0.84      0.84     12000\n",
            "weighted avg       0.84      0.84      0.84     12000\n",
            "\n"
          ]
        }
      ]
    },
    {
      "cell_type": "markdown",
      "source": [
        "We attached a `LogisticRegression` classifier to the preprocessing pipeline and trained it on the training data. The model's performance was evaluated using accuracy and a detailed classification report.\n",
        "\n",
        "This step confirms that the pipeline is functional end-to-end: it handles missing data, scales features, and performs classification in a structured and repeatable way."
      ],
      "metadata": {
        "id": "MQdsGNc2ACTc"
      }
    },
    {
      "cell_type": "markdown",
      "source": [
        "# 3. Handling Imbalanced Data\n",
        "\n",
        "The Fashion MNIST dataset is originally balanced. To practice handling imbalanced data, we will first simulate class imbalance by reducing the number of samples in a few classes.\n",
        "\n",
        "Then, we will apply different techniques to handle the imbalance. In this section, we use random undersampling to reduce the size of majority classes.\n",
        "\n",
        "## 3.1 Random Undersampling (Majority Class)\n",
        "\n",
        "We use `RandomUnderSampler` from the `imblearn` library to randomly remove samples from the majority classes. This helps balance the class distribution by reducing overrepresented classes."
      ],
      "metadata": {
        "id": "XFFEyRO-BU1b"
      }
    },
    {
      "cell_type": "code",
      "source": [
        "from imblearn.under_sampling import RandomUnderSampler\n",
        "from collections import Counter\n",
        "\n",
        "# Simulate imbalance by keeping fewer samples of classes 0, 1, 2\n",
        "def simulate_imbalance(X, y):\n",
        "    df = X.copy()\n",
        "    df['label'] = y\n",
        "    df_balanced = pd.DataFrame()\n",
        "\n",
        "    for label in df['label'].unique():\n",
        "        class_subset = df[df['label'] == label]\n",
        "        if label in [0, 1, 2]:\n",
        "            df_balanced = pd.concat([df_balanced, class_subset.sample(frac=0.2, random_state=42)])\n",
        "        else:\n",
        "            df_balanced = pd.concat([df_balanced, class_subset])\n",
        "\n",
        "    y_new = df_balanced['label'].values\n",
        "    X_new = df_balanced.drop('label', axis=1)\n",
        "    return X_new, y_new\n",
        "\n",
        "# Simulate class imbalance\n",
        "X_imb, y_imb = simulate_imbalance(x_train_df, y_train)\n",
        "\n",
        "print(\"Class distribution after imbalance simulation:\", Counter(y_imb))"
      ],
      "metadata": {
        "colab": {
          "base_uri": "https://localhost:8080/"
        },
        "id": "4j8CgmcLBV-_",
        "outputId": "1f0052c2-b614-401b-95e6-086ce2b554da"
      },
      "execution_count": 12,
      "outputs": [
        {
          "output_type": "stream",
          "name": "stdout",
          "text": [
            "Class distribution after imbalance simulation: Counter({np.uint8(9): 6000, np.uint8(3): 6000, np.uint8(7): 6000, np.uint8(5): 6000, np.uint8(6): 6000, np.uint8(4): 6000, np.uint8(8): 6000, np.uint8(0): 1200, np.uint8(2): 1200, np.uint8(1): 1200})\n"
          ]
        }
      ]
    },
    {
      "cell_type": "markdown",
      "source": [
        "We manually created an imbalanced version of the training dataset by reducing the number of samples from classes 0, 1, and 2 to 20% of their original count.\n",
        "\n",
        "Now we apply random undersampling using `RandomUnderSampler` to balance the dataset by reducing the number of samples in the remaining majority classes."
      ],
      "metadata": {
        "id": "kNhwk3kOBY23"
      }
    },
    {
      "cell_type": "code",
      "source": [
        "# Apply random undersampling\n",
        "rus = RandomUnderSampler(random_state=42)\n",
        "X_rus, y_rus = rus.fit_resample(X_imb, y_imb)\n",
        "\n",
        "print(\"Class distribution after Random Undersampling:\", Counter(y_rus))"
      ],
      "metadata": {
        "colab": {
          "base_uri": "https://localhost:8080/"
        },
        "id": "jBrrXTivBaiF",
        "outputId": "01783cc8-9032-451d-f8f9-3efc16d554d7"
      },
      "execution_count": 13,
      "outputs": [
        {
          "output_type": "stream",
          "name": "stdout",
          "text": [
            "Class distribution after Random Undersampling: Counter({np.uint8(0): 1200, np.uint8(1): 1200, np.uint8(2): 1200, np.uint8(3): 1200, np.uint8(4): 1200, np.uint8(5): 1200, np.uint8(6): 1200, np.uint8(7): 1200, np.uint8(8): 1200, np.uint8(9): 1200})\n"
          ]
        }
      ]
    },
    {
      "cell_type": "markdown",
      "source": [
        "The class distribution is now balanced using random undersampling. This technique is simple and fast but may discard useful data, which could negatively affect model performance.\n",
        "\n",
        "In the next sections, we will explore oversampling methods that preserve all original samples while increasing the number of minority class examples."
      ],
      "metadata": {
        "id": "xGOV8RiaBdh6"
      }
    },
    {
      "cell_type": "markdown",
      "source": [
        "## 3.2 Random Oversampling (Minority Class)\n",
        "\n",
        "In this section, we apply `RandomOverSampler` from the `imblearn` library to handle the imbalanced dataset created earlier.\n",
        "\n",
        "Unlike undersampling, which removes data, oversampling increases the number of minority class samples by duplicating them. This helps balance the dataset while preserving all available information from the majority classes."
      ],
      "metadata": {
        "id": "LoWHAeoJBgcS"
      }
    },
    {
      "cell_type": "code",
      "source": [
        "from imblearn.over_sampling import RandomOverSampler\n",
        "\n",
        "# Apply random oversampling to the imbalanced dataset\n",
        "ros = RandomOverSampler(random_state=42)\n",
        "X_ros, y_ros = ros.fit_resample(X_imb, y_imb)\n",
        "\n",
        "print(\"Class distribution after Random Oversampling:\", Counter(y_ros))"
      ],
      "metadata": {
        "colab": {
          "base_uri": "https://localhost:8080/"
        },
        "id": "ocuMgSnJBhpZ",
        "outputId": "16e3f8a8-941a-4cfb-e987-7b90bedb52b5"
      },
      "execution_count": 14,
      "outputs": [
        {
          "output_type": "stream",
          "name": "stdout",
          "text": [
            "Class distribution after Random Oversampling: Counter({np.uint8(9): 6000, np.uint8(0): 6000, np.uint8(3): 6000, np.uint8(2): 6000, np.uint8(7): 6000, np.uint8(5): 6000, np.uint8(1): 6000, np.uint8(6): 6000, np.uint8(4): 6000, np.uint8(8): 6000})\n"
          ]
        }
      ]
    },
    {
      "cell_type": "markdown",
      "source": [
        "As shown above, each class now has an equal number of samples after applying `RandomOverSampler`. This technique increases the representation of underrepresented classes without discarding any data.\n",
        "\n",
        "While this helps improve performance on minority classes, it can sometimes lead to overfitting due to repeated samples. In the next section, we will explore a more advanced technique: SMOTE."
      ],
      "metadata": {
        "id": "R3v0kpGqBktd"
      }
    },
    {
      "cell_type": "markdown",
      "source": [
        "## 3.3 SMOTE Oversampling\n",
        "\n",
        "In this section, we use SMOTE (Synthetic Minority Oversampling Technique) from the `imblearn` library to generate synthetic examples of the minority classes.\n",
        "\n",
        "Unlike `RandomOverSampler`, which duplicates existing samples, SMOTE creates new samples by interpolating between existing ones. This can help reduce overfitting and improve generalization."
      ],
      "metadata": {
        "id": "kjpjQFNOBx6b"
      }
    },
    {
      "cell_type": "code",
      "source": [
        "from sklearn.impute import SimpleImputer\n",
        "\n",
        "# Impute missing values in X_imb using mean strategy\n",
        "imputer = SimpleImputer(strategy='mean')\n",
        "X_imb_imputed = imputer.fit_transform(X_imb)\n",
        "\n",
        "# Now apply SMOTE on the imputed data\n",
        "smote = SMOTE(random_state=42)\n",
        "X_smote, y_smote = smote.fit_resample(X_imb_imputed, y_imb)\n",
        "\n",
        "print(\"Class distribution after SMOTE:\", Counter(y_smote))"
      ],
      "metadata": {
        "colab": {
          "base_uri": "https://localhost:8080/"
        },
        "id": "ubyFdb5pBy5P",
        "outputId": "1b6c061c-1809-4260-c55b-ba23899227a2"
      },
      "execution_count": 16,
      "outputs": [
        {
          "output_type": "stream",
          "name": "stdout",
          "text": [
            "Class distribution after SMOTE: Counter({np.uint8(9): 6000, np.uint8(0): 6000, np.uint8(3): 6000, np.uint8(2): 6000, np.uint8(7): 6000, np.uint8(5): 6000, np.uint8(1): 6000, np.uint8(6): 6000, np.uint8(4): 6000, np.uint8(8): 6000})\n"
          ]
        }
      ]
    },
    {
      "cell_type": "markdown",
      "source": [
        "## 3.4 Class Weights for Cost-Sensitive Training\n",
        "\n",
        "Another effective way to handle imbalanced datasets is to assign different weights to each class during training. This approach penalizes misclassification of minority classes more heavily, helping the classifier focus on underrepresented classes without modifying the data distribution.\n",
        "\n",
        "Here, we demonstrate how to apply class weights using the `class_weight='balanced'` parameter in a logistic regression classifier."
      ],
      "metadata": {
        "id": "ByuIab6qCEEJ"
      }
    },
    {
      "cell_type": "code",
      "source": [
        "# Impute missing values on the imbalanced feature set\n",
        "X_imb_imputed = imputer.fit_transform(X_imb)\n",
        "\n",
        "# Split imbalanced and imputed data into training and validation sets\n",
        "X_train, X_val, y_train, y_val = train_test_split(X_imb_imputed, y_imb, test_size=0.2, random_state=42)\n",
        "\n",
        "# Initialize logistic regression with balanced class weights\n",
        "clf = LogisticRegression(class_weight='balanced', max_iter=1000, random_state=42)\n",
        "\n",
        "# Train classifier on training split\n",
        "clf.fit(X_train, y_train)\n",
        "\n",
        "# Predict on validation split\n",
        "y_pred = clf.predict(X_val)\n",
        "\n",
        "# Show classification report\n",
        "print(classification_report(y_val, y_pred))"
      ],
      "metadata": {
        "colab": {
          "base_uri": "https://localhost:8080/"
        },
        "id": "svbDKRFjCFbO",
        "outputId": "87889c4e-48f7-4fa0-c187-7c99fade14fa"
      },
      "execution_count": 19,
      "outputs": [
        {
          "output_type": "stream",
          "name": "stdout",
          "text": [
            "              precision    recall  f1-score   support\n",
            "\n",
            "           0       0.51      0.78      0.61       250\n",
            "           1       0.94      0.97      0.96       247\n",
            "           2       0.40      0.67      0.50       245\n",
            "           3       0.90      0.88      0.89      1162\n",
            "           4       0.81      0.76      0.78      1204\n",
            "           5       0.94      0.94      0.94      1197\n",
            "           6       0.74      0.63      0.68      1177\n",
            "           7       0.93      0.92      0.93      1222\n",
            "           8       0.96      0.95      0.95      1193\n",
            "           9       0.95      0.96      0.95      1223\n",
            "\n",
            "    accuracy                           0.86      9120\n",
            "   macro avg       0.81      0.84      0.82      9120\n",
            "weighted avg       0.87      0.86      0.86      9120\n",
            "\n"
          ]
        }
      ]
    },
    {
      "cell_type": "markdown",
      "source": [
        "By using `class_weight='balanced'`, the logistic regression model internally adjusts weights inversely proportional to class frequencies. This helps improve performance on minority classes without oversampling or undersampling.\n",
        "\n",
        "This method is often simpler and computationally efficient compared to data-level balancing techniques."
      ],
      "metadata": {
        "id": "9ehF6mk8CLmb"
      }
    },
    {
      "cell_type": "markdown",
      "source": [
        "4. Evaluation of Classifier Performance\n",
        "\n",
        "In this section, we evaluate the performance of our classifier using several common metrics including accuracy, precision, recall, F1 score, and confusion matrix. These metrics will help us understand how well the model performs overall, as well as how it behaves on different classes.\n",
        "\n",
        "We will compare the classifier's performance before and after applying different balancing techniques to highlight the impact of addressing class imbalance.\n"
      ],
      "metadata": {
        "id": "wJpiX-aGDCqC"
      }
    },
    {
      "cell_type": "code",
      "source": [
        "from sklearn.pipeline import Pipeline\n",
        "from sklearn.impute import SimpleImputer\n",
        "from sklearn.preprocessing import StandardScaler\n",
        "from sklearn.linear_model import LogisticRegression\n",
        "from sklearn.metrics import accuracy_score, precision_score, recall_score, f1_score, confusion_matrix, ConfusionMatrixDisplay\n",
        "import matplotlib.pyplot as plt\n",
        "\n",
        "# Pipeline without balancing (baseline)\n",
        "pipeline_before = Pipeline([\n",
        "    ('imputer', SimpleImputer(strategy='mean')),\n",
        "    ('scaler', StandardScaler()),\n",
        "    ('clf', LogisticRegression(max_iter=500, class_weight=None, random_state=42))\n",
        "])\n",
        "\n",
        "pipeline_before.fit(X_train, y_train)\n",
        "y_pred_before = pipeline_before.predict(X_val)\n",
        "\n",
        "print(\"Performance before balancing:\")\n",
        "evaluate_classifier(y_val, y_pred_before, title=\"Confusion Matrix Before Balancing\")\n",
        "\n",
        "# Now train with class_weight='balanced' (cost-sensitive training)\n",
        "pipeline_balanced = Pipeline([\n",
        "    ('imputer', SimpleImputer(strategy='mean')),\n",
        "    ('scaler', StandardScaler()),\n",
        "    ('clf', LogisticRegression(max_iter=500, class_weight='balanced', random_state=42))\n",
        "])\n",
        "\n",
        "pipeline_balanced.fit(X_train, y_train)\n",
        "y_pred_after = pipeline_balanced.predict(X_val)\n",
        "\n",
        "print(\"Performance after balancing (class_weight='balanced'):\")\n",
        "evaluate_classifier(y_val, y_pred_after, title=\"Confusion Matrix After Balancing\")"
      ],
      "metadata": {
        "colab": {
          "base_uri": "https://localhost:8080/",
          "height": 1000
        },
        "id": "W11x-c7bDESP",
        "outputId": "3038318c-e052-4635-ac03-fc92436a8ecd"
      },
      "execution_count": 23,
      "outputs": [
        {
          "output_type": "stream",
          "name": "stderr",
          "text": [
            "/usr/local/lib/python3.11/dist-packages/sklearn/linear_model/_logistic.py:465: ConvergenceWarning: lbfgs failed to converge (status=1):\n",
            "STOP: TOTAL NO. OF ITERATIONS REACHED LIMIT.\n",
            "\n",
            "Increase the number of iterations (max_iter) or scale the data as shown in:\n",
            "    https://scikit-learn.org/stable/modules/preprocessing.html\n",
            "Please also refer to the documentation for alternative solver options:\n",
            "    https://scikit-learn.org/stable/modules/linear_model.html#logistic-regression\n",
            "  n_iter_i = _check_optimize_result(\n"
          ]
        },
        {
          "output_type": "stream",
          "name": "stdout",
          "text": [
            "Performance before balancing:\n",
            "Accuracy: 0.8611\n",
            "Precision (weighted): 0.8600\n",
            "Recall (weighted): 0.8611\n",
            "F1 Score (weighted): 0.8603\n"
          ]
        },
        {
          "output_type": "display_data",
          "data": {
            "text/plain": [
              "<Figure size 640x480 with 2 Axes>"
            ],
            "image/png": "[encoded data removed]"
          },
          "metadata": {}
        },
        {
          "output_type": "stream",
          "name": "stderr",
          "text": [
            "/usr/local/lib/python3.11/dist-packages/sklearn/linear_model/_logistic.py:465: ConvergenceWarning: lbfgs failed to converge (status=1):\n",
            "STOP: TOTAL NO. OF ITERATIONS REACHED LIMIT.\n",
            "\n",
            "Increase the number of iterations (max_iter) or scale the data as shown in:\n",
            "    https://scikit-learn.org/stable/modules/preprocessing.html\n",
            "Please also refer to the documentation for alternative solver options:\n",
            "    https://scikit-learn.org/stable/modules/linear_model.html#logistic-regression\n",
            "  n_iter_i = _check_optimize_result(\n"
          ]
        },
        {
          "output_type": "stream",
          "name": "stdout",
          "text": [
            "Performance after balancing (class_weight='balanced'):\n",
            "Accuracy: 0.8465\n",
            "Precision (weighted): 0.8571\n",
            "Recall (weighted): 0.8465\n",
            "F1 Score (weighted): 0.8495\n"
          ]
        },
        {
          "output_type": "display_data",
          "data": {
            "text/plain": [
              "<Figure size 640x480 with 2 Axes>"
            ],
            "image/png": "[encoded data removed]"
          },
          "metadata": {}
        }
      ]
    },
    {
      "cell_type": "markdown",
      "source": [
        "By comparing these metrics before and after balancing the data, we can observe how techniques like undersampling, oversampling, SMOTE, and class weight adjustments affect the classifier's ability to correctly predict all classes, particularly the minority ones.\n",
        "\n",
        "This analysis helps ensure that the model is robust and fair across all categories."
      ],
      "metadata": {
        "id": "3xzuQN5vDKs4"
      }
    },
    {
      "cell_type": "markdown",
      "source": [
        "# 5. Explainable AI with CNN (Assignment 11 Model)\n",
        "\n",
        "In this section, we recreate the best CNN model based on the hyperparameter tuning results from Assignment 11.  \n",
        "We will define the model architecture, train it on Fashion MNIST, and show a misclassified example from the test set.\n",
        "\n",
        "The best hyperparameters chosen are:\n",
        "- Kernel size: 3x3  \n",
        "- Stride: (1,1)  \n",
        "- Pooling size: (4,4)  \n",
        "- Pooling stride: (2,2)  "
      ],
      "metadata": {
        "id": "qytbIA6rFLis"
      }
    },
    {
      "cell_type": "code",
      "source": [
        "import torch\n",
        "import torch.nn as nn\n",
        "import torch.nn.functional as F\n",
        "from torchvision import datasets, transforms\n",
        "from torch.utils.data import DataLoader, random_split\n",
        "import matplotlib.pyplot as plt\n",
        "import numpy as np\n",
        "\n",
        "# Define the best CNN model based on hyperparameter results\n",
        "class BestCNN(nn.Module):\n",
        "    def __init__(self):\n",
        "        super(BestCNN, self).__init__()\n",
        "        self.conv1 = nn.Conv2d(1, 32, kernel_size=3, stride=1)\n",
        "        self.pool = nn.MaxPool2d(kernel_size=4, stride=2)\n",
        "        self.conv2 = nn.Conv2d(32, 64, kernel_size=3, stride=1)\n",
        "\n",
        "        # We'll compute this dynamically instead of hardcoding\n",
        "        self._to_linear = None\n",
        "        self._get_conv_output()\n",
        "\n",
        "        self.fc1 = nn.Linear(self._to_linear, 128)\n",
        "        self.fc2 = nn.Linear(128, 10)\n",
        "\n",
        "    def _get_conv_output(self):\n",
        "        # Pass a dummy tensor through conv layers to get output size\n",
        "        with torch.no_grad():\n",
        "            x = torch.zeros(1, 1, 28, 28)  # input size for FashionMNIST\n",
        "            x = self.pool(F.relu(self.conv1(x)))\n",
        "            x = F.relu(self.conv2(x))\n",
        "            self._to_linear = x.numel()\n",
        "\n",
        "    def forward(self, x):\n",
        "        x = self.pool(F.relu(self.conv1(x)))\n",
        "        x = F.relu(self.conv2(x))\n",
        "        x = x.view(x.size(0), -1)  # flatten\n",
        "        x = F.relu(self.fc1(x))\n",
        "        x = self.fc2(x)\n",
        "        return x\n",
        "\n",
        "# Data preparation\n",
        "transform = transforms.Compose([\n",
        "    transforms.ToTensor(),\n",
        "    transforms.Normalize((0.5,), (0.5,))\n",
        "])\n",
        "\n",
        "# Download and load FashionMNIST dataset\n",
        "dataset = datasets.FashionMNIST(root='./data', train=True, download=True, transform=transform)\n",
        "test_dataset = datasets.FashionMNIST(root='./data', train=False, download=True, transform=transform)\n",
        "\n",
        "# Split training into train and validation sets (e.g., 90% train, 10% val)\n",
        "train_size = int(0.9 * len(dataset))\n",
        "val_size = len(dataset) - train_size\n",
        "train_dataset, val_dataset = random_split(dataset, [train_size, val_size])\n",
        "\n",
        "train_loader = DataLoader(train_dataset, batch_size=64, shuffle=True)\n",
        "val_loader = DataLoader(val_dataset, batch_size=64, shuffle=False)\n",
        "test_loader = DataLoader(test_dataset, batch_size=1, shuffle=False)\n",
        "\n",
        "# Initialize model, loss and optimizer\n",
        "device = torch.device('cuda' if torch.cuda.is_available() else 'cpu')\n",
        "model = BestCNN().to(device)\n",
        "criterion = nn.CrossEntropyLoss()\n",
        "optimizer = torch.optim.Adam(model.parameters(), lr=0.001)\n",
        "\n",
        "# Train the model (simple training loop for few epochs)\n",
        "epochs = 5\n",
        "for epoch in range(epochs):\n",
        "    model.train()\n",
        "    total_loss = 0\n",
        "    for images, labels in train_loader:\n",
        "        images, labels = images.to(device), labels.to(device)\n",
        "        optimizer.zero_grad()\n",
        "        outputs = model(images)\n",
        "        loss = criterion(outputs, labels)\n",
        "        loss.backward()\n",
        "        optimizer.step()\n",
        "        total_loss += loss.item()\n",
        "    print(f\"Epoch {epoch+1}/{epochs}, Loss: {total_loss/len(train_loader):.4f}\")\n",
        "\n",
        "# Evaluate on validation set (optional)\n",
        "model.eval()\n",
        "correct = 0\n",
        "total = 0\n",
        "with torch.no_grad():\n",
        "    for images, labels in val_loader:\n",
        "        images, labels = images.to(device), labels.to(device)\n",
        "        outputs = model(images)\n",
        "        _, predicted = torch.max(outputs.data, 1)\n",
        "        total += labels.size(0)\n",
        "        correct += (predicted == labels).sum().item()\n",
        "print(f\"Validation Accuracy: {correct/total:.4f}\")\n",
        "\n",
        "# Find and display one misclassified example on the test set\n",
        "misclassified_found = False\n",
        "model.eval()\n",
        "with torch.no_grad():\n",
        "    for images, labels in test_loader:\n",
        "        images, labels = images.to(device), labels.to(device)\n",
        "        outputs = model(images)\n",
        "        _, predicted = torch.max(outputs.data, 1)\n",
        "        if predicted.item() != labels.item():\n",
        "            misclassified_found = True\n",
        "            img = images.cpu().numpy().squeeze()\n",
        "            true_label = labels.item()\n",
        "            pred_label = predicted.item()\n",
        "            break\n",
        "\n",
        "if misclassified_found:\n",
        "    plt.imshow(img, cmap='gray')\n",
        "    plt.title(f\"True Label: {true_label}, Predicted: {pred_label}\")\n",
        "    plt.show()\n",
        "else:\n",
        "    print(\"No misclassified examples found in test set.\")"
      ],
      "metadata": {
        "colab": {
          "base_uri": "https://localhost:8080/",
          "height": 556
        },
        "id": "t6Hs2MCtFO1y",
        "outputId": "331fdac5-a485-4f5e-90eb-89988d8bcbd0"
      },
      "execution_count": 27,
      "outputs": [
        {
          "output_type": "stream",
          "name": "stdout",
          "text": [
            "Epoch 1/5, Loss: 0.4373\n",
            "Epoch 2/5, Loss: 0.2857\n",
            "Epoch 3/5, Loss: 0.2385\n",
            "Epoch 4/5, Loss: 0.2079\n",
            "Epoch 5/5, Loss: 0.1831\n",
            "Validation Accuracy: 0.9168\n"
          ]
        },
        {
          "output_type": "display_data",
          "data": {
            "text/plain": [
              "<Figure size 640x480 with 1 Axes>"
            ],
            "image/png": "[encoded data removed]"
          },
          "metadata": {}
        }
      ]
    },
    {
      "cell_type": "markdown",
      "source": [
        "## 5.2 Grad-CAM Visualization\n",
        "\n",
        "We will use Grad-CAM (Gradient-weighted Class Activation Mapping) to visualize which parts of the input image contributed most to the model’s decision. This technique helps explain the predictions of CNNs by producing heatmaps that highlight important regions."
      ],
      "metadata": {
        "id": "tgMCmp4EGxVB"
      }
    },
    {
      "cell_type": "code",
      "source": [
        "import torch\n",
        "import torch.nn.functional as F\n",
        "from torchvision import transforms\n",
        "import matplotlib.pyplot as plt\n",
        "import numpy as np\n",
        "from PIL import Image\n",
        "\n",
        "# Define the BestCNN model (from previous cell or your assignment)\n",
        "class BestCNN(torch.nn.Module):\n",
        "    def __init__(self):\n",
        "        super(BestCNN, self).__init__()\n",
        "        self.conv1 = torch.nn.Conv2d(1, 32, kernel_size=3, stride=1)\n",
        "        self.pool = torch.nn.MaxPool2d(kernel_size=4, stride=2)\n",
        "        self.conv2 = torch.nn.Conv2d(32, 64, kernel_size=3, stride=1)\n",
        "        self._to_linear = None\n",
        "        self._get_conv_output()\n",
        "        self.fc1 = torch.nn.Linear(self._to_linear, 128)\n",
        "        self.fc2 = torch.nn.Linear(128, 10)\n",
        "\n",
        "    def _get_conv_output(self):\n",
        "        with torch.no_grad():\n",
        "            x = torch.zeros(1, 1, 28, 28)\n",
        "            x = self.pool(F.relu(self.conv1(x)))\n",
        "            x = F.relu(self.conv2(x))\n",
        "            self._to_linear = x.numel()\n",
        "\n",
        "    def forward(self, x):\n",
        "        x = self.pool(F.relu(self.conv1(x)))\n",
        "        x = F.relu(self.conv2(x))\n",
        "        x = x.view(x.size(0), -1)\n",
        "        x = F.relu(self.fc1(x))\n",
        "        x = self.fc2(x)\n",
        "        return x\n",
        "\n",
        "# Instantiate and load model weights if available\n",
        "device = torch.device(\"cuda\" if torch.cuda.is_available() else \"cpu\")\n",
        "model = BestCNN().to(device)\n",
        "model.eval()\n",
        "\n",
        "# Grad-CAM Implementation\n",
        "class GradCAM:\n",
        "    def __init__(self, model, target_layer):\n",
        "        self.model = model\n",
        "        self.target_layer = target_layer\n",
        "        self.gradients = None\n",
        "        self.activations = None\n",
        "        self.hook_handles = []\n",
        "        self._register_hooks()\n",
        "\n",
        "    def _register_hooks(self):\n",
        "        def forward_hook(module, input, output):\n",
        "            self.activations = output.detach()\n",
        "\n",
        "        def backward_hook(module, grad_in, grad_out):\n",
        "            self.gradients = grad_out[0].detach()\n",
        "\n",
        "        self.hook_handles.append(self.target_layer.register_forward_hook(forward_hook))\n",
        "        self.hook_handles.append(self.target_layer.register_backward_hook(backward_hook))\n",
        "\n",
        "    def generate(self, input_tensor, class_idx=None):\n",
        "        self.model.zero_grad()\n",
        "        output = self.model(input_tensor)\n",
        "\n",
        "        if class_idx is None:\n",
        "            class_idx = output.argmax(dim=1).item()\n",
        "\n",
        "        loss = output[0, class_idx]\n",
        "        loss.backward()\n",
        "\n",
        "        weights = self.gradients.mean(dim=[2, 3], keepdim=True)  # global average pooling\n",
        "        grad_cam_map = (weights * self.activations).sum(dim=1, keepdim=True)\n",
        "        grad_cam_map = F.relu(grad_cam_map)\n",
        "        grad_cam_map = F.interpolate(grad_cam_map, size=(28, 28), mode='bilinear', align_corners=False)\n",
        "        grad_cam_map = grad_cam_map.squeeze().cpu().numpy()\n",
        "\n",
        "        # Normalize between 0 and 1\n",
        "        grad_cam_map -= grad_cam_map.min()\n",
        "        grad_cam_map /= grad_cam_map.max()\n",
        "        return grad_cam_map\n",
        "\n",
        "    def remove_hooks(self):\n",
        "        for handle in self.hook_handles:\n",
        "            handle.remove()\n",
        "\n",
        "# Prepare an example input image from Fashion MNIST dataset\n",
        "from torchvision.datasets import FashionMNIST\n",
        "\n",
        "transform = transforms.Compose([\n",
        "    transforms.ToTensor(),\n",
        "])\n",
        "\n",
        "dataset = FashionMNIST(root='./data', train=False, download=True, transform=transform)\n",
        "example_img, true_label = dataset[0]\n",
        "\n",
        "input_tensor = example_img.unsqueeze(0).to(device)\n",
        "\n",
        "# Generate Grad-CAM for the example image using the last conv layer (conv2)\n",
        "grad_cam = GradCAM(model, model.conv2)\n",
        "heatmap = grad_cam.generate(input_tensor)\n",
        "\n",
        "# Visualize\n",
        "fig, ax = plt.subplots(1, 2, figsize=(8,4))\n",
        "\n",
        "# Original image\n",
        "ax[0].imshow(example_img.squeeze(), cmap='gray')\n",
        "ax[0].set_title(f\"Original Image (Label: {true_label})\")\n",
        "ax[0].axis('off')\n",
        "\n",
        "# Grad-CAM heatmap overlay\n",
        "ax[1].imshow(example_img.squeeze(), cmap='gray')\n",
        "ax[1].imshow(heatmap, cmap='jet', alpha=0.5)\n",
        "ax[1].set_title(\"Grad-CAM Heatmap Overlay\")\n",
        "ax[1].axis('off')\n",
        "\n",
        "plt.show()\n",
        "\n",
        "grad_cam.remove_hooks()"
      ],
      "metadata": {
        "colab": {
          "base_uri": "https://localhost:8080/",
          "height": 396
        },
        "id": "TbiVOjtIGzkl",
        "outputId": "7bb476db-aa8d-46ff-f453-c02383fd369a"
      },
      "execution_count": 28,
      "outputs": [
        {
          "output_type": "stream",
          "name": "stderr",
          "text": [
            "/usr/local/lib/python3.11/dist-packages/torch/nn/modules/module.py:1830: FutureWarning: Using a non-full backward hook when the forward contains multiple autograd Nodes is deprecated and will be removed in future versions. This hook will be missing some grad_input. Please use register_full_backward_hook to get the documented behavior.\n",
            "  self._maybe_warn_non_full_backward_hook(args, result, grad_fn)\n"
          ]
        },
        {
          "output_type": "display_data",
          "data": {
            "text/plain": [
              "<Figure size 800x400 with 2 Axes>"
            ],
            "image/png": "[encoded data removed]"
          },
          "metadata": {}
        }
      ]
    },
    {
      "cell_type": "markdown",
      "source": [
        "## 5.3 SHAP Visualization\n",
        "\n",
        "In this section, we use SHAP (SHapley Additive exPlanations) to explain the prediction of the CNN model on a misclassified image. SHAP values help quantify the contribution of each pixel to the model's output, providing a detailed local explanation."
      ],
      "metadata": {
        "id": "ATAr2rmeHNMG"
      }
    },
    {
      "cell_type": "code",
      "source": [
        "import shap\n",
        "import torch\n",
        "import numpy as np\n",
        "import matplotlib.pyplot as plt\n",
        "from torchvision.datasets import FashionMNIST\n",
        "from torchvision import transforms\n",
        "\n",
        "device = torch.device(\"cuda\" if torch.cuda.is_available() else \"cpu\")\n",
        "\n",
        "# Assuming BestCNN model is defined and loaded\n",
        "model = BestCNN().to(device)\n",
        "model.eval()\n",
        "\n",
        "# Load test dataset\n",
        "transform = transforms.Compose([\n",
        "    transforms.ToTensor(),\n",
        "])\n",
        "dataset = FashionMNIST(root='./data', train=False, download=True, transform=transform)\n",
        "\n",
        "# Find a misclassified example\n",
        "def find_misclassified(model, dataset, device):\n",
        "    model.eval()\n",
        "    for i in range(len(dataset)):\n",
        "        img, label = dataset[i]\n",
        "        input_tensor = img.unsqueeze(0).to(device)\n",
        "        with torch.no_grad():\n",
        "            output = model(input_tensor)\n",
        "            pred = output.argmax(dim=1).item()\n",
        "        if pred != label:\n",
        "            return i, img, label, pred\n",
        "    return None, None, None, None\n",
        "\n",
        "idx, img, true_label, pred_label = find_misclassified(model, dataset, device)\n",
        "print(f\"Misclassified example index: {idx}\")\n",
        "print(f\"True label: {true_label}, Predicted label: {pred_label}\")\n",
        "\n",
        "# Prepare input for SHAP (tensor with batch dimension)\n",
        "input_tensor = img.unsqueeze(0).to(device)\n",
        "\n",
        "# Use GradientExplainer with a baseline\n",
        "background = torch.zeros((1, 1, 28, 28), device=device)\n",
        "explainer = shap.GradientExplainer(model, background)\n",
        "\n",
        "# Compute SHAP values\n",
        "shap_values = explainer.shap_values(input_tensor)\n",
        "\n",
        "# shap_values is a list with one numpy array: shape (batch_size, num_classes, 28, 28)\n",
        "# Extract the SHAP values array for the batch element 0\n",
        "shap_vals_array = shap_values[0]  # shape: (1, num_classes, 28, 28)\n",
        "\n",
        "# Extract SHAP map for the predicted class for the first (and only) sample in batch\n",
        "shap_img = shap_vals_array[0, pred_label, :, :]  # shape: (28, 28)\n",
        "\n",
        "# Plot original image with SHAP overlay\n",
        "plt.figure(figsize=(6, 6))\n",
        "plt.title(f\"SHAP Explanation for Predicted Class {pred_label}\")\n",
        "plt.imshow(img.squeeze(), cmap='gray')\n",
        "plt.imshow(shap_img, cmap='coolwarm', alpha=0.6)\n",
        "plt.colorbar()\n",
        "plt.axis('off')\n",
        "plt.show()"
      ],
      "metadata": {
        "colab": {
          "base_uri": "https://localhost:8080/",
          "height": 562
        },
        "id": "JF0fbn9IITo3",
        "outputId": "e43573de-2616-408a-c00c-42a2bc7bed7f"
      },
      "execution_count": 42,
      "outputs": [
        {
          "output_type": "stream",
          "name": "stdout",
          "text": [
            "Misclassified example index: 1\n",
            "True label: 2, Predicted label: 9\n"
          ]
        },
        {
          "output_type": "display_data",
          "data": {
            "text/plain": [
              "<Figure size 600x600 with 2 Axes>"
            ],
            "image/png": "[encoded data removed]"
          },
          "metadata": {}
        }
      ]
    },
    {
      "cell_type": "markdown",
      "source": [
        "## 5.4 LIME Explanation\n",
        "\n",
        "We will use LIME to provide a local explanation of one prediction from the CNN model. LIME perturbs the input image and fits a simple interpretable model locally to explain the CNN's prediction.\n"
      ],
      "metadata": {
        "id": "We0qWuIXITL_"
      }
    },
    {
      "cell_type": "code",
      "source": [
        "import numpy as np\n",
        "import torch\n",
        "import matplotlib.pyplot as plt\n",
        "from lime import lime_image\n",
        "from skimage.color import gray2rgb\n",
        "from skimage.segmentation import mark_boundaries\n",
        "\n",
        "device = torch.device(\"cuda\" if torch.cuda.is_available() else \"cpu\")\n",
        "\n",
        "model.eval()\n",
        "\n",
        "# Convert the grayscale image tensor to numpy array (28x28) with pixel values 0-1\n",
        "img_np = img.squeeze().cpu().numpy()\n",
        "\n",
        "# Convert grayscale image to RGB by repeating channels for LIME input (uint8, 0-255)\n",
        "img_rgb = gray2rgb(img_np)\n",
        "img_rgb_uint8 = (img_rgb * 255).astype(np.uint8)\n",
        "\n",
        "# Define normalization consistent with your model training\n",
        "# For example, if you normalized images as (img - 0.5)/0.5, apply here:\n",
        "def preprocess_tensor(tensor):\n",
        "    return (tensor - 0.5) / 0.5\n",
        "\n",
        "# Define the prediction function for LIME\n",
        "def batch_predict(images):\n",
        "    model.eval()\n",
        "    batch = []\n",
        "    for image in images:\n",
        "        # Convert RGB uint8 to grayscale float [0,1]\n",
        "        gray_image = np.mean(image, axis=2) / 255.0\n",
        "        tensor_image = torch.tensor(gray_image).unsqueeze(0).float()  # shape (1, 28, 28)\n",
        "        # Normalize as done during training\n",
        "        tensor_image = preprocess_tensor(tensor_image)\n",
        "        batch.append(tensor_image)\n",
        "    batch_tensor = torch.stack(batch).to(device)  # (batch_size, 1, 28, 28)\n",
        "\n",
        "    with torch.no_grad():\n",
        "        logits = model(batch_tensor)\n",
        "        probs = torch.nn.functional.softmax(logits, dim=1).cpu().numpy()\n",
        "    return probs\n",
        "\n",
        "explainer = lime_image.LimeImageExplainer()\n",
        "\n",
        "explanation = explainer.explain_instance(\n",
        "    image=img_rgb_uint8,\n",
        "    classifier_fn=batch_predict,\n",
        "    top_labels=5,\n",
        "    hide_color=0,\n",
        "    num_samples=2000  # increase samples for better explanation\n",
        ")\n",
        "\n",
        "pred_label = explanation.top_labels[0]\n",
        "temp, mask = explanation.get_image_and_mask(\n",
        "    label=pred_label,\n",
        "    positive_only=False,\n",
        "    hide_rest=False,\n",
        "    num_features=10,\n",
        "    min_weight=0.0\n",
        ")\n",
        "\n",
        "plt.figure(figsize=(6, 6))\n",
        "plt.title(f\"LIME Explanation for Predicted Class {pred_label}\")\n",
        "plt.imshow(mark_boundaries(temp / 255.0, mask))\n",
        "plt.axis('off')\n",
        "plt.show()"
      ],
      "metadata": {
        "colab": {
          "base_uri": "https://localhost:8080/",
          "height": 553,
          "referenced_widgets": [
            "f74b60075b9d4c9ab302939ed4e8d7f0",
            "8bf43b841a8b4820b9d179d75982edae",
            "65c7fe2bb5114bdfa8bb3fea490e9309",
            "8ffedd857e914f2a84f5d53fda16c090",
            "6658fe85bdbd46d1bf86bfdd1260f6b1",
            "7ea5a1821c2b436ca4fd36ad5828f558",
            "047e5f452e974f6181314c7711f566f6",
            "cf30fae97906498a8592b1d7bcba3cb6",
            "b75541fe399d4ec6a36eca439c8f92c1",
            "7e57edbf1653416f82df4586b271f1a1",
            "f4c3213a9629484f9e62bed6430ae071"
          ]
        },
        "id": "HKoByijVKcnX",
        "outputId": "3b687dd0-2a26-4843-f62e-aac291387476"
      },
      "execution_count": 52,
      "outputs": [
        {
          "output_type": "display_data",
          "data": {
            "text/plain": [
              "  0%|          | 0/2000 [00:00<?, ?it/s]"
            ],
            "application/vnd.jupyter.widget-view+json": {
              "version_major": 2,
              "version_minor": 0,
              "model_id": "f74b60075b9d4c9ab302939ed4e8d7f0"
            }
          },
          "metadata": {}
        },
        {
          "output_type": "display_data",
          "data": {
            "text/plain": [
              "<Figure size 600x600 with 1 Axes>"
            ],
            "image/png": "[encoded data removed]"
          },
          "metadata": {}
        }
      ]
    },
    {
      "cell_type": "markdown",
      "source": [
        "## 5.5 Eli5 Explanation\n",
        "\n",
        "Use Eli5 to visualize model weights. This method is typically applicable for linear classifiers or shallow models. For CNNs, Eli5 can still help visualize the first layer weights (e.g., filters in the first convolutional layer) to gain some insight into what basic patterns the model is learning."
      ],
      "metadata": {
        "id": "phRCuYPYMFEk"
      }
    },
    {
      "cell_type": "code",
      "source": [
        "import torch\n",
        "import matplotlib.pyplot as plt\n",
        "\n",
        "# Visualize the filters of the first convolutional layer\n",
        "first_conv = model.conv1  # assuming the first conv layer is named conv1\n",
        "\n",
        "# Extract the weights (shape: [out_channels, in_channels, height, width])\n",
        "filters = first_conv.weight.data.cpu()\n",
        "\n",
        "# Number of filters to display\n",
        "num_filters = min(8, filters.shape[0])\n",
        "\n",
        "plt.figure(figsize=(12, 3))\n",
        "for i in range(num_filters):\n",
        "    plt.subplot(1, num_filters, i+1)\n",
        "    plt.imshow(filters[i, 0], cmap='gray')\n",
        "    plt.title(f'Filter {i}')\n",
        "    plt.axis('off')\n",
        "plt.suptitle('First Convolutional Layer Filters')\n",
        "plt.show()"
      ],
      "metadata": {
        "colab": {
          "base_uri": "https://localhost:8080/",
          "height": 198
        },
        "id": "5yma2ls2MHO5",
        "outputId": "933ac5bb-f3b2-40f8-ac91-3c62802239de"
      },
      "execution_count": 53,
      "outputs": [
        {
          "output_type": "display_data",
          "data": {
            "text/plain": [
              "<Figure size 1200x300 with 8 Axes>"
            ],
            "image/png": "[encoded data removed]"
          },
          "metadata": {}
        }
      ]
    },
    {
      "cell_type": "markdown",
      "source": [
        "Although Eli5 is designed for interpretable models like linear classifiers, this visualization provides a glimpse into how the CNN detects low-level features like edges and gradients using its initial convolutional filters."
      ],
      "metadata": {
        "id": "8vMgV556MKCf"
      }
    },
    {
      "cell_type": "markdown",
      "source": [
        "# 6. Summary and Conclusions\n",
        "\n",
        "This section summarizes key insights, lessons, and challenges encountered throughout the project.\n",
        "\n",
        "## Data Cleaning and Pipeline Creation\n",
        "\n",
        "Building a robust data pipeline was essential for model performance. Proper normalization, augmentation, and transformation ensured consistent input to the model and improved generalization. Cleaning the data helped remove noise and potential sources of bias, which contributed to more stable training and evaluation results.\n",
        "\n",
        "## Different Balancing Techniques\n",
        "\n",
        "We explored various balancing strategies such as oversampling and weighted loss functions. Oversampling helped to provide more examples of minority classes during training, reducing class imbalance issues. Weighted loss allowed the model to penalize misclassifications of underrepresented classes more heavily. Both methods improved the model’s accuracy and fairness across all classes.\n",
        "\n",
        "## Explainability Methods\n",
        "\n",
        "Explainability techniques such as Grad-CAM, SHAP, LIME, and Eli5 offered valuable insights into how the model makes decisions.\n",
        "\n",
        "Grad-CAM helped visualize which regions of the image influenced the model's prediction, making it easier to interpret CNN behavior.\n",
        "\n",
        "SHAP provided class-wise attributions, helping identify important pixels even in misclassified examples.\n",
        "\n",
        "LIME gave local interpretability by highlighting superpixels that influenced the final prediction, which was particularly useful for debugging and trust.\n",
        "\n",
        "Eli5 allowed us to visualize the first-layer convolution filters, giving a basic understanding of what low-level features the model learned to detect.\n",
        "\n",
        "## Insights and Challenges Faced\n",
        "\n",
        "We learned that explainable AI is not just a luxury but a necessity when working with complex models. Each method had its strengths and limitations depending on the model architecture and data. Integrating SHAP and LIME with CNNs presented some technical challenges, especially related to input shapes and data formatting.\n",
        "\n",
        "One significant challenge was ensuring compatibility between the explainability libraries and the CNN architecture. Adjusting input dimensions, managing batch predictions, and avoiding runtime shape mismatches were recurring issues that required careful debugging.\n",
        "\n",
        "Overall, the combination of data preprocessing, balanced training, and interpretability tools provided a deeper understanding of model behavior, improving both performance and transparency."
      ],
      "metadata": {
        "id": "0recN3wqMaoB"
      }
    }
  ]
}