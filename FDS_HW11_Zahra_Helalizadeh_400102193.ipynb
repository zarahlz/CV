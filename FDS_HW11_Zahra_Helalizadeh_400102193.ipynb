{
  "nbformat": 4,
  "nbformat_minor": 0,
  "metadata": {
    "colab": {
      "provenance": [],
      "gpuType": "T4"
    },
    "kernelspec": {
      "name": "python3",
      "display_name": "Python 3"
    },
    "language_info": {
      "name": "python"
    },
    "accelerator": "GPU"
  },
  "cells": [
    {
      "cell_type": "markdown",
      "source": [
        "<font face=\"Times New Roman\" size=5>\n",
        "<div dir=rtl align=\"center\">\n",
        "<font face=\"Times New Roman\" size=5>\n",
        "</font>\n",
        "<br>\n",
        "<img src=\"https://static.tildacdn.one/tild3639-3035-4131-a461-363737393037/noroot.png\" alt=\"University Logo\" width=\"400\" height=\"224\">\n",
        "<br>\n",
        "<font face=\"Times New Roman\" size=5 align=center>\n",
        "Sharif University of Technology\n",
        "<br>\n",
        "Electrical Engineering Department\n",
        "</font>\n",
        "<br>\n",
        "<font size=6>\n",
        "Assignment 11: Convolutional Neural Networks, Transfer Learning and Data Augmentation\n",
        "</font>\n",
        "<br>\n",
        "<font size=4>\n",
        "Zahra Helalizadeh 400102193\n",
        "<br>\n",
        "</font>\n",
        "<font size=4>\n",
        "Spring 2025\n",
        "<br>\n",
        "</font>\n",
        "<font face=\"Times New Roman\" size=4>\n",
        "</font>\n",
        "</div></font>"
      ],
      "metadata": {
        "id": "eDR5bq5KnSW3"
      }
    },
    {
      "cell_type": "markdown",
      "source": [
        "# 1. Introduction\n",
        "\n",
        "## 1.1 Objective\n",
        "\n",
        "The objective of this assignment is to gain hands-on experience with Convolutional Neural Networks (CNNs) for image classification tasks using the Fashion MNIST dataset. Throughout this notebook, we will:\n",
        "\n",
        "- Design and train CNN models from scratch using Keras.\n",
        "- Tune key hyperparameters such as kernel size, stride, and pooling parameters to observe their effect on model performance.\n",
        "- Apply data augmentation techniques using the `ImageDataGenerator` class to improve generalization and model robustness.\n",
        "- Use transfer learning by leveraging pre-trained models from Keras Applications such as VGG19 and EfficientNet.\n",
        "- Evaluate models using 3-fold cross-validation and report the average validation accuracy.\n",
        "\n",
        "The Fashion MNIST dataset provides a practical context for experimenting with these deep learning concepts, as it contains grayscale images of clothing items categorized into ten different classes. This assignment aims to build intuition around model architecture design, hyperparameter tuning, and the impact of data augmentation and transfer learning on classification accuracy."
      ],
      "metadata": {
        "id": "T72iwZFMsIJw"
      }
    },
    {
      "cell_type": "markdown",
      "source": [
        "## 1.2 Dataset Description\n",
        "\n",
        "The Fashion MNIST dataset is a collection of grayscale images designed as a more challenging replacement for the original MNIST handwritten digit dataset. It contains a total of 70,000 images of fashion products from 10 different categories.\n",
        "\n",
        "Each image in the dataset is a 28x28 pixel grayscale image, resulting in 784 total pixel values per image. The dataset is split into 60,000 training samples and 10,000 test samples.\n",
        "\n",
        "The 10 classes in the Fashion MNIST dataset are as follows:\n",
        "\n",
        "0: T-shirt/top  \n",
        "1: Trouser  \n",
        "2: Pullover  \n",
        "3: Dress  \n",
        "4: Coat  \n",
        "5: Sandal  \n",
        "6: Shirt  \n",
        "7: Sneaker  \n",
        "8: Bag  \n",
        "9: Ankle boot\n",
        "\n",
        "These images are centered and size-normalized. The dataset is widely used as a benchmarking tool in the machine learning and deep learning communities for evaluating image classification models."
      ],
      "metadata": {
        "id": "YZaLy6G5tTFI"
      }
    },
    {
      "cell_type": "markdown",
      "source": [
        "## 1.3 Environment Setup\n",
        "\n",
        "In this assignment, we will use the following Python libraries:\n",
        "\n",
        "TensorFlow and Keras: For building and training convolutional neural networks.  \n",
        "NumPy: For numerical operations and array handling.  \n",
        "Matplotlib and Seaborn: For data visualization.  \n",
        "Scikit-learn: For performing 3-fold cross-validation.  "
      ],
      "metadata": {
        "id": "OCObPzbltVTx"
      }
    },
    {
      "cell_type": "code",
      "execution_count": 2,
      "metadata": {
        "id": "Dpc6s89pnNpF"
      },
      "outputs": [],
      "source": [
        "# Import required libraries\n",
        "\n",
        "import numpy as np\n",
        "import matplotlib.pyplot as plt\n",
        "import seaborn as sns\n",
        "\n",
        "import tensorflow as tf\n",
        "from tensorflow import keras\n",
        "from tensorflow.keras import layers, models\n",
        "from tensorflow.keras.preprocessing.image import ImageDataGenerator\n",
        "from tensorflow.keras.utils import to_categorical\n",
        "from tensorflow.keras.applications import VGG19, EfficientNetB0\n",
        "\n",
        "from sklearn.model_selection import KFold\n",
        "from sklearn.metrics import classification_report, confusion_matrix"
      ]
    },
    {
      "cell_type": "code",
      "source": [
        "# Check TensorFlow version and GPU availability\n",
        "print(\"TensorFlow version:\", tf.__version__)\n",
        "print(\"Num GPUs Available:\", len(tf.config.list_physical_devices('GPU')))"
      ],
      "metadata": {
        "colab": {
          "base_uri": "https://localhost:8080/"
        },
        "id": "Rds0cc-ztcKz",
        "outputId": "1087aa72-3222-47a4-d040-4698ead3855c"
      },
      "execution_count": 3,
      "outputs": [
        {
          "output_type": "stream",
          "name": "stdout",
          "text": [
            "TensorFlow version: 2.18.0\n",
            "Num GPUs Available: 1\n"
          ]
        }
      ]
    },
    {
      "cell_type": "markdown",
      "source": [
        "# 2. Data Preparation\n",
        "\n",
        "## 2.1 Load and Visualize Dataset\n",
        "\n",
        "In this section, we load the Fashion MNIST dataset using Keras and visualize a few samples along with their corresponding class labels. This helps us understand the nature of the data we are working with."
      ],
      "metadata": {
        "id": "NchFamy5tfIz"
      }
    },
    {
      "cell_type": "code",
      "source": [
        "# Load the Fashion MNIST dataset\n",
        "from tensorflow.keras.datasets import fashion_mnist\n",
        "\n",
        "(x_train, y_train), (x_test, y_test) = fashion_mnist.load_data()"
      ],
      "metadata": {
        "colab": {
          "base_uri": "https://localhost:8080/"
        },
        "id": "xD0tmNlVtifR",
        "outputId": "daa4ffe0-3c74-44f7-be68-d48e975d6ad9"
      },
      "execution_count": 4,
      "outputs": [
        {
          "output_type": "stream",
          "name": "stdout",
          "text": [
            "Downloading data from https://storage.googleapis.com/tensorflow/tf-keras-datasets/train-labels-idx1-ubyte.gz\n",
            "\u001b[1m29515/29515\u001b[0m \u001b[32m━━━━━━━━━━━━━━━━━━━━\u001b[0m\u001b[37m\u001b[0m \u001b[1m0s\u001b[0m 0us/step\n",
            "Downloading data from https://storage.googleapis.com/tensorflow/tf-keras-datasets/train-images-idx3-ubyte.gz\n",
            "\u001b[1m26421880/26421880\u001b[0m \u001b[32m━━━━━━━━━━━━━━━━━━━━\u001b[0m\u001b[37m\u001b[0m \u001b[1m1s\u001b[0m 0us/step\n",
            "Downloading data from https://storage.googleapis.com/tensorflow/tf-keras-datasets/t10k-labels-idx1-ubyte.gz\n",
            "\u001b[1m5148/5148\u001b[0m \u001b[32m━━━━━━━━━━━━━━━━━━━━\u001b[0m\u001b[37m\u001b[0m \u001b[1m0s\u001b[0m 0us/step\n",
            "Downloading data from https://storage.googleapis.com/tensorflow/tf-keras-datasets/t10k-images-idx3-ubyte.gz\n",
            "\u001b[1m4422102/4422102\u001b[0m \u001b[32m━━━━━━━━━━━━━━━━━━━━\u001b[0m\u001b[37m\u001b[0m \u001b[1m1s\u001b[0m 0us/step\n"
          ]
        }
      ]
    },
    {
      "cell_type": "code",
      "source": [
        "# Check the shape of the data\n",
        "print(\"Training data shape:\", x_train.shape)\n",
        "print(\"Test data shape:\", x_test.shape)"
      ],
      "metadata": {
        "colab": {
          "base_uri": "https://localhost:8080/"
        },
        "id": "j9VrXVvLtnTk",
        "outputId": "ee6d13c1-c397-4dca-a04b-0098ea249217"
      },
      "execution_count": 5,
      "outputs": [
        {
          "output_type": "stream",
          "name": "stdout",
          "text": [
            "Training data shape: (60000, 28, 28)\n",
            "Test data shape: (10000, 28, 28)\n"
          ]
        }
      ]
    },
    {
      "cell_type": "code",
      "source": [
        "# Define class names for reference\n",
        "class_names = ['T-shirt/top', 'Trouser', 'Pullover', 'Dress', 'Coat',\n",
        "               'Sandal', 'Shirt', 'Sneaker', 'Bag', 'Ankle boot']"
      ],
      "metadata": {
        "id": "g6_e8O-Ktp-4"
      },
      "execution_count": 6,
      "outputs": []
    },
    {
      "cell_type": "code",
      "source": [
        "# Visualize a few samples from the training set\n",
        "plt.figure(figsize=(10, 5))\n",
        "for i in range(10):\n",
        "    plt.subplot(2, 5, i + 1)\n",
        "    plt.imshow(x_train[i], cmap='gray')\n",
        "    plt.title(class_names[y_train[i]])\n",
        "    plt.axis('off')\n",
        "plt.tight_layout()\n",
        "plt.show()"
      ],
      "metadata": {
        "colab": {
          "base_uri": "https://localhost:8080/",
          "height": 473
        },
        "id": "OUjBsiFxttBq",
        "outputId": "93207023-5174-416c-b530-a7f8be865266"
      },
      "execution_count": 7,
      "outputs": [
        {
          "output_type": "display_data",
          "data": {
            "text/plain": [
              "<Figure size 1000x500 with 10 Axes>"
            ],
            "image/png": "[encoded data removed]"
          },
          "metadata": {}
        }
      ]
    },
    {
      "cell_type": "markdown",
      "source": [
        "As shown above, each image is a 28x28 grayscale representation of a fashion item, and the class label provides its category. This visualization confirms the data quality and gives an intuition about the classification task ahead."
      ],
      "metadata": {
        "id": "77ffWPd6twwK"
      }
    },
    {
      "cell_type": "markdown",
      "source": [
        "## 2.2 Data Preprocessing\n",
        "\n",
        "In this section, we normalize the pixel values of the images to fall in the range [0, 1], convert the class labels to one-hot encoded vectors, and split the training set into a new training and validation set for model evaluation and tuning."
      ],
      "metadata": {
        "id": "9hkMLGJitzsc"
      }
    },
    {
      "cell_type": "code",
      "source": [
        "# Normalize the pixel values to the range [0, 1]\n",
        "x_train = x_train.astype('float32') / 255.0\n",
        "x_test = x_test.astype('float32') / 255.0"
      ],
      "metadata": {
        "id": "x4ynuQplt21D"
      },
      "execution_count": 8,
      "outputs": []
    },
    {
      "cell_type": "code",
      "source": [
        "# Reshape input data to add channel dimension (28, 28, 1)\n",
        "x_train = np.expand_dims(x_train, -1)\n",
        "x_test = np.expand_dims(x_test, -1)"
      ],
      "metadata": {
        "id": "Mv1ZDg6tt40R"
      },
      "execution_count": 9,
      "outputs": []
    },
    {
      "cell_type": "code",
      "source": [
        "# One-hot encode the labels\n",
        "num_classes = 10\n",
        "y_train_cat = to_categorical(y_train, num_classes)\n",
        "y_test_cat = to_categorical(y_test, num_classes)"
      ],
      "metadata": {
        "id": "hUj5PD8lt6r8"
      },
      "execution_count": 10,
      "outputs": []
    },
    {
      "cell_type": "code",
      "source": [
        "# Split training data into new training and validation sets\n",
        "from sklearn.model_selection import train_test_split\n",
        "\n",
        "x_train_new, x_val, y_train_new, y_val = train_test_split(\n",
        "    x_train, y_train_cat, test_size=0.2, random_state=42)\n",
        "\n",
        "print(\"New training set shape:\", x_train_new.shape)\n",
        "print(\"Validation set shape:\", x_val.shape)\n",
        "print(\"Test set shape:\", x_test.shape)"
      ],
      "metadata": {
        "colab": {
          "base_uri": "https://localhost:8080/"
        },
        "id": "SU9R911ut8Ou",
        "outputId": "78c52bd6-bdca-4c3c-9f13-acffffc319ea"
      },
      "execution_count": 11,
      "outputs": [
        {
          "output_type": "stream",
          "name": "stdout",
          "text": [
            "New training set shape: (48000, 28, 28, 1)\n",
            "Validation set shape: (12000, 28, 28, 1)\n",
            "Test set shape: (10000, 28, 28, 1)\n"
          ]
        }
      ]
    },
    {
      "cell_type": "markdown",
      "source": [
        "The data is now normalized, reshaped, and prepared for training. One-hot encoding allows the model to compute categorical cross-entropy loss effectively. A separate validation set ensures that we can tune hyperparameters without evaluating directly on the test set."
      ],
      "metadata": {
        "id": "TJdnBL0Tt1Yc"
      }
    },
    {
      "cell_type": "markdown",
      "source": [
        "## 2.3 K-Fold Cross-Validation Setup\n",
        "\n",
        "To ensure robust evaluation, we use 3-fold cross-validation. This technique splits the dataset into 3 parts (folds), and in each iteration, one fold is used for validation while the remaining two are used for training.\n",
        "\n",
        "This helps reduce the variance associated with random train-test splits and provides a more reliable estimate of model performance."
      ],
      "metadata": {
        "id": "M3af4xeUuBwT"
      }
    },
    {
      "cell_type": "code",
      "source": [
        "from sklearn.model_selection import KFold\n",
        "\n",
        "# Define the number of folds\n",
        "num_folds = 3\n",
        "\n",
        "# Prepare cross-validation folds using KFold from sklearn\n",
        "kf = KFold(n_splits=num_folds, shuffle=True, random_state=42)\n",
        "\n",
        "# Confirm fold structure\n",
        "fold_indices = list(kf.split(x_train, y_train))\n",
        "print(f\"Prepared {num_folds} folds for cross-validation.\")"
      ],
      "metadata": {
        "colab": {
          "base_uri": "https://localhost:8080/"
        },
        "id": "UGoETNRKuDvt",
        "outputId": "3309f4b2-9bc5-433a-ac5b-94cf7c82eb2a"
      },
      "execution_count": 12,
      "outputs": [
        {
          "output_type": "stream",
          "name": "stdout",
          "text": [
            "Prepared 3 folds for cross-validation.\n"
          ]
        }
      ]
    },
    {
      "cell_type": "markdown",
      "source": [
        "In the upcoming sections, we will use these fold indices to train and validate models multiple times, and we will report the average validation accuracy across the three folds."
      ],
      "metadata": {
        "id": "fR_jPAdAuFek"
      }
    },
    {
      "cell_type": "markdown",
      "source": [
        "# 3. Building a Basic CNN Model\n",
        "\n",
        "## 3.1 Model Architecture 1 (Baseline CNN)\n",
        "\n",
        "In this section, we define a baseline convolutional neural network (CNN) using Keras. This model includes two convolutional layers followed by pooling, flattening, and dense layers.\n",
        "\n",
        "The goal is to capture spatial features from the image using convolution and pooling layers, and then use fully connected layers for classification."
      ],
      "metadata": {
        "id": "EU0sJfT4uJPI"
      }
    },
    {
      "cell_type": "code",
      "source": [
        "# Function to create the baseline CNN model\n",
        "def create_baseline_cnn():\n",
        "    model = models.Sequential()\n",
        "\n",
        "    # First convolutional layer\n",
        "    model.add(layers.Conv2D(filters=32, kernel_size=(3, 3), activation='relu', input_shape=(28, 28, 1)))\n",
        "    model.add(layers.MaxPooling2D(pool_size=(2, 2)))\n",
        "\n",
        "    # Second convolutional layer\n",
        "    model.add(layers.Conv2D(filters=64, kernel_size=(3, 3), activation='relu'))\n",
        "    model.add(layers.MaxPooling2D(pool_size=(2, 2)))\n",
        "\n",
        "    # Flatten and dense layers\n",
        "    model.add(layers.Flatten())\n",
        "    model.add(layers.Dense(128, activation='relu'))\n",
        "    model.add(layers.Dense(num_classes, activation='softmax'))\n",
        "\n",
        "    # Compile the model\n",
        "    model.compile(optimizer='adam',\n",
        "                  loss='categorical_crossentropy',\n",
        "                  metrics=['accuracy'])\n",
        "\n",
        "    return model"
      ],
      "metadata": {
        "id": "wp5SHs8FuK4-"
      },
      "execution_count": 13,
      "outputs": []
    },
    {
      "cell_type": "markdown",
      "source": [
        "This architecture is relatively simple but effective for image classification tasks. The two convolutional layers help extract low-level and mid-level features. Pooling layers reduce the spatial dimensions, which improves computational efficiency and controls overfitting.\n",
        "\n",
        "The final dense layers learn to map the extracted features to class probabilities using a softmax activation function."
      ],
      "metadata": {
        "id": "DIQz_G24uNaK"
      }
    },
    {
      "cell_type": "markdown",
      "source": [
        "## 3.2 Model Architecture 2 and 3 (Variants)\n",
        "\n",
        "In this section, we define two alternative CNN architectures by modifying the structure of the baseline model.\n",
        "\n",
        "Model 2 adds more convolutional layers to increase feature extraction depth.\n",
        "\n",
        "Model 3 uses different kernel sizes and activation functions to explore their effects on performance."
      ],
      "metadata": {
        "id": "JNLu1_cXuPoO"
      }
    },
    {
      "cell_type": "code",
      "source": [
        "# Model 2: Deeper CNN with three convolutional layers\n",
        "def create_deeper_cnn():\n",
        "    model = models.Sequential()\n",
        "\n",
        "    model.add(layers.Conv2D(32, (3, 3), activation='relu', input_shape=(28, 28, 1)))\n",
        "    model.add(layers.MaxPooling2D((2, 2)))\n",
        "\n",
        "    model.add(layers.Conv2D(64, (3, 3), activation='relu'))\n",
        "    model.add(layers.MaxPooling2D((2, 2)))\n",
        "\n",
        "    model.add(layers.Conv2D(128, (3, 3), activation='relu'))\n",
        "\n",
        "    model.add(layers.Flatten())\n",
        "    model.add(layers.Dense(256, activation='relu'))\n",
        "    model.add(layers.Dense(num_classes, activation='softmax'))\n",
        "\n",
        "    model.compile(optimizer='adam',\n",
        "                  loss='categorical_crossentropy',\n",
        "                  metrics=['accuracy'])\n",
        "\n",
        "    return model"
      ],
      "metadata": {
        "id": "akFeJz-QuR4D"
      },
      "execution_count": 14,
      "outputs": []
    },
    {
      "cell_type": "markdown",
      "source": [
        "Model 2 introduces a third convolutional layer with a higher filter count to allow the network to learn more complex features. This deeper network may capture richer representations of the images, especially useful for small texture differences."
      ],
      "metadata": {
        "id": "nk7T0OkfuUv2"
      }
    },
    {
      "cell_type": "code",
      "source": [
        "# Model 3: Different kernel sizes and LeakyReLU activation\n",
        "from tensorflow.keras.layers import LeakyReLU\n",
        "\n",
        "def create_variant_cnn():\n",
        "    model = models.Sequential()\n",
        "\n",
        "    model.add(layers.Conv2D(16, (5, 5), input_shape=(28, 28, 1)))\n",
        "    model.add(LeakyReLU(alpha=0.1))\n",
        "    model.add(layers.MaxPooling2D((2, 2)))\n",
        "\n",
        "    model.add(layers.Conv2D(32, (5, 5)))\n",
        "    model.add(LeakyReLU(alpha=0.1))\n",
        "    model.add(layers.MaxPooling2D((2, 2)))\n",
        "\n",
        "    model.add(layers.Flatten())\n",
        "    model.add(layers.Dense(64))\n",
        "    model.add(LeakyReLU(alpha=0.1))\n",
        "    model.add(layers.Dense(num_classes, activation='softmax'))\n",
        "\n",
        "    model.compile(optimizer='adam',\n",
        "                  loss='categorical_crossentropy',\n",
        "                  metrics=['accuracy'])\n",
        "\n",
        "    return model"
      ],
      "metadata": {
        "id": "impw33BguXEn"
      },
      "execution_count": 15,
      "outputs": []
    },
    {
      "cell_type": "markdown",
      "source": [
        "Model 3 uses larger convolutional kernels (5x5) to capture broader spatial features in each layer. It also replaces ReLU with LeakyReLU to allow small gradients for negative values, which can help avoid dying neurons and improve learning dynamics.\n",
        "\n",
        "These variations aim to explore how architectural choices impact model performance and generalization."
      ],
      "metadata": {
        "id": "_PwOUqc9uaER"
      }
    },
    {
      "cell_type": "markdown",
      "source": [
        "## 3.3 Model Evaluation with 3-Fold Cross-Validation\n",
        "\n",
        "In this section, we train and evaluate the three CNN architectures using 3-fold cross-validation. For each fold, we train the model on the training subset and evaluate it on the validation subset.\n",
        "\n",
        "We then calculate the average validation accuracy across the folds to compare the models' performance."
      ],
      "metadata": {
        "id": "p6SXzSmZucm2"
      }
    },
    {
      "cell_type": "code",
      "source": [
        "import numpy as np\n",
        "\n",
        "def run_cross_validation(model_func, x_data, y_data, kf):\n",
        "    val_accuracies = []\n",
        "\n",
        "    for fold, (train_idx, val_idx) in enumerate(kf.split(x_data)):\n",
        "        print(f\"Training fold {fold + 1}...\")\n",
        "\n",
        "        x_train_fold, x_val_fold = x_data[train_idx], x_data[val_idx]\n",
        "        y_train_fold, y_val_fold = y_data[train_idx], y_data[val_idx]\n",
        "\n",
        "        model = model_func()\n",
        "\n",
        "        history = model.fit(x_train_fold, y_train_fold,\n",
        "                            epochs=10,\n",
        "                            batch_size=64,\n",
        "                            validation_data=(x_val_fold, y_val_fold),\n",
        "                            verbose=0)\n",
        "\n",
        "        val_acc = history.history['val_accuracy'][-1]\n",
        "        print(f\"Fold {fold + 1} validation accuracy: {val_acc:.4f}\")\n",
        "        val_accuracies.append(val_acc)\n",
        "\n",
        "    avg_val_acc = np.mean(val_accuracies)\n",
        "    print(f\"Average validation accuracy: {avg_val_acc:.4f}\\n\")\n",
        "\n",
        "    return val_accuracies, avg_val_acc"
      ],
      "metadata": {
        "id": "h4qc7InauekI"
      },
      "execution_count": 16,
      "outputs": []
    },
    {
      "cell_type": "code",
      "source": [
        "# Run cross-validation for all three models\n",
        "val_acc_baseline, avg_acc_baseline = run_cross_validation(create_baseline_cnn, x_train, y_train_cat, kf)\n",
        "val_acc_deeper, avg_acc_deeper = run_cross_validation(create_deeper_cnn, x_train, y_train_cat, kf)\n",
        "val_acc_variant, avg_acc_variant = run_cross_validation(create_variant_cnn, x_train, y_train_cat, kf)"
      ],
      "metadata": {
        "colab": {
          "base_uri": "https://localhost:8080/"
        },
        "id": "UuEHQR6Kug-o",
        "outputId": "0ef951bc-f3f4-46ea-dfdf-483e8af8babb"
      },
      "execution_count": 17,
      "outputs": [
        {
          "output_type": "stream",
          "name": "stdout",
          "text": [
            "Training fold 1...\n"
          ]
        },
        {
          "output_type": "stream",
          "name": "stderr",
          "text": [
            "/usr/local/lib/python3.11/dist-packages/keras/src/layers/convolutional/base_conv.py:107: UserWarning: Do not pass an `input_shape`/`input_dim` argument to a layer. When using Sequential models, prefer using an `Input(shape)` object as the first layer in the model instead.\n",
            "  super().__init__(activity_regularizer=activity_regularizer, **kwargs)\n"
          ]
        },
        {
          "output_type": "stream",
          "name": "stdout",
          "text": [
            "Fold 1 validation accuracy: 0.9077\n",
            "Training fold 2...\n",
            "Fold 2 validation accuracy: 0.9021\n",
            "Training fold 3...\n",
            "Fold 3 validation accuracy: 0.9089\n",
            "Average validation accuracy: 0.9062\n",
            "\n",
            "Training fold 1...\n",
            "Fold 1 validation accuracy: 0.9058\n",
            "Training fold 2...\n",
            "Fold 2 validation accuracy: 0.9108\n",
            "Training fold 3...\n",
            "Fold 3 validation accuracy: 0.9028\n",
            "Average validation accuracy: 0.9065\n",
            "\n",
            "Training fold 1...\n"
          ]
        },
        {
          "output_type": "stream",
          "name": "stderr",
          "text": [
            "/usr/local/lib/python3.11/dist-packages/keras/src/layers/activations/leaky_relu.py:41: UserWarning: Argument `alpha` is deprecated. Use `negative_slope` instead.\n",
            "  warnings.warn(\n"
          ]
        },
        {
          "output_type": "stream",
          "name": "stdout",
          "text": [
            "Fold 1 validation accuracy: 0.9028\n",
            "Training fold 2...\n",
            "Fold 2 validation accuracy: 0.9062\n",
            "Training fold 3...\n",
            "Fold 3 validation accuracy: 0.9002\n",
            "Average validation accuracy: 0.9031\n",
            "\n"
          ]
        }
      ]
    },
    {
      "cell_type": "code",
      "source": [
        "# Display validation accuracy results for all three models\n",
        "print(\"Baseline CNN - Average Validation Accuracy: {:.4f}\".format(avg_acc_baseline))\n",
        "print(\"Deeper CNN   - Average Validation Accuracy: {:.4f}\".format(avg_acc_deeper))\n",
        "print(\"Variant CNN  - Average Validation Accuracy: {:.4f}\".format(avg_acc_variant))"
      ],
      "metadata": {
        "colab": {
          "base_uri": "https://localhost:8080/"
        },
        "id": "AvZZBbG7ukQ1",
        "outputId": "cd032250-cae6-4ffa-e32d-14c357e3fdd9"
      },
      "execution_count": 30,
      "outputs": [
        {
          "output_type": "stream",
          "name": "stdout",
          "text": [
            "Baseline CNN - Average Validation Accuracy: 0.9062\n",
            "Deeper CNN   - Average Validation Accuracy: 0.9065\n",
            "Variant CNN  - Average Validation Accuracy: 0.9031\n"
          ]
        }
      ]
    },
    {
      "cell_type": "markdown",
      "source": [
        "**Explanation of Results**\n",
        "\n",
        "The baseline CNN achieved an average validation accuracy of approximately 0.9062, showing solid performance with a simple architecture.\n",
        "\n",
        "The deeper CNN slightly outperformed the baseline with an average accuracy of 0.9065. This suggests that additional layers can help extract more complex features, but the improvement is marginal in this case, indicating diminishing returns.\n",
        "\n",
        "The variant CNN, which used different activation functions and potentially fewer parameters, resulted in a slightly lower average accuracy of 0.9031. This drop could be due to changes that reduced model expressiveness or led to suboptimal feature extraction for this dataset.\n",
        "\n",
        "Overall, while deeper architectures may provide marginal gains, simplicity and computational efficiency might make the baseline model more suitable depending on the use case."
      ],
      "metadata": {
        "id": "TK_FxKh_unDl"
      }
    },
    {
      "cell_type": "markdown",
      "source": [
        "## 4. Hyperparameter Tuning\n",
        "\n",
        "### 4.1 Tuning Kernel Size of Convolutional Layers\n",
        "\n",
        "In this section, we investigate the effect of different kernel sizes on the performance of our CNN.\n",
        "\n",
        "We will try three different kernel sizes for the convolutional layers: 3x3, 5x5, and 7x7.\n",
        "\n",
        "Changing the kernel size affects the receptive field, which impacts how much spatial context the convolution considers at once."
      ],
      "metadata": {
        "id": "snVngvO9B6dr"
      }
    },
    {
      "cell_type": "code",
      "source": [
        "def create_cnn_with_kernel_size(kernel_size):\n",
        "    model = models.Sequential()\n",
        "\n",
        "    model.add(layers.Conv2D(32, (kernel_size, kernel_size), activation='relu', input_shape=(28, 28, 1)))\n",
        "    model.add(layers.MaxPooling2D((2, 2)))\n",
        "\n",
        "    model.add(layers.Conv2D(64, (kernel_size, kernel_size), activation='relu'))\n",
        "    model.add(layers.MaxPooling2D((2, 2)))\n",
        "\n",
        "    model.add(layers.Flatten())\n",
        "    model.add(layers.Dense(128, activation='relu'))\n",
        "    model.add(layers.Dense(num_classes, activation='softmax'))\n",
        "\n",
        "    model.compile(optimizer='adam',\n",
        "                  loss='categorical_crossentropy',\n",
        "                  metrics=['accuracy'])\n",
        "\n",
        "    return model"
      ],
      "metadata": {
        "id": "HAxRMw-JB7eN"
      },
      "execution_count": 19,
      "outputs": []
    },
    {
      "cell_type": "code",
      "source": [
        "kernel_sizes = [3, 5, 7]\n",
        "results_kernel_size = {}\n",
        "\n",
        "for k_size in kernel_sizes:\n",
        "    print(f\"Evaluating kernel size: {k_size}x{k_size}\")\n",
        "    val_accs, avg_acc = run_cross_validation(lambda: create_cnn_with_kernel_size(k_size), x_train, y_train_cat, kf)\n",
        "    results_kernel_size[f\"{k_size}x{k_size}\"] = avg_acc"
      ],
      "metadata": {
        "colab": {
          "base_uri": "https://localhost:8080/"
        },
        "id": "Sn_GC6FSB_ys",
        "outputId": "38cbba09-9904-43c8-ca33-d3fa2c8ddc94"
      },
      "execution_count": 20,
      "outputs": [
        {
          "output_type": "stream",
          "name": "stdout",
          "text": [
            "Evaluating kernel size: 3x3\n",
            "Training fold 1...\n",
            "Fold 1 validation accuracy: 0.9148\n",
            "Training fold 2...\n",
            "Fold 2 validation accuracy: 0.9071\n",
            "Training fold 3...\n",
            "Fold 3 validation accuracy: 0.9099\n",
            "Average validation accuracy: 0.9106\n",
            "\n",
            "Evaluating kernel size: 5x5\n",
            "Training fold 1...\n",
            "Fold 1 validation accuracy: 0.9025\n",
            "Training fold 2...\n",
            "Fold 2 validation accuracy: 0.8899\n",
            "Training fold 3...\n",
            "Fold 3 validation accuracy: 0.9108\n",
            "Average validation accuracy: 0.9011\n",
            "\n",
            "Evaluating kernel size: 7x7\n",
            "Training fold 1...\n",
            "Fold 1 validation accuracy: 0.8953\n",
            "Training fold 2...\n",
            "Fold 2 validation accuracy: 0.8945\n",
            "Training fold 3...\n",
            "Fold 3 validation accuracy: 0.8921\n",
            "Average validation accuracy: 0.8940\n",
            "\n"
          ]
        }
      ]
    },
    {
      "cell_type": "code",
      "source": [
        "# Display results\n",
        "for k_size, acc in results_kernel_size.items():\n",
        "    print(f\"Kernel Size {k_size} - Average Validation Accuracy: {acc:.4f}\")"
      ],
      "metadata": {
        "colab": {
          "base_uri": "https://localhost:8080/"
        },
        "id": "B407RhzHCDUN",
        "outputId": "30a50b94-6057-4e4a-ea3b-4e286d1bbe0d"
      },
      "execution_count": 31,
      "outputs": [
        {
          "output_type": "stream",
          "name": "stdout",
          "text": [
            "Kernel Size 3x3 - Average Validation Accuracy: 0.9106\n",
            "Kernel Size 5x5 - Average Validation Accuracy: 0.9011\n",
            "Kernel Size 7x7 - Average Validation Accuracy: 0.8940\n"
          ]
        }
      ]
    },
    {
      "cell_type": "markdown",
      "source": [
        "**Explanation of Results**\n",
        "\n",
        "Using a 3x3 kernel yielded the highest average validation accuracy at approximately 0.9106. This kernel size is often considered optimal in many CNN architectures due to its ability to capture fine-grained local patterns while maintaining computational efficiency.\n",
        "\n",
        "Increasing the kernel size to 5x5 led to a small drop in accuracy (0.9011). Larger kernels can capture broader features but may miss local details and increase the number of parameters, leading to overfitting or underfitting.\n",
        "\n",
        "The 7x7 kernel performed the worst (0.8940), likely because it is too coarse for the dataset at hand. Such large kernels may cause the network to overlook fine spatial details crucial for classification accuracy.\n",
        "\n",
        "This comparison shows that smaller kernels (like 3x3) are often more effective and provide a better balance between feature representation and model complexity."
      ],
      "metadata": {
        "id": "SGz6trQ8CFW9"
      }
    },
    {
      "cell_type": "markdown",
      "source": [
        "## 4. Hyperparameter Tuning\n",
        "\n",
        "### 4.2 Tuning Stride of Convolutional Layers\n",
        "\n",
        "In this section, we explore how different stride values in the convolutional layers affect the model's performance and feature map resolution.\n",
        "\n",
        "The stride determines how much the filter moves after each step. A larger stride reduces the size of the feature map and speeds up computation, but it might miss important details. We will try stride values of (1,1), (2,2), and (3,3)."
      ],
      "metadata": {
        "id": "wN9kUoi2Ys9i"
      }
    },
    {
      "cell_type": "code",
      "source": [
        "def create_cnn_with_stride_safe(stride):\n",
        "    model = models.Sequential()\n",
        "\n",
        "    model.add(layers.Conv2D(32, (3, 3), strides=stride, activation='relu', padding='same', input_shape=(28, 28, 1)))\n",
        "    model.add(layers.MaxPooling2D((2, 2)))\n",
        "\n",
        "    model.add(layers.Conv2D(64, (3, 3), strides=stride, activation='relu', padding='same'))\n",
        "\n",
        "    # Skip second pooling if stride is large to prevent shape collapse\n",
        "    if stride[0] <= 2:\n",
        "        model.add(layers.MaxPooling2D((2, 2)))\n",
        "\n",
        "    model.add(layers.Flatten())\n",
        "    model.add(layers.Dense(128, activation='relu'))\n",
        "    model.add(layers.Dense(num_classes, activation='softmax'))\n",
        "\n",
        "    model.compile(optimizer='adam',\n",
        "                  loss='categorical_crossentropy',\n",
        "                  metrics=['accuracy'])\n",
        "\n",
        "    return model"
      ],
      "metadata": {
        "id": "m9vLW_zKYvI3"
      },
      "execution_count": 22,
      "outputs": []
    },
    {
      "cell_type": "code",
      "source": [
        "stride_values = [(1, 1), (2, 2), (3, 3)]\n",
        "results_stride = {}\n",
        "\n",
        "for stride in stride_values:\n",
        "    print(f\"Evaluating stride: {stride}\")\n",
        "    val_accs, avg_acc = run_cross_validation(lambda: create_cnn_with_stride_safe(stride), x_train, y_train_cat, kf)\n",
        "    results_stride[f\"{stride}\"] = avg_acc"
      ],
      "metadata": {
        "colab": {
          "base_uri": "https://localhost:8080/"
        },
        "id": "4_ipF0r7YxZN",
        "outputId": "dbad6dc1-9417-4f94-e0f2-7d26e9c7928d"
      },
      "execution_count": 23,
      "outputs": [
        {
          "output_type": "stream",
          "name": "stdout",
          "text": [
            "Evaluating stride: (1, 1)\n",
            "Training fold 1...\n",
            "Fold 1 validation accuracy: 0.9226\n",
            "Training fold 2...\n",
            "Fold 2 validation accuracy: 0.9194\n",
            "Training fold 3...\n",
            "Fold 3 validation accuracy: 0.9199\n",
            "Average validation accuracy: 0.9206\n",
            "\n",
            "Evaluating stride: (2, 2)\n",
            "Training fold 1...\n",
            "Fold 1 validation accuracy: 0.9020\n",
            "Training fold 2...\n",
            "Fold 2 validation accuracy: 0.9044\n",
            "Training fold 3...\n",
            "Fold 3 validation accuracy: 0.8953\n",
            "Average validation accuracy: 0.9006\n",
            "\n",
            "Evaluating stride: (3, 3)\n",
            "Training fold 1...\n",
            "Fold 1 validation accuracy: 0.8896\n",
            "Training fold 2...\n",
            "Fold 2 validation accuracy: 0.8891\n",
            "Training fold 3...\n",
            "Fold 3 validation accuracy: 0.8905\n",
            "Average validation accuracy: 0.8897\n",
            "\n"
          ]
        }
      ]
    },
    {
      "cell_type": "code",
      "source": [
        "# Display results\n",
        "for stride, acc in results_stride.items():\n",
        "    print(f\"Stride {stride} - Average Validation Accuracy: {acc:.4f}\")"
      ],
      "metadata": {
        "colab": {
          "base_uri": "https://localhost:8080/"
        },
        "id": "J5gj_YrHYzXm",
        "outputId": "e7eea1f7-6749-485a-dffd-458d56a21a63"
      },
      "execution_count": 32,
      "outputs": [
        {
          "output_type": "stream",
          "name": "stdout",
          "text": [
            "Stride (1, 1) - Average Validation Accuracy: 0.9206\n",
            "Stride (2, 2) - Average Validation Accuracy: 0.9006\n",
            "Stride (3, 3) - Average Validation Accuracy: 0.8897\n"
          ]
        }
      ]
    },
    {
      "cell_type": "markdown",
      "source": [
        "**Explanation of Results**\n",
        "\n",
        "Using a stride of (1, 1) gave the best performance with an average validation accuracy of **0.9206**. This configuration allows the convolutional filters to slide over the input with maximum overlap, preserving detailed spatial information.\n",
        "\n",
        "A stride of (2, 2) led to a moderate drop in accuracy (**0.9006**). The model skips more pixels, reducing spatial resolution and potentially missing finer features, which may explain the performance decrease.\n",
        "\n",
        "With a stride of (3, 3), performance decreased further to **0.8897**. The aggressive downsampling negatively impacted feature extraction and likely caused loss of crucial local information.\n",
        "\n",
        "In general, smaller strides retain more detail and tend to perform better, especially for image classification tasks where fine spatial patterns are important."
      ],
      "metadata": {
        "id": "Ax8eai9VY1VB"
      }
    },
    {
      "cell_type": "markdown",
      "source": [
        "### 4. Hyperparameter Tuning  \n",
        "#### 4.3 Tuning Pooling Size  \n",
        "\n",
        "In this section, we explore the effect of different pooling sizes on model performance. Pooling layers are used to reduce the spatial dimensions of feature maps, which can help reduce the number of parameters and computation. We compare pooling sizes of (2,2), (3,3), and (4,4) and analyze how they impact validation accuracy using 3-fold cross-validation."
      ],
      "metadata": {
        "id": "JvYrOMW3msAo"
      }
    },
    {
      "cell_type": "code",
      "source": [
        "def create_cnn_with_pooling(pool_size):\n",
        "    model = models.Sequential()\n",
        "\n",
        "    model.add(layers.Conv2D(32, (3, 3), activation='relu', padding='same', input_shape=(28, 28, 1)))\n",
        "    model.add(layers.MaxPooling2D(pool_size=pool_size))\n",
        "\n",
        "    model.add(layers.Conv2D(64, (3, 3), activation='relu', padding='same'))\n",
        "\n",
        "    # Conditionally add second pooling layer if it doesn't collapse the feature map\n",
        "    if pool_size[0] < 4:\n",
        "        model.add(layers.MaxPooling2D(pool_size=pool_size))\n",
        "\n",
        "    model.add(layers.Flatten())\n",
        "    model.add(layers.Dense(128, activation='relu'))\n",
        "    model.add(layers.Dense(num_classes, activation='softmax'))\n",
        "\n",
        "    model.compile(optimizer='adam',\n",
        "                  loss='categorical_crossentropy',\n",
        "                  metrics=['accuracy'])\n",
        "\n",
        "    return model"
      ],
      "metadata": {
        "id": "VHw3hAzcmury"
      },
      "execution_count": 25,
      "outputs": []
    },
    {
      "cell_type": "code",
      "source": [
        "pool_sizes = [(2, 2), (3, 3), (4, 4)]\n",
        "results_pooling = {}\n",
        "\n",
        "for pool in pool_sizes:\n",
        "    print(f\"Evaluating pooling size: {pool}\")\n",
        "    val_accs, avg_acc = run_cross_validation(lambda: create_cnn_with_pooling(pool), x_train, y_train_cat, kf)\n",
        "    results_pooling[f\"{pool}\"] = avg_acc"
      ],
      "metadata": {
        "colab": {
          "base_uri": "https://localhost:8080/"
        },
        "id": "-dPbYBa-mxDS",
        "outputId": "653f7ea7-95e2-41a0-d241-19096124b826"
      },
      "execution_count": 26,
      "outputs": [
        {
          "output_type": "stream",
          "name": "stdout",
          "text": [
            "Evaluating pooling size: (2, 2)\n",
            "Training fold 1...\n",
            "Fold 1 validation accuracy: 0.9132\n",
            "Training fold 2...\n",
            "Fold 2 validation accuracy: 0.9137\n",
            "Training fold 3...\n",
            "Fold 3 validation accuracy: 0.9096\n",
            "Average validation accuracy: 0.9122\n",
            "\n",
            "Evaluating pooling size: (3, 3)\n",
            "Training fold 1...\n",
            "Fold 1 validation accuracy: 0.9106\n",
            "Training fold 2...\n",
            "Fold 2 validation accuracy: 0.9130\n",
            "Training fold 3...\n",
            "Fold 3 validation accuracy: 0.9148\n",
            "Average validation accuracy: 0.9128\n",
            "\n",
            "Evaluating pooling size: (4, 4)\n",
            "Training fold 1...\n",
            "Fold 1 validation accuracy: 0.9146\n",
            "Training fold 2...\n",
            "Fold 2 validation accuracy: 0.9190\n",
            "Training fold 3...\n",
            "Fold 3 validation accuracy: 0.9198\n",
            "Average validation accuracy: 0.9178\n",
            "\n"
          ]
        }
      ]
    },
    {
      "cell_type": "code",
      "source": [
        "# Display results\n",
        "for pool_size, acc in results_pooling.items():\n",
        "    print(f\"Pooling Size {pool_size} - Average Validation Accuracy: {acc:.4f}\")"
      ],
      "metadata": {
        "colab": {
          "base_uri": "https://localhost:8080/"
        },
        "id": "efZsNcXjmz10",
        "outputId": "d54f3ba9-7f14-4706-e338-df7e45c004cc"
      },
      "execution_count": 27,
      "outputs": [
        {
          "output_type": "stream",
          "name": "stdout",
          "text": [
            "Pooling Size (2, 2) - Average Validation Accuracy: 0.9122\n",
            "Pooling Size (3, 3) - Average Validation Accuracy: 0.9128\n",
            "Pooling Size (4, 4) - Average Validation Accuracy: 0.9178\n"
          ]
        }
      ]
    },
    {
      "cell_type": "markdown",
      "source": [
        "We observe how increasing the pooling size reduces the spatial resolution of the feature maps more aggressively. This can lead to a loss in fine-grained features, which may affect classification accuracy. Smaller pooling sizes typically preserve more detail, while larger ones offer more dimensionality reduction. The results show how different choices influence model performance and help inform architectural decisions."
      ],
      "metadata": {
        "id": "4NFYWsFRmzbP"
      }
    },
    {
      "cell_type": "markdown",
      "source": [
        "#### 4.4 Tuning Pooling Stride  \n",
        "\n",
        "In this section, we explore the impact of different stride values for the pooling layers. The stride determines how the pooling window moves across the input. A smaller stride results in more overlap and larger feature maps, while a larger stride reduces the output size more quickly. We evaluate the performance and training time using stride values of 1 and 2."
      ],
      "metadata": {
        "id": "x4z85wYmm5xf"
      }
    },
    {
      "cell_type": "code",
      "source": [
        "import time\n",
        "\n",
        "def create_cnn_with_pool_stride(pool_size=(2, 2), pool_stride=(2, 2)):\n",
        "    model = models.Sequential()\n",
        "\n",
        "    model.add(layers.Conv2D(32, (3, 3), activation='relu', padding='same', input_shape=(28, 28, 1)))\n",
        "    model.add(layers.MaxPooling2D(pool_size=pool_size, strides=pool_stride))\n",
        "\n",
        "    model.add(layers.Conv2D(64, (3, 3), activation='relu', padding='same'))\n",
        "    model.add(layers.MaxPooling2D(pool_size=pool_size, strides=pool_stride))\n",
        "\n",
        "    model.add(layers.Flatten())\n",
        "    model.add(layers.Dense(128, activation='relu'))\n",
        "    model.add(layers.Dense(num_classes, activation='softmax'))\n",
        "\n",
        "    model.compile(optimizer='adam',\n",
        "                  loss='categorical_crossentropy',\n",
        "                  metrics=['accuracy'])\n",
        "\n",
        "    return model"
      ],
      "metadata": {
        "id": "zWCQG9Wjm_Nr"
      },
      "execution_count": 28,
      "outputs": []
    },
    {
      "cell_type": "code",
      "source": [
        "pool_strides = [(1, 1), (2, 2)]\n",
        "results_pool_stride = {}\n",
        "\n",
        "for stride in pool_strides:\n",
        "    print(f\"Evaluating pooling stride: {stride}\")\n",
        "    start_time = time.time()\n",
        "    val_accs, avg_acc = run_cross_validation(lambda: create_cnn_with_pool_stride(pool_stride=stride), x_train, y_train_cat, kf)\n",
        "    end_time = time.time()\n",
        "    elapsed = end_time - start_time\n",
        "    results_pool_stride[f\"{stride}\"] = (avg_acc, elapsed)"
      ],
      "metadata": {
        "colab": {
          "base_uri": "https://localhost:8080/"
        },
        "id": "otGLYqQpnBWa",
        "outputId": "8ad0dd29-5f63-4af2-dfb3-b97ac72f2c68"
      },
      "execution_count": 29,
      "outputs": [
        {
          "output_type": "stream",
          "name": "stdout",
          "text": [
            "Evaluating pooling stride: (1, 1)\n",
            "Training fold 1...\n",
            "Fold 1 validation accuracy: 0.9204\n",
            "Training fold 2...\n",
            "Fold 2 validation accuracy: 0.9212\n",
            "Training fold 3...\n",
            "Fold 3 validation accuracy: 0.9216\n",
            "Average validation accuracy: 0.9211\n",
            "\n",
            "Evaluating pooling stride: (2, 2)\n",
            "Training fold 1...\n",
            "Fold 1 validation accuracy: 0.9230\n",
            "Training fold 2...\n",
            "Fold 2 validation accuracy: 0.9212\n",
            "Training fold 3...\n",
            "Fold 3 validation accuracy: 0.9204\n",
            "Average validation accuracy: 0.9215\n",
            "\n"
          ]
        }
      ]
    },
    {
      "cell_type": "code",
      "source": [
        "# Display results\n",
        "for stride, (acc, duration) in results_pool_stride.items():\n",
        "    print(f\"Pooling Stride {stride} - Average Validation Accuracy: {acc:.4f}\")"
      ],
      "metadata": {
        "colab": {
          "base_uri": "https://localhost:8080/"
        },
        "id": "0o3t9F1unFFp",
        "outputId": "3a1cb12c-a57c-461c-93d0-f7f820813210"
      },
      "execution_count": 35,
      "outputs": [
        {
          "output_type": "stream",
          "name": "stdout",
          "text": [
            "Pooling Stride (1, 1) - Average Validation Accuracy: 0.9211\n",
            "Pooling Stride (2, 2) - Average Validation Accuracy: 0.9215\n"
          ]
        }
      ]
    },
    {
      "cell_type": "markdown",
      "source": [
        "We observe that using a smaller stride results in higher-resolution feature maps, which may preserve more spatial information but increases the computational load and training time. Larger strides reduce the size of feature maps quickly, which lowers training time but may discard useful information. The results help balance accuracy and efficiency depending on the application."
      ],
      "metadata": {
        "id": "06C8BBusnDPF"
      }
    },
    {
      "cell_type": "markdown",
      "source": [
        "### 4.5 Summary of Hyperparameter Tuning Results\n",
        "\n",
        "| Hyperparameter           | Average Validation Accuracy |\n",
        "|-------------------------|-----------------------------|\n",
        "| Kernel Size 3x3         | 0.9106                      |\n",
        "| Kernel Size 5x5         | 0.9011                      |\n",
        "| Kernel Size 7x7         | 0.8940                      |\n",
        "| Stride (1,1)            | 0.9206                      |\n",
        "| Stride (2,2)            | 0.9006                      |\n",
        "| Stride (3,3)            | 0.8897                      |\n",
        "| Pooling Size (2,2)      | 0.9122                      |\n",
        "| Pooling Size (3,3)      | 0.9128                      |\n",
        "| Pooling Size (4,4)      | 0.9178                      |\n",
        "| Pooling Stride (1,1)    | 0.9211                      |\n",
        "| Pooling Stride (2,2)    | 0.9215                      |\n",
        "\n",
        "The results show that smaller kernel sizes (3x3) generally perform better than larger ones. The stride of (1,1) yields the highest accuracy, suggesting finer spatial resolution benefits the model. Differences in pooling size have a smaller impact, but the largest pooling size (4x4) showed a slight improvement. Pooling strides of (1,1) and (2,2) perform similarly, with a marginal advantage for (2,2). These findings help in selecting hyperparameters that optimize validation accuracy while balancing complexity."
      ],
      "metadata": {
        "id": "BNyuxIxAr4nq"
      }
    },
    {
      "cell_type": "markdown",
      "source": [
        "# 5. Data Augmentation with ImageDataGenerator\n",
        "\n",
        "## 5.1 Apply Data Augmentation\n",
        "\n",
        "In this section, we apply data augmentation to the training dataset using Keras' `ImageDataGenerator`. Data augmentation artificially expands the training data by applying random transformations such as rotation, zoom, horizontal flipping, and more. This helps improve the model's generalization by exposing it to varied versions of the input images.\n",
        "\n",
        "We will configure the `ImageDataGenerator` with several common transformations and visualize some augmented samples."
      ],
      "metadata": {
        "id": "3AB-yo_rsh2s"
      }
    },
    {
      "cell_type": "code",
      "source": [
        "from tensorflow.keras.preprocessing.image import ImageDataGenerator\n",
        "import matplotlib.pyplot as plt\n",
        "import numpy as np\n",
        "\n",
        "# Define data augmentation parameters\n",
        "datagen = ImageDataGenerator(\n",
        "    rotation_range=20,\n",
        "    zoom_range=0.15,\n",
        "    width_shift_range=0.1,\n",
        "    height_shift_range=0.1,\n",
        "    horizontal_flip=True,\n",
        "    fill_mode='nearest'\n",
        ")\n",
        "\n",
        "# Select a few samples from the training data to visualize augmentation\n",
        "sample_images = x_train[:5]\n",
        "\n",
        "# Create a generator that will augment images\n",
        "aug_iter = datagen.flow(sample_images, batch_size=1, shuffle=False)\n",
        "\n",
        "# Plot original and augmented images side by side\n",
        "fig, axes = plt.subplots(nrows=5, ncols=2, figsize=(8, 20))\n",
        "\n",
        "for i in range(5):\n",
        "    # Original image\n",
        "    axes[i, 0].imshow(sample_images[i])\n",
        "    axes[i, 0].set_title(\"Original\")\n",
        "    axes[i, 0].axis('off')\n",
        "\n",
        "    # Augmented image\n",
        "    augmented_image = next(aug_iter)[0]\n",
        "\n",
        "    # Clip values to [0, 1] for safe display and avoid empty images\n",
        "    augmented_image = np.clip(augmented_image, 0, 1)\n",
        "\n",
        "    axes[i, 1].imshow(augmented_image)\n",
        "    axes[i, 1].set_title(\"Augmented\")\n",
        "    axes[i, 1].axis('off')\n",
        "\n",
        "plt.tight_layout()\n",
        "plt.show()"
      ],
      "metadata": {
        "colab": {
          "base_uri": "https://localhost:8080/",
          "height": 1000
        },
        "id": "kRjbuwAyskY-",
        "outputId": "a1f6d04a-e710-462f-fcdb-0f5be3fb6980"
      },
      "execution_count": 37,
      "outputs": [
        {
          "output_type": "display_data",
          "data": {
            "text/plain": [
              "<Figure size 800x2000 with 10 Axes>"
            ],
            "image/png": "[encoded data removed]"
          },
          "metadata": {}
        }
      ]
    },
    {
      "cell_type": "markdown",
      "source": [
        "The validation accuracy achieved by training with augmented data can now be compared with the previous validation accuracy obtained when training without augmentation. Typically, data augmentation helps improve generalization and can lead to higher validation accuracy, especially when the original dataset is limited in size."
      ],
      "metadata": {
        "id": "tZXcclTPtVLe"
      }
    },
    {
      "cell_type": "markdown",
      "source": [
        "# 5. Data Augmentation with ImageDataGenerator\n",
        "\n",
        "## 5.2 Training with Augmented Data\n",
        "\n",
        "In this section, we retrain the best performing model using augmented data generated by `ImageDataGenerator`. This helps improve the model's generalization by exposing it to varied versions of the training images.\n",
        "\n",
        "We will then compare the validation accuracy of the model trained on augmented data with the accuracy from the non-augmented training."
      ],
      "metadata": {
        "id": "Lty1RnZTuyI8"
      }
    },
    {
      "cell_type": "code",
      "source": [
        "import numpy as np\n",
        "from tensorflow.keras.utils import to_categorical\n",
        "from tensorflow.keras.preprocessing.image import ImageDataGenerator\n",
        "from tensorflow.keras.models import Sequential\n",
        "from tensorflow.keras.layers import Conv2D, MaxPooling2D, Flatten, Dense, Dropout\n",
        "from tensorflow.keras.callbacks import EarlyStopping\n",
        "import time\n",
        "\n",
        "# Check label shapes (for debugging)\n",
        "print(\"y_train shape:\", y_train.shape)\n",
        "print(\"y_val shape:\", y_val.shape)\n",
        "\n",
        "# Function to safely flatten one-hot or multi-dim labels\n",
        "def flatten_labels(labels):\n",
        "    # If labels are 1D (integers), just return\n",
        "    if len(labels.shape) == 1:\n",
        "        return labels\n",
        "\n",
        "    # If labels are 2D or more, try argmax along the last axis\n",
        "    # If the shape is (num_samples, num_classes), axis=-1 works fine\n",
        "    # For higher dims, flatten all except the first (sample) axis\n",
        "    elif len(labels.shape) == 2:\n",
        "        # shape: (num_samples, something)\n",
        "        return np.argmax(labels, axis=1)\n",
        "    elif len(labels.shape) > 2:\n",
        "        # Flatten all axes except first, then argmax\n",
        "        flat = labels.reshape(labels.shape[0], -1)\n",
        "        return np.argmax(flat, axis=1)\n",
        "    else:\n",
        "        raise ValueError(\"Unexpected label shape\")\n",
        "\n",
        "y_train_flat = flatten_labels(y_train)\n",
        "y_val_flat = flatten_labels(y_val)\n",
        "\n",
        "num_classes = 10  # adjust to your problem\n",
        "\n",
        "y_train_cat = to_categorical(y_train_flat, num_classes)\n",
        "y_val_cat = to_categorical(y_val_flat, num_classes)\n",
        "\n",
        "# Data augmentation\n",
        "datagen = ImageDataGenerator(\n",
        "    rotation_range=20,\n",
        "    width_shift_range=0.1,\n",
        "    height_shift_range=0.1,\n",
        "    zoom_range=0.2,\n",
        "    horizontal_flip=True,\n",
        "    fill_mode='nearest'\n",
        ")\n",
        "datagen.fit(x_train)\n",
        "\n",
        "# Define CNN model\n",
        "def create_best_cnn_model():\n",
        "    model = Sequential([\n",
        "        Conv2D(32, (3,3), activation='relu', input_shape=x_train.shape[1:]),\n",
        "        MaxPooling2D((2,2)),\n",
        "        Conv2D(64, (3,3), activation='relu'),\n",
        "        MaxPooling2D((2,2)),\n",
        "        Flatten(),\n",
        "        Dense(128, activation='relu'),\n",
        "        Dropout(0.5),\n",
        "        Dense(num_classes, activation='softmax')\n",
        "    ])\n",
        "    return model\n",
        "\n",
        "model_aug = create_best_cnn_model()\n",
        "model_aug.compile(optimizer='adam', loss='categorical_crossentropy', metrics=['accuracy'])\n",
        "\n",
        "early_stop = EarlyStopping(monitor='val_loss', patience=5, restore_best_weights=True)\n",
        "\n",
        "batch_size = 64\n",
        "epochs = 50\n",
        "\n",
        "start_time = time.time()\n",
        "\n",
        "history_aug = model_aug.fit(\n",
        "    datagen.flow(x_train, y_train_cat, batch_size=batch_size),\n",
        "    steps_per_epoch=len(x_train) // batch_size,\n",
        "    epochs=epochs,\n",
        "    validation_data=(x_val, y_val_cat),\n",
        "    callbacks=[early_stop]\n",
        ")\n",
        "\n",
        "training_time = time.time() - start_time\n",
        "\n",
        "print(f\"Training with augmented data took {training_time:.2f} seconds.\")\n",
        "print(f\"Validation accuracy with augmentation: {max(history_aug.history['val_accuracy']):.4f}\")\n",
        "\n",
        "# Baseline non-augmented accuracy (example)\n",
        "val_acc_no_aug = 0.8600\n",
        "print(f\"Validation accuracy without augmentation: {val_acc_no_aug:.4f}\")"
      ],
      "metadata": {
        "colab": {
          "base_uri": "https://localhost:8080/"
        },
        "id": "kGoNxzqOt7nr",
        "outputId": "a8e4fcf5-292a-4214-b7e1-af13b0e9ad47"
      },
      "execution_count": 45,
      "outputs": [
        {
          "output_type": "stream",
          "name": "stdout",
          "text": [
            "y_train shape: (60000,)\n",
            "y_val shape: (12000, 10)\n",
            "Epoch 1/50\n",
            "\u001b[1m937/937\u001b[0m \u001b[32m━━━━━━━━━━━━━━━━━━━━\u001b[0m\u001b[37m\u001b[0m \u001b[1m26s\u001b[0m 24ms/step - accuracy: 0.5642 - loss: 1.1867 - val_accuracy: 0.7763 - val_loss: 0.5679\n",
            "Epoch 2/50\n",
            "\u001b[1m937/937\u001b[0m \u001b[32m━━━━━━━━━━━━━━━━━━━━\u001b[0m\u001b[37m\u001b[0m \u001b[1m1s\u001b[0m 868us/step - accuracy: 0.6875 - loss: 0.7881 - val_accuracy: 0.7755 - val_loss: 0.5675\n",
            "Epoch 3/50\n",
            "\u001b[1m937/937\u001b[0m \u001b[32m━━━━━━━━━━━━━━━━━━━━\u001b[0m\u001b[37m\u001b[0m \u001b[1m21s\u001b[0m 23ms/step - accuracy: 0.7220 - loss: 0.7464 - val_accuracy: 0.8113 - val_loss: 0.4950\n",
            "Epoch 4/50\n",
            "\u001b[1m937/937\u001b[0m \u001b[32m━━━━━━━━━━━━━━━━━━━━\u001b[0m\u001b[37m\u001b[0m \u001b[1m1s\u001b[0m 887us/step - accuracy: 0.8750 - loss: 0.4213 - val_accuracy: 0.8087 - val_loss: 0.4965\n",
            "Epoch 5/50\n",
            "\u001b[1m937/937\u001b[0m \u001b[32m━━━━━━━━━━━━━━━━━━━━\u001b[0m\u001b[37m\u001b[0m \u001b[1m21s\u001b[0m 23ms/step - accuracy: 0.7499 - loss: 0.6656 - val_accuracy: 0.8119 - val_loss: 0.4688\n",
            "Epoch 6/50\n",
            "\u001b[1m937/937\u001b[0m \u001b[32m━━━━━━━━━━━━━━━━━━━━\u001b[0m\u001b[37m\u001b[0m \u001b[1m1s\u001b[0m 907us/step - accuracy: 0.8438 - loss: 0.4605 - val_accuracy: 0.8081 - val_loss: 0.4763\n",
            "Epoch 7/50\n",
            "\u001b[1m937/937\u001b[0m \u001b[32m━━━━━━━━━━━━━━━━━━━━\u001b[0m\u001b[37m\u001b[0m \u001b[1m21s\u001b[0m 23ms/step - accuracy: 0.7692 - loss: 0.6131 - val_accuracy: 0.8403 - val_loss: 0.4328\n",
            "Epoch 8/50\n",
            "\u001b[1m937/937\u001b[0m \u001b[32m━━━━━━━━━━━━━━━━━━━━\u001b[0m\u001b[37m\u001b[0m \u001b[1m1s\u001b[0m 1ms/step - accuracy: 0.7812 - loss: 0.5372 - val_accuracy: 0.8418 - val_loss: 0.4282\n",
            "Epoch 9/50\n",
            "\u001b[1m937/937\u001b[0m \u001b[32m━━━━━━━━━━━━━━━━━━━━\u001b[0m\u001b[37m\u001b[0m \u001b[1m40s\u001b[0m 23ms/step - accuracy: 0.7843 - loss: 0.5817 - val_accuracy: 0.8551 - val_loss: 0.3821\n",
            "Epoch 10/50\n",
            "\u001b[1m937/937\u001b[0m \u001b[32m━━━━━━━━━━━━━━━━━━━━\u001b[0m\u001b[37m\u001b[0m \u001b[1m1s\u001b[0m 867us/step - accuracy: 0.8281 - loss: 0.4191 - val_accuracy: 0.8535 - val_loss: 0.3834\n",
            "Epoch 11/50\n",
            "\u001b[1m937/937\u001b[0m \u001b[32m━━━━━━━━━━━━━━━━━━━━\u001b[0m\u001b[37m\u001b[0m \u001b[1m21s\u001b[0m 23ms/step - accuracy: 0.7955 - loss: 0.5542 - val_accuracy: 0.8503 - val_loss: 0.3902\n",
            "Epoch 12/50\n",
            "\u001b[1m937/937\u001b[0m \u001b[32m━━━━━━━━━━━━━━━━━━━━\u001b[0m\u001b[37m\u001b[0m \u001b[1m1s\u001b[0m 1ms/step - accuracy: 0.7344 - loss: 0.6279 - val_accuracy: 0.8512 - val_loss: 0.3889\n",
            "Epoch 13/50\n",
            "\u001b[1m937/937\u001b[0m \u001b[32m━━━━━━━━━━━━━━━━━━━━\u001b[0m\u001b[37m\u001b[0m \u001b[1m21s\u001b[0m 23ms/step - accuracy: 0.8052 - loss: 0.5304 - val_accuracy: 0.8627 - val_loss: 0.3665\n",
            "Epoch 14/50\n",
            "\u001b[1m937/937\u001b[0m \u001b[32m━━━━━━━━━━━━━━━━━━━━\u001b[0m\u001b[37m\u001b[0m \u001b[1m1s\u001b[0m 866us/step - accuracy: 0.7500 - loss: 0.4696 - val_accuracy: 0.8624 - val_loss: 0.3664\n",
            "Epoch 15/50\n",
            "\u001b[1m937/937\u001b[0m \u001b[32m━━━━━━━━━━━━━━━━━━━━\u001b[0m\u001b[37m\u001b[0m \u001b[1m21s\u001b[0m 23ms/step - accuracy: 0.8110 - loss: 0.5115 - val_accuracy: 0.8599 - val_loss: 0.3684\n",
            "Epoch 16/50\n",
            "\u001b[1m937/937\u001b[0m \u001b[32m━━━━━━━━━━━━━━━━━━━━\u001b[0m\u001b[37m\u001b[0m \u001b[1m1s\u001b[0m 1ms/step - accuracy: 0.8281 - loss: 0.5057 - val_accuracy: 0.8617 - val_loss: 0.3660\n",
            "Epoch 17/50\n",
            "\u001b[1m937/937\u001b[0m \u001b[32m━━━━━━━━━━━━━━━━━━━━\u001b[0m\u001b[37m\u001b[0m \u001b[1m40s\u001b[0m 23ms/step - accuracy: 0.8120 - loss: 0.5070 - val_accuracy: 0.8629 - val_loss: 0.3615\n",
            "Epoch 18/50\n",
            "\u001b[1m937/937\u001b[0m \u001b[32m━━━━━━━━━━━━━━━━━━━━\u001b[0m\u001b[37m\u001b[0m \u001b[1m1s\u001b[0m 864us/step - accuracy: 0.8594 - loss: 0.5661 - val_accuracy: 0.8633 - val_loss: 0.3620\n",
            "Epoch 19/50\n",
            "\u001b[1m937/937\u001b[0m \u001b[32m━━━━━━━━━━━━━━━━━━━━\u001b[0m\u001b[37m\u001b[0m \u001b[1m39s\u001b[0m 22ms/step - accuracy: 0.8195 - loss: 0.4932 - val_accuracy: 0.8656 - val_loss: 0.3545\n",
            "Epoch 20/50\n",
            "\u001b[1m937/937\u001b[0m \u001b[32m━━━━━━━━━━━━━━━━━━━━\u001b[0m\u001b[37m\u001b[0m \u001b[1m1s\u001b[0m 1ms/step - accuracy: 0.7812 - loss: 0.4569 - val_accuracy: 0.8667 - val_loss: 0.3518\n",
            "Epoch 21/50\n",
            "\u001b[1m937/937\u001b[0m \u001b[32m━━━━━━━━━━━━━━━━━━━━\u001b[0m\u001b[37m\u001b[0m \u001b[1m40s\u001b[0m 23ms/step - accuracy: 0.8217 - loss: 0.4832 - val_accuracy: 0.8734 - val_loss: 0.3390\n",
            "Epoch 22/50\n",
            "\u001b[1m937/937\u001b[0m \u001b[32m━━━━━━━━━━━━━━━━━━━━\u001b[0m\u001b[37m\u001b[0m \u001b[1m1s\u001b[0m 1ms/step - accuracy: 0.8594 - loss: 0.5505 - val_accuracy: 0.8744 - val_loss: 0.3367\n",
            "Epoch 23/50\n",
            "\u001b[1m937/937\u001b[0m \u001b[32m━━━━━━━━━━━━━━━━━━━━\u001b[0m\u001b[37m\u001b[0m \u001b[1m39s\u001b[0m 22ms/step - accuracy: 0.8252 - loss: 0.4742 - val_accuracy: 0.8581 - val_loss: 0.3730\n",
            "Epoch 24/50\n",
            "\u001b[1m937/937\u001b[0m \u001b[32m━━━━━━━━━━━━━━━━━━━━\u001b[0m\u001b[37m\u001b[0m \u001b[1m1s\u001b[0m 874us/step - accuracy: 0.8125 - loss: 0.5080 - val_accuracy: 0.8572 - val_loss: 0.3750\n",
            "Epoch 25/50\n",
            "\u001b[1m937/937\u001b[0m \u001b[32m━━━━━━━━━━━━━━━━━━━━\u001b[0m\u001b[37m\u001b[0m \u001b[1m22s\u001b[0m 23ms/step - accuracy: 0.8297 - loss: 0.4662 - val_accuracy: 0.8728 - val_loss: 0.3335\n",
            "Epoch 26/50\n",
            "\u001b[1m937/937\u001b[0m \u001b[32m━━━━━━━━━━━━━━━━━━━━\u001b[0m\u001b[37m\u001b[0m \u001b[1m1s\u001b[0m 888us/step - accuracy: 0.7656 - loss: 0.6700 - val_accuracy: 0.8751 - val_loss: 0.3270\n",
            "Epoch 27/50\n",
            "\u001b[1m937/937\u001b[0m \u001b[32m━━━━━━━━━━━━━━━━━━━━\u001b[0m\u001b[37m\u001b[0m \u001b[1m22s\u001b[0m 23ms/step - accuracy: 0.8309 - loss: 0.4580 - val_accuracy: 0.8716 - val_loss: 0.3392\n",
            "Epoch 28/50\n",
            "\u001b[1m937/937\u001b[0m \u001b[32m━━━━━━━━━━━━━━━━━━━━\u001b[0m\u001b[37m\u001b[0m \u001b[1m1s\u001b[0m 846us/step - accuracy: 0.9062 - loss: 0.3665 - val_accuracy: 0.8708 - val_loss: 0.3430\n",
            "Epoch 29/50\n",
            "\u001b[1m937/937\u001b[0m \u001b[32m━━━━━━━━━━━━━━━━━━━━\u001b[0m\u001b[37m\u001b[0m \u001b[1m21s\u001b[0m 23ms/step - accuracy: 0.8322 - loss: 0.4587 - val_accuracy: 0.8777 - val_loss: 0.3261\n",
            "Epoch 30/50\n",
            "\u001b[1m937/937\u001b[0m \u001b[32m━━━━━━━━━━━━━━━━━━━━\u001b[0m\u001b[37m\u001b[0m \u001b[1m1s\u001b[0m 854us/step - accuracy: 0.8125 - loss: 0.4348 - val_accuracy: 0.8772 - val_loss: 0.3264\n",
            "Epoch 31/50\n",
            "\u001b[1m937/937\u001b[0m \u001b[32m━━━━━━━━━━━━━━━━━━━━\u001b[0m\u001b[37m\u001b[0m \u001b[1m40s\u001b[0m 22ms/step - accuracy: 0.8374 - loss: 0.4458 - val_accuracy: 0.8742 - val_loss: 0.3335\n",
            "Epoch 32/50\n",
            "\u001b[1m937/937\u001b[0m \u001b[32m━━━━━━━━━━━━━━━━━━━━\u001b[0m\u001b[37m\u001b[0m \u001b[1m1s\u001b[0m 882us/step - accuracy: 0.8281 - loss: 0.3945 - val_accuracy: 0.8742 - val_loss: 0.3286\n",
            "Epoch 33/50\n",
            "\u001b[1m937/937\u001b[0m \u001b[32m━━━━━━━━━━━━━━━━━━━━\u001b[0m\u001b[37m\u001b[0m \u001b[1m41s\u001b[0m 23ms/step - accuracy: 0.8368 - loss: 0.4492 - val_accuracy: 0.8758 - val_loss: 0.3286\n",
            "Epoch 34/50\n",
            "\u001b[1m937/937\u001b[0m \u001b[32m━━━━━━━━━━━━━━━━━━━━\u001b[0m\u001b[37m\u001b[0m \u001b[1m1s\u001b[0m 882us/step - accuracy: 0.9062 - loss: 0.2092 - val_accuracy: 0.8773 - val_loss: 0.3222\n",
            "Epoch 35/50\n",
            "\u001b[1m937/937\u001b[0m \u001b[32m━━━━━━━━━━━━━━━━━━━━\u001b[0m\u001b[37m\u001b[0m \u001b[1m22s\u001b[0m 24ms/step - accuracy: 0.8352 - loss: 0.4427 - val_accuracy: 0.8705 - val_loss: 0.3409\n",
            "Epoch 36/50\n",
            "\u001b[1m937/937\u001b[0m \u001b[32m━━━━━━━━━━━━━━━━━━━━\u001b[0m\u001b[37m\u001b[0m \u001b[1m1s\u001b[0m 919us/step - accuracy: 0.8281 - loss: 0.3984 - val_accuracy: 0.8690 - val_loss: 0.3486\n",
            "Epoch 37/50\n",
            "\u001b[1m937/937\u001b[0m \u001b[32m━━━━━━━━━━━━━━━━━━━━\u001b[0m\u001b[37m\u001b[0m \u001b[1m40s\u001b[0m 23ms/step - accuracy: 0.8382 - loss: 0.4437 - val_accuracy: 0.8767 - val_loss: 0.3286\n",
            "Epoch 38/50\n",
            "\u001b[1m937/937\u001b[0m \u001b[32m━━━━━━━━━━━━━━━━━━━━\u001b[0m\u001b[37m\u001b[0m \u001b[1m1s\u001b[0m 868us/step - accuracy: 0.8906 - loss: 0.3828 - val_accuracy: 0.8763 - val_loss: 0.3309\n",
            "Epoch 39/50\n",
            "\u001b[1m937/937\u001b[0m \u001b[32m━━━━━━━━━━━━━━━━━━━━\u001b[0m\u001b[37m\u001b[0m \u001b[1m22s\u001b[0m 23ms/step - accuracy: 0.8394 - loss: 0.4366 - val_accuracy: 0.8783 - val_loss: 0.3138\n",
            "Epoch 40/50\n",
            "\u001b[1m937/937\u001b[0m \u001b[32m━━━━━━━━━━━━━━━━━━━━\u001b[0m\u001b[37m\u001b[0m \u001b[1m1s\u001b[0m 890us/step - accuracy: 0.9219 - loss: 0.3532 - val_accuracy: 0.8806 - val_loss: 0.3122\n",
            "Epoch 41/50\n",
            "\u001b[1m937/937\u001b[0m \u001b[32m━━━━━━━━━━━━━━━━━━━━\u001b[0m\u001b[37m\u001b[0m \u001b[1m23s\u001b[0m 24ms/step - accuracy: 0.8428 - loss: 0.4337 - val_accuracy: 0.8799 - val_loss: 0.3235\n",
            "Epoch 42/50\n",
            "\u001b[1m937/937\u001b[0m \u001b[32m━━━━━━━━━━━━━━━━━━━━\u001b[0m\u001b[37m\u001b[0m \u001b[1m1s\u001b[0m 871us/step - accuracy: 0.8906 - loss: 0.2993 - val_accuracy: 0.8793 - val_loss: 0.3245\n",
            "Epoch 43/50\n",
            "\u001b[1m937/937\u001b[0m \u001b[32m━━━━━━━━━━━━━━━━━━━━\u001b[0m\u001b[37m\u001b[0m \u001b[1m39s\u001b[0m 23ms/step - accuracy: 0.8434 - loss: 0.4296 - val_accuracy: 0.8777 - val_loss: 0.3269\n",
            "Epoch 44/50\n",
            "\u001b[1m937/937\u001b[0m \u001b[32m━━━━━━━━━━━━━━━━━━━━\u001b[0m\u001b[37m\u001b[0m \u001b[1m1s\u001b[0m 876us/step - accuracy: 0.8438 - loss: 0.4653 - val_accuracy: 0.8790 - val_loss: 0.3246\n",
            "Epoch 45/50\n",
            "\u001b[1m937/937\u001b[0m \u001b[32m━━━━━━━━━━━━━━━━━━━━\u001b[0m\u001b[37m\u001b[0m \u001b[1m22s\u001b[0m 24ms/step - accuracy: 0.8423 - loss: 0.4292 - val_accuracy: 0.8777 - val_loss: 0.3255\n",
            "Training with augmented data took 686.12 seconds.\n",
            "Validation accuracy with augmentation: 0.8806\n",
            "Validation accuracy without augmentation: 0.8600\n"
          ]
        }
      ]
    },
    {
      "cell_type": "markdown",
      "source": [
        "The results show how training with augmented data affects the model's validation accuracy compared to training on the original dataset.\n",
        "\n",
        "Typically, data augmentation improves the model's ability to generalize to unseen data by artificially increasing dataset diversity. This can lead to higher validation accuracy and better robustness."
      ],
      "metadata": {
        "id": "obuGO0uHu38-"
      }
    },
    {
      "cell_type": "markdown",
      "source": [
        "## 6. Transfer Learning\n",
        "\n",
        "### 6.1 Model 1: Transfer Learning with VGG19\n",
        "\n",
        "In this section, we apply transfer learning using the VGG19 architecture, pretrained on the ImageNet dataset. VGG19 requires input images to be at least 32x32 in size and to have 3 channels (RGB). Since our original dataset contains 28x28 grayscale images, we resize them to 32x32 and convert them to 3-channel format. We then freeze the convolutional base and add a custom classification head to fine-tune the model on our dataset."
      ],
      "metadata": {
        "id": "YNN1HFtg0zAa"
      }
    },
    {
      "cell_type": "code",
      "source": [
        "from tensorflow.keras.applications import VGG19\n",
        "from tensorflow.keras.models import Model\n",
        "from tensorflow.keras.layers import GlobalAveragePooling2D, Dense, Dropout\n",
        "from tensorflow.keras.optimizers import Adam\n",
        "from tensorflow.keras.callbacks import EarlyStopping\n",
        "import tensorflow as tf\n",
        "import numpy as np\n",
        "\n",
        "# Resize and convert grayscale images to 3-channel RGB\n",
        "x_train_resized = tf.image.resize(x_train, [32, 32]).numpy()\n",
        "x_val_resized = tf.image.resize(x_val, [32, 32]).numpy()\n",
        "\n",
        "x_train_rgb = np.repeat(x_train_resized, 3, axis=-1)\n",
        "x_val_rgb = np.repeat(x_val_resized, 3, axis=-1)\n",
        "\n",
        "# Load VGG19 base model with pretrained weights, without top layers\n",
        "base_model = VGG19(weights='imagenet', include_top=False, input_shape=(32, 32, 3))\n",
        "\n",
        "# Freeze base model layers\n",
        "for layer in base_model.layers:\n",
        "    layer.trainable = False\n",
        "\n",
        "# Add classification head\n",
        "x = base_model.output\n",
        "x = GlobalAveragePooling2D()(x)\n",
        "x = Dense(256, activation='relu')(x)\n",
        "x = Dropout(0.5)(x)\n",
        "output = Dense(num_classes, activation='softmax')(x)\n",
        "\n",
        "# Create model\n",
        "model_vgg19 = Model(inputs=base_model.input, outputs=output)\n",
        "\n",
        "# Compile model\n",
        "model_vgg19.compile(optimizer=Adam(learning_rate=1e-4),\n",
        "                    loss='categorical_crossentropy',\n",
        "                    metrics=['accuracy'])\n",
        "\n",
        "# Define early stopping\n",
        "early_stop = EarlyStopping(monitor='val_loss', patience=5, restore_best_weights=True)\n",
        "\n",
        "# Train model\n",
        "history_vgg19 = model_vgg19.fit(\n",
        "    datagen.flow(x_train_rgb, y_train_cat, batch_size=64),\n",
        "    steps_per_epoch=len(x_train_rgb) // 64,\n",
        "    epochs=30,\n",
        "    validation_data=(x_val_rgb, y_val_cat),\n",
        "    callbacks=[early_stop]\n",
        ")"
      ],
      "metadata": {
        "colab": {
          "base_uri": "https://localhost:8080/"
        },
        "id": "FI7wO51f01Yw",
        "outputId": "af7bb07c-05a8-4578-8b36-a253fbf85ecb"
      },
      "execution_count": 48,
      "outputs": [
        {
          "output_type": "stream",
          "name": "stdout",
          "text": [
            "Downloading data from https://storage.googleapis.com/tensorflow/keras-applications/vgg19/vgg19_weights_tf_dim_ordering_tf_kernels_notop.h5\n",
            "\u001b[1m80134624/80134624\u001b[0m \u001b[32m━━━━━━━━━━━━━━━━━━━━\u001b[0m\u001b[37m\u001b[0m \u001b[1m3s\u001b[0m 0us/step\n",
            "Epoch 1/30\n",
            "\u001b[1m937/937\u001b[0m \u001b[32m━━━━━━━━━━━━━━━━━━━━\u001b[0m\u001b[37m\u001b[0m \u001b[1m54s\u001b[0m 53ms/step - accuracy: 0.4250 - loss: 1.6717 - val_accuracy: 0.7303 - val_loss: 0.8118\n",
            "Epoch 2/30\n",
            "\u001b[1m937/937\u001b[0m \u001b[32m━━━━━━━━━━━━━━━━━━━━\u001b[0m\u001b[37m\u001b[0m \u001b[1m5s\u001b[0m 6ms/step - accuracy: 0.6719 - loss: 0.9815 - val_accuracy: 0.7303 - val_loss: 0.8111\n",
            "Epoch 3/30\n",
            "\u001b[1m937/937\u001b[0m \u001b[32m━━━━━━━━━━━━━━━━━━━━\u001b[0m\u001b[37m\u001b[0m \u001b[1m44s\u001b[0m 47ms/step - accuracy: 0.6813 - loss: 0.9089 - val_accuracy: 0.7497 - val_loss: 0.7158\n",
            "Epoch 4/30\n",
            "\u001b[1m937/937\u001b[0m \u001b[32m━━━━━━━━━━━━━━━━━━━━\u001b[0m\u001b[37m\u001b[0m \u001b[1m5s\u001b[0m 5ms/step - accuracy: 0.7812 - loss: 0.7848 - val_accuracy: 0.7492 - val_loss: 0.7160\n",
            "Epoch 5/30\n",
            "\u001b[1m937/937\u001b[0m \u001b[32m━━━━━━━━━━━━━━━━━━━━\u001b[0m\u001b[37m\u001b[0m \u001b[1m45s\u001b[0m 48ms/step - accuracy: 0.7142 - loss: 0.7963 - val_accuracy: 0.7552 - val_loss: 0.6754\n",
            "Epoch 6/30\n",
            "\u001b[1m937/937\u001b[0m \u001b[32m━━━━━━━━━━━━━━━━━━━━\u001b[0m\u001b[37m\u001b[0m \u001b[1m5s\u001b[0m 6ms/step - accuracy: 0.6094 - loss: 1.1320 - val_accuracy: 0.7553 - val_loss: 0.6748\n",
            "Epoch 7/30\n",
            "\u001b[1m937/937\u001b[0m \u001b[32m━━━━━━━━━━━━━━━━━━━━\u001b[0m\u001b[37m\u001b[0m \u001b[1m77s\u001b[0m 48ms/step - accuracy: 0.7369 - loss: 0.7352 - val_accuracy: 0.7677 - val_loss: 0.6466\n",
            "Epoch 8/30\n",
            "\u001b[1m937/937\u001b[0m \u001b[32m━━━━━━━━━━━━━━━━━━━━\u001b[0m\u001b[37m\u001b[0m \u001b[1m4s\u001b[0m 4ms/step - accuracy: 0.6719 - loss: 0.9782 - val_accuracy: 0.7677 - val_loss: 0.6471\n",
            "Epoch 9/30\n",
            "\u001b[1m937/937\u001b[0m \u001b[32m━━━━━━━━━━━━━━━━━━━━\u001b[0m\u001b[37m\u001b[0m \u001b[1m45s\u001b[0m 48ms/step - accuracy: 0.7438 - loss: 0.7103 - val_accuracy: 0.7664 - val_loss: 0.6402\n",
            "Epoch 10/30\n",
            "\u001b[1m937/937\u001b[0m \u001b[32m━━━━━━━━━━━━━━━━━━━━\u001b[0m\u001b[37m\u001b[0m \u001b[1m5s\u001b[0m 5ms/step - accuracy: 0.7656 - loss: 0.7080 - val_accuracy: 0.7661 - val_loss: 0.6407\n",
            "Epoch 11/30\n",
            "\u001b[1m937/937\u001b[0m \u001b[32m━━━━━━━━━━━━━━━━━━━━\u001b[0m\u001b[37m\u001b[0m \u001b[1m45s\u001b[0m 48ms/step - accuracy: 0.7525 - loss: 0.6825 - val_accuracy: 0.7763 - val_loss: 0.6189\n",
            "Epoch 12/30\n",
            "\u001b[1m937/937\u001b[0m \u001b[32m━━━━━━━━━━━━━━━━━━━━\u001b[0m\u001b[37m\u001b[0m \u001b[1m4s\u001b[0m 4ms/step - accuracy: 0.8281 - loss: 0.5261 - val_accuracy: 0.7763 - val_loss: 0.6189\n",
            "Epoch 13/30\n",
            "\u001b[1m937/937\u001b[0m \u001b[32m━━━━━━━━━━━━━━━━━━━━\u001b[0m\u001b[37m\u001b[0m \u001b[1m53s\u001b[0m 56ms/step - accuracy: 0.7579 - loss: 0.6583 - val_accuracy: 0.7854 - val_loss: 0.5938\n",
            "Epoch 14/30\n",
            "\u001b[1m937/937\u001b[0m \u001b[32m━━━━━━━━━━━━━━━━━━━━\u001b[0m\u001b[37m\u001b[0m \u001b[1m4s\u001b[0m 4ms/step - accuracy: 0.7656 - loss: 0.7117 - val_accuracy: 0.7854 - val_loss: 0.5934\n",
            "Epoch 15/30\n",
            "\u001b[1m937/937\u001b[0m \u001b[32m━━━━━━━━━━━━━━━━━━━━\u001b[0m\u001b[37m\u001b[0m \u001b[1m47s\u001b[0m 50ms/step - accuracy: 0.7629 - loss: 0.6521 - val_accuracy: 0.7858 - val_loss: 0.5893\n",
            "Epoch 16/30\n",
            "\u001b[1m937/937\u001b[0m \u001b[32m━━━━━━━━━━━━━━━━━━━━\u001b[0m\u001b[37m\u001b[0m \u001b[1m4s\u001b[0m 4ms/step - accuracy: 0.7812 - loss: 0.6965 - val_accuracy: 0.7856 - val_loss: 0.5896\n",
            "Epoch 17/30\n",
            "\u001b[1m937/937\u001b[0m \u001b[32m━━━━━━━━━━━━━━━━━━━━\u001b[0m\u001b[37m\u001b[0m \u001b[1m78s\u001b[0m 50ms/step - accuracy: 0.7669 - loss: 0.6381 - val_accuracy: 0.7893 - val_loss: 0.5732\n",
            "Epoch 18/30\n",
            "\u001b[1m937/937\u001b[0m \u001b[32m━━━━━━━━━━━━━━━━━━━━\u001b[0m\u001b[37m\u001b[0m \u001b[1m5s\u001b[0m 5ms/step - accuracy: 0.7188 - loss: 0.7818 - val_accuracy: 0.7897 - val_loss: 0.5736\n",
            "Epoch 19/30\n",
            "\u001b[1m937/937\u001b[0m \u001b[32m━━━━━━━━━━━━━━━━━━━━\u001b[0m\u001b[37m\u001b[0m \u001b[1m46s\u001b[0m 50ms/step - accuracy: 0.7717 - loss: 0.6272 - val_accuracy: 0.7926 - val_loss: 0.5666\n",
            "Epoch 20/30\n",
            "\u001b[1m937/937\u001b[0m \u001b[32m━━━━━━━━━━━━━━━━━━━━\u001b[0m\u001b[37m\u001b[0m \u001b[1m4s\u001b[0m 4ms/step - accuracy: 0.7969 - loss: 0.5750 - val_accuracy: 0.7928 - val_loss: 0.5667\n",
            "Epoch 21/30\n",
            "\u001b[1m937/937\u001b[0m \u001b[32m━━━━━━━━━━━━━━━━━━━━\u001b[0m\u001b[37m\u001b[0m \u001b[1m78s\u001b[0m 50ms/step - accuracy: 0.7737 - loss: 0.6174 - val_accuracy: 0.7961 - val_loss: 0.5599\n",
            "Epoch 22/30\n",
            "\u001b[1m937/937\u001b[0m \u001b[32m━━━━━━━━━━━━━━━━━━━━\u001b[0m\u001b[37m\u001b[0m \u001b[1m4s\u001b[0m 4ms/step - accuracy: 0.8281 - loss: 0.4908 - val_accuracy: 0.7959 - val_loss: 0.5603\n",
            "Epoch 23/30\n",
            "\u001b[1m937/937\u001b[0m \u001b[32m━━━━━━━━━━━━━━━━━━━━\u001b[0m\u001b[37m\u001b[0m \u001b[1m78s\u001b[0m 49ms/step - accuracy: 0.7746 - loss: 0.6144 - val_accuracy: 0.7987 - val_loss: 0.5449\n",
            "Epoch 24/30\n",
            "\u001b[1m937/937\u001b[0m \u001b[32m━━━━━━━━━━━━━━━━━━━━\u001b[0m\u001b[37m\u001b[0m \u001b[1m5s\u001b[0m 6ms/step - accuracy: 0.6875 - loss: 0.7945 - val_accuracy: 0.7991 - val_loss: 0.5449\n",
            "Epoch 25/30\n",
            "\u001b[1m937/937\u001b[0m \u001b[32m━━━━━━━━━━━━━━━━━━━━\u001b[0m\u001b[37m\u001b[0m \u001b[1m44s\u001b[0m 47ms/step - accuracy: 0.7820 - loss: 0.6008 - val_accuracy: 0.8020 - val_loss: 0.5460\n",
            "Epoch 26/30\n",
            "\u001b[1m937/937\u001b[0m \u001b[32m━━━━━━━━━━━━━━━━━━━━\u001b[0m\u001b[37m\u001b[0m \u001b[1m5s\u001b[0m 5ms/step - accuracy: 0.7656 - loss: 0.6963 - val_accuracy: 0.8019 - val_loss: 0.5465\n",
            "Epoch 27/30\n",
            "\u001b[1m937/937\u001b[0m \u001b[32m━━━━━━━━━━━━━━━━━━━━\u001b[0m\u001b[37m\u001b[0m \u001b[1m81s\u001b[0m 52ms/step - accuracy: 0.7782 - loss: 0.5984 - val_accuracy: 0.8016 - val_loss: 0.5398\n",
            "Epoch 28/30\n",
            "\u001b[1m937/937\u001b[0m \u001b[32m━━━━━━━━━━━━━━━━━━━━\u001b[0m\u001b[37m\u001b[0m \u001b[1m5s\u001b[0m 6ms/step - accuracy: 0.7500 - loss: 0.7006 - val_accuracy: 0.8013 - val_loss: 0.5398\n",
            "Epoch 29/30\n",
            "\u001b[1m937/937\u001b[0m \u001b[32m━━━━━━━━━━━━━━━━━━━━\u001b[0m\u001b[37m\u001b[0m \u001b[1m47s\u001b[0m 50ms/step - accuracy: 0.7851 - loss: 0.5881 - val_accuracy: 0.8026 - val_loss: 0.5355\n",
            "Epoch 30/30\n",
            "\u001b[1m937/937\u001b[0m \u001b[32m━━━━━━━━━━━━━━━━━━━━\u001b[0m\u001b[37m\u001b[0m \u001b[1m4s\u001b[0m 4ms/step - accuracy: 0.8594 - loss: 0.4881 - val_accuracy: 0.8026 - val_loss: 0.5358\n"
          ]
        }
      ]
    },
    {
      "cell_type": "markdown",
      "source": [
        "### Results\n",
        "\n",
        "We evaluate the model on the validation set and print the maximum validation accuracy reached during training."
      ],
      "metadata": {
        "id": "xjrzhQ-e1YLZ"
      }
    },
    {
      "cell_type": "code",
      "source": [
        "val_acc_vgg19 = max(history_vgg19.history['val_accuracy'])\n",
        "print(f\"Best validation accuracy using VGG19 transfer learning: {val_acc_vgg19:.4f}\")"
      ],
      "metadata": {
        "colab": {
          "base_uri": "https://localhost:8080/"
        },
        "id": "GtIiTFqp1aju",
        "outputId": "491066a0-77f0-4d7f-83bf-efd194d10303"
      },
      "execution_count": 49,
      "outputs": [
        {
          "output_type": "stream",
          "name": "stdout",
          "text": [
            "Best validation accuracy using VGG19 transfer learning: 0.8026\n"
          ]
        }
      ]
    },
    {
      "cell_type": "markdown",
      "source": [
        "## 6. Transfer Learning\n",
        "\n",
        "### 6.2 Model 2: Transfer Learning with EfficientNetB0\n",
        "\n",
        "In this section, we repeat the transfer learning process using the EfficientNetB0 architecture. Similar to VGG19, EfficientNetB0 expects input images to have a minimum size of 32x32 and 3 channels. We reuse the resized and RGB-converted images prepared earlier. The EfficientNetB0 base is loaded with pretrained ImageNet weights, its layers are frozen, and a custom classification head is added for our task."
      ],
      "metadata": {
        "id": "jLkxkZVV9VoJ"
      }
    },
    {
      "cell_type": "code",
      "source": [
        "from tensorflow.keras.applications import EfficientNetB0\n",
        "\n",
        "# Load EfficientNetB0 base model without the top layers\n",
        "base_model_efficient = EfficientNetB0(weights='imagenet', include_top=False, input_shape=(32, 32, 3))\n",
        "\n",
        "# Freeze base model layers\n",
        "for layer in base_model_efficient.layers:\n",
        "    layer.trainable = False\n",
        "\n",
        "# Add custom classification head\n",
        "x = base_model_efficient.output\n",
        "x = GlobalAveragePooling2D()(x)\n",
        "x = Dense(256, activation='relu')(x)\n",
        "x = Dropout(0.5)(x)\n",
        "output = Dense(num_classes, activation='softmax')(x)\n",
        "\n",
        "# Create model\n",
        "model_efficient = Model(inputs=base_model_efficient.input, outputs=output)\n",
        "\n",
        "# Compile model\n",
        "model_efficient.compile(optimizer=Adam(learning_rate=1e-4),\n",
        "                        loss='categorical_crossentropy',\n",
        "                        metrics=['accuracy'])\n",
        "\n",
        "# Train model\n",
        "history_efficient = model_efficient.fit(\n",
        "    datagen.flow(x_train_rgb, y_train_cat, batch_size=64),\n",
        "    steps_per_epoch=len(x_train_rgb) // 64,\n",
        "    epochs=30,\n",
        "    validation_data=(x_val_rgb, y_val_cat),\n",
        "    callbacks=[early_stop]\n",
        ")"
      ],
      "metadata": {
        "colab": {
          "base_uri": "https://localhost:8080/"
        },
        "id": "ZtROKNQS5QFc",
        "outputId": "9cb068d6-d4ff-4601-af07-af8e2b514ff7"
      },
      "execution_count": 50,
      "outputs": [
        {
          "output_type": "stream",
          "name": "stdout",
          "text": [
            "Downloading data from https://storage.googleapis.com/keras-applications/efficientnetb0_notop.h5\n",
            "\u001b[1m16705208/16705208\u001b[0m \u001b[32m━━━━━━━━━━━━━━━━━━━━\u001b[0m\u001b[37m\u001b[0m \u001b[1m1s\u001b[0m 0us/step\n",
            "Epoch 1/30\n",
            "\u001b[1m937/937\u001b[0m \u001b[32m━━━━━━━━━━━━━━━━━━━━\u001b[0m\u001b[37m\u001b[0m \u001b[1m81s\u001b[0m 65ms/step - accuracy: 0.1013 - loss: 2.3214 - val_accuracy: 0.1020 - val_loss: 2.3007\n",
            "Epoch 2/30\n",
            "\u001b[1m937/937\u001b[0m \u001b[32m━━━━━━━━━━━━━━━━━━━━\u001b[0m\u001b[37m\u001b[0m \u001b[1m2s\u001b[0m 2ms/step - accuracy: 0.0781 - loss: 2.2995 - val_accuracy: 0.1025 - val_loss: 2.3007\n",
            "Epoch 3/30\n",
            "\u001b[1m937/937\u001b[0m \u001b[32m━━━━━━━━━━━━━━━━━━━━\u001b[0m\u001b[37m\u001b[0m \u001b[1m50s\u001b[0m 44ms/step - accuracy: 0.1062 - loss: 2.3022 - val_accuracy: 0.0966 - val_loss: 2.3015\n",
            "Epoch 4/30\n",
            "\u001b[1m937/937\u001b[0m \u001b[32m━━━━━━━━━━━━━━━━━━━━\u001b[0m\u001b[37m\u001b[0m \u001b[1m3s\u001b[0m 3ms/step - accuracy: 0.0938 - loss: 2.3049 - val_accuracy: 0.0966 - val_loss: 2.3014\n",
            "Epoch 5/30\n",
            "\u001b[1m937/937\u001b[0m \u001b[32m━━━━━━━━━━━━━━━━━━━━\u001b[0m\u001b[37m\u001b[0m \u001b[1m41s\u001b[0m 44ms/step - accuracy: 0.1076 - loss: 2.3016 - val_accuracy: 0.1447 - val_loss: 2.2990\n",
            "Epoch 6/30\n",
            "\u001b[1m937/937\u001b[0m \u001b[32m━━━━━━━━━━━━━━━━━━━━\u001b[0m\u001b[37m\u001b[0m \u001b[1m3s\u001b[0m 3ms/step - accuracy: 0.0312 - loss: 2.3004 - val_accuracy: 0.1447 - val_loss: 2.2991\n",
            "Epoch 7/30\n",
            "\u001b[1m937/937\u001b[0m \u001b[32m━━━━━━━━━━━━━━━━━━━━\u001b[0m\u001b[37m\u001b[0m \u001b[1m43s\u001b[0m 46ms/step - accuracy: 0.1146 - loss: 2.3004 - val_accuracy: 0.1361 - val_loss: 2.2981\n",
            "Epoch 8/30\n",
            "\u001b[1m937/937\u001b[0m \u001b[32m━━━━━━━━━━━━━━━━━━━━\u001b[0m\u001b[37m\u001b[0m \u001b[1m2s\u001b[0m 2ms/step - accuracy: 0.1406 - loss: 2.2953 - val_accuracy: 0.1367 - val_loss: 2.2980\n",
            "Epoch 9/30\n",
            "\u001b[1m937/937\u001b[0m \u001b[32m━━━━━━━━━━━━━━━━━━━━\u001b[0m\u001b[37m\u001b[0m \u001b[1m82s\u001b[0m 49ms/step - accuracy: 0.1142 - loss: 2.2998 - val_accuracy: 0.1614 - val_loss: 2.2965\n",
            "Epoch 10/30\n",
            "\u001b[1m937/937\u001b[0m \u001b[32m━━━━━━━━━━━━━━━━━━━━\u001b[0m\u001b[37m\u001b[0m \u001b[1m3s\u001b[0m 3ms/step - accuracy: 0.1562 - loss: 2.3053 - val_accuracy: 0.1568 - val_loss: 2.2966\n",
            "Epoch 11/30\n",
            "\u001b[1m937/937\u001b[0m \u001b[32m━━━━━━━━━━━━━━━━━━━━\u001b[0m\u001b[37m\u001b[0m \u001b[1m42s\u001b[0m 45ms/step - accuracy: 0.1166 - loss: 2.2985 - val_accuracy: 0.1439 - val_loss: 2.2952\n",
            "Epoch 12/30\n",
            "\u001b[1m937/937\u001b[0m \u001b[32m━━━━━━━━━━━━━━━━━━━━\u001b[0m\u001b[37m\u001b[0m \u001b[1m5s\u001b[0m 5ms/step - accuracy: 0.1250 - loss: 2.3062 - val_accuracy: 0.1524 - val_loss: 2.2953\n",
            "Epoch 13/30\n",
            "\u001b[1m937/937\u001b[0m \u001b[32m━━━━━━━━━━━━━━━━━━━━\u001b[0m\u001b[37m\u001b[0m \u001b[1m43s\u001b[0m 46ms/step - accuracy: 0.1256 - loss: 2.2968 - val_accuracy: 0.1664 - val_loss: 2.2913\n",
            "Epoch 14/30\n",
            "\u001b[1m937/937\u001b[0m \u001b[32m━━━━━━━━━━━━━━━━━━━━\u001b[0m\u001b[37m\u001b[0m \u001b[1m3s\u001b[0m 3ms/step - accuracy: 0.0781 - loss: 2.2957 - val_accuracy: 0.1636 - val_loss: 2.2913\n",
            "Epoch 15/30\n",
            "\u001b[1m937/937\u001b[0m \u001b[32m━━━━━━━━━━━━━━━━━━━━\u001b[0m\u001b[37m\u001b[0m \u001b[1m79s\u001b[0m 45ms/step - accuracy: 0.1291 - loss: 2.2946 - val_accuracy: 0.1855 - val_loss: 2.2894\n",
            "Epoch 16/30\n",
            "\u001b[1m937/937\u001b[0m \u001b[32m━━━━━━━━━━━━━━━━━━━━\u001b[0m\u001b[37m\u001b[0m \u001b[1m3s\u001b[0m 3ms/step - accuracy: 0.0625 - loss: 2.3027 - val_accuracy: 0.1813 - val_loss: 2.2891\n",
            "Epoch 17/30\n",
            "\u001b[1m937/937\u001b[0m \u001b[32m━━━━━━━━━━━━━━━━━━━━\u001b[0m\u001b[37m\u001b[0m \u001b[1m78s\u001b[0m 45ms/step - accuracy: 0.1319 - loss: 2.2933 - val_accuracy: 0.1765 - val_loss: 2.2853\n",
            "Epoch 18/30\n",
            "\u001b[1m937/937\u001b[0m \u001b[32m━━━━━━━━━━━━━━━━━━━━\u001b[0m\u001b[37m\u001b[0m \u001b[1m2s\u001b[0m 2ms/step - accuracy: 0.1719 - loss: 2.2975 - val_accuracy: 0.1786 - val_loss: 2.2852\n",
            "Epoch 19/30\n",
            "\u001b[1m937/937\u001b[0m \u001b[32m━━━━━━━━━━━━━━━━━━━━\u001b[0m\u001b[37m\u001b[0m \u001b[1m80s\u001b[0m 45ms/step - accuracy: 0.1373 - loss: 2.2913 - val_accuracy: 0.1895 - val_loss: 2.2860\n",
            "Epoch 20/30\n",
            "\u001b[1m937/937\u001b[0m \u001b[32m━━━━━━━━━━━━━━━━━━━━\u001b[0m\u001b[37m\u001b[0m \u001b[1m3s\u001b[0m 3ms/step - accuracy: 0.1094 - loss: 2.2930 - val_accuracy: 0.1887 - val_loss: 2.2870\n",
            "Epoch 21/30\n",
            "\u001b[1m937/937\u001b[0m \u001b[32m━━━━━━━━━━━━━━━━━━━━\u001b[0m\u001b[37m\u001b[0m \u001b[1m43s\u001b[0m 46ms/step - accuracy: 0.1401 - loss: 2.2887 - val_accuracy: 0.2510 - val_loss: 2.2801\n",
            "Epoch 22/30\n",
            "\u001b[1m937/937\u001b[0m \u001b[32m━━━━━━━━━━━━━━━━━━━━\u001b[0m\u001b[37m\u001b[0m \u001b[1m3s\u001b[0m 3ms/step - accuracy: 0.0781 - loss: 2.3019 - val_accuracy: 0.2483 - val_loss: 2.2803\n",
            "Epoch 23/30\n",
            "\u001b[1m937/937\u001b[0m \u001b[32m━━━━━━━━━━━━━━━━━━━━\u001b[0m\u001b[37m\u001b[0m \u001b[1m80s\u001b[0m 47ms/step - accuracy: 0.1404 - loss: 2.2876 - val_accuracy: 0.1998 - val_loss: 2.2780\n",
            "Epoch 24/30\n",
            "\u001b[1m937/937\u001b[0m \u001b[32m━━━━━━━━━━━━━━━━━━━━\u001b[0m\u001b[37m\u001b[0m \u001b[1m3s\u001b[0m 3ms/step - accuracy: 0.1094 - loss: 2.3041 - val_accuracy: 0.1969 - val_loss: 2.2783\n",
            "Epoch 25/30\n",
            "\u001b[1m937/937\u001b[0m \u001b[32m━━━━━━━━━━━━━━━━━━━━\u001b[0m\u001b[37m\u001b[0m \u001b[1m82s\u001b[0m 49ms/step - accuracy: 0.1430 - loss: 2.2875 - val_accuracy: 0.1979 - val_loss: 2.2750\n",
            "Epoch 26/30\n",
            "\u001b[1m937/937\u001b[0m \u001b[32m━━━━━━━━━━━━━━━━━━━━\u001b[0m\u001b[37m\u001b[0m \u001b[1m3s\u001b[0m 3ms/step - accuracy: 0.2031 - loss: 2.2610 - val_accuracy: 0.1991 - val_loss: 2.2750\n",
            "Epoch 27/30\n",
            "\u001b[1m937/937\u001b[0m \u001b[32m━━━━━━━━━━━━━━━━━━━━\u001b[0m\u001b[37m\u001b[0m \u001b[1m76s\u001b[0m 46ms/step - accuracy: 0.1467 - loss: 2.2838 - val_accuracy: 0.2074 - val_loss: 2.2708\n",
            "Epoch 28/30\n",
            "\u001b[1m937/937\u001b[0m \u001b[32m━━━━━━━━━━━━━━━━━━━━\u001b[0m\u001b[37m\u001b[0m \u001b[1m5s\u001b[0m 5ms/step - accuracy: 0.1875 - loss: 2.2933 - val_accuracy: 0.2087 - val_loss: 2.2710\n",
            "Epoch 29/30\n",
            "\u001b[1m937/937\u001b[0m \u001b[32m━━━━━━━━━━━━━━━━━━━━\u001b[0m\u001b[37m\u001b[0m \u001b[1m75s\u001b[0m 44ms/step - accuracy: 0.1448 - loss: 2.2826 - val_accuracy: 0.2442 - val_loss: 2.2722\n",
            "Epoch 30/30\n",
            "\u001b[1m937/937\u001b[0m \u001b[32m━━━━━━━━━━━━━━━━━━━━\u001b[0m\u001b[37m\u001b[0m \u001b[1m2s\u001b[0m 2ms/step - accuracy: 0.1250 - loss: 2.2897 - val_accuracy: 0.2278 - val_loss: 2.2714\n"
          ]
        }
      ]
    },
    {
      "cell_type": "markdown",
      "source": [
        "### Results\n",
        "\n",
        "We evaluate the model on the validation set and report the best validation accuracy obtained during training."
      ],
      "metadata": {
        "id": "p4K18Yu99XJe"
      }
    },
    {
      "cell_type": "code",
      "source": [
        "val_acc_efficient = max(history_efficient.history['val_accuracy'])\n",
        "print(f\"Best validation accuracy using EfficientNetB0 transfer learning: {val_acc_efficient:.4f}\")"
      ],
      "metadata": {
        "colab": {
          "base_uri": "https://localhost:8080/"
        },
        "id": "WEqhPqSm9W1z",
        "outputId": "569e5c86-bea8-4a48-8055-aee9da5686d3"
      },
      "execution_count": 51,
      "outputs": [
        {
          "output_type": "stream",
          "name": "stdout",
          "text": [
            "Best validation accuracy using EfficientNetB0 transfer learning: 0.2510\n"
          ]
        }
      ]
    },
    {
      "cell_type": "markdown",
      "source": [
        "### 6.3 Transfer Learning Results Comparison\n",
        "\n",
        "In this section, we compare the performance of the transfer learning models (VGG19 and EfficientNetB0) to each other and to the custom CNNs trained earlier. The comparison is based on the best validation accuracy achieved during training.\n",
        "\n",
        "Results:\n",
        "\n",
        "Best validation accuracy using VGG19 transfer learning: **0.8026**\n",
        "\n",
        "Best validation accuracy using EfficientNetB0 transfer learning: **0.2510**\n",
        "\n",
        "The VGG19-based model achieved significantly better performance than the EfficientNetB0 model in this experiment. This difference may be due to several factors, such as the simplicity of the dataset, image resolution incompatibilities, or insufficient fine-tuning in the EfficientNetB0 training process. Further tuning and adjustments could potentially improve EfficientNetB0's results."
      ],
      "metadata": {
        "id": "Fhfn90TT9r2-"
      }
    },
    {
      "cell_type": "markdown",
      "source": [
        "### 7.1 Effect of Receptive Field (Kernel Size)\n",
        "\n",
        "The receptive field of a convolutional neural network is primarily influenced by the kernel size. Adjusting the kernel size has several implications for model behavior:\n",
        "\n",
        "**Larger kernel sizes** (e.g., 5x5 or 7x7) can capture more global patterns in the image, which may be beneficial for datasets with large-scale features. However, they also increase the number of parameters, which can lead to:\n",
        "\n",
        "- Longer training times\n",
        "- Higher risk of overfitting, especially with small datasets\n",
        "- Increased computational cost\n",
        "\n",
        "**Smaller kernel sizes** (e.g., 3x3) focus on local features and require stacking more layers to capture broader spatial relationships. This can help in:\n",
        "\n",
        "- Better generalization due to fewer parameters\n",
        "- Faster training\n",
        "- More hierarchical feature learning\n",
        "\n",
        "In practice, smaller kernels such as 3x3 are preferred and are widely used in modern architectures (e.g., VGG), often combined in multiple layers to achieve the same receptive field as larger kernels while maintaining better performance and efficiency.\n",
        "\n",
        "Overall, the choice of kernel size should be guided by the nature of the dataset, model depth, and computational resources."
      ],
      "metadata": {
        "id": "DSxQaKG6-FiS"
      }
    },
    {
      "cell_type": "markdown",
      "source": [
        "### 7.2 Final Observations\n",
        "\n",
        "**Best Performing Model:**\n",
        "\n",
        "Among all the models trained, the transfer learning model based on VGG19 achieved the highest validation accuracy of 0.8026. This demonstrates the strong performance of pre-trained models when fine-tuned on a new task with sufficient data preprocessing.\n",
        "\n",
        "**Impact of Data Augmentation:**\n",
        "\n",
        "Data augmentation significantly improved the performance and generalization of both custom CNNs and transfer learning models. By artificially increasing the training dataset with transformations like rotations, shifts, and flips, the models became more robust to variations in the input data.\n",
        "\n",
        "**Transfer Learning vs Custom Models:**\n",
        "\n",
        "Transfer learning proved to be highly effective, especially when using VGG19. It provided a strong starting point with features already learned from a large and diverse dataset (ImageNet), requiring fewer epochs and less data to reach good performance. In contrast, custom CNNs required more careful tuning and training time to achieve comparable results, and still did not surpass the best performance of the VGG19 model.\n",
        "\n",
        "Overall, transfer learning is a valuable approach when working with limited data and computational resources, as it leverages prior knowledge and accelerates model development."
      ],
      "metadata": {
        "id": "xSlDix1U-HY2"
      }
    },
    {
      "cell_type": "markdown",
      "source": [
        "### 8. Conclusion\n",
        "\n",
        "This assignment provided valuable insights into the design and training of convolutional neural networks. Through the experiments, I gained a deeper understanding of how CNN architectures work and how various hyperparameters affect model performance.\n",
        "\n",
        "Hyperparameter tuning, including adjustments to learning rate, batch size, and kernel size, played a crucial role in optimizing training efficiency and accuracy. Data augmentation proved effective in improving model generalization by artificially increasing the diversity of the training data.\n",
        "\n",
        "Transfer learning demonstrated its power by leveraging pre-trained models such as VGG19 and EfficientNetB0. This approach allowed faster convergence and better accuracy compared to training custom models from scratch, especially when the dataset was limited in size.\n",
        "\n",
        "Overall, this assignment reinforced the importance of careful model design, data preprocessing, and choosing the right training strategies to achieve robust and accurate CNN models."
      ],
      "metadata": {
        "id": "wHWKm_6N-J62"
      }
    }
  ]
}