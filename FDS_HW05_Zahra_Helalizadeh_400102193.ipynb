{
  "nbformat": 4,
  "nbformat_minor": 0,
  "metadata": {
    "colab": {
      "provenance": []
    },
    "kernelspec": {
      "name": "python3",
      "display_name": "Python 3"
    },
    "language_info": {
      "name": "python"
    }
  },
  "cells": [
    {
      "cell_type": "markdown",
      "source": [
        "<font face=\"Times New Roman\" size=5>\n",
        "<div dir=rtl align=\"center\">\n",
        "<font face=\"Times New Roman\" size=5>\n",
        "</font>\n",
        "<br>\n",
        "<img src=\"https://static.tildacdn.one/tild3639-3035-4131-a461-363737393037/noroot.png\" alt=\"University Logo\" width=\"400\" height=\"224\">\n",
        "<br>\n",
        "<font face=\"Times New Roman\" size=5 align=center>\n",
        "Sharif University of Technology\n",
        "<br>\n",
        "Electrical Engineering Department\n",
        "</font>\n",
        "<br>\n",
        "<font size=6>\n",
        "Assignment 5: Accuracy Measures\n",
        "</font>\n",
        "<br>\n",
        "<font size=4>\n",
        "Zahra Helalizadeh 400102193\n",
        "<br>\n",
        "</font>\n",
        "<font size=4>\n",
        "Spring 2025\n",
        "<br>\n",
        "</font>\n",
        "<font face=\"Times New Roman\" size=4>\n",
        "</font>\n",
        "</div></font>"
      ],
      "metadata": {
        "id": "XmF3_sG4axNE"
      }
    },
    {
      "cell_type": "markdown",
      "source": [
        "# 1. Introduction\n",
        "\n",
        "In this notebook, we will explore and practice the application of different **accuracy metrics** used in both regression and classification problems. Measuring the performance of machine learning models is a crucial step in understanding how well a model generalizes to unseen data. By working through different types of accuracy measures, we aim to build an intuition for when and how each metric should be used.\n",
        "\n",
        "The dataset used in this assignment is the **Fashion MNIST** dataset, a popular benchmark in computer vision. It consists of grayscale images of 10 different types of clothing items. Although it is inherently a multi-class classification dataset, we will also simulate regression and binary classification tasks as needed for different parts of this assignment."
      ],
      "metadata": {
        "id": "1VLginpHcKzg"
      }
    },
    {
      "cell_type": "markdown",
      "source": [
        "## 1.1. Objective of the Assignment\n",
        "\n",
        "The main goals of this assignment are:\n",
        "\n",
        "- To gain hands-on experience with evaluating machine learning models using various **regression metrics**, including:\n",
        "  - Mean Squared Error (MSE)\n",
        "  - Mean Absolute Error (MAE)\n",
        "  - Mean Absolute Percentage Error (MAPE)\n",
        "  - R² Score\n",
        "\n",
        "- To understand and compute **binary classification accuracy metrics**, such as:\n",
        "  - Precision\n",
        "  - Recall\n",
        "  - F1-Score\n",
        "\n",
        "- To evaluate performance in **multi-class classification tasks** using:\n",
        "  - Class-wise Precision and Recall\n",
        "  - Macro, Micro, and Weighted F1-Scores\n",
        "\n",
        "- To discuss the appropriate accuracy metric for a **multi-label classification problem** in the context of player statistics in football.\n",
        "\n",
        "Throughout the notebook, each section will include explanations of the purpose of the metric being calculated, the reasoning behind the steps taken, and reflections on what was learned in the process.\n"
      ],
      "metadata": {
        "id": "pjYyXaEXcR8P"
      }
    },
    {
      "cell_type": "markdown",
      "source": [
        "## 1.2. Dataset Overview\n",
        "\n",
        "For this assignment, we are using the **Fashion MNIST** dataset, a popular dataset for image classification tasks. It is a collection of grayscale images of clothing items, provided by Zalando, and designed to serve as a more challenging drop-in replacement for the original MNIST handwritten digit dataset.\n",
        "\n",
        "### Key Characteristics of the Fashion MNIST Dataset:\n",
        "\n",
        "- **Number of Classes**: 10\n",
        "- **Image Size**: 28 x 28 pixels\n",
        "- **Color Mode**: Grayscale (1 channel)\n",
        "- **Number of Training Samples**: 60,000\n",
        "- **Number of Test Samples**: 10,000\n",
        "\n",
        "Each image in the dataset represents one of the following clothing categories:\n",
        "\n",
        "| Label | Class Name        |\n",
        "|-------|-------------------|\n",
        "| 0     | T-shirt/top       |\n",
        "| 1     | Trouser           |\n",
        "| 2     | Pullover          |\n",
        "| 3     | Dress             |\n",
        "| 4     | Coat              |\n",
        "| 5     | Sandal            |\n",
        "| 6     | Shirt             |\n",
        "| 7     | Sneaker           |\n",
        "| 8     | Bag               |\n",
        "| 9     | Ankle boot        |\n",
        "\n",
        "The dataset is pre-split into a training set and a test set. This makes it convenient for experimenting with different machine learning models and accuracy metrics. In the upcoming sections, we will reshape and preprocess the data to suit different tasks such as regression, binary classification, and multi-class classification.\n"
      ],
      "metadata": {
        "id": "2nFVdW-jcpXf"
      }
    },
    {
      "cell_type": "markdown",
      "source": [
        "## 1.3. Tools and Libraries Used\n",
        "\n",
        "In this notebook, we will use several Python libraries that are widely adopted in the data science and machine learning communities. These tools help with data manipulation, model training, and performance evaluation.\n",
        "\n",
        "### Main Libraries Used:\n",
        "\n",
        "- **NumPy**:  \n",
        "  For efficient numerical computations and array manipulation.\n",
        "\n",
        "- **Matplotlib & Seaborn**:  \n",
        "  For visualizing the dataset and model performance.\n",
        "\n",
        "- **scikit-learn (sklearn)**:  \n",
        "  This is the main machine learning library used in this assignment. It provides:\n",
        "  - Tools to split datasets\n",
        "  - Built-in classification and regression models\n",
        "  - A variety of performance metrics such as MSE, MAE, Precision, Recall, F1-Score, and more\n",
        "\n",
        "- **TensorFlow/Keras**:  \n",
        "  Only used to load the Fashion MNIST dataset quickly and easily.\n",
        "\n",
        "### Why These Tools?\n",
        "\n",
        "These libraries offer a simple yet powerful interface for implementing machine learning pipelines, allowing us to focus on learning and applying concepts rather than low-level implementation details.\n",
        "\n",
        "We will explain the use of each tool at the point where it is used in the notebook."
      ],
      "metadata": {
        "id": "n10rbV9ac0r7"
      }
    },
    {
      "cell_type": "markdown",
      "source": [
        "# 2. Data Preprocessing\n",
        "\n",
        "Before applying any machine learning models or evaluating metrics, we need to load and prepare the dataset. This involves importing the dataset, inspecting its structure, and preparing it for various tasks such as regression, binary classification, and multi-class classification."
      ],
      "metadata": {
        "id": "aeBXwcw0dB3b"
      }
    },
    {
      "cell_type": "markdown",
      "source": [
        "## 2.1. Loading the Fashion MNIST Dataset\n",
        "\n",
        "In this section, we load the Fashion MNIST dataset using the `tensorflow.keras.datasets` module. The dataset is already split into training and testing sets, which makes it suitable for evaluating model performance without manual splitting.\n",
        "\n",
        "We also print the shape of the data to understand the structure."
      ],
      "metadata": {
        "id": "KhePS44ddEOS"
      }
    },
    {
      "cell_type": "code",
      "source": [
        "# Import necessary libraries\n",
        "import numpy as np\n",
        "import matplotlib.pyplot as plt\n",
        "from tensorflow.keras.datasets import fashion_mnist\n",
        "\n",
        "# Load the dataset\n",
        "(X_train, y_train), (X_test, y_test) = fashion_mnist.load_data()\n",
        "\n",
        "# Print the shape of the training and test sets\n",
        "print(f\"X_train shape: {X_train.shape}\")   # (60000, 28, 28)\n",
        "print(f\"y_train shape: {y_train.shape}\")   # (60000,)\n",
        "print(f\"X_test shape: {X_test.shape}\")     # (10000, 28, 28)\n",
        "print(f\"y_test shape: {y_test.shape}\")     # (10000,)"
      ],
      "metadata": {
        "colab": {
          "base_uri": "https://localhost:8080/"
        },
        "id": "uiZiGJpmdHc3",
        "outputId": "79e35c32-0c22-480a-c588-82011b209071"
      },
      "execution_count": 1,
      "outputs": [
        {
          "output_type": "stream",
          "name": "stdout",
          "text": [
            "Downloading data from https://storage.googleapis.com/tensorflow/tf-keras-datasets/train-labels-idx1-ubyte.gz\n",
            "\u001b[1m29515/29515\u001b[0m \u001b[32m━━━━━━━━━━━━━━━━━━━━\u001b[0m\u001b[37m\u001b[0m \u001b[1m0s\u001b[0m 0us/step\n",
            "Downloading data from https://storage.googleapis.com/tensorflow/tf-keras-datasets/train-images-idx3-ubyte.gz\n",
            "\u001b[1m26421880/26421880\u001b[0m \u001b[32m━━━━━━━━━━━━━━━━━━━━\u001b[0m\u001b[37m\u001b[0m \u001b[1m0s\u001b[0m 0us/step\n",
            "Downloading data from https://storage.googleapis.com/tensorflow/tf-keras-datasets/t10k-labels-idx1-ubyte.gz\n",
            "\u001b[1m5148/5148\u001b[0m \u001b[32m━━━━━━━━━━━━━━━━━━━━\u001b[0m\u001b[37m\u001b[0m \u001b[1m0s\u001b[0m 0us/step\n",
            "Downloading data from https://storage.googleapis.com/tensorflow/tf-keras-datasets/t10k-images-idx3-ubyte.gz\n",
            "\u001b[1m4422102/4422102\u001b[0m \u001b[32m━━━━━━━━━━━━━━━━━━━━\u001b[0m\u001b[37m\u001b[0m \u001b[1m0s\u001b[0m 0us/step\n",
            "X_train shape: (60000, 28, 28)\n",
            "y_train shape: (60000,)\n",
            "X_test shape: (10000, 28, 28)\n",
            "y_test shape: (10000,)\n"
          ]
        }
      ]
    },
    {
      "cell_type": "markdown",
      "source": [
        "### What we did and learned:\n",
        "\n",
        "- We successfully loaded the Fashion MNIST dataset, which contains 60,000 training samples and 10,000 test samples.\n",
        "- Each image is 28x28 pixels and grayscale (1 channel).\n",
        "- The labels (`y_train`, `y_test`) represent the clothing category, with values from 0 to 9.\n",
        "- These values will later be used for multi-class classification, and in some cases, transformed for binary classification or regression tasks.\n",
        "\n",
        "In the next steps, we will visualize and normalize this data to prepare it for use in machine learning models."
      ],
      "metadata": {
        "id": "Gs-jG_K7dPs_"
      }
    },
    {
      "cell_type": "markdown",
      "source": [
        "## 2.2. Visualizing the Data\n",
        "\n",
        "Before we proceed with preprocessing and modeling, it's important to **visualize** a few samples from the dataset. This helps us better understand the nature of the data we are working with.\n",
        "\n",
        "In this section, we display a few random images from the training set along with their corresponding labels to get a sense of what the Fashion MNIST dataset looks like."
      ],
      "metadata": {
        "id": "boUT_g1Rdb9U"
      }
    },
    {
      "cell_type": "code",
      "source": [
        "# Class labels for Fashion MNIST\n",
        "class_names = ['T-shirt/top', 'Trouser', 'Pullover', 'Dress', 'Coat',\n",
        "               'Sandal', 'Shirt', 'Sneaker', 'Bag', 'Ankle boot']\n",
        "\n",
        "# Plotting 15 random images from the training set\n",
        "plt.figure(figsize=(12, 6))\n",
        "for i in range(15):\n",
        "    idx = np.random.randint(0, len(X_train))\n",
        "    plt.subplot(3, 5, i + 1)\n",
        "    plt.imshow(X_train[idx], cmap='gray')\n",
        "    plt.title(class_names[y_train[idx]])\n",
        "    plt.axis('off')\n",
        "plt.tight_layout()\n",
        "plt.show()"
      ],
      "metadata": {
        "colab": {
          "base_uri": "https://localhost:8080/",
          "height": 607
        },
        "id": "3m64GQwYdeec",
        "outputId": "15d5b723-591e-4091-b9e4-7e8e9348728f"
      },
      "execution_count": 2,
      "outputs": [
        {
          "output_type": "display_data",
          "data": {
            "text/plain": [
              "<Figure size 1200x600 with 15 Axes>"
            ],
            "image/png": "[encoded data removed]"
          },
          "metadata": {}
        }
      ]
    },
    {
      "cell_type": "markdown",
      "source": [
        "### What we did and learned:\n",
        "\n",
        "- We plotted 15 random samples from the training set.\n",
        "- Each image clearly represents a grayscale item of clothing from one of the 10 predefined categories.\n",
        "- This step confirms that the dataset is correctly loaded and that the labels align well with the visual data.\n",
        "\n",
        "Visualizing the dataset helps ensure there are no obvious issues and gives us insight into the variation within each class. In the next step, we will normalize the pixel values to prepare the data for training and evaluation."
      ],
      "metadata": {
        "id": "TguoKzDqdj41"
      }
    },
    {
      "cell_type": "markdown",
      "source": [
        "## 2.3. Data Normalization and Reshaping\n",
        "\n",
        "Before feeding the data into any machine learning model, we need to preprocess it by **normalizing** and **reshaping** the input data.\n",
        "\n",
        "### Why Normalize?\n",
        "\n",
        "The original pixel values range from 0 to 255. Normalizing them to a range of [0, 1] helps:\n",
        "- Speed up training and convergence\n",
        "- Ensure all features contribute equally to the result\n",
        "\n",
        "### Why Reshape?\n",
        "\n",
        "Different models require different input formats:\n",
        "- For traditional machine learning models (like logistic regression), we **flatten** the 2D images into 1D vectors.\n",
        "- For deep learning models like CNNs, we **expand the dimensions** to include a channel axis.\n",
        "\n",
        "Here, we flatten the images for use in scikit-learn models."
      ],
      "metadata": {
        "id": "QyhOJ8N_dujF"
      }
    },
    {
      "cell_type": "code",
      "source": [
        "# Normalize pixel values to the range [0, 1]\n",
        "X_train_norm = X_train / 255.0\n",
        "X_test_norm = X_test / 255.0\n",
        "\n",
        "# Flatten 28x28 images to 784-dimensional vectors\n",
        "X_train_flat = X_train_norm.reshape(-1, 28 * 28)\n",
        "X_test_flat = X_test_norm.reshape(-1, 28 * 28)\n",
        "\n",
        "# Show the new shapes\n",
        "print(\"Normalized and flattened shapes:\")\n",
        "print(f\"X_train_flat shape: {X_train_flat.shape}\")  # (60000, 784)\n",
        "print(f\"X_test_flat shape: {X_test_flat.shape}\")    # (10000, 784)"
      ],
      "metadata": {
        "colab": {
          "base_uri": "https://localhost:8080/"
        },
        "id": "87FUzn_4dzTd",
        "outputId": "5e4b80d7-29bc-4e6e-8be6-b24e35f140fe"
      },
      "execution_count": 3,
      "outputs": [
        {
          "output_type": "stream",
          "name": "stdout",
          "text": [
            "Normalized and flattened shapes:\n",
            "X_train_flat shape: (60000, 784)\n",
            "X_test_flat shape: (10000, 784)\n"
          ]
        }
      ]
    },
    {
      "cell_type": "markdown",
      "source": [
        "### What we did and learned:\n",
        "\n",
        "- We normalized all pixel values to the [0, 1] range.\n",
        "- We flattened the 28×28 images into 784-dimensional vectors so they can be used with scikit-learn models.\n",
        "- The resulting `X_train_flat` and `X_test_flat` are now ready for use in classification and regression models.\n",
        "\n",
        "In the next section, we will apply various models to generate predictions and compute the required accuracy metrics."
      ],
      "metadata": {
        "id": "hK0229Lnd2Z-"
      }
    },
    {
      "cell_type": "markdown",
      "source": [
        "## 2.4. Splitting into Training and Testing Sets\n",
        "\n",
        "The Fashion MNIST dataset is already split into training and testing sets by default. However, for certain tasks—such as binary classification, multi-class classification, or regression—we might want to create a validation split or work with a smaller subset of the data for simplicity and speed.\n",
        "\n",
        "In this step, we ensure our training and test sets are in the correct format, and we optionally create a validation split using scikit-learn's `train_test_split`.\n",
        "\n",
        "> Note: For this assignment, we’ll continue using `X_train_flat` and `X_test_flat` as prepared in the previous step."
      ],
      "metadata": {
        "id": "n_x5vum0eH5o"
      }
    },
    {
      "cell_type": "code",
      "source": [
        "from sklearn.model_selection import train_test_split\n",
        "\n",
        "# Optional: create a smaller subset of the training set for faster testing (e.g., 10,000 samples)\n",
        "X_train_sub, _, y_train_sub, _ = train_test_split(X_train_flat, y_train, test_size=50000, random_state=42)\n",
        "\n",
        "# Also create a validation split from the training subset if needed\n",
        "X_train_final, X_val, y_train_final, y_val = train_test_split(X_train_sub, y_train_sub, test_size=0.2, random_state=42)\n",
        "\n",
        "# Show the shape of final datasets\n",
        "print(\"Shapes after optional re-splitting:\")\n",
        "print(f\"X_train_final shape: {X_train_final.shape}\")\n",
        "print(f\"X_val shape: {X_val.shape}\")\n",
        "print(f\"X_test_flat shape: {X_test_flat.shape}\")"
      ],
      "metadata": {
        "colab": {
          "base_uri": "https://localhost:8080/"
        },
        "id": "5rVjhxIgeNEB",
        "outputId": "adac029d-7d8e-43dc-8437-0a494043e3eb"
      },
      "execution_count": 4,
      "outputs": [
        {
          "output_type": "stream",
          "name": "stdout",
          "text": [
            "Shapes after optional re-splitting:\n",
            "X_train_final shape: (8000, 784)\n",
            "X_val shape: (2000, 784)\n",
            "X_test_flat shape: (10000, 784)\n"
          ]
        }
      ]
    },
    {
      "cell_type": "markdown",
      "source": [
        "### What we did and learned:\n",
        "\n",
        "- The original dataset is already split into 60,000 training and 10,000 testing samples.\n",
        "- We optionally extracted a smaller subset (10,000 samples) from the training data for faster experimentation.\n",
        "- From this subset, we created a validation split (80% training, 20% validation).\n",
        "- These sets (`X_train_final`, `X_val`, `X_test_flat`) will be used for training and evaluating different models.\n",
        "\n",
        "Now that the data is prepared, we can move on to evaluating regression accuracy metrics."
      ],
      "metadata": {
        "id": "VxA68b8PePmc"
      }
    },
    {
      "cell_type": "markdown",
      "source": [
        "# 3. Regression Accuracy Metrics\n",
        "\n",
        "Since Fashion MNIST is primarily a classification dataset, we do not have direct regression targets. To practice regression accuracy metrics, we simulate a regression problem using this dataset."
      ],
      "metadata": {
        "id": "jV-VcBjJecuy"
      }
    },
    {
      "cell_type": "markdown",
      "source": [
        "## 3.1. Simulating Regression Problem\n",
        "\n",
        "To create a regression problem from this classification dataset, we will predict a continuous target derived from the labels. For example:\n",
        "\n",
        "- Use the numeric labels themselves (0 to 9) as a regression target.\n",
        "- Alternatively, predict the **average pixel intensity** of each image as a continuous target.\n",
        "\n",
        "Here, we will simulate regression by trying to predict the numeric label (0 to 9) as a continuous variable. Although this is not a typical regression task, it allows us to compute regression metrics such as Mean Squared Error (MSE), Mean Absolute Error (MAE), Mean Absolute Percentage Error (MAPE), and R² score.\n",
        "\n",
        "### Steps:\n",
        "\n",
        "1. Use the flattened images (`X_train_flat`, `X_test_flat`) as input features.\n",
        "2. Use the numeric labels (`y_train`, `y_test`) as continuous regression targets.\n",
        "3. Train a simple regression model (e.g., Linear Regression) on this data.\n",
        "4. Calculate and analyze regression metrics based on model predictions.\n",
        "\n",
        "This approach helps us practice measuring regression metrics even on a classification dataset."
      ],
      "metadata": {
        "id": "Ds_xgvTIeif7"
      }
    },
    {
      "cell_type": "code",
      "source": [
        "from sklearn.linear_model import LinearRegression\n",
        "from sklearn.metrics import mean_squared_error, mean_absolute_error, r2_score\n",
        "\n",
        "# Define features and continuous targets for regression simulation\n",
        "X_train_reg = X_train_flat\n",
        "y_train_reg = y_train.astype(float)  # numeric labels as continuous values\n",
        "\n",
        "X_test_reg = X_test_flat\n",
        "y_test_reg = y_test.astype(float)\n",
        "\n",
        "# Train a simple Linear Regression model\n",
        "regressor = LinearRegression()\n",
        "regressor.fit(X_train_reg, y_train_reg)\n",
        "\n",
        "# Predict on test set\n",
        "y_pred_reg = regressor.predict(X_test_reg)\n",
        "\n",
        "# Show a few predictions alongside true values\n",
        "for i in range(5):\n",
        "    print(f\"True label: {y_test_reg[i]}, Predicted value: {y_pred_reg[i]:.2f}\")"
      ],
      "metadata": {
        "colab": {
          "base_uri": "https://localhost:8080/"
        },
        "id": "DH12ehMpemIh",
        "outputId": "6cbc0ea3-33da-45d4-928b-1a0265404f22"
      },
      "execution_count": 5,
      "outputs": [
        {
          "output_type": "stream",
          "name": "stdout",
          "text": [
            "True label: 9.0, Predicted value: 7.57\n",
            "True label: 2.0, Predicted value: 2.72\n",
            "True label: 1.0, Predicted value: 0.60\n",
            "True label: 1.0, Predicted value: 0.84\n",
            "True label: 6.0, Predicted value: 3.72\n"
          ]
        }
      ]
    },
    {
      "cell_type": "markdown",
      "source": [
        "### What we did and learned:\n",
        "\n",
        "- We transformed the classification labels into continuous values for regression.\n",
        "- Trained a simple Linear Regression model to predict these values.\n",
        "- This simulation allows us to calculate and understand regression metrics on the dataset.\n",
        "- The predicted values are continuous and approximate the numeric labels, showing the model's regression output.\n",
        "\n",
        "Next, we will calculate the common regression accuracy metrics to evaluate this model."
      ],
      "metadata": {
        "id": "OJ-3IBKGepgg"
      }
    },
    {
      "cell_type": "markdown",
      "source": [
        "## 3.2. Calculating Mean Squared Error (MSE)\n",
        "\n",
        "Mean Squared Error (MSE) is one of the most common metrics for regression problems. It measures the average squared difference between the predicted values and the actual values.\n",
        "\n",
        "$\n",
        "\\text{MSE} = \\frac{1}{n} \\sum_{i=1}^{n} (y_i - \\hat{y}_i)^2\n",
        "$\n",
        "\n",
        "Where:\n",
        "- $y_i$ is the true value\n",
        "- $\\hat{y}_i$ is the predicted value\n",
        "- $n$ is the number of samples\n",
        "\n",
        "MSE gives a higher penalty to larger errors due to the squaring, making it sensitive to outliers.\n",
        "\n",
        "We will calculate the MSE between our regression model’s predicted labels and the true numeric labels.\n"
      ],
      "metadata": {
        "id": "eXKWjHOce1lu"
      }
    },
    {
      "cell_type": "code",
      "source": [
        "# Calculate Mean Squared Error (MSE)\n",
        "mse = mean_squared_error(y_test_reg, y_pred_reg)\n",
        "print(f\"Mean Squared Error (MSE): {mse:.4f}\")"
      ],
      "metadata": {
        "colab": {
          "base_uri": "https://localhost:8080/"
        },
        "id": "SeARgWyce1IE",
        "outputId": "c2a11a6b-120d-4212-f456-c14e5b14afee"
      },
      "execution_count": 6,
      "outputs": [
        {
          "output_type": "stream",
          "name": "stdout",
          "text": [
            "Mean Squared Error (MSE): 1.9684\n"
          ]
        }
      ]
    },
    {
      "cell_type": "markdown",
      "source": [
        "### What we did and learned:\n",
        "\n",
        "- We computed the Mean Squared Error to quantify the average squared difference between predicted and true labels.\n",
        "- A lower MSE indicates better regression performance.\n",
        "- In this simulated regression task, MSE helps us understand how close our model's predictions are to the actual class labels treated as continuous values.\n",
        "\n",
        "Next, we will calculate the Mean Absolute Error (MAE) to see another perspective on regression error."
      ],
      "metadata": {
        "id": "O6BMlRxMfI4I"
      }
    },
    {
      "cell_type": "markdown",
      "source": [
        "## 3.3. Calculating Mean Absolute Error (MAE)\n",
        "\n",
        "Mean Absolute Error (MAE) measures the average magnitude of the errors between predicted values and actual values without considering their direction. It is calculated as the average of the absolute differences:\n",
        "\n",
        "$\n",
        "\\text{MAE} = \\frac{1}{n} \\sum_{i=1}^{n} |y_i - \\hat{y}_i|\n",
        "$\n",
        "\n",
        "Where:\n",
        "- $y_i$ is the true value\n",
        "- $\\hat{y}_i$ is the predicted value\n",
        "- $n$ is the number of samples\n",
        "\n",
        "Unlike MSE, MAE treats all errors equally and is less sensitive to outliers.\n",
        "\n",
        "We will calculate MAE to get an intuitive sense of how far, on average, our predictions are from the true numeric labels.\n"
      ],
      "metadata": {
        "id": "wZSyrjDofUCz"
      }
    },
    {
      "cell_type": "code",
      "source": [
        "# Calculate Mean Absolute Error (MAE)\n",
        "mae = mean_absolute_error(y_test_reg, y_pred_reg)\n",
        "print(f\"Mean Absolute Error (MAE): {mae:.4f}\")"
      ],
      "metadata": {
        "colab": {
          "base_uri": "https://localhost:8080/"
        },
        "id": "HUxaPftRfWaV",
        "outputId": "f2f5f118-8d87-40c7-b1d5-931be520b5b6"
      },
      "execution_count": 7,
      "outputs": [
        {
          "output_type": "stream",
          "name": "stdout",
          "text": [
            "Mean Absolute Error (MAE): 1.0222\n"
          ]
        }
      ]
    },
    {
      "cell_type": "markdown",
      "source": [
        "### What we did and learned:\n",
        "\n",
        "- We computed the Mean Absolute Error to measure the average absolute difference between predicted and true labels.\n",
        "- MAE provides an easy-to-interpret error metric in the same units as the target.\n",
        "- Comparing MAE with MSE gives us insight into the distribution of errors (e.g., whether large errors heavily affect MSE).\n",
        "\n",
        "Next, we will calculate the Mean Absolute Percentage Error (MAPE) to understand relative error percentages."
      ],
      "metadata": {
        "id": "3DL7huzRffAu"
      }
    },
    {
      "cell_type": "markdown",
      "source": [
        "## 3.4. Calculating Mean Absolute Percentage Error (MAPE)\n",
        "\n",
        "Mean Absolute Percentage Error (MAPE) expresses the error as a percentage of the true values. It is calculated as:\n",
        "\n",
        "$\n",
        "\\text{MAPE} = \\frac{100\\%}{n} \\sum_{i=1}^{n} \\left| \\frac{y_i - \\hat{y}_i}{y_i} \\right|\n",
        "$\n",
        "\n",
        "Where:\n",
        "- $y_i$ is the true value\n",
        "- $\\hat{y}_i$ is the predicted value\n",
        "- $n$ is the number of samples\n",
        "\n",
        "MAPE provides an intuitive percentage-based measure of prediction accuracy. However, it can be problematic when true values are zero or close to zero, causing division by zero or large percentage errors.\n",
        "\n",
        "In our case, since the labels range from 0 to 9, MAPE might be unstable for label 0. To handle this, we will add a small epsilon value to avoid division by zero."
      ],
      "metadata": {
        "id": "l1dLVmHrfozs"
      }
    },
    {
      "cell_type": "code",
      "source": [
        "# Filter out zero true labels to avoid division by zero\n",
        "non_zero_indices = y_test_reg != 0\n",
        "\n",
        "# Calculate MAPE only on non-zero true labels\n",
        "mape_filtered = np.mean(np.abs((y_test_reg[non_zero_indices] - y_pred_reg[non_zero_indices]) / y_test_reg[non_zero_indices])) * 100\n",
        "print(f\"Mean Absolute Percentage Error (MAPE) excluding zeros: {mape_filtered:.4f}%\")"
      ],
      "metadata": {
        "colab": {
          "base_uri": "https://localhost:8080/"
        },
        "id": "_LVS2RsyfxKz",
        "outputId": "17aee3d9-8b9d-40a7-d32d-4c648b8b8c17"
      },
      "execution_count": 9,
      "outputs": [
        {
          "output_type": "stream",
          "name": "stdout",
          "text": [
            "Mean Absolute Percentage Error (MAPE) excluding zeros: 25.5658%\n"
          ]
        }
      ]
    },
    {
      "cell_type": "markdown",
      "source": [
        "### What we did and learned:\n",
        "\n",
        "- We calculated MAPE to express the regression error as a percentage relative to the true labels.\n",
        "- This metric is useful for understanding the error in relative terms, which can be more interpretable in some contexts.\n",
        "- Due to zero labels, we added a small epsilon to avoid division by zero.\n",
        "- High MAPE indicates less accurate predictions in relative terms, especially for smaller true values.\n",
        "\n",
        "Next, we will calculate the R² Score to measure how well our regression model explains the variance in the data."
      ],
      "metadata": {
        "id": "Mr8c4-E8f2rV"
      }
    },
    {
      "cell_type": "markdown",
      "source": [
        "## 3.5. Calculating R² Score\n",
        "\n",
        "The R² Score, also known as the coefficient of determination, measures how well the regression predictions approximate the real data points. It is defined as:\n",
        "\n",
        "$R^2 = 1 - \\frac{\\sum_{i=1}^n (y_i - \\hat{y}_i)^2}{\\sum_{i=1}^n (y_i - \\bar{y})^2}$\n",
        "\n",
        "Where:\n",
        "- $y_i$ are the true values\n",
        "- $\\hat{y}_i$ are the predicted values\n",
        "- $\\bar{y}$ is the mean of the true values\n",
        "- $n$ is the number of samples\n",
        "\n",
        "An $R^2$ score of 1 indicates perfect predictions, while 0 means the model does no better than simply predicting the mean of the target values. Negative values indicate the model performs worse than that.\n",
        "\n",
        "We will calculate the $R^2$ score to assess how well our regression predictions explain the variance in the true labels."
      ],
      "metadata": {
        "id": "0gp6QO75geio"
      }
    },
    {
      "cell_type": "code",
      "source": [
        "# Calculate R^2 Score\n",
        "r2 = r2_score(y_test_reg, y_pred_reg)\n",
        "print(f\"R² Score: {r2:.4f}\")"
      ],
      "metadata": {
        "colab": {
          "base_uri": "https://localhost:8080/"
        },
        "id": "O8S7dgLpgiXn",
        "outputId": "2ab3c2c7-8821-44fc-9abb-034d0becc053"
      },
      "execution_count": 11,
      "outputs": [
        {
          "output_type": "stream",
          "name": "stdout",
          "text": [
            "R² Score: 0.7614\n"
          ]
        }
      ]
    },
    {
      "cell_type": "markdown",
      "source": [
        "### What we did and learned:\n",
        "\n",
        "- The $R^2$ score tells us how much of the variance in the true labels is explained by the predicted labels.\n",
        "- A higher $R^2$ value (closer to 1) indicates better predictive performance.\n",
        "- Negative or low values imply poor prediction quality.\n",
        "- This metric complements MSE and MAE by providing a normalized measure of prediction accuracy.\n",
        "\n",
        "Next, we will move on to Binary Classification Accuracy Metrics."
      ],
      "metadata": {
        "id": "hcuCCJWkgh4U"
      }
    },
    {
      "cell_type": "markdown",
      "source": [
        "## 4. Binary Classification Accuracy Metrics\n",
        "\n",
        "In this section, we focus on measuring the accuracy metrics commonly used for binary classification problems. Since the Fashion MNIST dataset is multi-class, we will convert it into a binary classification task.\n",
        "\n",
        "**Note:** We will classify whether the label is 0 (e.g., \"T-shirt/top\") or not, turning the problem into a binary classification task."
      ],
      "metadata": {
        "id": "QlAhidSxg3Hc"
      }
    },
    {
      "cell_type": "markdown",
      "source": [
        "### 4.1. Simulating a Binary Classification Task\n",
        "\n",
        "To simulate a binary classification problem, we will:\n",
        "- Convert the original multi-class labels into binary labels:\n",
        "  - Class 1 (positive): samples where label $=$ 0\n",
        "  - Class 0 (negative): samples where label $\\neq$ 0\n",
        "- Generate random predictions for the binary classes to demonstrate the calculation of binary classification metrics.\n",
        "\n",
        "This setup allows us to practice calculating metrics like Precision, Recall, and F1-Score in a binary classification context."
      ],
      "metadata": {
        "id": "t8eAgoAhg5d6"
      }
    },
    {
      "cell_type": "code",
      "source": [
        "from sklearn.metrics import precision_score, recall_score, f1_score\n",
        "import numpy as np\n",
        "\n",
        "# Convert multi-class labels to binary: 1 if label==0, else 0\n",
        "y_test_binary = (y_test == 0).astype(int)\n",
        "\n",
        "# Generate random binary predictions (for demonstration)\n",
        "np.random.seed(42)  # for reproducibility\n",
        "y_pred_binary = np.random.randint(0, 2, size=y_test_binary.shape)\n",
        "\n",
        "print(f\"Sample of true binary labels: {y_test_binary[:10]}\")\n",
        "print(f\"Sample of predicted binary labels: {y_pred_binary[:10]}\")"
      ],
      "metadata": {
        "colab": {
          "base_uri": "https://localhost:8080/"
        },
        "id": "kTlBq0S-hCBW",
        "outputId": "94db4286-d3d8-409f-fe21-749445efac59"
      },
      "execution_count": 12,
      "outputs": [
        {
          "output_type": "stream",
          "name": "stdout",
          "text": [
            "Sample of true binary labels: [0 0 0 0 0 0 0 0 0 0]\n",
            "Sample of predicted binary labels: [0 1 0 0 0 1 0 0 0 1]\n"
          ]
        }
      ]
    },
    {
      "cell_type": "markdown",
      "source": [
        "### What we did and learned:\n",
        "\n",
        "- We simplified the multi-class classification into a binary problem by focusing on whether a sample belongs to class 0 or not.\n",
        "- Random binary predictions were generated to demonstrate how binary classification metrics are calculated.\n",
        "- This approach prepares us for the upcoming calculation of precision, recall, and F1-score.\n",
        "\n",
        "Next, we will calculate the precision metric for this binary classification task."
      ],
      "metadata": {
        "id": "I0UHZyDohFpZ"
      }
    },
    {
      "cell_type": "markdown",
      "source": [
        "## 4.2. Calculating Precision\n",
        "\n",
        "Precision is the ratio of correctly predicted positive observations to the total predicted positives. It answers the question:\n",
        "\n",
        "**“Of all the samples predicted as positive, how many were actually positive?”**\n",
        "\n",
        "The formula for precision is:\n",
        "\n",
        "$ \\text{Precision} = \\frac{TP}{TP + FP} $\n",
        "\n",
        "Where:\n",
        "- $TP$ = True Positives\n",
        "- $FP$ = False Positives\n",
        "\n",
        "Precision is particularly important when the cost of false positives is high.\n",
        "\n",
        "We will calculate precision for our binary classification problem using the true and predicted labels."
      ],
      "metadata": {
        "id": "6luZUuWNhYLk"
      }
    },
    {
      "cell_type": "code",
      "source": [
        "# Calculate Precision\n",
        "precision = precision_score(y_test_binary, y_pred_binary)\n",
        "print(f\"Precision: {precision:.4f}\")"
      ],
      "metadata": {
        "colab": {
          "base_uri": "https://localhost:8080/"
        },
        "id": "tamR_hNChdnR",
        "outputId": "54c702a8-5974-40ea-9967-b0363b3a3c06"
      },
      "execution_count": 13,
      "outputs": [
        {
          "output_type": "stream",
          "name": "stdout",
          "text": [
            "Precision: 0.0989\n"
          ]
        }
      ]
    },
    {
      "cell_type": "markdown",
      "source": [
        "### What we did and learned:\n",
        "\n",
        "- We computed precision to understand how accurate our model’s positive predictions are.\n",
        "- A high precision means that when the model predicts a positive, it is usually correct.\n",
        "- This metric is crucial in scenarios where false positives can cause significant problems.\n",
        "- Since we used random predictions here, the precision value might not be meaningful but serves as a demonstration.\n",
        "\n",
        "Next, we will calculate recall for this binary classification task."
      ],
      "metadata": {
        "id": "IkyOtSFHhbr3"
      }
    },
    {
      "cell_type": "markdown",
      "source": [
        "## 4.3. Calculating Recall\n",
        "\n",
        "Recall, also known as Sensitivity or True Positive Rate, measures the ratio of correctly predicted positive observations to all actual positives. It answers the question:\n",
        "\n",
        "**“Of all the actual positive samples, how many did the model correctly identify?”**\n",
        "\n",
        "The formula for recall is:\n",
        "\n",
        "$ \\text{Recall} = \\frac{TP}{TP + FN} $\n",
        "\n",
        "Where:\n",
        "- $TP$ = True Positives\n",
        "- $FN$ = False Negatives\n",
        "\n",
        "Recall is especially important in cases where missing positive cases (false negatives) is costly.\n",
        "\n",
        "We will calculate recall for our binary classification problem using the true and predicted labels."
      ],
      "metadata": {
        "id": "Zw07WtGuhly0"
      }
    },
    {
      "cell_type": "code",
      "source": [
        "# Calculate Recall\n",
        "recall = recall_score(y_test_binary, y_pred_binary)\n",
        "print(f\"Recall: {recall:.4f}\")"
      ],
      "metadata": {
        "colab": {
          "base_uri": "https://localhost:8080/"
        },
        "id": "Xm2jpEn1hoz-",
        "outputId": "5c80ec07-65f8-4c44-cb3f-e566aa806e00"
      },
      "execution_count": 14,
      "outputs": [
        {
          "output_type": "stream",
          "name": "stdout",
          "text": [
            "Recall: 0.4930\n"
          ]
        }
      ]
    },
    {
      "cell_type": "markdown",
      "source": [
        "### What we did and learned:\n",
        "\n",
        "- We calculated recall to evaluate the model’s ability to identify all positive samples.\n",
        "- High recall means the model successfully detects most of the positive cases.\n",
        "- This metric is vital in scenarios where failing to detect a positive case has serious consequences.\n",
        "- Since predictions are random here, recall values are just for demonstration.\n",
        "\n",
        "Next, we will calculate the F1-Score, which balances precision and recall."
      ],
      "metadata": {
        "id": "rSKATOJ2hsHv"
      }
    },
    {
      "cell_type": "markdown",
      "source": [
        "## 4.4. Calculating F1-Score\n",
        "\n",
        "The F1-Score is the harmonic mean of precision and recall, providing a single metric that balances both concerns. It is especially useful when you need to seek a balance between precision and recall, or when you have an uneven class distribution.\n",
        "\n",
        "The formula for F1-Score is:\n",
        "\n",
        "$ \\text{F1-Score} = 2 \\times \\frac{\\text{Precision} \\times \\text{Recall}}{\\text{Precision} + \\text{Recall}} $\n",
        "\n",
        "We will calculate the F1-Score for our binary classification task using the true and predicted labels."
      ],
      "metadata": {
        "id": "ofp06QDSh23s"
      }
    },
    {
      "cell_type": "code",
      "source": [
        "# Calculate F1-Score\n",
        "f1 = f1_score(y_test_binary, y_pred_binary)\n",
        "print(f\"F1-Score: {f1:.4f}\")"
      ],
      "metadata": {
        "id": "n_uhWl78h2J0"
      },
      "execution_count": null,
      "outputs": []
    },
    {
      "cell_type": "markdown",
      "source": [
        "### What we did and learned:\n",
        "\n",
        "- The F1-Score combines precision and recall into a single measure of model performance.\n",
        "- It is especially helpful when the dataset is imbalanced or when both false positives and false negatives are important.\n",
        "- A high F1-Score indicates a good balance between precision and recall.\n",
        "- Here, the value serves as a demonstration since predictions are random.\n",
        "\n",
        "Next, we will move on to Multi-class Classification Accuracy Metrics."
      ],
      "metadata": {
        "id": "MrdIW9o1h3QF"
      }
    },
    {
      "cell_type": "markdown",
      "source": [
        "## 5. Multi-class Classification Accuracy Metrics\n",
        "\n",
        "In this section, we will handle the original multi-class nature of the Fashion MNIST dataset and evaluate classification metrics specific to multi-class problems.\n",
        "\n",
        "We will train a simple multi-class classifier and then calculate metrics such as Precision and Recall for each class, along with Macro, Weighted, and Micro-averaged F1-Scores.\n"
      ],
      "metadata": {
        "id": "dd_JiYJoiIWr"
      }
    },
    {
      "cell_type": "markdown",
      "source": [
        "### 5.1. Training a Multi-class Classifier\n",
        "\n",
        "To evaluate multi-class metrics, we first need a trained classifier. Here, we will train a simple Logistic Regression model on the flattened Fashion MNIST images.\n",
        "\n",
        "Steps:\n",
        "- Flatten the images from 28x28 to a 784-length vector.\n",
        "- Train the Logistic Regression model on the training data.\n",
        "- Predict labels on the test set."
      ],
      "metadata": {
        "id": "4osXJKjziLqM"
      }
    },
    {
      "cell_type": "code",
      "source": [
        "from sklearn.linear_model import LogisticRegression\n",
        "from sklearn.metrics import classification_report\n",
        "\n",
        "# Flatten the images\n",
        "X_train_flat = X_train.reshape(X_train.shape[0], -1)\n",
        "X_test_flat = X_test.reshape(X_test.shape[0], -1)\n",
        "\n",
        "# Normalize pixel values between 0 and 1\n",
        "X_train_flat = X_train_flat / 255.0\n",
        "X_test_flat = X_test_flat / 255.0\n",
        "\n",
        "# Train Logistic Regression classifier (multi-class by default)\n",
        "clf = LogisticRegression(max_iter=1000, random_state=42)\n",
        "clf.fit(X_train_flat, y_train)\n",
        "\n",
        "# Predict test labels\n",
        "y_pred_multi = clf.predict(X_test_flat)\n",
        "\n",
        "print(\"Training complete. Sample predictions:\")\n",
        "print(y_pred_multi[:10])"
      ],
      "metadata": {
        "colab": {
          "base_uri": "https://localhost:8080/"
        },
        "id": "IywgM9DliMUv",
        "outputId": "f849fb1b-cdeb-4691-bf58-d2bd0fecebb9"
      },
      "execution_count": 15,
      "outputs": [
        {
          "output_type": "stream",
          "name": "stdout",
          "text": [
            "Training complete. Sample predictions:\n",
            "[9 2 1 1 6 1 4 6 5 7]\n"
          ]
        }
      ]
    },
    {
      "cell_type": "markdown",
      "source": [
        "### What we did and learned:\n",
        "\n",
        "- We transformed the image data into a suitable format for traditional machine learning algorithms.\n",
        "- Logistic Regression was trained as a baseline multi-class classifier.\n",
        "- This prepares us to compute multi-class accuracy metrics such as Precision and Recall for each class.\n",
        "- The model's predictions will be used in the next section to calculate detailed evaluation metrics."
      ],
      "metadata": {
        "id": "7T5aBp3JiQVm"
      }
    },
    {
      "cell_type": "markdown",
      "source": [
        "## 5.2. Precision for Each Class\n",
        "\n",
        "Precision in a multi-class setting is calculated for each class individually. It measures how many of the samples predicted as a certain class are actually from that class.\n",
        "\n",
        "In other words, for each class $i$:\n",
        "\n",
        "$ \\text{Precision}_i = \\frac{TP_i}{TP_i + FP_i} $\n",
        "\n",
        "Where:\n",
        "- $TP_i$ = True Positives for class $i$\n",
        "- $FP_i$ = False Positives for class $i$\n",
        "\n",
        "We will calculate and display precision for each of the 10 classes in the Fashion MNIST dataset using the model predictions.\n"
      ],
      "metadata": {
        "id": "Z195duOPil6r"
      }
    },
    {
      "cell_type": "code",
      "source": [
        "from sklearn.metrics import precision_score\n",
        "\n",
        "# Calculate precision for each class (average=None returns per-class metrics)\n",
        "precision_per_class = precision_score(y_test, y_pred_multi, average=None)\n",
        "\n",
        "# Display precision for each class\n",
        "for i, precision in enumerate(precision_per_class):\n",
        "    print(f\"Precision for class {i}: {precision:.4f}\")"
      ],
      "metadata": {
        "colab": {
          "base_uri": "https://localhost:8080/"
        },
        "id": "oTS323TAipGb",
        "outputId": "179dba0f-27d9-4ef0-f41e-f41703599696"
      },
      "execution_count": 17,
      "outputs": [
        {
          "output_type": "stream",
          "name": "stdout",
          "text": [
            "Precision for class 0: 0.7990\n",
            "Precision for class 1: 0.9706\n",
            "Precision for class 2: 0.7247\n",
            "Precision for class 3: 0.8293\n",
            "Precision for class 4: 0.7413\n",
            "Precision for class 5: 0.9455\n",
            "Precision for class 6: 0.6239\n",
            "Precision for class 7: 0.9093\n",
            "Precision for class 8: 0.9303\n",
            "Precision for class 9: 0.9509\n"
          ]
        }
      ]
    },
    {
      "cell_type": "markdown",
      "source": [
        "### What we did and learned:\n",
        "\n",
        "- We computed precision for each class separately to understand how well the model predicts each category.\n",
        "- This detailed analysis helps identify classes where the model performs well or struggles.\n",
        "- Precision values closer to 1 indicate accurate positive predictions for that class.\n",
        "- This metric is useful to analyze model strengths and weaknesses on a per-class basis."
      ],
      "metadata": {
        "id": "76kpiQ4LirU4"
      }
    },
    {
      "cell_type": "markdown",
      "source": [
        "## 5.3. Recall for Each Class\n",
        "\n",
        "Recall in a multi-class setting is calculated for each class individually. It measures how many of the actual samples of a certain class were correctly identified by the model.\n",
        "\n",
        "For each class $i$:\n",
        "\n",
        "$ \\text{Recall}_i = \\frac{TP_i}{TP_i + FN_i} $\n",
        "\n",
        "Where:\n",
        "- $TP_i$ = True Positives for class $i$\n",
        "- $FN_i$ = False Negatives for class $i$\n",
        "\n",
        "We will calculate and display recall for each of the 10 classes in the Fashion MNIST dataset using the model predictions.\n"
      ],
      "metadata": {
        "id": "U5XEMG7-i86a"
      }
    },
    {
      "cell_type": "code",
      "source": [
        "from sklearn.metrics import recall_score\n",
        "\n",
        "# Calculate recall for each class (average=None returns per-class metrics)\n",
        "recall_per_class = recall_score(y_test, y_pred_multi, average=None)\n",
        "\n",
        "# Display recall for each class\n",
        "for i, recall in enumerate(recall_per_class):\n",
        "    print(f\"Recall for class {i}: {recall:.4f}\")"
      ],
      "metadata": {
        "colab": {
          "base_uri": "https://localhost:8080/"
        },
        "id": "rQwdUqdjjDi8",
        "outputId": "ce62ec6d-bc91-4e54-9ecd-c4b8fe4d8716"
      },
      "execution_count": 18,
      "outputs": [
        {
          "output_type": "stream",
          "name": "stdout",
          "text": [
            "Recall for class 0: 0.8030\n",
            "Recall for class 1: 0.9570\n",
            "Recall for class 2: 0.7370\n",
            "Recall for class 3: 0.8600\n",
            "Recall for class 4: 0.7650\n",
            "Recall for class 5: 0.9200\n",
            "Recall for class 6: 0.5690\n",
            "Recall for class 7: 0.9420\n",
            "Recall for class 8: 0.9350\n",
            "Recall for class 9: 0.9480\n"
          ]
        }
      ]
    },
    {
      "cell_type": "markdown",
      "source": [
        "### What we did and learned:\n",
        "\n",
        "- We computed recall for each class separately to understand how well the model identifies all samples of each category.\n",
        "- This helps in identifying classes where the model may be missing many true positives.\n",
        "- Recall values closer to 1 indicate most actual samples of that class were correctly detected.\n",
        "- Alongside precision, recall provides a fuller picture of the model’s performance per class."
      ],
      "metadata": {
        "id": "gEv5jqX0jMaf"
      }
    },
    {
      "cell_type": "markdown",
      "source": [
        "## 5.4. F1-Score (Macro, Weighted, Micro Averaging)\n",
        "\n",
        "The F1-Score is the harmonic mean of precision and recall, balancing these two important metrics.\n",
        "\n",
        "In multi-class classification, we calculate F1-Score using different averaging methods:\n",
        "\n",
        "- **Macro Averaging:** Calculates the F1-Score independently for each class and then takes the average. Treats all classes equally.\n",
        "  \n",
        "- **Weighted Averaging:** Calculates the F1-Score for each class and takes the average weighted by the number of true instances per class. Accounts for class imbalance.\n",
        "  \n",
        "- **Micro Averaging:** Aggregates the contributions of all classes to compute the average metric globally. It essentially calculates metrics by counting total true positives, false negatives, and false positives.\n",
        "\n",
        "These different averages give insights from multiple perspectives, especially in imbalanced datasets.\n",
        "\n",
        "We will calculate and compare Macro, Weighted, and Micro averaged F1-Scores using the predicted and true labels."
      ],
      "metadata": {
        "id": "Ny40yLNIjPPH"
      }
    },
    {
      "cell_type": "code",
      "source": [
        "from sklearn.metrics import f1_score\n",
        "\n",
        "# Calculate F1-Scores with different averaging methods\n",
        "f1_macro = f1_score(y_test, y_pred_multi, average='macro')\n",
        "f1_weighted = f1_score(y_test, y_pred_multi, average='weighted')\n",
        "f1_micro = f1_score(y_test, y_pred_multi, average='micro')\n",
        "\n",
        "print(f\"Macro-averaged F1-Score: {f1_macro:.4f}\")\n",
        "print(f\"Weighted-averaged F1-Score: {f1_weighted:.4f}\")\n",
        "print(f\"Micro-averaged F1-Score: {f1_micro:.4f}\")"
      ],
      "metadata": {
        "colab": {
          "base_uri": "https://localhost:8080/"
        },
        "id": "50RPZ4V5jShU",
        "outputId": "1c079e87-f4d0-4144-beb2-35f080a1159b"
      },
      "execution_count": 19,
      "outputs": [
        {
          "output_type": "stream",
          "name": "stdout",
          "text": [
            "Macro-averaged F1-Score: 0.8428\n",
            "Weighted-averaged F1-Score: 0.8428\n",
            "Micro-averaged F1-Score: 0.8436\n"
          ]
        }
      ]
    },
    {
      "cell_type": "markdown",
      "source": [
        "### What we did and learned:\n",
        "\n",
        "- Macro F1-Score treats all classes equally, useful when you want to assess overall performance without considering class imbalance.\n",
        "- Weighted F1-Score accounts for the number of samples per class, giving a more realistic performance measure when classes are imbalanced.\n",
        "- Micro F1-Score aggregates contributions globally and is sensitive to the most frequent classes.\n",
        "- Comparing these scores helps us understand how the model performs across different classes and how class distribution affects evaluation.\n",
        "- These metrics provide a comprehensive understanding of model quality on multi-class tasks."
      ],
      "metadata": {
        "id": "QLkaJSRijVih"
      }
    },
    {
      "cell_type": "markdown",
      "source": [
        "## 6. Multi-label Classification Discussion\n",
        "\n",
        "Multi-label classification differs from multi-class classification in that each sample can belong to multiple classes simultaneously, rather than exactly one class."
      ],
      "metadata": {
        "id": "SKVycoSKjm5k"
      }
    },
    {
      "cell_type": "markdown",
      "source": [
        "### 6.1. Problem Description in Football Domain\n",
        "\n",
        "Consider a multi-label classification problem in football where each player can have multiple attributes from the following classes:\n",
        "\n",
        "- **Class 1:** The player has played for the national team before.\n",
        "- **Class 2:** The player had previous history of heart problems.\n",
        "- **Class 3:** The player had knee injuries before.\n",
        "- **Class 4:** The player has been the captain of the team in the past.\n",
        "\n",
        "In this problem, a single player (sample) may belong to none, one, or multiple of these classes simultaneously. For example, a player could have both heart problems and be a former captain, or might have no history of injury but played for the national team.\n",
        "\n",
        "This problem cannot be solved with traditional multi-class classification, where each sample belongs to exactly one class, but requires specialized multi-label classification techniques and metrics.\n",
        "\n",
        "In the next subsection, we will discuss the most appropriate accuracy metric to evaluate such multi-label classification models and explain why.\n",
        "\n",
        "### What we understood:\n",
        "\n",
        "- Multi-label classification allows for overlapping classes per sample.\n",
        "- The football player example highlights the need for metrics that can evaluate multiple simultaneous labels.\n",
        "- Understanding the problem setup is crucial before selecting the correct evaluation metrics."
      ],
      "metadata": {
        "id": "5bk7KAvLjsMg"
      }
    },
    {
      "cell_type": "markdown",
      "source": [
        "### 6.2. Suitable Accuracy Metric and Justification\n",
        "\n",
        "For multi-label classification problems like the football player example, where each player can belong to multiple classes simultaneously, traditional single-label accuracy metrics (like accuracy, precision, or recall for single classes) are insufficient.\n",
        "\n",
        "The most appropriate accuracy metric in this context is **Hamming Loss** or **Subset Accuracy**, but the commonly used and intuitive choice is:\n",
        "\n",
        "#### **Hamming Loss**\n",
        "\n",
        "- **Definition:**  \n",
        "  Hamming Loss calculates the fraction of labels that are incorrectly predicted, averaged over all labels and samples. It accounts for both false positives and false negatives across all labels.\n",
        "\n",
        "- **Formula:**  \n",
        "  $$\n",
        "  \\text{Hamming Loss} = \\frac{1}{N \\times L} \\sum_{i=1}^{N} \\sum_{j=1}^{L} \\mathbf{1}[\\hat{y}_{ij} \\neq y_{ij}]\n",
        "  $$  \n",
        "  where $N$ is the number of samples, $L$ is the number of labels, $y_{ij}$ is the true label, and $\\hat{y}_{ij}$ is the predicted label.\n",
        "\n",
        "- **Why Hamming Loss?**  \n",
        "  - It treats each label independently, allowing partial credit when some labels are predicted correctly while others are not.\n",
        "  - It penalizes both types of errors (missing a relevant label or predicting an irrelevant label).\n",
        "  - Suitable for multi-label problems where partial correctness matters.\n",
        "\n",
        "#### Other metrics to consider:\n",
        "\n",
        "- **Subset Accuracy:** Strict metric that requires exact match of all labels for a sample; often too harsh in multi-label problems.\n",
        "- **Precision, Recall, and F1-Score (Macro, Micro):** Can be adapted for multi-label by averaging over labels, but may not capture label-wise errors as clearly as Hamming Loss.\n",
        "\n",
        "**In summary**, for the football player classification problem, **Hamming Loss** is the most appropriate metric as it accurately measures how well the model predicts multiple labels per player, reflecting the partial correctness of predictions.\n",
        "\n",
        "### What we learned:\n",
        "\n",
        "- Multi-label problems require different metrics than single-label classification.\n",
        "- Hamming Loss balances penalizing false positives and negatives across multiple labels.\n",
        "- Choosing the right metric is critical to properly evaluate and improve multi-label classifiers.\n"
      ],
      "metadata": {
        "id": "wVYrReBDjxTG"
      }
    },
    {
      "cell_type": "markdown",
      "source": [
        "## 7. Conclusion"
      ],
      "metadata": {
        "id": "v6S7ANGnkEtM"
      }
    },
    {
      "cell_type": "markdown",
      "source": [
        "### 7.1. Summary of Observations\n",
        "\n",
        "In this assignment, we explored various accuracy measures across regression, binary classification, multi-class classification, and multi-label classification contexts using the Fashion MNIST dataset and simulated problems.\n",
        "\n",
        "Key observations include:\n",
        "\n",
        "- **Regression Metrics:**  \n",
        "  We calculated Mean Squared Error (MSE), Mean Absolute Error (MAE), Mean Absolute Percentage Error (MAPE), and the R² score on a simulated regression task. These metrics gave us insights into the average magnitude of errors, percentage errors, and the proportion of variance explained by the model.\n",
        "\n",
        "- **Binary Classification Metrics:**  \n",
        "  By converting the problem into a binary classification (detecting class 0 vs. others), we calculated Precision, Recall, and F1-Score. These metrics helped us understand the balance between correctly identifying positive samples and avoiding false alarms.\n",
        "\n",
        "- **Multi-class Classification Metrics:**  \n",
        "  Using a simple classifier on the full multi-class Fashion MNIST dataset, we measured precision and recall for each class individually, and computed Macro, Weighted, and Micro averaged F1-Scores. These evaluations highlighted how model performance can vary across different classes and how averaging strategies affect the overall performance measure.\n",
        "\n",
        "- **Multi-label Classification Discussion:**  \n",
        "  We discussed a football domain multi-label classification problem where each sample can belong to multiple classes simultaneously. We identified **Hamming Loss** as the most suitable metric to accurately capture the performance of such multi-label models, as it accounts for both false positives and false negatives on a per-label basis.\n",
        "\n",
        "- **General Learnings:**  \n",
        "  - Selecting the right accuracy metric depends strongly on the nature of the problem (regression vs classification, single-label vs multi-label).\n",
        "  - Understanding these metrics enables better interpretation of model performance and guides improvements.\n",
        "  - Clear explanations and contextual understanding are critical when presenting results.\n",
        "\n",
        "This assignment reinforced our understanding of evaluation metrics and their applications in different machine learning problem settings."
      ],
      "metadata": {
        "id": "uQDGdO4BkOIt"
      }
    },
    {
      "cell_type": "markdown",
      "source": [
        "### 7.2. What I Learned\n",
        "\n",
        "Throughout this assignment, I gained valuable insights into the importance and nuances of different accuracy metrics in machine learning:\n",
        "\n",
        "- **Understanding Metric Suitability:**  \n",
        "  I learned that the choice of accuracy metric depends on the problem type. Metrics that work well for regression may not be appropriate for classification, and within classification, different metrics serve different purposes depending on whether the problem is binary, multi-class, or multi-label.\n",
        "\n",
        "- **Regression Metrics:**  \n",
        "  I understood how metrics like MSE, MAE, MAPE, and R² provide different perspectives on prediction errors — from average squared errors to percentage errors and variance explained.\n",
        "\n",
        "- **Classification Metrics:**  \n",
        "  For binary and multi-class classification, I learned how precision, recall, and F1-score complement each other by measuring different aspects of classification performance, such as the ability to detect positives and the trade-off between precision and recall.\n",
        "\n",
        "- **Multi-label Classification Challenges:**  \n",
        "  I realized that multi-label problems require specialized metrics like Hamming Loss to correctly evaluate model performance because each sample can belong to multiple classes simultaneously.\n",
        "\n",
        "- **Importance of Clear Explanations:**  \n",
        "  Providing explanations alongside code helped deepen my understanding and ensured I could communicate the reasoning behind each step clearly.\n",
        "\n",
        "Overall, this assignment strengthened my ability to evaluate machine learning models appropriately and highlighted the importance of selecting metrics aligned with the specific problem context."
      ],
      "metadata": {
        "id": "xsGy99xpkQ81"
      }
    }
  ]
}